{
 "cells": [
  {
   "cell_type": "code",
   "execution_count": 1,
   "id": "437d4975",
   "metadata": {},
   "outputs": [],
   "source": [
    "import pandas as pd\n",
    "import numpy as np\n",
    "from sklearn import preprocessing\n",
    "from sklearn.linear_model import RidgeCV\n",
    "from sklearn.metrics import mean_squared_error\n",
    "from sklearn.model_selection import train_test_split"
   ]
  },
  {
   "cell_type": "code",
   "execution_count": 2,
   "id": "7497d1cb",
   "metadata": {},
   "outputs": [],
   "source": [
    "data = pd.read_csv(\"../../../Data/Dataset_splited.csv\")"
   ]
  },
  {
   "cell_type": "markdown",
   "id": "cfefc519",
   "metadata": {},
   "source": [
    "### Get features categorie"
   ]
  },
  {
   "cell_type": "code",
   "execution_count": 3,
   "id": "11beab2b",
   "metadata": {},
   "outputs": [],
   "source": [
    "def categorisation(data,date_cols,target=\"price\"):\n",
    "    distance = []\n",
    "    date = []\n",
    "    numerique = []\n",
    "    categorique = []\n",
    "    for col in data.columns:\n",
    "        if data[col].dtypes == np.object:\n",
    "            try:\n",
    "                if str(type(eval(data[col][data[col].first_valid_index()]))) == \"<class 'list'>\":\n",
    "                    distance.append(col)\n",
    "                elif col in date_cols:\n",
    "                    date.append(col)\n",
    "                else:\n",
    "                    categorique.append(col)\n",
    "            except:\n",
    "                if col in date_cols:\n",
    "                    date.append(col)\n",
    "                else:\n",
    "                    categorique.append(col)\n",
    "                \n",
    "            \n",
    "        else :\n",
    "            if col != target:\n",
    "                numerique.append(col)\n",
    "                \n",
    "    return dict({\"numerique\":numerique,\"categorique\":categorique,\"date\":date,\"distance\":distance})\n",
    "\n",
    "feat_cat = categorisation(data,['listing_date'])"
   ]
  },
  {
   "cell_type": "code",
   "execution_count": 4,
   "id": "5090ea38",
   "metadata": {
    "scrolled": false
   },
   "outputs": [
    {
     "data": {
      "text/plain": [
       "{'numerique': ['bathrooms',\n",
       "  'bedrooms',\n",
       "  'erf_size',\n",
       "  'floor_size',\n",
       "  'garages',\n",
       "  'listing_number',\n",
       "  'pet_friendly',\n",
       "  'garden',\n",
       "  'pool',\n",
       "  'secure_parking',\n",
       "  'parking',\n",
       "  'no_pets_allowed',\n",
       "  'furnished',\n",
       "  'flatlet',\n",
       "  'fibre_internet',\n",
       "  'furnished_(optional)',\n",
       "  'adsl_internet',\n",
       "  'satellite_internet',\n",
       "  'fixed_wimax_internet',\n",
       "  'split'],\n",
       " 'categorique': ['town', 'type_of_property'],\n",
       " 'date': ['listing_date'],\n",
       " 'distance': []}"
      ]
     },
     "execution_count": 4,
     "metadata": {},
     "output_type": "execute_result"
    }
   ],
   "source": [
    "feat_cat"
   ]
  },
  {
   "cell_type": "markdown",
   "id": "a8cbde42",
   "metadata": {},
   "source": [
    "### Fill by 0 those features (we suppose missing == 0) except 'bathrooms' and 'bedrooms'"
   ]
  },
  {
   "cell_type": "code",
   "execution_count": 5,
   "id": "a98524e5",
   "metadata": {},
   "outputs": [],
   "source": [
    "_feat = [\n",
    "  'garages',\n",
    "  'pet_friendly',\n",
    "  'garden',\n",
    "  'pool',\n",
    "  'secure_parking',\n",
    "  'parking',\n",
    "  'no_pets_allowed',\n",
    "  'furnished',\n",
    "  'flatlet',\n",
    "  'fibre_internet',\n",
    "  'furnished_(optional)',\n",
    "  'adsl_internet',\n",
    "  'satellite_internet',\n",
    "  'fixed_wimax_internet']"
   ]
  },
  {
   "cell_type": "code",
   "execution_count": 6,
   "id": "9722d7a8",
   "metadata": {},
   "outputs": [
    {
     "name": "stdout",
     "output_type": "stream",
     "text": [
      "[ nan  1.   2.   3.   4.   6.   7.   5.  10.  20.   8.   1.5]\n",
      "[nan  1.]\n",
      "[nan  1.]\n",
      "[nan  1.]\n",
      "[nan  2.  1.  6.  4.  8.  3. 10. 15.  5. 12.  9. 11.]\n",
      "[nan  1.  3.  2.  6.  5.  4. 30.  7.  8. 10.  9. 11. 13. 12. 50.]\n",
      "[nan  1.]\n",
      "[nan  1.]\n",
      "[nan  1.]\n",
      "[nan  1.]\n",
      "[nan  1.]\n",
      "[nan  1.]\n",
      "[nan  1.]\n",
      "[nan  1.]\n"
     ]
    }
   ],
   "source": [
    "for c in _feat:\n",
    "    print(data[c].unique())\n",
    "    data[c].fillna(0,inplace=True)"
   ]
  },
  {
   "cell_type": "code",
   "execution_count": 7,
   "id": "82ed27d7",
   "metadata": {},
   "outputs": [
    {
     "name": "stdout",
     "output_type": "stream",
     "text": [
      "[ 1.   2.   2.5  5.   4.5  1.5  7.5  3.   4.   3.5 12.   5.5  nan  7.\n",
      "  6.5  6.   0.5 30.   9.  18.  11.  15.   8.   9.5  8.5 10.  25.  13.\n",
      " 14. ]\n",
      "[ 2.   nan  3.   4.   1.   6.   7.   8.   5.  12.   0.5  1.5  9.  30.\n",
      " 11.  16.  15.  10.   2.5  3.5 18.   4.5 13.  33.  14. ]\n"
     ]
    }
   ],
   "source": [
    "for c in ['bathrooms','bedrooms']:\n",
    "    print(data[c].unique())\n",
    "    data[c].fillna(1,inplace=True)"
   ]
  },
  {
   "cell_type": "markdown",
   "id": "283ddcad",
   "metadata": {},
   "source": [
    "### target mean ordering encoding of categorical value \"type_of_property\" based on train dataset"
   ]
  },
  {
   "cell_type": "code",
   "execution_count": 8,
   "id": "404f4b5f",
   "metadata": {},
   "outputs": [
    {
     "data": {
      "text/plain": [
       "array([1, 2, 3])"
      ]
     },
     "execution_count": 8,
     "metadata": {},
     "output_type": "execute_result"
    }
   ],
   "source": [
    "\n",
    "\n",
    "def encode(frame, feature):\n",
    "    ordering = pd.DataFrame()\n",
    "    ordering['val'] = frame[feature].unique()\n",
    "    ordering.index = ordering.val\n",
    "    ordering['spmean'] = frame[[feature, 'price']].groupby(feature).mean()['price']\n",
    "    #print(frame[[feature, 'a']].groupby(feature).mean()['a'])\n",
    "    ordering = ordering.sort_values('spmean')\n",
    "    ordering['ordering'] = range(1, ordering.shape[0]+1)\n",
    "    #print(ordering)\n",
    "    ordering = ordering['ordering'].to_dict()\n",
    "    #print(\"Encoding results : \",ordering)\n",
    "    \n",
    "    for cat, o in ordering.items():\n",
    "        frame.loc[frame[feature] == cat, feature+'_E'] = o\n",
    "        \n",
    "    return ordering\n",
    "\n",
    "#tmp = pd.DataFrame({\"a\":[1,2,5,10],\"b\":[\"1\",\"1\",\"o\",\"o\"]})\n",
    "\n",
    "qual_encoded = []\n",
    "train = data[data[\"split\"]==0].copy()\n",
    "for q in ['type_of_property']:  \n",
    "    qual_encoded.append(encode(train, q))\n",
    "\n",
    "##We can see it follow the distribution order from boxplot in advanced EDA\n",
    "\n",
    "#### Then encode the entire dataset\n",
    "\n",
    "data[\"type_of_property\"] = data[\"type_of_property\"].replace(qual_encoded[0])\n",
    "\n",
    "\n",
    "data[\"type_of_property\"].unique()"
   ]
  },
  {
   "cell_type": "code",
   "execution_count": 9,
   "id": "49a16602",
   "metadata": {},
   "outputs": [],
   "source": [
    "data[\"type_of_property\"] = data[\"type_of_property\"].astype(\"float\")"
   ]
  },
  {
   "cell_type": "markdown",
   "id": "fc71273c",
   "metadata": {},
   "source": [
    "### use a simple linear regressor to fill size column"
   ]
  },
  {
   "cell_type": "code",
   "execution_count": 10,
   "id": "4753ff04",
   "metadata": {},
   "outputs": [],
   "source": [
    "rest_of_num = ['erf_size','floor_size']"
   ]
  },
  {
   "cell_type": "code",
   "execution_count": 11,
   "id": "2d8d679e",
   "metadata": {
    "scrolled": true
   },
   "outputs": [
    {
     "data": {
      "text/plain": [
       "(5841,)"
      ]
     },
     "execution_count": 11,
     "metadata": {},
     "output_type": "execute_result"
    }
   ],
   "source": [
    "X_floor = data[data['floor_size'] > 0.][['bathrooms','bedrooms','garages','garden','pool','type_of_property']]\n",
    "y_floor = data[data['floor_size'] > 0.]['floor_size']\n",
    "y_floor.shape"
   ]
  },
  {
   "cell_type": "code",
   "execution_count": 12,
   "id": "a82a9953",
   "metadata": {},
   "outputs": [
    {
     "data": {
      "text/plain": [
       "(3595, 6)"
      ]
     },
     "execution_count": 12,
     "metadata": {},
     "output_type": "execute_result"
    }
   ],
   "source": [
    "X_erf = data[data['erf_size'] > 0.][['bathrooms','bedrooms','garages','garden','pool','type_of_property']]\n",
    "y_erf = data[data['erf_size'] > 0.]['erf_size']\n",
    "X_erf.shape"
   ]
  },
  {
   "cell_type": "code",
   "execution_count": 13,
   "id": "6881e885",
   "metadata": {
    "scrolled": true
   },
   "outputs": [
    {
     "name": "stdout",
     "output_type": "stream",
     "text": [
      "size of row to fill (floor and size)\n",
      "(2005,)\n",
      "(4251,)\n"
     ]
    }
   ],
   "source": [
    "print(\"size of row to fill (floor and size)\")\n",
    "X_floor_test = data[data['floor_size'].astype(\"str\") == \"nan\"][['bathrooms','bedrooms','garages','garden','pool','type_of_property']]\n",
    "y_floor_test = data[data['floor_size'].astype(\"str\") == \"nan\"]['floor_size']\n",
    "print(y_floor_test.shape)\n",
    "\n",
    "X_erf_test = data[data['erf_size'].astype(\"str\") == \"nan\"][['bathrooms','bedrooms','garages','garden','pool','type_of_property']]\n",
    "y_erf_test = data[data['erf_size'].astype(\"str\") == \"nan\"]['erf_size']\n",
    "print(y_erf_test.shape)"
   ]
  },
  {
   "cell_type": "markdown",
   "id": "4ea163c8",
   "metadata": {},
   "source": [
    "#### floor_size prediction"
   ]
  },
  {
   "cell_type": "code",
   "execution_count": 14,
   "id": "a8088946",
   "metadata": {
    "scrolled": true
   },
   "outputs": [
    {
     "name": "stdout",
     "output_type": "stream",
     "text": [
      "The Root mean squared error (RMSE) onval set: 0.8005\n",
      "2005\n"
     ]
    }
   ],
   "source": [
    "xf_train, xf_val,  yf_train, yf_val = train_test_split(X_floor,y_floor,test_size=0.2,random_state=2)\n",
    "yf_train = np.log(yf_train)\n",
    "yf_val = np.log(yf_val)\n",
    "\n",
    "mod = RidgeCV(alphas=[ 0.1       ,  0.16681005,  0.27825594,  0.46415888,  0.77426368,\n",
    "        1.29154967,  2.15443469,  3.59381366,  5.9948425 , 10.        ])\n",
    "\n",
    "### Evaluate on a val set\n",
    "mod.fit(xf_train,yf_train)\n",
    "yf_val = np.array(yf_val).reshape(-1, 1)\n",
    "rmse = np.sqrt(mean_squared_error(yf_val, mod.predict(xf_val)))\n",
    "print(\"The Root mean squared error (RMSE) onval set: {:.4f}\".format(rmse))\n",
    "\n",
    "###Retrain with all floor data != nan\n",
    "mod.fit(X_floor,np.log(y_floor))\n",
    "y_floor_test = mod.predict(X_floor_test)\n",
    "print(len(y_floor_test))\n",
    "\n",
    "idx = data[data['floor_size'].astype(\"str\") == \"nan\"]['floor_size'].index\n",
    "data.loc[data['floor_size'].astype(\"str\") == \"nan\", 'floor_size']= np.exp(y_floor_test)"
   ]
  },
  {
   "cell_type": "markdown",
   "id": "20215a07",
   "metadata": {},
   "source": [
    "#### erf_size prediction"
   ]
  },
  {
   "cell_type": "code",
   "execution_count": 15,
   "id": "72f63c5f",
   "metadata": {},
   "outputs": [
    {
     "name": "stdout",
     "output_type": "stream",
     "text": [
      "The Root mean squared error (RMSE) onval set: 1.2659\n",
      "4251\n"
     ]
    }
   ],
   "source": [
    "xf_train, xf_val,  yf_train, yf_val = train_test_split(X_erf,y_erf,test_size=0.2,random_state=2)\n",
    "yf_train = np.log(yf_train)\n",
    "yf_val = np.log(yf_val)\n",
    "xf_train = (xf_train-xf_train.mean())/xf_train.std()\n",
    "xf_val = (xf_val-xf_val.mean())/xf_val.std()\n",
    "\n",
    "mod = RidgeCV(alphas=[ 0.1       ,  0.16681005,  0.27825594,  0.46415888,  0.77426368,\n",
    "        1.29154967,  2.15443469,  3.59381366,  5.9948425 , 10.        ])\n",
    "\n",
    "mod.fit(xf_train,yf_train)\n",
    "yf_val = np.array(yf_val).reshape(-1, 1)\n",
    "rmse = np.sqrt(mean_squared_error(yf_val, mod.predict(xf_val)))\n",
    "print(\"The Root mean squared error (RMSE) onval set: {:.4f}\".format(rmse))\n",
    "\n",
    "###Retrain with all erf size data != nan\n",
    "mod.fit(X_erf,np.log(y_erf))\n",
    "y_erf_test = mod.predict(X_erf_test)\n",
    "print(len(y_erf_test))\n",
    "\n",
    "idx = data[data['erf_size'].astype(\"str\") == \"nan\"]['erf_size'].index\n",
    "data.loc[data['erf_size'].astype(\"str\") == \"nan\", 'erf_size']= np.exp(y_erf_test)"
   ]
  },
  {
   "cell_type": "code",
   "execution_count": null,
   "id": "50500351",
   "metadata": {},
   "outputs": [],
   "source": []
  },
  {
   "cell_type": "markdown",
   "id": "2edca5cd",
   "metadata": {},
   "source": [
    "### Listing date preprocessing\n",
    "Get year"
   ]
  },
  {
   "cell_type": "code",
   "execution_count": 16,
   "id": "57405fdf",
   "metadata": {},
   "outputs": [],
   "source": [
    "data['listing_date'] = [float(v.year) for v in pd.to_datetime(data['listing_date'])]"
   ]
  },
  {
   "cell_type": "code",
   "execution_count": 17,
   "id": "db8575cd",
   "metadata": {},
   "outputs": [
    {
     "data": {
      "text/plain": [
       "array([2020., 2019., 2018., 2017., 2016., 2015.])"
      ]
     },
     "execution_count": 17,
     "metadata": {},
     "output_type": "execute_result"
    }
   ],
   "source": [
    "data['listing_date'].unique()"
   ]
  },
  {
   "cell_type": "markdown",
   "id": "2289b549",
   "metadata": {},
   "source": [
    "### Town feature preprocess -> get only the district (quartier)"
   ]
  },
  {
   "cell_type": "code",
   "execution_count": 18,
   "id": "280fd81a",
   "metadata": {},
   "outputs": [],
   "source": [
    "series = []\n",
    "for v in data[\"town\"]:\n",
    "    v = v.split(',')\n",
    "    v.pop()\n",
    "    series.append(v.pop())\n",
    "    \n",
    "data[\"town\"] = series"
   ]
  },
  {
   "cell_type": "markdown",
   "id": "6446c87c",
   "metadata": {},
   "source": [
    "### We will use cat boost categorical features default handler for the town cases"
   ]
  },
  {
   "cell_type": "markdown",
   "id": "df95bd3c",
   "metadata": {},
   "source": [
    "#### drop listing_number 'cause just index value of property "
   ]
  },
  {
   "cell_type": "code",
   "execution_count": 19,
   "id": "ded11c39",
   "metadata": {},
   "outputs": [],
   "source": [
    "data = data.drop(['listing_number'],axis=1)"
   ]
  },
  {
   "cell_type": "markdown",
   "id": "1c723b04",
   "metadata": {},
   "source": [
    "### Standard scale continous numeric features"
   ]
  },
  {
   "cell_type": "code",
   "execution_count": 20,
   "id": "48735338",
   "metadata": {},
   "outputs": [],
   "source": [
    "to_scale = ['erf_size',  'floor_size'] \n",
    "\n",
    "#Get mean and deviation of train\n",
    "#mean = data[data[\"split\"]==0][to_scale].mean()\n",
    "#std = data[data[\"split\"]==0][to_scale].std()\n",
    "\n",
    "#data[to_scale] = data[to_scale]-mean\n",
    "#data[to_scale] = data[to_scale]/std\n",
    "\n",
    "# log transform\n",
    "#data[to_scale]=np.log(data[to_scale])\n",
    "#data[to_scale]=data[to_scale].replace(-np.inf,-1)\n",
    "# data[to_scale]"
   ]
  },
  {
   "cell_type": "code",
   "execution_count": 21,
   "id": "b517fff6",
   "metadata": {},
   "outputs": [
    {
     "data": {
      "text/plain": [
       "bathrooms               0\n",
       "bedrooms                0\n",
       "erf_size                0\n",
       "floor_size              0\n",
       "garages                 0\n",
       "listing_date            0\n",
       "pet_friendly            0\n",
       "price                   0\n",
       "town                    0\n",
       "type_of_property        0\n",
       "garden                  0\n",
       "pool                    0\n",
       "secure_parking          0\n",
       "parking                 0\n",
       "no_pets_allowed         0\n",
       "furnished               0\n",
       "flatlet                 0\n",
       "fibre_internet          0\n",
       "furnished_(optional)    0\n",
       "adsl_internet           0\n",
       "satellite_internet      0\n",
       "fixed_wimax_internet    0\n",
       "split                   0\n",
       "dtype: int64"
      ]
     },
     "execution_count": 21,
     "metadata": {},
     "output_type": "execute_result"
    }
   ],
   "source": [
    "data.isna().sum()"
   ]
  },
  {
   "cell_type": "markdown",
   "id": "f644034e",
   "metadata": {},
   "source": [
    "### Drop outliers"
   ]
  },
  {
   "cell_type": "markdown",
   "id": "65f2a48f",
   "metadata": {},
   "source": [
    "### par IQR \n",
    "\n",
    "$$ IQR = Q3 - Q1 $$\n",
    "$$ interval = [Q1 - seuil * IQR, Q3 + seuil * IQR]$$"
   ]
  },
  {
   "cell_type": "code",
   "execution_count": 22,
   "id": "1341b56f",
   "metadata": {},
   "outputs": [],
   "source": [
    "def IQR(df,cols,quantiles=[0.25,0.75],seuil=1.5):\n",
    "    Q1 = df[cols].quantile(quantiles[0])\n",
    "    Q3 = df[cols].quantile(quantiles[1])\n",
    "    IQR = Q3 - Q1\n",
    "\n",
    "    return df[~((df[cols] < (Q1 - seuil * IQR)) |(df[cols] > (Q3 + seuil * IQR))).any(axis=1)]"
   ]
  },
  {
   "cell_type": "code",
   "execution_count": 23,
   "id": "a39f2aeb",
   "metadata": {},
   "outputs": [
    {
     "name": "stdout",
     "output_type": "stream",
     "text": [
      "1.0     3357\n",
      "2.0     2145\n",
      "3.0      706\n",
      "2.5      343\n",
      "4.0      328\n",
      "3.5      259\n",
      "1.5      231\n",
      "5.0      139\n",
      "4.5      113\n",
      "6.0       67\n",
      "5.5       50\n",
      "7.0       25\n",
      "8.0       21\n",
      "6.5       15\n",
      "7.5       10\n",
      "9.0        8\n",
      "10.0       5\n",
      "12.0       4\n",
      "11.0       4\n",
      "15.0       3\n",
      "14.0       3\n",
      "0.5        2\n",
      "18.0       2\n",
      "8.5        2\n",
      "13.0       1\n",
      "9.5        1\n",
      "25.0       1\n",
      "30.0       1\n",
      "Name: bathrooms, dtype: int64\n",
      "2.0     2562\n",
      "3.0     1734\n",
      "1.0     1722\n",
      "4.0      903\n",
      "5.0      388\n",
      "0.5      208\n",
      "6.0      162\n",
      "7.0       56\n",
      "8.0       32\n",
      "9.0       21\n",
      "10.0      10\n",
      "12.0       9\n",
      "2.5        8\n",
      "1.5        7\n",
      "11.0       7\n",
      "13.0       4\n",
      "16.0       3\n",
      "3.5        3\n",
      "15.0       2\n",
      "4.5        1\n",
      "33.0       1\n",
      "18.0       1\n",
      "30.0       1\n",
      "14.0       1\n",
      "Name: bedrooms, dtype: int64\n",
      "85.228615      670\n",
      "95.754172      337\n",
      "100.083695     296\n",
      "130.748510     242\n",
      "153.537565     172\n",
      "              ... \n",
      "1183.000000      1\n",
      "1304.000000      1\n",
      "5027.000000      1\n",
      "1291.000000      1\n",
      "7357.000000      1\n",
      "Name: erf_size, Length: 1562, dtype: int64\n",
      "45.283221      111\n",
      "43.000000       85\n",
      "60.000000       84\n",
      "61.000000       71\n",
      "79.710834       71\n",
      "              ... \n",
      "103.097069       1\n",
      "295.052960       1\n",
      "699.000000       1\n",
      "416.553660       1\n",
      "2203.000000      1\n",
      "Name: floor_size, Length: 1010, dtype: int64\n",
      "0.0     4143\n",
      "1.0     1911\n",
      "2.0     1457\n",
      "3.0      202\n",
      "4.0      103\n",
      "5.0       10\n",
      "6.0        8\n",
      "10.0       5\n",
      "7.0        3\n",
      "8.0        2\n",
      "1.5        1\n",
      "20.0       1\n",
      "Name: garages, dtype: int64\n",
      "2020.0    5972\n",
      "2019.0    1509\n",
      "2018.0     295\n",
      "2017.0      58\n",
      "2015.0       6\n",
      "2016.0       6\n",
      "Name: listing_date, dtype: int64\n",
      "0.0    5826\n",
      "1.0    2020\n",
      "Name: pet_friendly, dtype: int64\n",
      "2995000.0     103\n",
      "1950000.0      88\n",
      "2950000.0      85\n",
      "1850000.0      85\n",
      "1350000.0      83\n",
      "             ... \n",
      "12575000.0      1\n",
      "3170000.0       1\n",
      "1090000.0       1\n",
      "2785000.0       1\n",
      "5050000.0       1\n",
      "Name: price, Length: 1167, dtype: int64\n",
      "Sea Point                 452\n",
      " Cape Town City Centre    372\n",
      "Cape Town City Centre     326\n",
      " Sea Point                303\n",
      "Green Point               218\n",
      "                         ... \n",
      " Ndabeni                    1\n",
      " Silvertree Estate          1\n",
      " Erica Township             1\n",
      "Nooitgedacht                1\n",
      "Langa                       1\n",
      "Name: town, Length: 249, dtype: int64\n",
      "1.0    4591\n",
      "3.0    2972\n",
      "2.0     283\n",
      "Name: type_of_property, dtype: int64\n",
      "0.0    5825\n",
      "1.0    2021\n",
      "Name: garden, dtype: int64\n",
      "0.0    5132\n",
      "1.0    2714\n",
      "Name: pool, dtype: int64\n",
      "0.0     7182\n",
      "1.0      330\n",
      "2.0      192\n",
      "3.0       60\n",
      "4.0       45\n",
      "6.0       17\n",
      "5.0        8\n",
      "10.0       5\n",
      "8.0        3\n",
      "15.0       1\n",
      "9.0        1\n",
      "12.0       1\n",
      "11.0       1\n",
      "Name: secure_parking, dtype: int64\n",
      "0.0     4436\n",
      "1.0     1876\n",
      "2.0      960\n",
      "3.0      211\n",
      "4.0      180\n",
      "5.0       67\n",
      "6.0       52\n",
      "8.0       21\n",
      "10.0      16\n",
      "7.0       12\n",
      "11.0       5\n",
      "12.0       4\n",
      "9.0        3\n",
      "30.0       1\n",
      "50.0       1\n",
      "13.0       1\n",
      "Name: parking, dtype: int64\n",
      "0.0    6530\n",
      "1.0    1316\n",
      "Name: no_pets_allowed, dtype: int64\n",
      "0.0    7547\n",
      "1.0     299\n",
      "Name: furnished, dtype: int64\n",
      "0.0    7437\n",
      "1.0     409\n",
      "Name: flatlet, dtype: int64\n",
      "0.0    7055\n",
      "1.0     791\n",
      "Name: fibre_internet, dtype: int64\n",
      "0.0    7824\n",
      "1.0      22\n",
      "Name: furnished_(optional), dtype: int64\n",
      "0.0    7806\n",
      "1.0      40\n",
      "Name: adsl_internet, dtype: int64\n",
      "0.0    7834\n",
      "1.0      12\n",
      "Name: satellite_internet, dtype: int64\n",
      "0.0    7845\n",
      "1.0       1\n",
      "Name: fixed_wimax_internet, dtype: int64\n",
      "0    5492\n",
      "1    1177\n",
      "2    1177\n",
      "Name: split, dtype: int64\n"
     ]
    }
   ],
   "source": [
    "for col in data.columns:\n",
    "    print(data[col].value_counts())"
   ]
  },
  {
   "cell_type": "code",
   "execution_count": 24,
   "id": "5e05a979",
   "metadata": {},
   "outputs": [],
   "source": [
    "to_check = [\n",
    "    \"parking\",\"secure_parking\",\"town\",\"garages\",\"floor_size\",\"bedrooms\",\"erf_size\",\"bathrooms\"\n",
    "    \n",
    "]"
   ]
  },
  {
   "cell_type": "code",
   "execution_count": 25,
   "id": "8e55603e",
   "metadata": {},
   "outputs": [
    {
     "name": "stderr",
     "output_type": "stream",
     "text": [
      "<ipython-input-22-75e62deb5c5a>:6: FutureWarning: Automatic reindexing on DataFrame vs Series comparisons is deprecated and will raise ValueError in a future version.  Do `left, right = left.align(right, axis=1, copy=False)` before e.g. `left == right`\n",
      "  return df[~((df[cols] < (Q1 - seuil * IQR)) |(df[cols] > (Q3 + seuil * IQR))).any(axis=1)]\n",
      "<ipython-input-22-75e62deb5c5a>:6: FutureWarning: Automatic reindexing on DataFrame vs Series comparisons is deprecated and will raise ValueError in a future version.  Do `left, right = left.align(right, axis=1, copy=False)` before e.g. `left == right`\n",
      "  return df[~((df[cols] < (Q1 - seuil * IQR)) |(df[cols] > (Q3 + seuil * IQR))).any(axis=1)]\n"
     ]
    },
    {
     "data": {
      "text/plain": [
       "(6814, 23)"
      ]
     },
     "execution_count": 25,
     "metadata": {},
     "output_type": "execute_result"
    }
   ],
   "source": [
    "data_out = IQR(data,to_check,quantiles=[0.0001,0.90])\n",
    "data_out.shape"
   ]
  },
  {
   "cell_type": "markdown",
   "id": "7f97f671",
   "metadata": {},
   "source": [
    "### data saving"
   ]
  },
  {
   "cell_type": "code",
   "execution_count": 26,
   "id": "27c48905",
   "metadata": {},
   "outputs": [],
   "source": [
    "data_out.to_csv(\"../../../Data/Dataset_splited_v2.csv\",index=False)"
   ]
  },
  {
   "cell_type": "code",
   "execution_count": null,
   "id": "ce669952",
   "metadata": {},
   "outputs": [],
   "source": []
  }
 ],
 "metadata": {
  "kernelspec": {
   "display_name": "Python 3",
   "language": "python",
   "name": "python3"
  },
  "language_info": {
   "codemirror_mode": {
    "name": "ipython",
    "version": 3
   },
   "file_extension": ".py",
   "mimetype": "text/x-python",
   "name": "python",
   "nbconvert_exporter": "python",
   "pygments_lexer": "ipython3",
   "version": "3.8.10"
  }
 },
 "nbformat": 4,
 "nbformat_minor": 5
}

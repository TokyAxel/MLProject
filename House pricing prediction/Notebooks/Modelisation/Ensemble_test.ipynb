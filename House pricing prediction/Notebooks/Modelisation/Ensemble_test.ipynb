{
 "cells": [
  {
   "cell_type": "code",
   "execution_count": 1,
   "source": [
    "#from sklearn.svm import SVR\r\n",
    "from sklearn.ensemble import GradientBoostingRegressor\r\n",
    "from sklearn.pipeline import make_pipeline\r\n",
    "from sklearn.preprocessing import StandardScaler\r\n",
    "from sklearn.metrics import mean_squared_error, mean_squared_log_error\r\n",
    "from sklearn.model_selection import train_test_split\r\n",
    "import math\r\n",
    "import numpy as np\r\n",
    "import pandas as pd"
   ],
   "outputs": [],
   "metadata": {}
  },
  {
   "cell_type": "code",
   "execution_count": 2,
   "source": [
    "data = pd.read_csv(\"../../Data/Dataset_v1.csv\",sep=\";\")"
   ],
   "outputs": [],
   "metadata": {}
  },
  {
   "cell_type": "code",
   "execution_count": 3,
   "source": [
    "data = data[['price',\r\n",
    "  'Bathrooms',\r\n",
    "  'Levies',\r\n",
    "  'Rates and Taxes',\r\n",
    "  'Bedrooms',\r\n",
    "  'Kitchens',\r\n",
    "  'Gardens',\r\n",
    "  'province',\r\n",
    "  'city',\r\n",
    "  'Type of Property',\r\n",
    "  'Pool',\r\n",
    "  'Pets Allowed',\r\n",
    "  'Garage']]"
   ],
   "outputs": [],
   "metadata": {}
  },
  {
   "cell_type": "code",
   "execution_count": 4,
   "source": [
    "data = data.fillna(data.mean())"
   ],
   "outputs": [
    {
     "output_type": "stream",
     "name": "stderr",
     "text": [
      "C:\\Users\\USER\\AppData\\Local\\Temp/ipykernel_992/476127175.py:1: FutureWarning: Dropping of nuisance columns in DataFrame reductions (with 'numeric_only=None') is deprecated; in a future version this will raise TypeError.  Select only valid columns before calling the reduction.\n",
      "  data = data.fillna(data.mean())\n"
     ]
    }
   ],
   "metadata": {}
  },
  {
   "cell_type": "code",
   "execution_count": 5,
   "source": [
    "data = pd.get_dummies(data)"
   ],
   "outputs": [],
   "metadata": {}
  },
  {
   "cell_type": "code",
   "execution_count": 6,
   "source": [
    "data.shape"
   ],
   "outputs": [
    {
     "output_type": "execute_result",
     "data": {
      "text/plain": [
       "(13666, 841)"
      ]
     },
     "metadata": {},
     "execution_count": 6
    }
   ],
   "metadata": {}
  },
  {
   "cell_type": "code",
   "execution_count": 7,
   "source": [
    "y = data[\"price\"]\r\n",
    "X = data.drop(['price'],axis=1)"
   ],
   "outputs": [],
   "metadata": {}
  },
  {
   "cell_type": "code",
   "execution_count": 8,
   "source": [
    "X_train, X_test, y_train, y_test = train_test_split(X, y, test_size=0.33, random_state=42)"
   ],
   "outputs": [],
   "metadata": {}
  },
  {
   "cell_type": "code",
   "execution_count": 9,
   "source": [
    "#regr = make_pipeline(StandardScaler(), SVR(C=1.0, epsilon=0.2))\r\n",
    "#regr = SVR(C=1.0,kernel='sigmoid', epsilon=0.2)\r\n",
    "regr = GradientBoostingRegressor()\r\n",
    "regr.fit(X_train, y_train)\r\n"
   ],
   "outputs": [
    {
     "output_type": "execute_result",
     "data": {
      "text/plain": [
       "GradientBoostingRegressor()"
      ]
     },
     "metadata": {},
     "execution_count": 9
    }
   ],
   "metadata": {}
  },
  {
   "cell_type": "code",
   "execution_count": 10,
   "source": [
    "y_pred = regr.predict(X_test)"
   ],
   "outputs": [],
   "metadata": {}
  },
  {
   "cell_type": "code",
   "execution_count": 11,
   "source": [
    "np.sqrt(mean_squared_error(y_test, y_pred))"
   ],
   "outputs": [
    {
     "output_type": "execute_result",
     "data": {
      "text/plain": [
       "2358523.1629387746"
      ]
     },
     "metadata": {},
     "execution_count": 11
    }
   ],
   "metadata": {}
  },
  {
   "cell_type": "code",
   "execution_count": 12,
   "source": [
    "y_test[0:10]"
   ],
   "outputs": [
    {
     "output_type": "execute_result",
     "data": {
      "text/plain": [
       "6479     3650000\n",
       "5146     1720000\n",
       "7207      695000\n",
       "11597    6850000\n",
       "4162      590000\n",
       "7410     3950000\n",
       "9948     5999000\n",
       "3169     1870000\n",
       "7172     4800000\n",
       "11871    7850000\n",
       "Name: price, dtype: int64"
      ]
     },
     "metadata": {},
     "execution_count": 12
    }
   ],
   "metadata": {}
  },
  {
   "cell_type": "code",
   "execution_count": 13,
   "source": [
    "y_pred[0:10]"
   ],
   "outputs": [
    {
     "output_type": "execute_result",
     "data": {
      "text/plain": [
       "array([ 3470485.07426204,   786678.8259514 ,   890558.72516008,\n",
       "        3454521.6768136 ,   865929.225103  ,  4953576.29989836,\n",
       "        6199141.65152673,  1862955.81454353,  3175263.12739512,\n",
       "       17627072.82297659])"
      ]
     },
     "metadata": {},
     "execution_count": 13
    }
   ],
   "metadata": {}
  },
  {
   "cell_type": "code",
   "execution_count": null,
   "source": [],
   "outputs": [],
   "metadata": {}
  }
 ],
 "metadata": {
  "kernelspec": {
   "name": "python3",
   "display_name": "Python 3.9.1 64-bit ('deepai': conda)"
  },
  "language_info": {
   "name": "python",
   "version": "3.9.6",
   "mimetype": "text/x-python",
   "codemirror_mode": {
    "name": "ipython",
    "version": 3
   },
   "pygments_lexer": "ipython3",
   "nbconvert_exporter": "python",
   "file_extension": ".py"
  },
  "interpreter": {
   "hash": "b54b66dfa7cdbe8a69b3bf148d9797a1fcee399928c1f348c50707ec239ca9b1"
  }
 },
 "nbformat": 4,
 "nbformat_minor": 5
}
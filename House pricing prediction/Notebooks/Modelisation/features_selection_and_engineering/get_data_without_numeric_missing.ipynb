{
 "cells": [
  {
   "cell_type": "code",
   "execution_count": 1,
   "source": [
    "import pandas as pd\r\n",
    "import numpy as np"
   ],
   "outputs": [],
   "metadata": {}
  },
  {
   "cell_type": "code",
   "execution_count": 2,
   "source": [
    "data = pd.read_csv(\"../../../Data/Dataset_v2.csv\",sep=\";\")"
   ],
   "outputs": [],
   "metadata": {}
  },
  {
   "cell_type": "code",
   "execution_count": 3,
   "source": [
    "data.shape"
   ],
   "outputs": [
    {
     "output_type": "execute_result",
     "data": {
      "text/plain": [
       "(13666, 24)"
      ]
     },
     "metadata": {},
     "execution_count": 3
    }
   ],
   "metadata": {}
  },
  {
   "cell_type": "markdown",
   "source": [
    "### Drop All Column with more 15% missing"
   ],
   "metadata": {}
  },
  {
   "cell_type": "code",
   "execution_count": 4,
   "source": [
    "cols =[]\r\n",
    "for idx in (data.isna().sum()/data.shape[0]).index:\r\n",
    "    if (data.isna().sum()/data.shape[0])[idx] > 0.15:\r\n",
    "        cols.append(idx) \r\n",
    "cols"
   ],
   "outputs": [
    {
     "output_type": "execute_result",
     "data": {
      "text/plain": [
       "['floor_size',\n",
       " 'pool',\n",
       " 'security',\n",
       " 'health',\n",
       " 'food_and_entertainment',\n",
       " 'shopping',\n",
       " 'sports_and_leisure',\n",
       " 'levies',\n",
       " 'rates_and_taxes',\n",
       " 'pets_allowed',\n",
       " 'kitchens',\n",
       " 'garage',\n",
       " 'gardens']"
      ]
     },
     "metadata": {},
     "execution_count": 4
    }
   ],
   "metadata": {}
  },
  {
   "cell_type": "code",
   "execution_count": 5,
   "source": [
    "data = data.drop(cols, axis=1)"
   ],
   "outputs": [],
   "metadata": {}
  },
  {
   "cell_type": "code",
   "execution_count": 6,
   "source": [
    "data = data.dropna(axis=0)"
   ],
   "outputs": [],
   "metadata": {}
  },
  {
   "cell_type": "code",
   "execution_count": 7,
   "source": [
    "data.shape"
   ],
   "outputs": [
    {
     "output_type": "execute_result",
     "data": {
      "text/plain": [
       "(9445, 11)"
      ]
     },
     "metadata": {},
     "execution_count": 7
    }
   ],
   "metadata": {}
  },
  {
   "cell_type": "code",
   "execution_count": 8,
   "source": [
    "data.columns"
   ],
   "outputs": [
    {
     "output_type": "execute_result",
     "data": {
      "text/plain": [
       "Index(['name', 'price', 'province', 'city', 'address', 'type_of_property',\n",
       "       'bathrooms', 'bedrooms', 'education', 'transport_and_public_services',\n",
       "       'sampling'],\n",
       "      dtype='object')"
      ]
     },
     "metadata": {},
     "execution_count": 8
    }
   ],
   "metadata": {}
  },
  {
   "cell_type": "markdown",
   "source": [
    "### Need resampling here"
   ],
   "metadata": {}
  },
  {
   "cell_type": "code",
   "execution_count": 9,
   "source": [
    "def split_data(data,target,col=\"sampling\"):\r\n",
    "    unique = data[\"sampling\"].unique()\r\n",
    "    for i, v in enumerate(unique):\r\n",
    "        if v == 1 :\r\n",
    "            data_train = data[data[col]==v]\r\n",
    "            y_train = data_train[target]\r\n",
    "            X_train = data_train.drop([target],axis=1)\r\n",
    "            print(\"train shape :\",X_train.shape)\r\n",
    "        elif v == 2 :\r\n",
    "            data_val = data[data[col]==v]\r\n",
    "            y_val = data_val[target]\r\n",
    "            X_val = data_val.drop([target],axis=1)\r\n",
    "            print(\"val shape :\",X_val.shape)\r\n",
    "        elif v == 3 :\r\n",
    "            data_test = data[data[col]==v]\r\n",
    "            y_test = data_test[target]\r\n",
    "            X_test = data_test.drop([target],axis=1)\r\n",
    "            print(\"test shape :\",X_test.shape)\r\n",
    "            \r\n",
    "            \r\n",
    "    return X_train, y_train, X_val, y_train, X_test, y_test"
   ],
   "outputs": [],
   "metadata": {}
  },
  {
   "cell_type": "code",
   "execution_count": 10,
   "source": [
    "X_train, y_train, X_val, y_train, X_test, y_test = split_data(data,\"price\")"
   ],
   "outputs": [
    {
     "output_type": "stream",
     "name": "stdout",
     "text": [
      "train shape : (6572, 10)\n",
      "val shape : (1465, 10)\n",
      "test shape : (1408, 10)\n"
     ]
    }
   ],
   "metadata": {}
  },
  {
   "cell_type": "code",
   "execution_count": 11,
   "source": [
    "data.to_csv(\"../../../Data/Dataset_zero_numeric_missing.csv\",sep=\";\",)"
   ],
   "outputs": [],
   "metadata": {}
  },
  {
   "cell_type": "code",
   "execution_count": null,
   "source": [],
   "outputs": [],
   "metadata": {}
  }
 ],
 "metadata": {
  "kernelspec": {
   "display_name": "Python 3",
   "language": "python",
   "name": "python3"
  },
  "language_info": {
   "codemirror_mode": {
    "name": "ipython",
    "version": 3
   },
   "file_extension": ".py",
   "mimetype": "text/x-python",
   "name": "python",
   "nbconvert_exporter": "python",
   "pygments_lexer": "ipython3",
   "version": "3.8.10"
  }
 },
 "nbformat": 4,
 "nbformat_minor": 5
}
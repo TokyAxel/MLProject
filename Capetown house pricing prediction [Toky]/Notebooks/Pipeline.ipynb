{
 "cells": [
  {
   "cell_type": "markdown",
   "id": "e09839f1",
   "metadata": {},
   "source": [
    "# Pipeline"
   ]
  },
  {
   "cell_type": "markdown",
   "id": "4aefffcb",
   "metadata": {},
   "source": [
    "### 1) Data Collection :\n",
    "- Capetown data from property24.com ->\n",
    "    [property24_data.csv](../Data/Originals/property24_data.csv)\n",
    "\n",
    "### 2) Data raw Cleaning :\n",
    "- Formatting and cleaning data -> [Data Cleaning](./Data_preprocessing/Data_cleaning_CSV.ipynb)\n",
    "\n",
    "### 3) EDA : \n",
    "- EDA -> [EDA_by_pandas_profiling](./Data_analysis/EDA_by_pandas_profiling.ipynb)\n",
    "- Advanced EDA -> [Advanced EDA](./Data_analysis/Advanced_EDA.ipynb)\n",
    "\n",
    "### 4) Generate sample (Train, Validation, Test) :\n",
    "- Sampling -> [Sampling](./Sampling/generate_sample.ipynb)\n",
    "\n",
    "### 5) Model 1 - all features :\n",
    "- Preprocessing\n",
    "\n",
    "- Model, hyperparameter tuning and interpretation -> [RidgeCV](./Modelisation/Model_1_all_features/Model_1_RidgeCV_Final.ipynb)\n",
    "\n",
    "### 6) Model 2 - relevant features :\n",
    "\n",
    "- Preprocessing\n",
    "\n",
    "- Model, hyperparameter tuning and feature selection -> [CatBoost_relevant_features](./Modelisation/Model_2_relevant_features/Model_CatBoost_with_relevant_features.ipynb)\n",
    "\n",
    "-  [CatBoost_all_features](./Modelisation/Model_2_relevant_features/Model_CatBoost_with_all_features.ipynb)"
   ]
  },
  {
   "cell_type": "code",
   "execution_count": null,
   "id": "a30b5e8e",
   "metadata": {},
   "outputs": [],
   "source": []
  }
 ],
 "metadata": {
  "kernelspec": {
   "display_name": "Python 3",
   "language": "python",
   "name": "python3"
  },
  "language_info": {
   "codemirror_mode": {
    "name": "ipython",
    "version": 3
   },
   "file_extension": ".py",
   "mimetype": "text/x-python",
   "name": "python",
   "nbconvert_exporter": "python",
   "pygments_lexer": "ipython3",
   "version": "3.8.10"
  }
 },
 "nbformat": 4,
 "nbformat_minor": 5
}

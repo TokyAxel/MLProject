{
 "cells": [
  {
   "cell_type": "code",
   "execution_count": 1,
   "id": "74e2c5b9",
   "metadata": {},
   "outputs": [],
   "source": [
    "from sklearn.ensemble import GradientBoostingRegressor\n",
    "from catboost import Pool, to_classifier, to_regressor, CatBoost\n",
    "from sklearn.ensemble import RandomForestRegressor\n",
    "from sklearn.svm import SVR\n",
    "from sklearn.model_selection import cross_validate\n",
    "from sklearn import linear_model\n",
    "from sklearn.inspection import permutation_importance\n",
    "from sklearn.preprocessing import StandardScaler\n",
    "from sklearn.metrics import mean_squared_error\n",
    "#from sklearn.model_selection import GridSearchCV\n",
    "from sklearn.experimental import enable_halving_search_cv  # noqa\n",
    "from sklearn.model_selection import HalvingGridSearchCV\n",
    "import numpy as np\n",
    "import pandas as pd\n",
    "import seaborn as sns\n",
    "import matplotlib.pyplot as plt"
   ]
  },
  {
   "cell_type": "markdown",
   "id": "f5b77d62",
   "metadata": {},
   "source": [
    "### Data from preprocessing notebook\n",
    "[Preprocessing_model_1.ipynb](./Preprocessing_model_1.ipynb)"
   ]
  },
  {
   "cell_type": "code",
   "execution_count": 2,
   "id": "ef28b650",
   "metadata": {},
   "outputs": [],
   "source": [
    "data = pd.read_csv(\"../../../Data/Dataset_splited_v1.csv\",sep=\",\")"
   ]
  },
  {
   "cell_type": "code",
   "execution_count": 3,
   "id": "fb0da6bb",
   "metadata": {
    "scrolled": true
   },
   "outputs": [
    {
     "data": {
      "text/plain": [
       "(7846, 23)"
      ]
     },
     "execution_count": 3,
     "metadata": {},
     "output_type": "execute_result"
    }
   ],
   "source": [
    "data.shape"
   ]
  },
  {
   "cell_type": "markdown",
   "id": "f970979d",
   "metadata": {},
   "source": [
    "### Sampling"
   ]
  },
  {
   "cell_type": "code",
   "execution_count": 4,
   "id": "b9304d83",
   "metadata": {},
   "outputs": [],
   "source": [
    "def split_data(data,target,col=\"split\",features_to_keep=None):\n",
    "    if features_to_keep is not None :\n",
    "        features_to_keep = features_to_keep\n",
    "        data = data[features_to_keep]\n",
    "        \n",
    "    unique = data[col].unique()\n",
    "    for i, v in enumerate(unique):\n",
    "        if v == 0 :\n",
    "            data_train = data[data[col]==v]\n",
    "            y_train = data_train[target]\n",
    "            X_train = data_train.drop([target,col],axis=1)\n",
    "            print(\"train shape :\",X_train.shape)\n",
    "        elif v == 1 :\n",
    "            data_val = data[data[col]==v]\n",
    "            y_val = data_val[target]\n",
    "            X_val = data_val.drop([target,col],axis=1)\n",
    "            print(\"val shape :\",X_val.shape)\n",
    "        elif v == 2 :\n",
    "            data_test = data[data[col]==v]\n",
    "            y_test = data_test[target]\n",
    "            X_test = data_test.drop([target,col],axis=1)\n",
    "            print(\"test shape :\",X_test.shape)\n",
    "    \n",
    "            \n",
    "    return X_train, np.log(y_train), X_val, np.log(y_val), X_test, np.log(y_test)"
   ]
  },
  {
   "cell_type": "code",
   "execution_count": 5,
   "id": "d4bfbd54",
   "metadata": {},
   "outputs": [
    {
     "data": {
      "text/plain": [
       "Index(['bathrooms', 'bedrooms', 'erf_size', 'floor_size', 'garages',\n",
       "       'listing_date', 'pet_friendly', 'price', 'town', 'type_of_property',\n",
       "       'garden', 'pool', 'secure_parking', 'parking', 'no_pets_allowed',\n",
       "       'furnished', 'flatlet', 'fibre_internet', 'furnished_(optional)',\n",
       "       'adsl_internet', 'satellite_internet', 'fixed_wimax_internet', 'split'],\n",
       "      dtype='object')"
      ]
     },
     "execution_count": 5,
     "metadata": {},
     "output_type": "execute_result"
    }
   ],
   "source": [
    "data.columns"
   ]
  },
  {
   "cell_type": "code",
   "execution_count": 6,
   "id": "5ba3014a",
   "metadata": {},
   "outputs": [
    {
     "name": "stdout",
     "output_type": "stream",
     "text": [
      "train shape : (5492, 21)\n",
      "val shape : (1177, 21)\n",
      "test shape : (1177, 21)\n"
     ]
    }
   ],
   "source": [
    "X_train, y_train, X_val, y_val, X_test, y_test = split_data(data,\"price\")"
   ]
  },
  {
   "cell_type": "markdown",
   "id": "ab7de29c",
   "metadata": {},
   "source": [
    "# Model : RidgeCV (interpretable)\n",
    "https://scikit-learn.org/"
   ]
  },
  {
   "cell_type": "code",
   "execution_count": 7,
   "id": "9da68608",
   "metadata": {},
   "outputs": [
    {
     "data": {
      "text/plain": [
       "RidgeCV(alphas=array([1.e-06, 1.e-05, 1.e-04, 1.e-03, 1.e-02, 1.e-01, 1.e+00, 1.e+01,\n",
       "       1.e+02, 1.e+03, 1.e+04, 1.e+05, 1.e+06]))"
      ]
     },
     "execution_count": 7,
     "metadata": {},
     "output_type": "execute_result"
    }
   ],
   "source": [
    "reg = linear_model.RidgeCV(alphas=np.logspace(-6, 6, 13))\n",
    "reg.fit(X_train, y_train)"
   ]
  },
  {
   "cell_type": "markdown",
   "id": "4c0a1385",
   "metadata": {},
   "source": [
    "## 1)  RMSE on validation set with DEFAULT PARAMETER"
   ]
  },
  {
   "cell_type": "code",
   "execution_count": 8,
   "id": "19351373",
   "metadata": {},
   "outputs": [
    {
     "name": "stdout",
     "output_type": "stream",
     "text": [
      "The Root mean squared error (RMSE) on val set: 0.3988\n",
      "The Root mean squared error (RMSE) on train set: 0.4027\n"
     ]
    }
   ],
   "source": [
    "rmse = np.sqrt(mean_squared_error(y_val, reg.predict(X_val)))\n",
    "print(\"The Root mean squared error (RMSE) on val set: {:.4f}\".format(rmse))\n",
    "rmse = np.sqrt(mean_squared_error(y_train, reg.predict(X_train)))\n",
    "print(\"The Root mean squared error (RMSE) on train set: {:.4f}\".format(rmse))"
   ]
  },
  {
   "cell_type": "markdown",
   "id": "9b87d9a8",
   "metadata": {},
   "source": [
    "### Interpretation\n",
    "https://scikit-learn.org/stable/auto_examples/inspection/plot_linear_model_coefficient_interpretation.html#sphx-glr-auto-examples-inspection-plot-linear-model-coefficient-interpretation-py"
   ]
  },
  {
   "cell_type": "code",
   "execution_count": 9,
   "id": "a486b267",
   "metadata": {},
   "outputs": [
    {
     "data": {
      "text/html": [
       "<div>\n",
       "<style scoped>\n",
       "    .dataframe tbody tr th:only-of-type {\n",
       "        vertical-align: middle;\n",
       "    }\n",
       "\n",
       "    .dataframe tbody tr th {\n",
       "        vertical-align: top;\n",
       "    }\n",
       "\n",
       "    .dataframe thead th {\n",
       "        text-align: right;\n",
       "    }\n",
       "</style>\n",
       "<table border=\"1\" class=\"dataframe\">\n",
       "  <thead>\n",
       "    <tr style=\"text-align: right;\">\n",
       "      <th></th>\n",
       "      <th>Coefficients</th>\n",
       "    </tr>\n",
       "  </thead>\n",
       "  <tbody>\n",
       "    <tr>\n",
       "      <th>bathrooms</th>\n",
       "      <td>0.510385</td>\n",
       "    </tr>\n",
       "    <tr>\n",
       "      <th>bedrooms</th>\n",
       "      <td>0.211364</td>\n",
       "    </tr>\n",
       "    <tr>\n",
       "      <th>erf_size</th>\n",
       "      <td>0.012779</td>\n",
       "    </tr>\n",
       "    <tr>\n",
       "      <th>floor_size</th>\n",
       "      <td>0.115056</td>\n",
       "    </tr>\n",
       "    <tr>\n",
       "      <th>garages</th>\n",
       "      <td>0.061969</td>\n",
       "    </tr>\n",
       "    <tr>\n",
       "      <th>listing_date</th>\n",
       "      <td>-0.078311</td>\n",
       "    </tr>\n",
       "    <tr>\n",
       "      <th>pet_friendly</th>\n",
       "      <td>0.020527</td>\n",
       "    </tr>\n",
       "    <tr>\n",
       "      <th>town</th>\n",
       "      <td>0.008838</td>\n",
       "    </tr>\n",
       "    <tr>\n",
       "      <th>type_of_property</th>\n",
       "      <td>0.021916</td>\n",
       "    </tr>\n",
       "    <tr>\n",
       "      <th>garden</th>\n",
       "      <td>-0.079692</td>\n",
       "    </tr>\n",
       "    <tr>\n",
       "      <th>pool</th>\n",
       "      <td>0.170012</td>\n",
       "    </tr>\n",
       "    <tr>\n",
       "      <th>secure_parking</th>\n",
       "      <td>0.043458</td>\n",
       "    </tr>\n",
       "    <tr>\n",
       "      <th>parking</th>\n",
       "      <td>0.019069</td>\n",
       "    </tr>\n",
       "    <tr>\n",
       "      <th>no_pets_allowed</th>\n",
       "      <td>0.031193</td>\n",
       "    </tr>\n",
       "    <tr>\n",
       "      <th>furnished</th>\n",
       "      <td>0.057974</td>\n",
       "    </tr>\n",
       "    <tr>\n",
       "      <th>flatlet</th>\n",
       "      <td>-0.036795</td>\n",
       "    </tr>\n",
       "    <tr>\n",
       "      <th>fibre_internet</th>\n",
       "      <td>0.020623</td>\n",
       "    </tr>\n",
       "    <tr>\n",
       "      <th>furnished_(optional)</th>\n",
       "      <td>0.028436</td>\n",
       "    </tr>\n",
       "    <tr>\n",
       "      <th>adsl_internet</th>\n",
       "      <td>-0.007936</td>\n",
       "    </tr>\n",
       "    <tr>\n",
       "      <th>satellite_internet</th>\n",
       "      <td>0.013394</td>\n",
       "    </tr>\n",
       "    <tr>\n",
       "      <th>fixed_wimax_internet</th>\n",
       "      <td>0.006382</td>\n",
       "    </tr>\n",
       "  </tbody>\n",
       "</table>\n",
       "</div>"
      ],
      "text/plain": [
       "                      Coefficients\n",
       "bathrooms                 0.510385\n",
       "bedrooms                  0.211364\n",
       "erf_size                  0.012779\n",
       "floor_size                0.115056\n",
       "garages                   0.061969\n",
       "listing_date             -0.078311\n",
       "pet_friendly              0.020527\n",
       "town                      0.008838\n",
       "type_of_property          0.021916\n",
       "garden                   -0.079692\n",
       "pool                      0.170012\n",
       "secure_parking            0.043458\n",
       "parking                   0.019069\n",
       "no_pets_allowed           0.031193\n",
       "furnished                 0.057974\n",
       "flatlet                  -0.036795\n",
       "fibre_internet            0.020623\n",
       "furnished_(optional)      0.028436\n",
       "adsl_internet            -0.007936\n",
       "satellite_internet        0.013394\n",
       "fixed_wimax_internet      0.006382"
      ]
     },
     "execution_count": 9,
     "metadata": {},
     "output_type": "execute_result"
    }
   ],
   "source": [
    "coefs = pd.DataFrame(\n",
    "    reg.coef_,\n",
    "    columns=['Coefficients'], index=X_train.columns\n",
    ")\n",
    "\n",
    "coefs"
   ]
  },
  {
   "cell_type": "code",
   "execution_count": 10,
   "id": "1ffea5ec",
   "metadata": {},
   "outputs": [
    {
     "data": {
      "image/png": "[encoded data removed]",
      "text/plain": [
       "<Figure size 648x504 with 1 Axes>"
      ]
     },
     "metadata": {
      "needs_background": "light"
     },
     "output_type": "display_data"
    }
   ],
   "source": [
    "coefs.plot(kind='barh', figsize=(9, 7))\n",
    "plt.title('RidgeCV model, default parameters')\n",
    "plt.axvline(x=0, color='.5')\n",
    "plt.subplots_adjust(left=.3)"
   ]
  },
  {
   "cell_type": "markdown",
   "id": "f6f92437",
   "metadata": {},
   "source": [
    "- bathrooms, bedrooms, pool and floor_size make price higher the most\n",
    "- garden, flatlet and listing date make price lower"
   ]
  },
  {
   "cell_type": "markdown",
   "id": "b1bf57f2",
   "metadata": {},
   "source": [
    "### Cross validation"
   ]
  },
  {
   "cell_type": "code",
   "execution_count": 11,
   "id": "eb1a807d",
   "metadata": {},
   "outputs": [],
   "source": [
    "X_train_val = X_val.append(X_train)\n",
    "y_train_val = y_val.append(y_train)"
   ]
  },
  {
   "cell_type": "code",
   "execution_count": 12,
   "id": "ed385708",
   "metadata": {},
   "outputs": [],
   "source": [
    "reg_cv = cross_validate(reg, X_train_val, y_train_val, scoring='neg_root_mean_squared_error',cv=10, return_train_score=True, return_estimator=True)"
   ]
  },
  {
   "cell_type": "code",
   "execution_count": 13,
   "id": "2e3846e6",
   "metadata": {},
   "outputs": [
    {
     "name": "stdout",
     "output_type": "stream",
     "text": [
      "mean RMSE : 0.4027889801239083\n",
      "std RMSE : 0.016974357279444196\n",
      "min RMSE : 0.37356542863458786\n",
      "max RMSE : 0.4337770680452457\n"
     ]
    }
   ],
   "source": [
    "print(\"mean RMSE :\",np.abs(np.mean(reg_cv['test_score'])))\n",
    "print(\"std RMSE :\",np.abs(np.std(reg_cv['test_score'])))\n",
    "print(\"min RMSE :\",np.abs(np.max(reg_cv['test_score'])))\n",
    "print(\"max RMSE :\",np.abs(np.min(reg_cv['test_score'])))"
   ]
  },
  {
   "cell_type": "code",
   "execution_count": 14,
   "id": "aed4a8eb",
   "metadata": {},
   "outputs": [
    {
     "data": {
      "image/png": "[encoded data removed]",
      "text/plain": [
       "<Figure size 1008x720 with 1 Axes>"
      ]
     },
     "metadata": {
      "needs_background": "light"
     },
     "output_type": "display_data"
    }
   ],
   "source": [
    "coefs = pd.DataFrame(\n",
    "    [est.coef_ *\n",
    "     X_train.std(axis=0)\n",
    "     for est in reg_cv['estimator']],\n",
    "    columns=X_train.columns\n",
    ")\n",
    "plt.figure(figsize=(14, 10))\n",
    "sns.stripplot(data=coefs, orient='h', color='k', alpha=0.5)\n",
    "sns.boxplot(data=coefs, orient='h', color='cyan', saturation=0.5)\n",
    "plt.axvline(x=0, color='.5')\n",
    "plt.xlabel('Coefficient importance')\n",
    "plt.title('Coefficient importance and its variability')\n",
    "plt.subplots_adjust(left=.3)"
   ]
  },
  {
   "cell_type": "markdown",
   "id": "987ec899",
   "metadata": {},
   "source": [
    "The plot of coefficient importance and its variability shows that :\n",
    "- town, bathrooms, bedrooms, floor size and pool make the more impact\n",
    "- bathrooms and secure parking are the most variable coefficient through cross validation"
   ]
  },
  {
   "cell_type": "markdown",
   "id": "19fe5f31",
   "metadata": {},
   "source": [
    "## 2) hyperparameter tuning\n",
    "https://scikit-learn.org/stable/auto_examples/model_selection/plot_successive_halving_heatmap.html#sphx-glr-auto-examples-model-selection-plot-successive-halving-heatmap-py"
   ]
  },
  {
   "cell_type": "code",
   "execution_count": 15,
   "id": "d9a1b527",
   "metadata": {},
   "outputs": [],
   "source": [
    "param_grid = {\"gcv_mode\":[\"auto\", \"svd\", \"eigen\"],\"alphas\":[np.logspace(-12, 12, 26),np.logspace(-6, 6, 13),np.logspace(-3, 3, 10),np.logspace(-0.1, 0.1, 10),np.logspace(-1, 1, 10)]}"
   ]
  },
  {
   "cell_type": "code",
   "execution_count": 16,
   "id": "091c3735",
   "metadata": {},
   "outputs": [
    {
     "data": {
      "text/plain": [
       "HalvingGridSearchCV(cv=10,\n",
       "                    estimator=RidgeCV(alphas=array([1.e-06, 1.e-05, 1.e-04, 1.e-03, 1.e-02, 1.e-01, 1.e+00, 1.e+01,\n",
       "       1.e+02, 1.e+03, 1.e+04, 1.e+05, 1.e+06])),\n",
       "                    factor=2,\n",
       "                    param_grid={'alphas': [array([1.00000000e-12, 9.12010839e-12, 8.31763771e-11, 7.58577575e-10,\n",
       "       6.91830971e-09, 6.30957344e-08, 5.75439937e-07, 5.24807460e-06,\n",
       "       4.78630092e-05, 4.36515832e-04, 3.98107171...\n",
       "       2.15443469e+02, 1.00000000e+03]),\n",
       "                                           array([0.79432823, 0.83603069, 0.87992254, 0.92611873, 0.97474023,\n",
       "       1.02591437, 1.07977516, 1.13646367, 1.19612833, 1.25892541]),\n",
       "                                           array([ 0.1       ,  0.16681005,  0.27825594,  0.46415888,  0.77426368,\n",
       "        1.29154967,  2.15443469,  3.59381366,  5.9948425 , 10.        ])],\n",
       "                                'gcv_mode': ['auto', 'svd', 'eigen']},\n",
       "                    random_state=45,\n",
       "                    refit=<function _refit_callable at 0x7fb60606cb80>)"
      ]
     },
     "execution_count": 16,
     "metadata": {},
     "output_type": "execute_result"
    }
   ],
   "source": [
    "gsh = HalvingGridSearchCV(estimator=reg, param_grid=param_grid, factor=2,cv=10,\n",
    "                          random_state=45)\n",
    "gsh.fit(X_train, y_train)"
   ]
  },
  {
   "cell_type": "code",
   "execution_count": 18,
   "id": "366d7703",
   "metadata": {},
   "outputs": [
    {
     "data": {
      "text/plain": [
       "{'alphas': array([ 0.1       ,  0.16681005,  0.27825594,  0.46415888,  0.77426368,\n",
       "         1.29154967,  2.15443469,  3.59381366,  5.9948425 , 10.        ]),\n",
       " 'gcv_mode': 'auto'}"
      ]
     },
     "execution_count": 18,
     "metadata": {},
     "output_type": "execute_result"
    }
   ],
   "source": [
    "gsh.best_params_"
   ]
  },
  {
   "cell_type": "code",
   "execution_count": 19,
   "id": "a99234e9",
   "metadata": {},
   "outputs": [
    {
     "data": {
      "text/plain": [
       "RidgeCV(alphas=array([ 0.1       ,  0.16681005,  0.27825594,  0.46415888,  0.77426368,\n",
       "        1.29154967,  2.15443469,  3.59381366,  5.9948425 , 10.        ]),\n",
       "        gcv_mode='auto')"
      ]
     },
     "execution_count": 19,
     "metadata": {},
     "output_type": "execute_result"
    }
   ],
   "source": [
    "reg = linear_model.RidgeCV(alphas= [ 0.1       ,  0.16681005,  0.27825594,  0.46415888,  0.77426368,\n",
    "         1.29154967,  2.15443469,  3.59381366,  5.9948425 , 10.        ],gcv_mode= 'auto')\n",
    "reg.fit(X_train, y_train)"
   ]
  },
  {
   "cell_type": "markdown",
   "id": "010f194b",
   "metadata": {},
   "source": [
    "###  RMSE on validation set with tuned parameters"
   ]
  },
  {
   "cell_type": "code",
   "execution_count": 20,
   "id": "60d7bd64",
   "metadata": {},
   "outputs": [
    {
     "name": "stdout",
     "output_type": "stream",
     "text": [
      "The Root mean squared error (RMSE) on val set: 0.3988\n",
      "The Root mean squared error (RMSE) on train set: 0.4027\n"
     ]
    }
   ],
   "source": [
    "rmse = np.sqrt(mean_squared_error(y_val, reg.predict(X_val)))\n",
    "print(\"The Root mean squared error (RMSE) on val set: {:.4f}\".format(rmse))\n",
    "rmse = np.sqrt(mean_squared_error(y_train, reg.predict(X_train)))\n",
    "print(\"The Root mean squared error (RMSE) on train set: {:.4f}\".format(rmse))"
   ]
  },
  {
   "cell_type": "markdown",
   "id": "4523bad9",
   "metadata": {},
   "source": [
    "The tuning parameter on alphas doesn't affect the performance"
   ]
  },
  {
   "cell_type": "markdown",
   "id": "e47d37e8",
   "metadata": {},
   "source": [
    "### Interpretation\n",
    "https://scikit-learn.org/stable/auto_examples/inspection/plot_linear_model_coefficient_interpretation.html#sphx-glr-auto-examples-inspection-plot-linear-model-coefficient-interpretation-py"
   ]
  },
  {
   "cell_type": "code",
   "execution_count": 21,
   "id": "1f305e71",
   "metadata": {},
   "outputs": [
    {
     "data": {
      "text/html": [
       "<div>\n",
       "<style scoped>\n",
       "    .dataframe tbody tr th:only-of-type {\n",
       "        vertical-align: middle;\n",
       "    }\n",
       "\n",
       "    .dataframe tbody tr th {\n",
       "        vertical-align: top;\n",
       "    }\n",
       "\n",
       "    .dataframe thead th {\n",
       "        text-align: right;\n",
       "    }\n",
       "</style>\n",
       "<table border=\"1\" class=\"dataframe\">\n",
       "  <thead>\n",
       "    <tr style=\"text-align: right;\">\n",
       "      <th></th>\n",
       "      <th>Coefficients</th>\n",
       "    </tr>\n",
       "  </thead>\n",
       "  <tbody>\n",
       "    <tr>\n",
       "      <th>bathrooms</th>\n",
       "      <td>0.510385</td>\n",
       "    </tr>\n",
       "    <tr>\n",
       "      <th>bedrooms</th>\n",
       "      <td>0.211364</td>\n",
       "    </tr>\n",
       "    <tr>\n",
       "      <th>erf_size</th>\n",
       "      <td>0.012779</td>\n",
       "    </tr>\n",
       "    <tr>\n",
       "      <th>floor_size</th>\n",
       "      <td>0.115056</td>\n",
       "    </tr>\n",
       "    <tr>\n",
       "      <th>garages</th>\n",
       "      <td>0.061969</td>\n",
       "    </tr>\n",
       "    <tr>\n",
       "      <th>listing_date</th>\n",
       "      <td>-0.078311</td>\n",
       "    </tr>\n",
       "    <tr>\n",
       "      <th>pet_friendly</th>\n",
       "      <td>0.020527</td>\n",
       "    </tr>\n",
       "    <tr>\n",
       "      <th>town</th>\n",
       "      <td>0.008838</td>\n",
       "    </tr>\n",
       "    <tr>\n",
       "      <th>type_of_property</th>\n",
       "      <td>0.021916</td>\n",
       "    </tr>\n",
       "    <tr>\n",
       "      <th>garden</th>\n",
       "      <td>-0.079692</td>\n",
       "    </tr>\n",
       "    <tr>\n",
       "      <th>pool</th>\n",
       "      <td>0.170012</td>\n",
       "    </tr>\n",
       "    <tr>\n",
       "      <th>secure_parking</th>\n",
       "      <td>0.043458</td>\n",
       "    </tr>\n",
       "    <tr>\n",
       "      <th>parking</th>\n",
       "      <td>0.019069</td>\n",
       "    </tr>\n",
       "    <tr>\n",
       "      <th>no_pets_allowed</th>\n",
       "      <td>0.031193</td>\n",
       "    </tr>\n",
       "    <tr>\n",
       "      <th>furnished</th>\n",
       "      <td>0.057974</td>\n",
       "    </tr>\n",
       "    <tr>\n",
       "      <th>flatlet</th>\n",
       "      <td>-0.036795</td>\n",
       "    </tr>\n",
       "    <tr>\n",
       "      <th>fibre_internet</th>\n",
       "      <td>0.020623</td>\n",
       "    </tr>\n",
       "    <tr>\n",
       "      <th>furnished_(optional)</th>\n",
       "      <td>0.028436</td>\n",
       "    </tr>\n",
       "    <tr>\n",
       "      <th>adsl_internet</th>\n",
       "      <td>-0.007936</td>\n",
       "    </tr>\n",
       "    <tr>\n",
       "      <th>satellite_internet</th>\n",
       "      <td>0.013394</td>\n",
       "    </tr>\n",
       "    <tr>\n",
       "      <th>fixed_wimax_internet</th>\n",
       "      <td>0.006382</td>\n",
       "    </tr>\n",
       "  </tbody>\n",
       "</table>\n",
       "</div>"
      ],
      "text/plain": [
       "                      Coefficients\n",
       "bathrooms                 0.510385\n",
       "bedrooms                  0.211364\n",
       "erf_size                  0.012779\n",
       "floor_size                0.115056\n",
       "garages                   0.061969\n",
       "listing_date             -0.078311\n",
       "pet_friendly              0.020527\n",
       "town                      0.008838\n",
       "type_of_property          0.021916\n",
       "garden                   -0.079692\n",
       "pool                      0.170012\n",
       "secure_parking            0.043458\n",
       "parking                   0.019069\n",
       "no_pets_allowed           0.031193\n",
       "furnished                 0.057974\n",
       "flatlet                  -0.036795\n",
       "fibre_internet            0.020623\n",
       "furnished_(optional)      0.028436\n",
       "adsl_internet            -0.007936\n",
       "satellite_internet        0.013394\n",
       "fixed_wimax_internet      0.006382"
      ]
     },
     "execution_count": 21,
     "metadata": {},
     "output_type": "execute_result"
    }
   ],
   "source": [
    "coefs = pd.DataFrame(\n",
    "    reg.coef_,\n",
    "    columns=['Coefficients'], index=X_train.columns\n",
    ")\n",
    "\n",
    "coefs"
   ]
  },
  {
   "cell_type": "code",
   "execution_count": 22,
   "id": "b97dab70",
   "metadata": {},
   "outputs": [
    {
     "data": {
      "image/png": "[encoded data removed]",
      "text/plain": [
       "<Figure size 648x504 with 1 Axes>"
      ]
     },
     "metadata": {
      "needs_background": "light"
     },
     "output_type": "display_data"
    }
   ],
   "source": [
    "coefs.plot(kind='barh', figsize=(9, 7))\n",
    "plt.title('RidgeCV model, default parameters')\n",
    "plt.axvline(x=0, color='.5')\n",
    "plt.subplots_adjust(left=.3)"
   ]
  },
  {
   "cell_type": "markdown",
   "id": "014b70cd",
   "metadata": {},
   "source": [
    "### Cross validation"
   ]
  },
  {
   "cell_type": "code",
   "execution_count": 23,
   "id": "15fdeb7c",
   "metadata": {},
   "outputs": [],
   "source": [
    "X_train_val = X_val.append(X_train)\n",
    "y_train_val = y_val.append(y_train)"
   ]
  },
  {
   "cell_type": "code",
   "execution_count": 24,
   "id": "90561196",
   "metadata": {},
   "outputs": [],
   "source": [
    "reg_cv = cross_validate(reg, X_train_val, y_train_val, scoring='neg_root_mean_squared_error',cv=10, return_train_score=True, return_estimator=True)"
   ]
  },
  {
   "cell_type": "code",
   "execution_count": 25,
   "id": "2d989a7b",
   "metadata": {},
   "outputs": [
    {
     "name": "stdout",
     "output_type": "stream",
     "text": [
      "mean RMSE : 0.4027889801239083\n",
      "std RMSE : 0.016974357279444196\n",
      "min RMSE : 0.37356542863458786\n",
      "max RMSE : 0.4337770680452457\n"
     ]
    }
   ],
   "source": [
    "print(\"mean RMSE :\",np.abs(np.mean(reg_cv['test_score'])))\n",
    "print(\"std RMSE :\",np.abs(np.std(reg_cv['test_score'])))\n",
    "print(\"min RMSE :\",np.abs(np.max(reg_cv['test_score'])))\n",
    "print(\"max RMSE :\",np.abs(np.min(reg_cv['test_score'])))"
   ]
  },
  {
   "cell_type": "code",
   "execution_count": 26,
   "id": "5727675d",
   "metadata": {},
   "outputs": [
    {
     "data": {
      "image/png": "[encoded data removed]",
      "text/plain": [
       "<Figure size 1008x720 with 1 Axes>"
      ]
     },
     "metadata": {
      "needs_background": "light"
     },
     "output_type": "display_data"
    }
   ],
   "source": [
    "coefs = pd.DataFrame(\n",
    "    [est.coef_ *\n",
    "     X_train.std(axis=0)\n",
    "     for est in reg_cv['estimator']],\n",
    "    columns=X_train.columns\n",
    ")\n",
    "plt.figure(figsize=(14, 10))\n",
    "sns.stripplot(data=coefs, orient='h', color='k', alpha=0.5)\n",
    "sns.boxplot(data=coefs, orient='h', color='cyan', saturation=0.5)\n",
    "plt.axvline(x=0, color='.5')\n",
    "plt.xlabel('Coefficient importance')\n",
    "plt.title('Coefficient importance and its variability')\n",
    "plt.subplots_adjust(left=.3)"
   ]
  },
  {
   "cell_type": "markdown",
   "id": "dce7cd1d",
   "metadata": {},
   "source": [
    "## 3) Comparison"
   ]
  },
  {
   "cell_type": "code",
   "execution_count": 27,
   "id": "541ef4eb",
   "metadata": {},
   "outputs": [
    {
     "name": "stdout",
     "output_type": "stream",
     "text": [
      "\n",
      "Model : Cat Boost\n",
      "Source model type:  <class 'catboost.core.CatBoost'>\n",
      "The Root mean squared error (RMSE) on val set: 0.2961\n",
      "The Root mean squared error (RMSE) on train set: 0.2232\n",
      "\n",
      "Model : Gradient Boosting\n",
      "The Root mean squared error (RMSE) on val set: 0.2937\n",
      "The Root mean squared error (RMSE) on train set: 0.1991\n",
      "\n",
      "Model : Random Forest\n",
      "The Root mean squared error (RMSE) on val set: 0.3017\n",
      "The Root mean squared error (RMSE) on train set: 0.1161\n",
      "\n",
      "Model : Lasso\n",
      "The Root mean squared error (RMSE) on val set: 0.6283\n",
      "The Root mean squared error (RMSE) on train set: 0.6312\n",
      "\n",
      "Model : SVR\n",
      "The Root mean squared error (RMSE) on val set: 0.6286\n",
      "The Root mean squared error (RMSE) on train set: 0.6355\n"
     ]
    }
   ],
   "source": [
    "print(\"\\nModel : Cat Boost\")\n",
    "\n",
    "model = CatBoost(params={'loss_function': 'RMSE'})\n",
    "print(\"Source model type: \", type(model))\n",
    "converted_model = to_regressor(model)\n",
    "converted_model.fit(X_train, y_train,verbose=False)\n",
    "\n",
    "rmse = np.sqrt(mean_squared_error(y_val, converted_model.predict(X_val)))\n",
    "print(\"The Root mean squared error (RMSE) on val set: {:.4f}\".format(rmse))\n",
    "rmse = np.sqrt(mean_squared_error(y_train, converted_model.predict(X_train)))\n",
    "print(\"The Root mean squared error (RMSE) on train set: {:.4f}\".format(rmse))\n",
    "\n",
    "print(\"\\nModel : Gradient Boosting\")\n",
    "params = {'n_estimators': 1000,\n",
    "          'max_depth': 4,\n",
    "          'min_samples_split': 5,\n",
    "          'learning_rate': 0.05,\n",
    "          'loss': 'ls'}\n",
    "\n",
    "gb = GradientBoostingRegressor(**params)\n",
    "gb.fit(X_train, y_train)\n",
    "\n",
    "rmse = np.sqrt(mean_squared_error(y_val, gb.predict(X_val)))\n",
    "print(\"The Root mean squared error (RMSE) on val set: {:.4f}\".format(rmse))\n",
    "rmse = np.sqrt(mean_squared_error(y_train, gb.predict(X_train)))\n",
    "print(\"The Root mean squared error (RMSE) on train set: {:.4f}\".format(rmse))\n",
    "\n",
    "print(\"\\nModel : Random Forest\")\n",
    "\n",
    "RF = RandomForestRegressor()\n",
    "RF.fit(X_train, y_train)\n",
    "\n",
    "rmse = np.sqrt(mean_squared_error(y_val, RF.predict(X_val)))\n",
    "print(\"The Root mean squared error (RMSE) on val set: {:.4f}\".format(rmse))\n",
    "rmse = np.sqrt(mean_squared_error(y_train, RF.predict(X_train)))\n",
    "print(\"The Root mean squared error (RMSE) on train set: {:.4f}\".format(rmse))\n",
    "\n",
    "print(\"\\nModel : Lasso\")\n",
    "\n",
    "lasso = linear_model.Lasso()\n",
    "lasso.fit(X_train, y_train)\n",
    "\n",
    "rmse = np.sqrt(mean_squared_error(y_val, lasso.predict(X_val)))\n",
    "print(\"The Root mean squared error (RMSE) on val set: {:.4f}\".format(rmse))\n",
    "rmse = np.sqrt(mean_squared_error(y_train, lasso.predict(X_train)))\n",
    "print(\"The Root mean squared error (RMSE) on train set: {:.4f}\".format(rmse))\n",
    "\n",
    "print(\"\\nModel : SVR\")\n",
    "\n",
    "regr = SVR(C=1.0,epsilon=0.2)\n",
    "regr.fit(X_train, y_train)\n",
    "\n",
    "rmse = np.sqrt(mean_squared_error(y_val, regr.predict(X_val)))\n",
    "print(\"The Root mean squared error (RMSE) on val set: {:.4f}\".format(rmse))\n",
    "rmse = np.sqrt(mean_squared_error(y_train, regr.predict(X_train)))\n",
    "print(\"The Root mean squared error (RMSE) on train set: {:.4f}\".format(rmse))"
   ]
  },
  {
   "cell_type": "markdown",
   "id": "7a8d613c",
   "metadata": {},
   "source": [
    "## 4) Evaluate on Test"
   ]
  },
  {
   "cell_type": "code",
   "execution_count": 28,
   "id": "ecaa37e0",
   "metadata": {},
   "outputs": [
    {
     "data": {
      "text/plain": [
       "RidgeCV(alphas=array([ 0.1       ,  0.16681005,  0.27825594,  0.46415888,  0.77426368,\n",
       "        1.29154967,  2.15443469,  3.59381366,  5.9948425 , 10.        ]),\n",
       "        gcv_mode='auto')"
      ]
     },
     "execution_count": 28,
     "metadata": {},
     "output_type": "execute_result"
    }
   ],
   "source": [
    "# FINAL MODEL with the best params from gridsearch\n",
    "reg.fit(X_train_val, y_train_val)"
   ]
  },
  {
   "cell_type": "markdown",
   "id": "291eb332",
   "metadata": {},
   "source": [
    "### RMSE on TEST"
   ]
  },
  {
   "cell_type": "code",
   "execution_count": 29,
   "id": "97a3f4a9",
   "metadata": {},
   "outputs": [
    {
     "name": "stdout",
     "output_type": "stream",
     "text": [
      "The Root mean squared error (RMSE) on TEST set: 0.4016\n",
      "The Root mean squared error (RMSE) on train set: 0.4019\n"
     ]
    }
   ],
   "source": [
    "rmse = np.sqrt(mean_squared_error(y_test, reg.predict(X_test)))\n",
    "print(\"The Root mean squared error (RMSE) on TEST set: {:.4f}\".format(rmse))\n",
    "rmse = np.sqrt(mean_squared_error(y_train_val, reg.predict(X_train_val)))\n",
    "print(\"The Root mean squared error (RMSE) on train set: {:.4f}\".format(rmse))"
   ]
  },
  {
   "cell_type": "markdown",
   "id": "069126ae",
   "metadata": {},
   "source": [
    "#### Conclusion :\n",
    "- The final result on test set is not far from the cross val RMSE (0.40 and 0.39)\n",
    "- the final RMSE on test set = 0.40 and on train set = 0.40 show that there isn't overfit risk"
   ]
  },
  {
   "cell_type": "markdown",
   "id": "15a9ed44",
   "metadata": {},
   "source": [
    "### Export model"
   ]
  },
  {
   "cell_type": "code",
   "execution_count": 30,
   "id": "a100afb5",
   "metadata": {},
   "outputs": [],
   "source": [
    "import pickle\n",
    "\n",
    "# save the model to disk\n",
    "filename = 'RidgeCV_final.sav'\n",
    "pickle.dump(reg, open(filename, 'wb'))"
   ]
  },
  {
   "cell_type": "code",
   "execution_count": null,
   "id": "13f2d39f",
   "metadata": {},
   "outputs": [],
   "source": []
  }
 ],
 "metadata": {
  "kernelspec": {
   "display_name": "Python 3",
   "language": "python",
   "name": "python3"
  },
  "language_info": {
   "codemirror_mode": {
    "name": "ipython",
    "version": 3
   },
   "file_extension": ".py",
   "mimetype": "text/x-python",
   "name": "python",
   "nbconvert_exporter": "python",
   "pygments_lexer": "ipython3",
   "version": "3.8.10"
  }
 },
 "nbformat": 4,
 "nbformat_minor": 5
}

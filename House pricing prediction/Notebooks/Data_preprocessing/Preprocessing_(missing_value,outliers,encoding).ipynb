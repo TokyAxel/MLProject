{
 "cells": [
  {
   "cell_type": "code",
   "execution_count": 56,
   "id": "1e59008e",
   "metadata": {},
   "outputs": [],
   "source": [
    "import pandas as pd\n",
    "import numpy as np\n",
    "from scipy import stats\n",
    "import seaborn as sns\n",
    "import matplotlib.pyplot as plt"
   ]
  },
  {
   "cell_type": "code",
   "execution_count": 57,
   "id": "6d51f82e",
   "metadata": {},
   "outputs": [],
   "source": [
    "data = pd.read_csv(\"../../Data/Dataset_v0.csv\",sep=\";\")"
   ]
  },
  {
   "cell_type": "markdown",
   "id": "a4f8cc5c",
   "metadata": {},
   "source": [
    "###  Catégoriser les types de variables :\n",
    " - Categorique ;\n",
    " - Numérique ;\n",
    " - Distance ;\n",
    " - Date"
   ]
  },
  {
   "cell_type": "code",
   "execution_count": 58,
   "id": "7adc266a",
   "metadata": {},
   "outputs": [],
   "source": [
    "def categorisation(data,date_cols):\n",
    "    distance = []\n",
    "    date = []\n",
    "    numerique = []\n",
    "    categorique = []\n",
    "    for col in data.columns:\n",
    "        if data[col].dtypes == np.object:\n",
    "            try:\n",
    "                if str(type(eval(data[col][data[col].first_valid_index()]))) == \"<class 'list'>\":\n",
    "                    distance.append(col)\n",
    "                elif col in date_cols:\n",
    "                    date.append(col)\n",
    "                else:\n",
    "                    categorique.append(col)\n",
    "            except:\n",
    "                if col in date_cols:\n",
    "                    date.append(col)\n",
    "                else:\n",
    "                    categorique.append(col)\n",
    "                \n",
    "            \n",
    "        else :\n",
    "            numerique.append(col)\n",
    "                \n",
    "    return dict({\"numerique\":numerique,\"categorique\":categorique,\"date\":date,\"distance\":distance})"
   ]
  },
  {
   "cell_type": "code",
   "execution_count": 59,
   "id": "23fc7c28",
   "metadata": {},
   "outputs": [
    {
     "data": {
      "text/plain": [
       "{'numerique': ['price',\n",
       "  'Listing Number',\n",
       "  'Floor Size',\n",
       "  'Bathrooms',\n",
       "  'Reception Rooms',\n",
       "  'Price per m²',\n",
       "  'Erf Size',\n",
       "  'Levies',\n",
       "  'Rates and Taxes',\n",
       "  'Bedrooms',\n",
       "  'Kitchens',\n",
       "  'Lounges',\n",
       "  'Dining Rooms',\n",
       "  'Gardens',\n",
       "  'Coverage',\n",
       "  'Office',\n",
       "  'Domestic Rooms'],\n",
       " 'categorique': ['name',\n",
       "  'province',\n",
       "  'city',\n",
       "  'address',\n",
       "  'Type of Property',\n",
       "  'Street Address',\n",
       "  'Bedroom',\n",
       "  'Bathroom 1',\n",
       "  'Bathroom 2',\n",
       "  'Kitchen',\n",
       "  'Other',\n",
       "  'Parking',\n",
       "  'Garden',\n",
       "  'Pool',\n",
       "  'Security',\n",
       "  'No Transfer Duty',\n",
       "  'Pets Allowed',\n",
       "  'Lifestyle',\n",
       "  'Bedroom 1',\n",
       "  'Bedroom 2',\n",
       "  'Bedroom 3',\n",
       "  'Bedroom 4',\n",
       "  'Bathroom 3',\n",
       "  'Dining Room',\n",
       "  'Garage',\n",
       "  'Lounge',\n",
       "  'Bathroom',\n",
       "  'Special Features',\n",
       "  'Nearby Public Transport',\n",
       "  'Description',\n",
       "  'Family/TV Room',\n",
       "  'Garage 1',\n",
       "  'Garage 2',\n",
       "  'Temperature Control',\n",
       "  'Style',\n",
       "  'Facing',\n",
       "  'Roof',\n",
       "  'Wall',\n",
       "  'Window',\n",
       "  'Entrance Hall',\n",
       "  'Rooms',\n",
       "  'Special Feature',\n",
       "  'Outbuilding',\n",
       "  'Flatlet',\n",
       "  'Standalone Building',\n",
       "  'Internet Access',\n",
       "  'Wheelchair Accessible',\n",
       "  'Parking 1',\n",
       "  'Parking 2'],\n",
       " 'date': ['Listing Date'],\n",
       " 'distance': ['Health',\n",
       "  'Food and Entertainment',\n",
       "  'Shopping',\n",
       "  'Sports and Leisure',\n",
       "  'Education',\n",
       "  'Transport and Public Services']}"
      ]
     },
     "execution_count": 59,
     "metadata": {},
     "output_type": "execute_result"
    }
   ],
   "source": [
    "feat_cat = categorisation(data,[\"Listing Date\"])\n",
    "feat_cat"
   ]
  },
  {
   "cell_type": "markdown",
   "id": "b49d4913",
   "metadata": {},
   "source": [
    "## 1) Traitement des valeurs manquantes"
   ]
  },
  {
   "cell_type": "markdown",
   "id": "1b51c0ca",
   "metadata": {},
   "source": [
    "### traitement par colonne"
   ]
  },
  {
   "cell_type": "code",
   "execution_count": 60,
   "id": "96b62152",
   "metadata": {},
   "outputs": [
    {
     "data": {
      "text/html": [
       "<div>\n",
       "<style scoped>\n",
       "    .dataframe tbody tr th:only-of-type {\n",
       "        vertical-align: middle;\n",
       "    }\n",
       "\n",
       "    .dataframe tbody tr th {\n",
       "        vertical-align: top;\n",
       "    }\n",
       "\n",
       "    .dataframe thead th {\n",
       "        text-align: right;\n",
       "    }\n",
       "</style>\n",
       "<table border=\"1\" class=\"dataframe\">\n",
       "  <thead>\n",
       "    <tr style=\"text-align: right;\">\n",
       "      <th></th>\n",
       "      <th>name</th>\n",
       "      <th>price</th>\n",
       "      <th>province</th>\n",
       "      <th>city</th>\n",
       "      <th>address</th>\n",
       "      <th>Listing Number</th>\n",
       "      <th>Type of Property</th>\n",
       "      <th>Street Address</th>\n",
       "      <th>Listing Date</th>\n",
       "      <th>Floor Size</th>\n",
       "      <th>...</th>\n",
       "      <th>Special Feature</th>\n",
       "      <th>Outbuilding</th>\n",
       "      <th>Flatlet</th>\n",
       "      <th>Standalone Building</th>\n",
       "      <th>Office</th>\n",
       "      <th>Domestic Rooms</th>\n",
       "      <th>Internet Access</th>\n",
       "      <th>Wheelchair Accessible</th>\n",
       "      <th>Parking 1</th>\n",
       "      <th>Parking 2</th>\n",
       "    </tr>\n",
       "  </thead>\n",
       "  <tbody>\n",
       "    <tr>\n",
       "      <th>valeurs manquantes</th>\n",
       "      <td>0.0</td>\n",
       "      <td>0.0</td>\n",
       "      <td>0.0</td>\n",
       "      <td>0.0</td>\n",
       "      <td>0.0</td>\n",
       "      <td>0.0</td>\n",
       "      <td>0.0</td>\n",
       "      <td>9814.00000</td>\n",
       "      <td>0.0</td>\n",
       "      <td>5897.000000</td>\n",
       "      <td>...</td>\n",
       "      <td>12581.000000</td>\n",
       "      <td>13074.000000</td>\n",
       "      <td>13021.000000</td>\n",
       "      <td>12646.000000</td>\n",
       "      <td>13136.000000</td>\n",
       "      <td>12836.000000</td>\n",
       "      <td>12916.000000</td>\n",
       "      <td>13198.000000</td>\n",
       "      <td>13251.000000</td>\n",
       "      <td>13251.000000</td>\n",
       "    </tr>\n",
       "    <tr>\n",
       "      <th>% valeurs manquantes</th>\n",
       "      <td>0.0</td>\n",
       "      <td>0.0</td>\n",
       "      <td>0.0</td>\n",
       "      <td>0.0</td>\n",
       "      <td>0.0</td>\n",
       "      <td>0.0</td>\n",
       "      <td>0.0</td>\n",
       "      <td>0.70005</td>\n",
       "      <td>0.0</td>\n",
       "      <td>0.420643</td>\n",
       "      <td>...</td>\n",
       "      <td>0.897425</td>\n",
       "      <td>0.932591</td>\n",
       "      <td>0.928811</td>\n",
       "      <td>0.902061</td>\n",
       "      <td>0.937014</td>\n",
       "      <td>0.915615</td>\n",
       "      <td>0.921321</td>\n",
       "      <td>0.941437</td>\n",
       "      <td>0.945217</td>\n",
       "      <td>0.945217</td>\n",
       "    </tr>\n",
       "  </tbody>\n",
       "</table>\n",
       "<p>2 rows × 73 columns</p>\n",
       "</div>"
      ],
      "text/plain": [
       "                      name  price  province  city  address  Listing Number  \\\n",
       "valeurs manquantes     0.0    0.0       0.0   0.0      0.0             0.0   \n",
       "% valeurs manquantes   0.0    0.0       0.0   0.0      0.0             0.0   \n",
       "\n",
       "                      Type of Property  Street Address  Listing Date  \\\n",
       "valeurs manquantes                 0.0      9814.00000           0.0   \n",
       "% valeurs manquantes               0.0         0.70005           0.0   \n",
       "\n",
       "                       Floor Size  ...  Special Feature   Outbuilding  \\\n",
       "valeurs manquantes    5897.000000  ...     12581.000000  13074.000000   \n",
       "% valeurs manquantes     0.420643  ...         0.897425      0.932591   \n",
       "\n",
       "                           Flatlet  Standalone Building        Office  \\\n",
       "valeurs manquantes    13021.000000         12646.000000  13136.000000   \n",
       "% valeurs manquantes      0.928811             0.902061      0.937014   \n",
       "\n",
       "                      Domestic Rooms  Internet Access  Wheelchair Accessible  \\\n",
       "valeurs manquantes      12836.000000     12916.000000           13198.000000   \n",
       "% valeurs manquantes        0.915615         0.921321               0.941437   \n",
       "\n",
       "                         Parking 1     Parking 2  \n",
       "valeurs manquantes    13251.000000  13251.000000  \n",
       "% valeurs manquantes      0.945217      0.945217  \n",
       "\n",
       "[2 rows x 73 columns]"
      ]
     },
     "execution_count": 60,
     "metadata": {},
     "output_type": "execute_result"
    }
   ],
   "source": [
    "missing = pd.DataFrame([data.isna().sum().values,(data.isna().sum()/data.shape[0]).values],index = [\"valeurs manquantes\",\"% valeurs manquantes\"] , columns=data.columns)\n",
    "missing"
   ]
  },
  {
   "cell_type": "code",
   "execution_count": 61,
   "id": "c9e1b9c2",
   "metadata": {},
   "outputs": [
    {
     "data": {
      "text/html": [
       "<div>\n",
       "<style scoped>\n",
       "    .dataframe tbody tr th:only-of-type {\n",
       "        vertical-align: middle;\n",
       "    }\n",
       "\n",
       "    .dataframe tbody tr th {\n",
       "        vertical-align: top;\n",
       "    }\n",
       "\n",
       "    .dataframe thead th {\n",
       "        text-align: right;\n",
       "    }\n",
       "</style>\n",
       "<table border=\"1\" class=\"dataframe\">\n",
       "  <thead>\n",
       "    <tr style=\"text-align: right;\">\n",
       "      <th></th>\n",
       "      <th>valeurs manquantes</th>\n",
       "      <th>% valeurs manquantes</th>\n",
       "    </tr>\n",
       "  </thead>\n",
       "  <tbody>\n",
       "    <tr>\n",
       "      <th>count</th>\n",
       "      <td>73.000000</td>\n",
       "      <td>73.000000</td>\n",
       "    </tr>\n",
       "    <tr>\n",
       "      <th>mean</th>\n",
       "      <td>9179.424658</td>\n",
       "      <td>0.654785</td>\n",
       "    </tr>\n",
       "    <tr>\n",
       "      <th>std</th>\n",
       "      <td>4509.739208</td>\n",
       "      <td>0.321688</td>\n",
       "    </tr>\n",
       "    <tr>\n",
       "      <th>min</th>\n",
       "      <td>0.000000</td>\n",
       "      <td>0.000000</td>\n",
       "    </tr>\n",
       "    <tr>\n",
       "      <th>25%</th>\n",
       "      <td>6741.000000</td>\n",
       "      <td>0.480847</td>\n",
       "    </tr>\n",
       "    <tr>\n",
       "      <th>50%</th>\n",
       "      <td>10945.000000</td>\n",
       "      <td>0.780726</td>\n",
       "    </tr>\n",
       "    <tr>\n",
       "      <th>75%</th>\n",
       "      <td>12746.000000</td>\n",
       "      <td>0.909195</td>\n",
       "    </tr>\n",
       "    <tr>\n",
       "      <th>max</th>\n",
       "      <td>13251.000000</td>\n",
       "      <td>0.945217</td>\n",
       "    </tr>\n",
       "  </tbody>\n",
       "</table>\n",
       "</div>"
      ],
      "text/plain": [
       "       valeurs manquantes  % valeurs manquantes\n",
       "count           73.000000             73.000000\n",
       "mean          9179.424658              0.654785\n",
       "std           4509.739208              0.321688\n",
       "min              0.000000              0.000000\n",
       "25%           6741.000000              0.480847\n",
       "50%          10945.000000              0.780726\n",
       "75%          12746.000000              0.909195\n",
       "max          13251.000000              0.945217"
      ]
     },
     "execution_count": 61,
     "metadata": {},
     "output_type": "execute_result"
    }
   ],
   "source": [
    "missing.T.describe()"
   ]
  },
  {
   "cell_type": "markdown",
   "id": "c4fa3510",
   "metadata": {},
   "source": [
    "### On va supprimer certaines variables par seuil de valeurs manquantes mais sauver quelques variables pertinents au niveau métier et selon la correlation par rapport au prix :\n"
   ]
  },
  {
   "cell_type": "code",
   "execution_count": 62,
   "id": "92fb9e62",
   "metadata": {},
   "outputs": [],
   "source": [
    "def drop_columns(data,keep,drop,seuil):    \n",
    "    missing = pd.DataFrame([data.isna().sum().values,(data.isna().sum()/data.shape[0]).values],index = [\"valeurs manquantes\",\"% valeurs manquantes\"] , columns=data.columns)\n",
    "    missing_freq = missing.T[missing.T[\"% valeurs manquantes\"]>=seuil]\n",
    "    print(len(missing_freq[\"% valeurs manquantes\"]))\n",
    "    (len(missing_freq[\"% valeurs manquantes\"])/data.shape[1])*100\n",
    "\n",
    "    for i in missing_freq.T.columns:\n",
    "        ## variable à sauver\n",
    "        if i not in keep:\n",
    "            drop.append(i)\n",
    "            \n",
    "    return data.drop(drop,axis=1)"
   ]
  },
  {
   "cell_type": "markdown",
   "id": "8dce5a68",
   "metadata": {},
   "source": [
    "#### use mean of price to get ordinal categorical features"
   ]
  },
  {
   "cell_type": "code",
   "execution_count": 63,
   "id": "9b03231f",
   "metadata": {},
   "outputs": [],
   "source": [
    "data_tmp = data.copy()"
   ]
  },
  {
   "cell_type": "code",
   "execution_count": 64,
   "id": "adbf7463",
   "metadata": {},
   "outputs": [
    {
     "name": "stdout",
     "output_type": "stream",
     "text": [
      "['name_E', 'province_E', 'city_E', 'address_E', 'Type of Property_E', 'Street Address_E', 'Bedroom_E', 'Bathroom 1_E', 'Bathroom 2_E', 'Kitchen_E', 'Other_E', 'Parking_E', 'Garden_E', 'Pool_E', 'Security_E', 'No Transfer Duty_E', 'Pets Allowed_E', 'Lifestyle_E', 'Bedroom 1_E', 'Bedroom 2_E', 'Bedroom 3_E', 'Bedroom 4_E', 'Bathroom 3_E', 'Dining Room_E', 'Garage_E', 'Lounge_E', 'Bathroom_E', 'Special Features_E', 'Nearby Public Transport_E', 'Description_E', 'Family/TV Room_E', 'Garage 1_E', 'Garage 2_E', 'Temperature Control_E', 'Style_E', 'Facing_E', 'Roof_E', 'Wall_E', 'Window_E', 'Entrance Hall_E', 'Rooms_E', 'Special Feature_E', 'Outbuilding_E', 'Flatlet_E', 'Standalone Building_E', 'Internet Access_E', 'Wheelchair Accessible_E', 'Parking 1_E', 'Parking 2_E']\n"
     ]
    }
   ],
   "source": [
    "def encode(frame, feature):\n",
    "    ordering = pd.DataFrame()\n",
    "    ordering['val'] = frame[feature].unique()\n",
    "    ordering.index = ordering.val\n",
    "    ordering['spmean'] = frame[[feature, 'price']].groupby(feature).mean()['price']\n",
    "    ordering = ordering.sort_values('spmean')\n",
    "    ordering['ordering'] = range(1, ordering.shape[0]+1)\n",
    "    ordering = ordering['ordering'].to_dict()\n",
    "    \n",
    "    for cat, o in ordering.items():\n",
    "        frame.loc[frame[feature] == cat, feature+'_E'] = o\n",
    "    \n",
    "qual_encoded = []\n",
    "for q in feat_cat[\"categorique\"]:  \n",
    "    encode(data_tmp, q)\n",
    "    qual_encoded.append(q+'_E')\n",
    "print(qual_encoded)"
   ]
  },
  {
   "cell_type": "markdown",
   "id": "8ef53a15",
   "metadata": {},
   "source": [
    "#### use spearman correlation to get which column to keep"
   ]
  },
  {
   "cell_type": "code",
   "execution_count": 65,
   "id": "178836ad-37c7-4526-9b85-c30570b457a1",
   "metadata": {},
   "outputs": [],
   "source": [
    "def spearman(frame, features):\n",
    "    spr = pd.DataFrame()\n",
    "    spr['feature'] = features\n",
    "    spr['spearman'] = [frame[f].corr(frame['price'], 'spearman') for f in features]\n",
    "    spr = spr.sort_values('spearman')\n",
    "    plt.figure(figsize=(6, 0.25*len(features)))\n",
    "    sns.barplot(data=spr, y='feature', x='spearman', orient='h')"
   ]
  },
  {
   "cell_type": "code",
   "execution_count": 66,
   "id": "941f0cb8-e1b5-4ed4-933e-b15aadc4659e",
   "metadata": {},
   "outputs": [
    {
     "name": "stderr",
     "output_type": "stream",
     "text": [
      "/home/tokyaxel/.local/lib/python3.8/site-packages/scipy/stats/stats.py:4264: SpearmanRConstantInputWarning: An input array is constant; the correlation coefficent is not defined.\n",
      "  warnings.warn(SpearmanRConstantInputWarning())\n"
     ]
    },
    {
     "data": {
      "image/png": "[encoded data removed]",
      "text/plain": [
       "<Figure size 432x1188 with 1 Axes>"
      ]
     },
     "metadata": {
      "needs_background": "light"
     },
     "output_type": "display_data"
    }
   ],
   "source": [
    "numeric = feat_cat[\"numerique\"]\n",
    "\n",
    "features = numeric + qual_encoded\n",
    "spearman(data_tmp, features)"
   ]
  },
  {
   "cell_type": "markdown",
   "id": "673f13aa",
   "metadata": {},
   "source": [
    "- On garde les variables dans \"must_keep\" même si le % de valeur manquante dépasse les 40%\n",
    "- Malgrè la forte correlation de certaine variable catégorique, on les supprime quand même car leur taux de valeur manquante dépasse les 60% (voir [EDA_by_pandas_profiling](../Data_analysis/EDA_by_pandas_profiling.ipynb) ) "
   ]
  },
  {
   "cell_type": "code",
   "execution_count": 67,
   "id": "d8a85a30",
   "metadata": {},
   "outputs": [],
   "source": [
    "must_keep = feat_cat[\"distance\"]+['price','Bathrooms','Floor Size','Levies','Rates and Taxes','Bedrooms','Kitchens','Garage',\"Gardens\",'Pool','Pets Allowed','Security']\n",
    "must_drop = ['Listing Number','Price per m²']+feat_cat[\"date\"]"
   ]
  },
  {
   "cell_type": "code",
   "execution_count": 68,
   "id": "fb3f7922",
   "metadata": {},
   "outputs": [
    {
     "name": "stdout",
     "output_type": "stream",
     "text": [
      "59\n"
     ]
    }
   ],
   "source": [
    "data = drop_columns(data,must_keep,must_drop,0.40)"
   ]
  },
  {
   "cell_type": "code",
   "execution_count": 69,
   "id": "71416f8e",
   "metadata": {},
   "outputs": [
    {
     "data": {
      "text/plain": [
       "(14019, 23)"
      ]
     },
     "execution_count": 69,
     "metadata": {},
     "output_type": "execute_result"
    }
   ],
   "source": [
    "data.shape"
   ]
  },
  {
   "cell_type": "markdown",
   "id": "ca4d9cc7",
   "metadata": {},
   "source": [
    "### 2) Traitement des valeurs aberrantes"
   ]
  },
  {
   "attachments": {
    "8dcc53cc-d7bc-4032-8717-c349291cbdec.png": {
     "image/png": "[encoded data removed]"
    }
   },
   "cell_type": "markdown",
   "id": "099ae2b1",
   "metadata": {},
   "source": [
    "### Détection par z-score (mbola tsy mety)\n",
    "\n",
    "https://towardsdatascience.com/z-score-for-anomaly-detection-d98b0006f510\n",
    "\n",
    "![image.png](attachment:8dcc53cc-d7bc-4032-8717-c349291cbdec.png)\n"
   ]
  },
  {
   "cell_type": "code",
   "execution_count": 70,
   "id": "f06ed0da",
   "metadata": {},
   "outputs": [],
   "source": [
    "def z_score(data,columns,seuil):\n",
    "    z_scores = stats.zscore(data[columns])\n",
    "    print(z_scores)\n",
    "    abs_z_scores = np.abs(z_scores)\n",
    "    filtered_entries = (abs_z_scores < seuil).all(axis=1)\n",
    "    data = data[filtered_entries]\n",
    "    return data"
   ]
  },
  {
   "cell_type": "markdown",
   "id": "a2061c1a",
   "metadata": {},
   "source": [
    "### par IQR \n",
    "\n",
    "$$ IQR = Q3 - Q1 $$\n",
    "$$ interval = [Q1 - seuil * IQR, Q3 + seuil * IQR]$$"
   ]
  },
  {
   "cell_type": "code",
   "execution_count": 71,
   "id": "a35bff0c",
   "metadata": {},
   "outputs": [],
   "source": [
    "def IQR(df,cols,quantiles=[0.25,0.75],seuil=1.5):\n",
    "    Q1 = df[cols].quantile(quantiles[0])\n",
    "    Q3 = df[cols].quantile(quantiles[1])\n",
    "    IQR = Q3 - Q1\n",
    "\n",
    "    return df[~((df[cols] < (Q1 - seuil * IQR)) |(df[cols] > (Q3 + seuil * IQR))).any(axis=1)]"
   ]
  },
  {
   "cell_type": "markdown",
   "id": "028002fc",
   "metadata": {},
   "source": [
    "Variables sur les prix (+ Listing Number) à ne pas vérifier : \n",
    "- 'price'"
   ]
  },
  {
   "cell_type": "code",
   "execution_count": 72,
   "id": "6eb84abe",
   "metadata": {},
   "outputs": [
    {
     "data": {
      "text/plain": [
       "(14019, 23)"
      ]
     },
     "execution_count": 72,
     "metadata": {},
     "output_type": "execute_result"
    }
   ],
   "source": [
    "data.shape"
   ]
  },
  {
   "cell_type": "code",
   "execution_count": 73,
   "id": "2a1b4e47",
   "metadata": {},
   "outputs": [
    {
     "data": {
      "text/plain": [
       "{'numerique': ['price',\n",
       "  'Floor Size',\n",
       "  'Bathrooms',\n",
       "  'Levies',\n",
       "  'Rates and Taxes',\n",
       "  'Bedrooms',\n",
       "  'Kitchens',\n",
       "  'Gardens'],\n",
       " 'categorique': ['name',\n",
       "  'province',\n",
       "  'city',\n",
       "  'address',\n",
       "  'Type of Property',\n",
       "  'Pool',\n",
       "  'Security',\n",
       "  'Pets Allowed',\n",
       "  'Garage'],\n",
       " 'date': [],\n",
       " 'distance': ['Health',\n",
       "  'Food and Entertainment',\n",
       "  'Shopping',\n",
       "  'Sports and Leisure',\n",
       "  'Education',\n",
       "  'Transport and Public Services']}"
      ]
     },
     "execution_count": 73,
     "metadata": {},
     "output_type": "execute_result"
    }
   ],
   "source": [
    "feat_cat = categorisation(data,[\"\"])\n",
    "feat_cat"
   ]
  },
  {
   "cell_type": "code",
   "execution_count": 74,
   "id": "578f9203",
   "metadata": {},
   "outputs": [
    {
     "data": {
      "text/plain": [
       "(13666, 23)"
      ]
     },
     "execution_count": 74,
     "metadata": {},
     "output_type": "execute_result"
    }
   ],
   "source": [
    "to_check = [ 'Bathrooms',\n",
    "  'Levies',\n",
    "  'Rates and Taxes',\n",
    "  'Bedrooms',\n",
    "  'Kitchens',\n",
    "  'Gardens']\n",
    "\n",
    "#data = z_score(data,to_check,1.)\n",
    "data = IQR(data,to_check,quantiles=[0.5,0.95])\n",
    "data.shape"
   ]
  },
  {
   "cell_type": "code",
   "execution_count": 75,
   "id": "43149457",
   "metadata": {},
   "outputs": [],
   "source": [
    "data.to_csv(\"../../Data/Dataset_v1.csv\",sep=\";\",index=False)"
   ]
  },
  {
   "cell_type": "code",
   "execution_count": null,
   "id": "b893d6de",
   "metadata": {},
   "outputs": [],
   "source": []
  }
 ],
 "metadata": {
  "interpreter": {
   "hash": "b54b66dfa7cdbe8a69b3bf148d9797a1fcee399928c1f348c50707ec239ca9b1"
  },
  "kernelspec": {
   "display_name": "Python 3",
   "language": "python",
   "name": "python3"
  },
  "language_info": {
   "codemirror_mode": {
    "name": "ipython",
    "version": 3
   },
   "file_extension": ".py",
   "mimetype": "text/x-python",
   "name": "python",
   "nbconvert_exporter": "python",
   "pygments_lexer": "ipython3",
   "version": "3.8.10"
  }
 },
 "nbformat": 4,
 "nbformat_minor": 5
}

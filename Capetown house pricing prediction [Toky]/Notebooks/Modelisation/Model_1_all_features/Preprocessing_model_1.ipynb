{
 "cells": [
  {
   "cell_type": "code",
   "execution_count": 1,
   "id": "437d4975",
   "metadata": {},
   "outputs": [],
   "source": [
    "import pandas as pd\n",
    "import numpy as np\n",
    "from sklearn import preprocessing"
   ]
  },
  {
   "cell_type": "code",
   "execution_count": 2,
   "id": "7497d1cb",
   "metadata": {},
   "outputs": [],
   "source": [
    "data = pd.read_csv(\"../../../Data/Dataset_splited.csv\")"
   ]
  },
  {
   "cell_type": "markdown",
   "id": "cfefc519",
   "metadata": {},
   "source": [
    "### Get features categorie"
   ]
  },
  {
   "cell_type": "code",
   "execution_count": 3,
   "id": "11beab2b",
   "metadata": {},
   "outputs": [],
   "source": [
    "def categorisation(data,date_cols,target=\"price\"):\n",
    "    distance = []\n",
    "    date = []\n",
    "    numerique = []\n",
    "    categorique = []\n",
    "    for col in data.columns:\n",
    "        if data[col].dtypes == np.object:\n",
    "            try:\n",
    "                if str(type(eval(data[col][data[col].first_valid_index()]))) == \"<class 'list'>\":\n",
    "                    distance.append(col)\n",
    "                elif col in date_cols:\n",
    "                    date.append(col)\n",
    "                else:\n",
    "                    categorique.append(col)\n",
    "            except:\n",
    "                if col in date_cols:\n",
    "                    date.append(col)\n",
    "                else:\n",
    "                    categorique.append(col)\n",
    "                \n",
    "            \n",
    "        else :\n",
    "            if col != target:\n",
    "                numerique.append(col)\n",
    "                \n",
    "    return dict({\"numerique\":numerique,\"categorique\":categorique,\"date\":date,\"distance\":distance})\n",
    "\n",
    "feat_cat = categorisation(data,['listing_date'])"
   ]
  },
  {
   "cell_type": "code",
   "execution_count": 4,
   "id": "5090ea38",
   "metadata": {
    "scrolled": false
   },
   "outputs": [
    {
     "data": {
      "text/plain": [
       "{'numerique': ['bathrooms',\n",
       "  'bedrooms',\n",
       "  'erf_size',\n",
       "  'floor_size',\n",
       "  'garages',\n",
       "  'listing_number',\n",
       "  'pet_friendly',\n",
       "  'garden',\n",
       "  'pool',\n",
       "  'secure_parking',\n",
       "  'parking',\n",
       "  'no_pets_allowed',\n",
       "  'furnished',\n",
       "  'flatlet',\n",
       "  'fibre_internet',\n",
       "  'furnished_(optional)',\n",
       "  'adsl_internet',\n",
       "  'satellite_internet',\n",
       "  'fixed_wimax_internet',\n",
       "  'split'],\n",
       " 'categorique': ['town', 'type_of_property'],\n",
       " 'date': ['listing_date'],\n",
       " 'distance': []}"
      ]
     },
     "execution_count": 4,
     "metadata": {},
     "output_type": "execute_result"
    }
   ],
   "source": [
    "feat_cat"
   ]
  },
  {
   "cell_type": "markdown",
   "id": "af573d61",
   "metadata": {},
   "source": [
    "### Fill by 0 those features (we suppose missing == 0) except 'bathrooms' and 'bedrooms'"
   ]
  },
  {
   "cell_type": "code",
   "execution_count": 5,
   "id": "f8b8b966",
   "metadata": {},
   "outputs": [],
   "source": [
    "_feat = [\n",
    "  'garages',\n",
    "  'pet_friendly',\n",
    "  'garden',\n",
    "  'pool',\n",
    "  'secure_parking',\n",
    "  'parking',\n",
    "  'no_pets_allowed',\n",
    "  'furnished',\n",
    "  'flatlet',\n",
    "  'fibre_internet',\n",
    "  'furnished_(optional)',\n",
    "  'adsl_internet',\n",
    "  'satellite_internet',\n",
    "  'fixed_wimax_internet']"
   ]
  },
  {
   "cell_type": "code",
   "execution_count": 6,
   "id": "648bd1da",
   "metadata": {},
   "outputs": [
    {
     "name": "stdout",
     "output_type": "stream",
     "text": [
      "[ nan  1.   2.   3.   4.   6.   7.   5.  10.  20.   8.   1.5]\n",
      "[nan  1.]\n",
      "[nan  1.]\n",
      "[nan  1.]\n",
      "[nan  2.  1.  6.  4.  8.  3. 10. 15.  5. 12.  9. 11.]\n",
      "[nan  1.  3.  2.  6.  5.  4. 30.  7.  8. 10.  9. 11. 13. 12. 50.]\n",
      "[nan  1.]\n",
      "[nan  1.]\n",
      "[nan  1.]\n",
      "[nan  1.]\n",
      "[nan  1.]\n",
      "[nan  1.]\n",
      "[nan  1.]\n",
      "[nan  1.]\n"
     ]
    }
   ],
   "source": [
    "for c in _feat:\n",
    "    print(data[c].unique())\n",
    "    data[c].fillna(0,inplace=True)"
   ]
  },
  {
   "cell_type": "code",
   "execution_count": 7,
   "id": "901d80ad",
   "metadata": {},
   "outputs": [
    {
     "name": "stdout",
     "output_type": "stream",
     "text": [
      "[ 1.   2.   2.5  5.   4.5  1.5  7.5  3.   4.   3.5 12.   5.5  nan  7.\n",
      "  6.5  6.   0.5 30.   9.  18.  11.  15.   8.   9.5  8.5 10.  25.  13.\n",
      " 14. ]\n",
      "[ 2.   nan  3.   4.   1.   6.   7.   8.   5.  12.   0.5  1.5  9.  30.\n",
      " 11.  16.  15.  10.   2.5  3.5 18.   4.5 13.  33.  14. ]\n"
     ]
    }
   ],
   "source": [
    "for c in ['bathrooms','bedrooms']:\n",
    "    print(data[c].unique())\n",
    "    data[c].fillna(1,inplace=True)"
   ]
  },
  {
   "cell_type": "markdown",
   "id": "105b2e8a",
   "metadata": {},
   "source": [
    "### the rest fill by median"
   ]
  },
  {
   "cell_type": "code",
   "execution_count": 8,
   "id": "688ddc3a",
   "metadata": {},
   "outputs": [],
   "source": [
    "rest_of_num = ['erf_size','floor_size']"
   ]
  },
  {
   "cell_type": "code",
   "execution_count": 9,
   "id": "57d8af85",
   "metadata": {},
   "outputs": [],
   "source": [
    "data[rest_of_num] = data[rest_of_num].fillna(data[rest_of_num].median())"
   ]
  },
  {
   "cell_type": "markdown",
   "id": "96b6cb13",
   "metadata": {},
   "source": [
    "### Listing date preprocessing\n",
    "Get year"
   ]
  },
  {
   "cell_type": "code",
   "execution_count": 10,
   "id": "4d5ac980",
   "metadata": {},
   "outputs": [],
   "source": [
    "data['listing_date'] = [v.year for v in pd.to_datetime(data['listing_date'])]"
   ]
  },
  {
   "cell_type": "code",
   "execution_count": 11,
   "id": "7a321d3c",
   "metadata": {},
   "outputs": [
    {
     "data": {
      "text/plain": [
       "array([2020, 2019, 2018, 2017, 2016, 2015])"
      ]
     },
     "execution_count": 11,
     "metadata": {},
     "output_type": "execute_result"
    }
   ],
   "source": [
    "data['listing_date'].unique()"
   ]
  },
  {
   "cell_type": "markdown",
   "id": "ba3f0318",
   "metadata": {},
   "source": [
    "### target mean ordering encoding of categorical value \"type_of_property\" based on train dataset"
   ]
  },
  {
   "cell_type": "code",
   "execution_count": 12,
   "id": "d2448258",
   "metadata": {},
   "outputs": [],
   "source": [
    "def encode(frame, feature):\n",
    "    ordering = pd.DataFrame()\n",
    "    ordering['val'] = frame[feature].unique()\n",
    "    ordering.index = ordering.val\n",
    "    ordering['spmean'] = frame[[feature, 'price']].groupby(feature).mean()['price']\n",
    "    #print(frame[[feature, 'a']].groupby(feature).mean()['a'])\n",
    "    ordering = ordering.sort_values('spmean')\n",
    "    ordering['ordering'] = range(1, ordering.shape[0]+1)\n",
    "    #print(ordering)\n",
    "    ordering = ordering['ordering'].to_dict()\n",
    "    #print(\"Encoding results : \",ordering)\n",
    "    \n",
    "    for cat, o in ordering.items():\n",
    "        frame.loc[frame[feature] == cat, feature+'_E'] = o\n",
    "        \n",
    "    return ordering\n",
    "\n",
    "#tmp = pd.DataFrame({\"a\":[1,2,5,10],\"b\":[\"1\",\"1\",\"o\",\"o\"]})\n",
    "\n",
    "qual_encoded = []\n",
    "train = data[data[\"split\"]==0].copy()\n",
    "for q in ['type_of_property']:  \n",
    "    qual_encoded.append(encode(train, q))"
   ]
  },
  {
   "cell_type": "markdown",
   "id": "124931f8",
   "metadata": {},
   "source": [
    "We can see it follow the distribution order from boxplot in advanced EDA\n",
    "\n",
    "#### Then encode the entire dataset"
   ]
  },
  {
   "cell_type": "code",
   "execution_count": 13,
   "id": "13709b12",
   "metadata": {},
   "outputs": [],
   "source": [
    "data[\"type_of_property\"] = data[\"type_of_property\"].replace(qual_encoded[0])\n"
   ]
  },
  {
   "cell_type": "code",
   "execution_count": 14,
   "id": "c4303d9c",
   "metadata": {},
   "outputs": [
    {
     "data": {
      "text/plain": [
       "array([1, 2, 3])"
      ]
     },
     "execution_count": 14,
     "metadata": {},
     "output_type": "execute_result"
    }
   ],
   "source": [
    "data[\"type_of_property\"].unique()"
   ]
  },
  {
   "cell_type": "markdown",
   "id": "f9abbe16",
   "metadata": {},
   "source": [
    "### Town feature preprocess -> get only the district (quartier)"
   ]
  },
  {
   "cell_type": "code",
   "execution_count": 15,
   "id": "00b18a5d",
   "metadata": {},
   "outputs": [],
   "source": [
    "series = []\n",
    "for v in data[\"town\"]:\n",
    "    v = v.split(',')\n",
    "    v.pop()\n",
    "    series.append(v.pop())\n",
    "    \n",
    "data[\"town\"] = series"
   ]
  },
  {
   "cell_type": "markdown",
   "id": "0e9e85e4",
   "metadata": {},
   "source": [
    "target mean ordering encoding of categorical value \"town\" based on all dataset"
   ]
  },
  {
   "cell_type": "code",
   "execution_count": 16,
   "id": "e3da9448",
   "metadata": {},
   "outputs": [],
   "source": [
    "def encode(frame, feature):\n",
    "    ordering = pd.DataFrame()\n",
    "    ordering['val'] = frame[feature].unique()\n",
    "    ordering.index = ordering.val\n",
    "    ordering['spmean'] = frame[[feature, 'price']].groupby(feature).mean()['price']\n",
    "    #print(frame[[feature, 'a']].groupby(feature).mean()['a'])\n",
    "    ordering = ordering.sort_values('spmean')\n",
    "    ordering['ordering'] = range(1, ordering.shape[0]+1)\n",
    "    #print(ordering)\n",
    "    ordering = ordering['ordering'].to_dict()\n",
    "    #print(\"Encoding results : \",ordering)\n",
    "    \n",
    "    #for cat, o in ordering.items():\n",
    "        #frame.loc[frame[feature] == cat, feature+'_E'] = o\n",
    "        \n",
    "    return ordering\n",
    "\n",
    "#tmp = pd.DataFrame({\"a\":[1,2,5,10],\"b\":[\"1\",\"1\",\"o\",\"o\"]})\n",
    "\n",
    "qual_encoded = []\n",
    "for q in ['town']:  \n",
    "    qual_encoded.append(encode(data, q))"
   ]
  },
  {
   "cell_type": "code",
   "execution_count": 17,
   "id": "71ca432b",
   "metadata": {},
   "outputs": [],
   "source": [
    "data[\"town\"] = data[\"town\"].replace(qual_encoded[0])\n"
   ]
  },
  {
   "cell_type": "code",
   "execution_count": 18,
   "id": "daea0941",
   "metadata": {},
   "outputs": [
    {
     "data": {
      "text/plain": [
       "array([178, 236, 142, 152,  56, 246, 134, 179, 171, 150,  37, 186, 222,\n",
       "       176, 197, 210, 243, 164, 191, 192, 105, 162, 235, 183,  99, 204,\n",
       "       181,  67, 112, 175, 126,  65, 185, 102, 207, 166,  81, 147,  86,\n",
       "        80, 221,  45, 199, 124, 116, 120, 198,  83, 115, 203, 193, 111,\n",
       "        34, 177,  71, 114, 145, 117, 189, 122, 211,  76, 184, 234,  49,\n",
       "       242, 223, 224,  10, 249,  14,  82,  31, 100, 214, 169, 188, 195,\n",
       "        70, 156, 133, 228,  21,  79, 201, 101, 244, 241, 196, 160, 200,\n",
       "        98, 213, 158,  66,  91, 130,  50,  38, 194, 216, 232, 208, 155,\n",
       "       225, 174, 247, 238,   3, 180, 231, 227,  62,  20,  85, 136, 190,\n",
       "       146, 151, 128,  78,  95, 205, 170, 106, 245, 159,  92,  43,  29,\n",
       "       135,  17,  94,  48,  12, 113, 209, 240, 123, 143,  54, 144,  15,\n",
       "       104, 230,  53, 239,  41, 157,  63,  47, 154,  75, 149,  96,  13,\n",
       "       173,  59, 220,   2,  58,  55, 182, 163, 165, 132, 118, 141, 148,\n",
       "       119,  57,  19, 217,  40, 237, 110,  26,  72, 215,   8,  51, 161,\n",
       "       202, 248, 139,  52, 138,  64, 107, 233, 109, 129,  77,  74,  11,\n",
       "        68, 153,  27, 172,  33,  42, 168,  30,   1,  73,  36,  44, 226,\n",
       "       140,  93, 206, 121,  84,  60,  61,  18,  22,  87,  97, 137,  32,\n",
       "        35, 108,  23,  25,  16,  89,  46,   9, 212, 125, 229,  88,   6,\n",
       "       103, 131,  28,   7, 219, 167, 187,  39,  69,  90,   4, 218,  24,\n",
       "       127,   5])"
      ]
     },
     "execution_count": 18,
     "metadata": {},
     "output_type": "execute_result"
    }
   ],
   "source": [
    "data[\"town\"].unique()"
   ]
  },
  {
   "cell_type": "markdown",
   "id": "806a8c7b",
   "metadata": {},
   "source": [
    "#### drop listing_number 'cause just index value of property "
   ]
  },
  {
   "cell_type": "code",
   "execution_count": 19,
   "id": "ded11c39",
   "metadata": {},
   "outputs": [],
   "source": [
    "data = data.drop(['listing_number'],axis=1)"
   ]
  },
  {
   "cell_type": "markdown",
   "id": "8c43d4f1",
   "metadata": {},
   "source": [
    "### scale continous/discrete numeric features "
   ]
  },
  {
   "cell_type": "code",
   "execution_count": 20,
   "id": "5a3a5e40",
   "metadata": {},
   "outputs": [
    {
     "data": {
      "text/html": [
       "<div>\n",
       "<style scoped>\n",
       "    .dataframe tbody tr th:only-of-type {\n",
       "        vertical-align: middle;\n",
       "    }\n",
       "\n",
       "    .dataframe tbody tr th {\n",
       "        vertical-align: top;\n",
       "    }\n",
       "\n",
       "    .dataframe thead th {\n",
       "        text-align: right;\n",
       "    }\n",
       "</style>\n",
       "<table border=\"1\" class=\"dataframe\">\n",
       "  <thead>\n",
       "    <tr style=\"text-align: right;\">\n",
       "      <th></th>\n",
       "      <th>bathrooms</th>\n",
       "      <th>bedrooms</th>\n",
       "      <th>erf_size</th>\n",
       "      <th>floor_size</th>\n",
       "      <th>garages</th>\n",
       "      <th>secure_parking</th>\n",
       "      <th>parking</th>\n",
       "    </tr>\n",
       "  </thead>\n",
       "  <tbody>\n",
       "    <tr>\n",
       "      <th>0</th>\n",
       "      <td>0.000000</td>\n",
       "      <td>0.693147</td>\n",
       "      <td>5.894403</td>\n",
       "      <td>4.430817</td>\n",
       "      <td>-1.000000</td>\n",
       "      <td>-1.0</td>\n",
       "      <td>-1.0</td>\n",
       "    </tr>\n",
       "    <tr>\n",
       "      <th>1</th>\n",
       "      <td>0.693147</td>\n",
       "      <td>0.693147</td>\n",
       "      <td>5.894403</td>\n",
       "      <td>4.574711</td>\n",
       "      <td>-1.000000</td>\n",
       "      <td>-1.0</td>\n",
       "      <td>-1.0</td>\n",
       "    </tr>\n",
       "    <tr>\n",
       "      <th>2</th>\n",
       "      <td>0.000000</td>\n",
       "      <td>0.693147</td>\n",
       "      <td>5.894403</td>\n",
       "      <td>4.007333</td>\n",
       "      <td>-1.000000</td>\n",
       "      <td>-1.0</td>\n",
       "      <td>0.0</td>\n",
       "    </tr>\n",
       "    <tr>\n",
       "      <th>3</th>\n",
       "      <td>0.000000</td>\n",
       "      <td>0.000000</td>\n",
       "      <td>5.894403</td>\n",
       "      <td>3.637586</td>\n",
       "      <td>-1.000000</td>\n",
       "      <td>-1.0</td>\n",
       "      <td>-1.0</td>\n",
       "    </tr>\n",
       "    <tr>\n",
       "      <th>4</th>\n",
       "      <td>0.000000</td>\n",
       "      <td>0.693147</td>\n",
       "      <td>5.298317</td>\n",
       "      <td>4.430817</td>\n",
       "      <td>0.000000</td>\n",
       "      <td>-1.0</td>\n",
       "      <td>0.0</td>\n",
       "    </tr>\n",
       "    <tr>\n",
       "      <th>...</th>\n",
       "      <td>...</td>\n",
       "      <td>...</td>\n",
       "      <td>...</td>\n",
       "      <td>...</td>\n",
       "      <td>...</td>\n",
       "      <td>...</td>\n",
       "      <td>...</td>\n",
       "    </tr>\n",
       "    <tr>\n",
       "      <th>7841</th>\n",
       "      <td>0.693147</td>\n",
       "      <td>1.098612</td>\n",
       "      <td>5.894403</td>\n",
       "      <td>4.812184</td>\n",
       "      <td>0.693147</td>\n",
       "      <td>-1.0</td>\n",
       "      <td>-1.0</td>\n",
       "    </tr>\n",
       "    <tr>\n",
       "      <th>7842</th>\n",
       "      <td>0.000000</td>\n",
       "      <td>0.693147</td>\n",
       "      <td>8.727940</td>\n",
       "      <td>4.007333</td>\n",
       "      <td>-1.000000</td>\n",
       "      <td>-1.0</td>\n",
       "      <td>0.0</td>\n",
       "    </tr>\n",
       "    <tr>\n",
       "      <th>7843</th>\n",
       "      <td>0.000000</td>\n",
       "      <td>0.000000</td>\n",
       "      <td>5.894403</td>\n",
       "      <td>4.430817</td>\n",
       "      <td>-1.000000</td>\n",
       "      <td>-1.0</td>\n",
       "      <td>-1.0</td>\n",
       "    </tr>\n",
       "    <tr>\n",
       "      <th>7844</th>\n",
       "      <td>1.386294</td>\n",
       "      <td>1.609438</td>\n",
       "      <td>7.600902</td>\n",
       "      <td>5.942799</td>\n",
       "      <td>0.693147</td>\n",
       "      <td>-1.0</td>\n",
       "      <td>-1.0</td>\n",
       "    </tr>\n",
       "    <tr>\n",
       "      <th>7845</th>\n",
       "      <td>0.000000</td>\n",
       "      <td>0.693147</td>\n",
       "      <td>4.204693</td>\n",
       "      <td>4.430817</td>\n",
       "      <td>-1.000000</td>\n",
       "      <td>-1.0</td>\n",
       "      <td>-1.0</td>\n",
       "    </tr>\n",
       "  </tbody>\n",
       "</table>\n",
       "<p>7846 rows × 7 columns</p>\n",
       "</div>"
      ],
      "text/plain": [
       "      bathrooms  bedrooms  erf_size  floor_size   garages  secure_parking  \\\n",
       "0      0.000000  0.693147  5.894403    4.430817 -1.000000            -1.0   \n",
       "1      0.693147  0.693147  5.894403    4.574711 -1.000000            -1.0   \n",
       "2      0.000000  0.693147  5.894403    4.007333 -1.000000            -1.0   \n",
       "3      0.000000  0.000000  5.894403    3.637586 -1.000000            -1.0   \n",
       "4      0.000000  0.693147  5.298317    4.430817  0.000000            -1.0   \n",
       "...         ...       ...       ...         ...       ...             ...   \n",
       "7841   0.693147  1.098612  5.894403    4.812184  0.693147            -1.0   \n",
       "7842   0.000000  0.693147  8.727940    4.007333 -1.000000            -1.0   \n",
       "7843   0.000000  0.000000  5.894403    4.430817 -1.000000            -1.0   \n",
       "7844   1.386294  1.609438  7.600902    5.942799  0.693147            -1.0   \n",
       "7845   0.000000  0.693147  4.204693    4.430817 -1.000000            -1.0   \n",
       "\n",
       "      parking  \n",
       "0        -1.0  \n",
       "1        -1.0  \n",
       "2         0.0  \n",
       "3        -1.0  \n",
       "4         0.0  \n",
       "...       ...  \n",
       "7841     -1.0  \n",
       "7842      0.0  \n",
       "7843     -1.0  \n",
       "7844     -1.0  \n",
       "7845     -1.0  \n",
       "\n",
       "[7846 rows x 7 columns]"
      ]
     },
     "execution_count": 20,
     "metadata": {},
     "output_type": "execute_result"
    }
   ],
   "source": [
    "to_scale = ['bathrooms',  'bedrooms',  'erf_size',  'floor_size',  'garages',  'secure_parking',  'parking'] \n",
    "\n",
    "# Get mean and deviation of train\n",
    "#mean = data[data[\"split\"]==0][to_scale].mean()\n",
    "#std = data[data[\"split\"]==0][to_scale].std()\n",
    "\n",
    "#data[to_scale] = data[to_scale]-mean\n",
    "#data[to_scale] = data[to_scale]/std\n",
    "\n",
    "#log transform\n",
    "data[to_scale]=np.log(data[to_scale])\n",
    "data[to_scale]=data[to_scale].replace(-np.inf,-1)\n",
    "data[to_scale]"
   ]
  },
  {
   "cell_type": "code",
   "execution_count": 21,
   "id": "c9190a12",
   "metadata": {},
   "outputs": [
    {
     "data": {
      "text/plain": [
       "bathrooms               0\n",
       "bedrooms                0\n",
       "erf_size                0\n",
       "floor_size              0\n",
       "garages                 0\n",
       "listing_date            0\n",
       "pet_friendly            0\n",
       "price                   0\n",
       "town                    0\n",
       "type_of_property        0\n",
       "garden                  0\n",
       "pool                    0\n",
       "secure_parking          0\n",
       "parking                 0\n",
       "no_pets_allowed         0\n",
       "furnished               0\n",
       "flatlet                 0\n",
       "fibre_internet          0\n",
       "furnished_(optional)    0\n",
       "adsl_internet           0\n",
       "satellite_internet      0\n",
       "fixed_wimax_internet    0\n",
       "split                   0\n",
       "dtype: int64"
      ]
     },
     "execution_count": 21,
     "metadata": {},
     "output_type": "execute_result"
    }
   ],
   "source": [
    "data.isna().sum()"
   ]
  },
  {
   "cell_type": "markdown",
   "id": "7f97f671",
   "metadata": {},
   "source": [
    "### data saving"
   ]
  },
  {
   "cell_type": "code",
   "execution_count": 22,
   "id": "27c48905",
   "metadata": {},
   "outputs": [],
   "source": [
    "data.to_csv(\"../../../Data/Dataset_splited_v1.csv\",index=False)"
   ]
  },
  {
   "cell_type": "code",
   "execution_count": null,
   "id": "ce669952",
   "metadata": {},
   "outputs": [],
   "source": []
  }
 ],
 "metadata": {
  "kernelspec": {
   "display_name": "Python 3",
   "language": "python",
   "name": "python3"
  },
  "language_info": {
   "codemirror_mode": {
    "name": "ipython",
    "version": 3
   },
   "file_extension": ".py",
   "mimetype": "text/x-python",
   "name": "python",
   "nbconvert_exporter": "python",
   "pygments_lexer": "ipython3",
   "version": "3.8.10"
  }
 },
 "nbformat": 4,
 "nbformat_minor": 5
}

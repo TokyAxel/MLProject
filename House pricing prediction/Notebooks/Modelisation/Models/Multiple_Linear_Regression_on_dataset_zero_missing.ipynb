{
 "cells": [
  {
   "cell_type": "markdown",
   "source": [
    "# Multiple Linear Regression"
   ],
   "metadata": {}
  },
  {
   "cell_type": "code",
   "execution_count": 134,
   "source": [
    "from sklearn import linear_model\r\n",
    "from sklearn.metrics import mean_squared_error\r\n",
    "from sklearn.metrics import r2_score\r\n",
    "import numpy as np\r\n",
    "import pandas as pd\r\n",
    "import seaborn as sns\r\n",
    "import matplotlib.pyplot as plt"
   ],
   "outputs": [],
   "metadata": {}
  },
  {
   "cell_type": "code",
   "execution_count": 135,
   "source": [
    "data = pd.read_csv(\"../../../Data/Dataset_zero_numeric_missing.csv\",sep=\";\")"
   ],
   "outputs": [],
   "metadata": {}
  },
  {
   "cell_type": "code",
   "execution_count": 136,
   "source": [
    "data.shape"
   ],
   "outputs": [
    {
     "output_type": "execute_result",
     "data": {
      "text/plain": [
       "(9445, 11)"
      ]
     },
     "metadata": {},
     "execution_count": 136
    }
   ],
   "metadata": {}
  },
  {
   "cell_type": "markdown",
   "source": [
    "### Get feature categories"
   ],
   "metadata": {}
  },
  {
   "cell_type": "code",
   "execution_count": 137,
   "source": [
    "def categorisation(data,target=\"price\"):\r\n",
    "    distance = []\r\n",
    "    numerique = []\r\n",
    "    categorique = []\r\n",
    "    for col in data.columns:\r\n",
    "        if data[col].dtypes == np.object:\r\n",
    "            try:\r\n",
    "                if str(type(eval(data[col][data[col].first_valid_index()]))) == \"<class 'list'>\":\r\n",
    "                    distance.append(col)\r\n",
    "                else:\r\n",
    "                    categorique.append(col)\r\n",
    "            except:\r\n",
    "                categorique.append(col)\r\n",
    "                \r\n",
    "            \r\n",
    "        else :\r\n",
    "            if col != target:\r\n",
    "                numerique.append(col)\r\n",
    "                \r\n",
    "    return dict({\"numerique\":numerique,\"categorique\":categorique,\"distance\":distance})\r\n",
    "\r\n",
    "feat_cat = categorisation(data)\r\n",
    "\r\n",
    "feat_cat"
   ],
   "outputs": [
    {
     "output_type": "stream",
     "name": "stderr",
     "text": [
      "C:\\Users\\USER\\AppData\\Local\\Temp/ipykernel_8288/3923361036.py:6: DeprecationWarning: `np.object` is a deprecated alias for the builtin `object`. To silence this warning, use `object` by itself. Doing this will not modify any behavior and is safe. \n",
      "Deprecated in NumPy 1.20; for more details and guidance: https://numpy.org/devdocs/release/1.20.0-notes.html#deprecations\n",
      "  if data[col].dtypes == np.object:\n"
     ]
    },
    {
     "output_type": "execute_result",
     "data": {
      "text/plain": [
       "{'numerique': ['bathrooms', 'bedrooms', 'sampling'],\n",
       " 'categorique': ['name', 'province', 'city', 'address', 'type_of_property'],\n",
       " 'distance': ['education', 'transport_and_public_services']}"
      ]
     },
     "metadata": {},
     "execution_count": 137
    }
   ],
   "metadata": {}
  },
  {
   "cell_type": "markdown",
   "source": [
    "### Dropping name, address and city because there is high cardinality (cf EDA)"
   ],
   "metadata": {}
  },
  {
   "cell_type": "code",
   "execution_count": 138,
   "source": [
    "data= data.drop(['name','address','city'],axis=1)\r\n",
    "data.columns"
   ],
   "outputs": [
    {
     "output_type": "execute_result",
     "data": {
      "text/plain": [
       "Index(['price', 'province', 'type_of_property', 'bathrooms', 'bedrooms',\n",
       "       'education', 'transport_and_public_services', 'sampling'],\n",
       "      dtype='object')"
      ]
     },
     "metadata": {},
     "execution_count": 138
    }
   ],
   "metadata": {}
  },
  {
   "cell_type": "markdown",
   "source": [
    "### Transform distance features to lenght of list"
   ],
   "metadata": {}
  },
  {
   "cell_type": "code",
   "execution_count": 139,
   "source": [
    "class transfo_distance:\r\n",
    "    def __init__(self,data,features=None):\r\n",
    "        self.data = data\r\n",
    "        self.method = None\r\n",
    "        ### Get features\r\n",
    "        self.distance=[]\r\n",
    "        if features is None:\r\n",
    "            for col in data.columns:\r\n",
    "                if data[col].dtypes == np.object:\r\n",
    "                    try:\r\n",
    "                        if str(type(eval(data[col][data[col].first_valid_index()]))) == \"<class 'list'>\":\r\n",
    "                            self.distance.append(col)\r\n",
    "                    except:\r\n",
    "                        pass\r\n",
    "        else:\r\n",
    "            distance=features\r\n",
    "        \r\n",
    "        ###Transformations : \"mean\", \"median\", \"max\", \"min\", \"len\"\r\n",
    "    def transformation(self,method):\r\n",
    "        self.method = method\r\n",
    "        for feat in self.distance:\r\n",
    "            serie = []\r\n",
    "            for i in data[feat]:\r\n",
    "                if str(i) != \"nan\":\r\n",
    "                    serie.append(self.checker(i))\r\n",
    "                else :\r\n",
    "                    serie.append(np.nan)\r\n",
    "            self.data[feat] = serie\r\n",
    "            \r\n",
    "    def checker(self,value):\r\n",
    "        if self.method==\"mean\":\r\n",
    "            return (np.array(eval(value))).mean()\r\n",
    "        elif self.method ==\"median\":\r\n",
    "            return (np.array(eval(value))).mediane()\r\n",
    "        elif self.method ==\"min\":\r\n",
    "            return (np.array(eval(value))).min()\r\n",
    "        elif self.method ==\"max\":\r\n",
    "            return (np.array(eval(value))).max()\r\n",
    "        elif self.method ==\"len\":\r\n",
    "            return float(len(eval(value)))\r\n",
    "        else:\r\n",
    "            raise('choose correct method : \"mean\", \"median\", \"max\", \"min\", \"len\"')\r\n",
    "    \r\n",
    "    def get_data(self,method=\"mean\"):\r\n",
    "        self.transformation(method)\r\n",
    "        return self.data"
   ],
   "outputs": [],
   "metadata": {}
  },
  {
   "cell_type": "code",
   "execution_count": 140,
   "source": [
    "trans_dist = transfo_distance(data)\r\n",
    "data = trans_dist.get_data(method=\"len\")\r\n",
    "data.shape"
   ],
   "outputs": [
    {
     "output_type": "stream",
     "name": "stderr",
     "text": [
      "C:\\Users\\USER\\AppData\\Local\\Temp/ipykernel_8288/2201901570.py:9: DeprecationWarning: `np.object` is a deprecated alias for the builtin `object`. To silence this warning, use `object` by itself. Doing this will not modify any behavior and is safe. \n",
      "Deprecated in NumPy 1.20; for more details and guidance: https://numpy.org/devdocs/release/1.20.0-notes.html#deprecations\n",
      "  if data[col].dtypes == np.object:\n"
     ]
    },
    {
     "output_type": "execute_result",
     "data": {
      "text/plain": [
       "(9445, 8)"
      ]
     },
     "metadata": {},
     "execution_count": 140
    }
   ],
   "metadata": {}
  },
  {
   "cell_type": "markdown",
   "source": [
    "### Check length of distances vs price"
   ],
   "metadata": {}
  },
  {
   "cell_type": "code",
   "execution_count": null,
   "source": [
    "def pairplot(x, y, **kwargs):\r\n",
    "    ax = plt.gca()\r\n",
    "    ts = pd.DataFrame({'time': x, 'val': y})\r\n",
    "    ts = ts.groupby('time').mean()\r\n",
    "    ts.plot(ax=ax)\r\n",
    "    plt.xticks(rotation=90)\r\n",
    "    \r\n",
    "feats = feat_cat[\"distance\"]\r\n",
    "f = pd.melt(data, id_vars=['price'], value_vars=feats)\r\n",
    "g = sns.FacetGrid(f, col=\"variable\",  col_wrap=2, sharex=False, sharey=False, size=6)\r\n",
    "g = g.map(pairplot, \"value\", \"price\")"
   ],
   "outputs": [],
   "metadata": {}
  },
  {
   "cell_type": "code",
   "execution_count": 141,
   "source": [
    "data= data[~(data['type_of_property'] == 'Vacant Land / Plot')]\r\n",
    "data.shape"
   ],
   "outputs": [
    {
     "output_type": "execute_result",
     "data": {
      "text/plain": [
       "(9444, 8)"
      ]
     },
     "metadata": {},
     "execution_count": 141
    }
   ],
   "metadata": {}
  },
  {
   "cell_type": "code",
   "execution_count": null,
   "source": [
    "feat_cat = categorisation(data)\r\n",
    "categoric_f = feat_cat['categorique']\r\n",
    "\r\n",
    "def boxplot(x, y, **kwargs):\r\n",
    "    sns.boxplot(x=x, y=y)\r\n",
    "    x=plt.xticks(rotation=90)\r\n",
    "f = pd.melt(data, id_vars=['price'], value_vars=categoric_f)\r\n",
    "g = sns.FacetGrid(f, col=\"variable\",  col_wrap=2, sharex=False, sharey=False, size=5)\r\n",
    "g = g.map(boxplot, \"value\", \"price\")"
   ],
   "outputs": [],
   "metadata": {}
  },
  {
   "cell_type": "markdown",
   "source": [
    "### Transform categorical data using dummies"
   ],
   "metadata": {}
  },
  {
   "cell_type": "code",
   "execution_count": 142,
   "source": [
    "data= pd.get_dummies(data)\r\n",
    "\r\n",
    "data.columns"
   ],
   "outputs": [
    {
     "output_type": "execute_result",
     "data": {
      "text/plain": [
       "Index(['price', 'bathrooms', 'bedrooms', 'education',\n",
       "       'transport_and_public_services', 'sampling', 'province_eastern-cape',\n",
       "       'province_free-state', 'province_gauteng', 'province_kwazulu-natal',\n",
       "       'province_limpopo', 'province_mpumalanga', 'province_north-west',\n",
       "       'province_northern-cape', 'province_western-cape',\n",
       "       'type_of_property_Apartment / Flat', 'type_of_property_House',\n",
       "       'type_of_property_Townhouse'],\n",
       "      dtype='object')"
      ]
     },
     "metadata": {},
     "execution_count": 142
    }
   ],
   "metadata": {}
  },
  {
   "cell_type": "markdown",
   "source": [
    "### Transform categorical data using label encoding"
   ],
   "metadata": {}
  },
  {
   "cell_type": "code",
   "execution_count": null,
   "source": [
    "def label_encoding(data,labels):\r\n",
    "    for label in labels:\r\n",
    "        values= data[label].unique()\r\n",
    "        for value in values:\r\n",
    "            code= len(data[data[label]==value])\r\n",
    "            data.loc[data[label]==value,label]=code\r\n",
    "    return data\r\n",
    "\r\n",
    "feat_cat = categorisation(data)\r\n",
    "categoric_f = feat_cat['categorique']\r\n",
    "\r\n",
    "data= label_encoding(data,feat_cat['categorique'])\r\n",
    "\r\n",
    "data.head()\r\n"
   ],
   "outputs": [],
   "metadata": {}
  },
  {
   "cell_type": "markdown",
   "source": [
    "### Target encoding to transform categorical data"
   ],
   "metadata": {}
  },
  {
   "cell_type": "code",
   "execution_count": null,
   "source": [
    "def encode(frame, feature):\r\n",
    "    ordering = pd.DataFrame()\r\n",
    "    ordering['val'] = frame[feature].unique()\r\n",
    "    ordering.index = ordering.val\r\n",
    "    ordering['spmean'] = frame[[feature, 'price']].groupby(feature).mean()['price']\r\n",
    "    #print(frame[[feature, 'a']].groupby(feature).mean()['a'])\r\n",
    "    ordering = ordering.sort_values('spmean')\r\n",
    "    ordering['ordering'] = range(1, ordering.shape[0]+1)\r\n",
    "    #print(ordering)\r\n",
    "    ordering = ordering['ordering'].to_dict()\r\n",
    "    #print(ordering)\r\n",
    "    \r\n",
    "    for cat, o in ordering.items():\r\n",
    "        frame.loc[frame[feature] == cat, feature+'_E'] = o"
   ],
   "outputs": [],
   "metadata": {}
  },
  {
   "cell_type": "code",
   "execution_count": null,
   "source": [
    "qual_encoded = []\r\n",
    "for q in feat_cat[\"categorique\"]:  \r\n",
    "    encode(data, q)\r\n",
    "    qual_encoded.append(q+'_E')\r\n",
    "print(qual_encoded)"
   ],
   "outputs": [],
   "metadata": {}
  },
  {
   "cell_type": "markdown",
   "source": [
    "### Sampling"
   ],
   "metadata": {}
  },
  {
   "cell_type": "code",
   "execution_count": 143,
   "source": [
    "def split_data(data,target,col=\"sampling\",features_to_keep=None):\r\n",
    "    if features_to_keep is not None :\r\n",
    "        features_to_keep = features_to_keep + [target]\r\n",
    "        data = data[features_to_keep]\r\n",
    "        \r\n",
    "    unique = data[\"sampling\"].unique()\r\n",
    "    for i, v in enumerate(unique):\r\n",
    "        if v == 1 :\r\n",
    "            data_train = data[data[col]==v]\r\n",
    "            y_train = data_train[target]\r\n",
    "            X_train = data_train.drop([target,\"sampling\"],axis=1)\r\n",
    "            print(\"train shape :\",X_train.shape)\r\n",
    "        elif v == 2 :\r\n",
    "            data_val = data[data[col]==v]\r\n",
    "            y_val = data_val[target]\r\n",
    "            X_val = data_val.drop([target,\"sampling\"],axis=1)\r\n",
    "            print(\"val shape :\",X_val.shape)\r\n",
    "        elif v == 3 :\r\n",
    "            data_test = data[data[col]==v]\r\n",
    "            y_test = data_test[target]\r\n",
    "            X_test = data_test.drop([target,\"sampling\"],axis=1)\r\n",
    "            print(\"test shape :\",X_test.shape)\r\n",
    "    \r\n",
    "            \r\n",
    "    return X_train, np.log(y_train), X_val, np.log(y_val), X_test, np.log(y_test)"
   ],
   "outputs": [],
   "metadata": {}
  },
  {
   "cell_type": "code",
   "execution_count": 144,
   "source": [
    "X_train, y_train, X_val, y_val, X_test, y_test = split_data(data,\"price\")\r\n",
    "data.shape"
   ],
   "outputs": [
    {
     "output_type": "stream",
     "name": "stdout",
     "text": [
      "train shape : (6571, 16)\n",
      "val shape : (1465, 16)\n",
      "test shape : (1408, 16)\n"
     ]
    },
    {
     "output_type": "execute_result",
     "data": {
      "text/plain": [
       "(9444, 18)"
      ]
     },
     "metadata": {},
     "execution_count": 144
    }
   ],
   "metadata": {}
  },
  {
   "cell_type": "markdown",
   "source": [
    "## Using Multipe Linear Regression \r\n",
    "\r\n",
    "https://scikit-learn.org/stable/modules/generated/sklearn.linear_model.LinearRegression.html"
   ],
   "metadata": {}
  },
  {
   "cell_type": "code",
   "execution_count": 145,
   "source": [
    "MLR = linear_model.LinearRegression()\r\n",
    "MLR.fit(X_train,y_train)"
   ],
   "outputs": [
    {
     "output_type": "execute_result",
     "data": {
      "text/plain": [
       "LinearRegression()"
      ]
     },
     "metadata": {},
     "execution_count": 145
    }
   ],
   "metadata": {}
  },
  {
   "cell_type": "code",
   "execution_count": 146,
   "source": [
    "y_prediction =  MLR.predict(X_val)\r\n",
    "y_prediction"
   ],
   "outputs": [
    {
     "output_type": "execute_result",
     "data": {
      "text/plain": [
       "array([13.37328227, 14.41968068, 15.50667346, ..., 14.17716729,\n",
       "       15.34933505, 14.24985358])"
      ]
     },
     "metadata": {},
     "execution_count": 146
    }
   ],
   "metadata": {}
  },
  {
   "cell_type": "code",
   "execution_count": 147,
   "source": [
    "rmse = np.sqrt(mean_squared_error(y_val, y_prediction))\r\n",
    "print(\"The mean squared error (MSE) on test set: {:.4f}\".format(rmse))\r\n",
    "\r\n",
    "score=r2_score(y_val,y_prediction)\r\n",
    "print('r2 socre is ',score)"
   ],
   "outputs": [
    {
     "output_type": "stream",
     "name": "stdout",
     "text": [
      "The mean squared error (MSE) on test set: 0.4786\n",
      "r2 socre is  0.6389365779172504\n"
     ]
    }
   ],
   "metadata": {}
  },
  {
   "cell_type": "code",
   "execution_count": null,
   "source": [],
   "outputs": [],
   "metadata": {}
  }
 ],
 "metadata": {
  "orig_nbformat": 4,
  "language_info": {
   "name": "python",
   "version": "3.9.6",
   "mimetype": "text/x-python",
   "codemirror_mode": {
    "name": "ipython",
    "version": 3
   },
   "pygments_lexer": "ipython3",
   "nbconvert_exporter": "python",
   "file_extension": ".py"
  },
  "kernelspec": {
   "name": "python3",
   "display_name": "Python 3.9.1 64-bit ('deepai': conda)"
  },
  "interpreter": {
   "hash": "b54b66dfa7cdbe8a69b3bf148d9797a1fcee399928c1f348c50707ec239ca9b1"
  }
 },
 "nbformat": 4,
 "nbformat_minor": 2
}
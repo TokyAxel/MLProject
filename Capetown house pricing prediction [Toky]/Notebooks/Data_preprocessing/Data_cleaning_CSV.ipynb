{
 "cells": [
  {
   "cell_type": "code",
   "execution_count": 1,
   "id": "b4dd92e6",
   "metadata": {},
   "outputs": [],
   "source": [
    "import pandas as pd\n",
    "import numpy as np\n",
    "import re"
   ]
  },
  {
   "cell_type": "code",
   "execution_count": 2,
   "id": "26d8e844",
   "metadata": {},
   "outputs": [],
   "source": [
    "data = pd.read_csv(\"../../Data/Originals/property24_data.csv\")"
   ]
  },
  {
   "cell_type": "code",
   "execution_count": 3,
   "id": "dc4d032e",
   "metadata": {},
   "outputs": [
    {
     "data": {
      "text/plain": [
       "(7901, 23)"
      ]
     },
     "execution_count": 3,
     "metadata": {},
     "output_type": "execute_result"
    }
   ],
   "source": [
    "data.shape"
   ]
  },
  {
   "cell_type": "code",
   "execution_count": 4,
   "id": "1739ff7b",
   "metadata": {},
   "outputs": [
    {
     "data": {
      "text/html": [
       "<div>\n",
       "<style scoped>\n",
       "    .dataframe tbody tr th:only-of-type {\n",
       "        vertical-align: middle;\n",
       "    }\n",
       "\n",
       "    .dataframe tbody tr th {\n",
       "        vertical-align: top;\n",
       "    }\n",
       "\n",
       "    .dataframe thead th {\n",
       "        text-align: right;\n",
       "    }\n",
       "</style>\n",
       "<table border=\"1\" class=\"dataframe\">\n",
       "  <thead>\n",
       "    <tr style=\"text-align: right;\">\n",
       "      <th></th>\n",
       "      <th>Bathrooms</th>\n",
       "      <th>Bedrooms</th>\n",
       "      <th>Erf Size</th>\n",
       "      <th>Floor Size</th>\n",
       "      <th>Garages</th>\n",
       "      <th>Listing Date</th>\n",
       "      <th>Listing Number</th>\n",
       "      <th>Pet Friendly</th>\n",
       "      <th>Price</th>\n",
       "      <th>Town</th>\n",
       "      <th>...</th>\n",
       "      <th>Secure Parking</th>\n",
       "      <th>Parking</th>\n",
       "      <th>No Pets Allowed</th>\n",
       "      <th>Furnished</th>\n",
       "      <th>Flatlet</th>\n",
       "      <th>Fibre Internet</th>\n",
       "      <th>Furnished (Optional)</th>\n",
       "      <th>ADSL Internet</th>\n",
       "      <th>Satellite Internet</th>\n",
       "      <th>Fixed WiMax Internet</th>\n",
       "    </tr>\n",
       "  </thead>\n",
       "  <tbody>\n",
       "    <tr>\n",
       "      <th>0</th>\n",
       "      <td>3.0</td>\n",
       "      <td>3.0</td>\n",
       "      <td>304 m²</td>\n",
       "      <td>326 m²</td>\n",
       "      <td>2.0</td>\n",
       "      <td>10 July 2020</td>\n",
       "      <td>108859219</td>\n",
       "      <td>1.0</td>\n",
       "      <td>6480000.0</td>\n",
       "      <td>Tokai, Cape Town</td>\n",
       "      <td>...</td>\n",
       "      <td>NaN</td>\n",
       "      <td>NaN</td>\n",
       "      <td>NaN</td>\n",
       "      <td>NaN</td>\n",
       "      <td>NaN</td>\n",
       "      <td>NaN</td>\n",
       "      <td>NaN</td>\n",
       "      <td>NaN</td>\n",
       "      <td>NaN</td>\n",
       "      <td>NaN</td>\n",
       "    </tr>\n",
       "    <tr>\n",
       "      <th>1</th>\n",
       "      <td>3.0</td>\n",
       "      <td>3.0</td>\n",
       "      <td>NaN</td>\n",
       "      <td>140 m²</td>\n",
       "      <td>2.0</td>\n",
       "      <td>23 September 2020</td>\n",
       "      <td>109153971</td>\n",
       "      <td>1.0</td>\n",
       "      <td>6250000.0</td>\n",
       "      <td>14 Graham Road, Sea Point, Cape Town</td>\n",
       "      <td>...</td>\n",
       "      <td>NaN</td>\n",
       "      <td>NaN</td>\n",
       "      <td>NaN</td>\n",
       "      <td>NaN</td>\n",
       "      <td>NaN</td>\n",
       "      <td>NaN</td>\n",
       "      <td>NaN</td>\n",
       "      <td>NaN</td>\n",
       "      <td>NaN</td>\n",
       "      <td>NaN</td>\n",
       "    </tr>\n",
       "    <tr>\n",
       "      <th>2</th>\n",
       "      <td>3.5</td>\n",
       "      <td>4.0</td>\n",
       "      <td>659 m²</td>\n",
       "      <td>300 m²</td>\n",
       "      <td>2.0</td>\n",
       "      <td>23 September 2020</td>\n",
       "      <td>109154367</td>\n",
       "      <td>NaN</td>\n",
       "      <td>13950000.0</td>\n",
       "      <td>Camps Bay, Cape Town</td>\n",
       "      <td>...</td>\n",
       "      <td>2.0</td>\n",
       "      <td>NaN</td>\n",
       "      <td>NaN</td>\n",
       "      <td>NaN</td>\n",
       "      <td>NaN</td>\n",
       "      <td>NaN</td>\n",
       "      <td>NaN</td>\n",
       "      <td>NaN</td>\n",
       "      <td>NaN</td>\n",
       "      <td>NaN</td>\n",
       "    </tr>\n",
       "    <tr>\n",
       "      <th>3</th>\n",
       "      <td>1.0</td>\n",
       "      <td>2.0</td>\n",
       "      <td>NaN</td>\n",
       "      <td>NaN</td>\n",
       "      <td>NaN</td>\n",
       "      <td>23 September 2020</td>\n",
       "      <td>109154455</td>\n",
       "      <td>NaN</td>\n",
       "      <td>1050000.0</td>\n",
       "      <td>Ottery, Cape Town</td>\n",
       "      <td>...</td>\n",
       "      <td>NaN</td>\n",
       "      <td>1.0</td>\n",
       "      <td>NaN</td>\n",
       "      <td>NaN</td>\n",
       "      <td>NaN</td>\n",
       "      <td>NaN</td>\n",
       "      <td>NaN</td>\n",
       "      <td>NaN</td>\n",
       "      <td>NaN</td>\n",
       "      <td>NaN</td>\n",
       "    </tr>\n",
       "    <tr>\n",
       "      <th>4</th>\n",
       "      <td>1.0</td>\n",
       "      <td>1.0</td>\n",
       "      <td>NaN</td>\n",
       "      <td>61 m²</td>\n",
       "      <td>NaN</td>\n",
       "      <td>23 July 2020</td>\n",
       "      <td>108907258</td>\n",
       "      <td>NaN</td>\n",
       "      <td>1265000.0</td>\n",
       "      <td>Muizenberg, Cape Town</td>\n",
       "      <td>...</td>\n",
       "      <td>1.0</td>\n",
       "      <td>NaN</td>\n",
       "      <td>NaN</td>\n",
       "      <td>NaN</td>\n",
       "      <td>NaN</td>\n",
       "      <td>NaN</td>\n",
       "      <td>NaN</td>\n",
       "      <td>NaN</td>\n",
       "      <td>NaN</td>\n",
       "      <td>NaN</td>\n",
       "    </tr>\n",
       "  </tbody>\n",
       "</table>\n",
       "<p>5 rows × 23 columns</p>\n",
       "</div>"
      ],
      "text/plain": [
       "   Bathrooms  Bedrooms Erf Size Floor Size  Garages       Listing Date  \\\n",
       "0        3.0       3.0   304 m²     326 m²      2.0       10 July 2020   \n",
       "1        3.0       3.0      NaN     140 m²      2.0  23 September 2020   \n",
       "2        3.5       4.0   659 m²     300 m²      2.0  23 September 2020   \n",
       "3        1.0       2.0      NaN        NaN      NaN  23 September 2020   \n",
       "4        1.0       1.0      NaN      61 m²      NaN       23 July 2020   \n",
       "\n",
       "   Listing Number  Pet Friendly       Price  \\\n",
       "0       108859219           1.0   6480000.0   \n",
       "1       109153971           1.0   6250000.0   \n",
       "2       109154367           NaN  13950000.0   \n",
       "3       109154455           NaN   1050000.0   \n",
       "4       108907258           NaN   1265000.0   \n",
       "\n",
       "                                   Town  ... Secure Parking  Parking  \\\n",
       "0                      Tokai, Cape Town  ...            NaN      NaN   \n",
       "1  14 Graham Road, Sea Point, Cape Town  ...            NaN      NaN   \n",
       "2                  Camps Bay, Cape Town  ...            2.0      NaN   \n",
       "3                     Ottery, Cape Town  ...            NaN      1.0   \n",
       "4                 Muizenberg, Cape Town  ...            1.0      NaN   \n",
       "\n",
       "   No Pets Allowed  Furnished  Flatlet  Fibre Internet  Furnished (Optional)  \\\n",
       "0              NaN        NaN      NaN             NaN                   NaN   \n",
       "1              NaN        NaN      NaN             NaN                   NaN   \n",
       "2              NaN        NaN      NaN             NaN                   NaN   \n",
       "3              NaN        NaN      NaN             NaN                   NaN   \n",
       "4              NaN        NaN      NaN             NaN                   NaN   \n",
       "\n",
       "   ADSL Internet  Satellite Internet  Fixed WiMax Internet  \n",
       "0            NaN                 NaN                   NaN  \n",
       "1            NaN                 NaN                   NaN  \n",
       "2            NaN                 NaN                   NaN  \n",
       "3            NaN                 NaN                   NaN  \n",
       "4            NaN                 NaN                   NaN  \n",
       "\n",
       "[5 rows x 23 columns]"
      ]
     },
     "execution_count": 4,
     "metadata": {},
     "output_type": "execute_result"
    }
   ],
   "source": [
    "data.head(5)"
   ]
  },
  {
   "cell_type": "markdown",
   "id": "0b8decd5",
   "metadata": {},
   "source": [
    "### Get categorie"
   ]
  },
  {
   "cell_type": "code",
   "execution_count": 5,
   "id": "f6d9efd8",
   "metadata": {},
   "outputs": [],
   "source": [
    "def categorisation(data,date_cols):\n",
    "    distance = []\n",
    "    date = []\n",
    "    numerique = []\n",
    "    categorique = []\n",
    "    for col in data.columns:\n",
    "        if data[col].dtypes == np.object:\n",
    "            try:\n",
    "                if str(type(eval(data[col][data[col].first_valid_index()]))) == \"<class 'list'>\":\n",
    "                    distance.append(col)\n",
    "                elif col in date_cols:\n",
    "                    date.append(col)\n",
    "                else:\n",
    "                    categorique.append(col)\n",
    "            except:\n",
    "                if col in date_cols:\n",
    "                    date.append(col)\n",
    "                else:\n",
    "                    categorique.append(col)\n",
    "                \n",
    "            \n",
    "        else :\n",
    "            numerique.append(col)\n",
    "                \n",
    "    return dict({\"numerique\":numerique,\"categorique\":categorique,\"date\":date,\"distance\":distance})"
   ]
  },
  {
   "cell_type": "code",
   "execution_count": 6,
   "id": "64f3787a",
   "metadata": {},
   "outputs": [
    {
     "data": {
      "text/plain": [
       "{'numerique': ['Bathrooms',\n",
       "  'Bedrooms',\n",
       "  'Garages',\n",
       "  'Listing Number',\n",
       "  'Pet Friendly',\n",
       "  'Price',\n",
       "  'Garden',\n",
       "  'Pool',\n",
       "  'Secure Parking',\n",
       "  'Parking',\n",
       "  'No Pets Allowed',\n",
       "  'Furnished',\n",
       "  'Flatlet',\n",
       "  'Fibre Internet',\n",
       "  'Furnished (Optional)',\n",
       "  'ADSL Internet',\n",
       "  'Satellite Internet',\n",
       "  'Fixed WiMax Internet'],\n",
       " 'categorique': ['Erf Size', 'Floor Size', 'Town', 'Type of Property'],\n",
       " 'date': ['Listing Date'],\n",
       " 'distance': []}"
      ]
     },
     "execution_count": 6,
     "metadata": {},
     "output_type": "execute_result"
    }
   ],
   "source": [
    "feat_cat = categorisation(data,[\"Listing Date\"])\n",
    "feat_cat"
   ]
  },
  {
   "cell_type": "markdown",
   "id": "ef0a8a3b",
   "metadata": {},
   "source": [
    "### Tests"
   ]
  },
  {
   "cell_type": "code",
   "execution_count": 7,
   "id": "2e009441",
   "metadata": {},
   "outputs": [
    {
     "data": {
      "text/html": [
       "<div>\n",
       "<style scoped>\n",
       "    .dataframe tbody tr th:only-of-type {\n",
       "        vertical-align: middle;\n",
       "    }\n",
       "\n",
       "    .dataframe tbody tr th {\n",
       "        vertical-align: top;\n",
       "    }\n",
       "\n",
       "    .dataframe thead th {\n",
       "        text-align: right;\n",
       "    }\n",
       "</style>\n",
       "<table border=\"1\" class=\"dataframe\">\n",
       "  <thead>\n",
       "    <tr style=\"text-align: right;\">\n",
       "      <th></th>\n",
       "      <th>a</th>\n",
       "      <th>b</th>\n",
       "    </tr>\n",
       "  </thead>\n",
       "  <tbody>\n",
       "    <tr>\n",
       "      <th>0</th>\n",
       "      <td>1</td>\n",
       "      <td>25</td>\n",
       "    </tr>\n",
       "    <tr>\n",
       "      <th>1</th>\n",
       "      <td>120000.0</td>\n",
       "      <td>NaN</td>\n",
       "    </tr>\n",
       "  </tbody>\n",
       "</table>\n",
       "</div>"
      ],
      "text/plain": [
       "          a    b\n",
       "0         1   25\n",
       "1  120000.0  NaN"
      ]
     },
     "execution_count": 7,
     "metadata": {},
     "output_type": "execute_result"
    }
   ],
   "source": [
    "tmp = pd.DataFrame({\"a\":[\"1 m2\",\"1 2 ha\"],\"b\":[\"25\",np.nan]})\n",
    "for col in tmp.columns:\n",
    "    tmp[col] = tmp[col].replace(\" \",\"\",regex=True)\n",
    "    tmp[col] = tmp[col].str.rstrip(\"m2\")\n",
    "    serie=[]\n",
    "    for v in tmp[col]:\n",
    "        if \"ha\" in str(v) and str(v) != \"nan\":\n",
    "            v = v[:-2]\n",
    "            serie.append(float(v)*10000)\n",
    "        else:\n",
    "            serie.append(v)\n",
    "    tmp[col] = serie\n",
    "tmp"
   ]
  },
  {
   "cell_type": "markdown",
   "id": "0293605f",
   "metadata": {},
   "source": [
    "### Data Cleaning"
   ]
  },
  {
   "attachments": {
    "image.png": {
     "image/png": "[encoded data removed]"
    }
   },
   "cell_type": "markdown",
   "id": "a7b3a9fb",
   "metadata": {},
   "source": [
    "![image.png](attachment:image.png)"
   ]
  },
  {
   "attachments": {
    "image-2.png": {
     "image/png": "[encoded data removed]"
    }
   },
   "cell_type": "markdown",
   "id": "1333792c",
   "metadata": {},
   "source": [
    "![image-2.png](attachment:image-2.png)"
   ]
  },
  {
   "cell_type": "code",
   "execution_count": 8,
   "id": "2704a865",
   "metadata": {},
   "outputs": [],
   "source": [
    "def data_cleaning(data_, name, feat_cat):\n",
    "    \n",
    "    print(\"Drop NaN price (to get a cleaned y value)\")\n",
    "    data = data_[data_[\"Price\"].astype(\"str\")!=\"nan\"]\n",
    "    \n",
    "    ### DATA Cleaning\n",
    "    for col in list(feat_cat[\"categorique\"]):\n",
    "        \n",
    "        if \"Size\" in col or \"size\" in col :\n",
    "            data[col] = data[col].replace(\" \",\"\",regex=True)\n",
    "            data[col] = data[col].str.rstrip(\"m²\")\n",
    "            ### in case of system formatting problems\n",
    "            data[col] = data[col].str.rstrip(\"m�\")\n",
    "            data[col] = data[col].str.rstrip(\"m\\B2\")\n",
    "            data[col] = data[col].str.rstrip(\"mÂ\")\n",
    "            serie=[]\n",
    "            for v in data[col]:\n",
    "                if \"ha\" in str(v) and str(v) != \"nan\":\n",
    "                    v = v[:-2]\n",
    "                    serie.append(float(v)*10000)\n",
    "                elif \"acres\" in str(v) and str(v) != \"nan\":\n",
    "                    v = v[:-2]\n",
    "                    serie.append(float(v)*4046.86)\n",
    "                else:\n",
    "                    serie.append(v)\n",
    "            data[col] = serie\n",
    "            data[col] = pd.to_numeric(data[col])\n",
    "\n",
    "        elif \"Coverage\" in col :\n",
    "            data[col] = data[col].str.rstrip(\" %\")\n",
    "            data[col] = data[col].replace(r\" \",\"\",regex=True)\n",
    "            data[col] = pd.to_numeric(data[col])\n",
    "\n",
    "        elif \"Height Restriction\" in col:\n",
    "            data[col] = data[col].replace(r\" \",\"\",regex=True)\n",
    "            data[col] = data[col].str.rstrip(\"m²\")\n",
    "            data[col] = data[col].str.rstrip(\"m�\")\n",
    "            data[col] = data[col].str.rstrip(\"m\\B2\")\n",
    "            data[col] = data[col].str.rstrip(\"mÂ\")\n",
    "            serie=[]\n",
    "            for v in data[col]:\n",
    "                if \"ha\" in str(v) and str(v) != \"nan\":\n",
    "                    v = v[:-2]\n",
    "                    serie.append(float(v)*10000)\n",
    "                elif \"acres\" in str(v) and str(v) != \"nan\":\n",
    "                    v = v[:-2]\n",
    "                    serie.append(float(v)*4046.86)\n",
    "                else:\n",
    "                    serie.append(v)\n",
    "            data[col] = serie\n",
    "            data[col] = pd.to_numeric(data[col])\n",
    "\n",
    "    for col in list(feat_cat[\"date\"]):\n",
    "        data[col] = pd.to_datetime(data[col])\n",
    "        \n",
    "    for col in list(feat_cat[\"numerique\"]):\n",
    "        data[col] = pd.to_numeric(data[col])\n",
    "    \n",
    "    for col in list(feat_cat[\"distance\"]):\n",
    "        ### Format list values\n",
    "        if str(type(data[col][data[col].first_valid_index()])) == \"<class 'list'>\":\n",
    "            series=[]\n",
    "            for value in data[col]:\n",
    "                if str(value) != \"nan\":\n",
    "                    value = [i.replace('km','') for i in value]\n",
    "                    value = [float(i) for i in value]\n",
    "                series.append(value)\n",
    "            data[col] = series\n",
    "    \n",
    "    #data = data.drop_duplicates()\n",
    "    \n",
    "    #data[\"index\"] = data.index\n",
    "    print(\"data dimensions:\",data.shape)\n",
    "    return data"
   ]
  },
  {
   "cell_type": "code",
   "execution_count": 9,
   "id": "53ee6a17",
   "metadata": {
    "scrolled": true
   },
   "outputs": [
    {
     "name": "stdout",
     "output_type": "stream",
     "text": [
      "Drop NaN price (to get a cleaned y value)\n",
      "data dimensions: (7846, 23)\n"
     ]
    },
    {
     "name": "stderr",
     "output_type": "stream",
     "text": [
      "<ipython-input-8-e7dbfa226b9d>:10: SettingWithCopyWarning: \n",
      "A value is trying to be set on a copy of a slice from a DataFrame.\n",
      "Try using .loc[row_indexer,col_indexer] = value instead\n",
      "\n",
      "See the caveats in the documentation: https://pandas.pydata.org/pandas-docs/stable/user_guide/indexing.html#returning-a-view-versus-a-copy\n",
      "  data[col] = data[col].replace(\" \",\"\",regex=True)\n",
      "<ipython-input-8-e7dbfa226b9d>:11: SettingWithCopyWarning: \n",
      "A value is trying to be set on a copy of a slice from a DataFrame.\n",
      "Try using .loc[row_indexer,col_indexer] = value instead\n",
      "\n",
      "See the caveats in the documentation: https://pandas.pydata.org/pandas-docs/stable/user_guide/indexing.html#returning-a-view-versus-a-copy\n",
      "  data[col] = data[col].str.rstrip(\"m²\")\n",
      "<ipython-input-8-e7dbfa226b9d>:13: SettingWithCopyWarning: \n",
      "A value is trying to be set on a copy of a slice from a DataFrame.\n",
      "Try using .loc[row_indexer,col_indexer] = value instead\n",
      "\n",
      "See the caveats in the documentation: https://pandas.pydata.org/pandas-docs/stable/user_guide/indexing.html#returning-a-view-versus-a-copy\n",
      "  data[col] = data[col].str.rstrip(\"m�\")\n",
      "<ipython-input-8-e7dbfa226b9d>:14: SettingWithCopyWarning: \n",
      "A value is trying to be set on a copy of a slice from a DataFrame.\n",
      "Try using .loc[row_indexer,col_indexer] = value instead\n",
      "\n",
      "See the caveats in the documentation: https://pandas.pydata.org/pandas-docs/stable/user_guide/indexing.html#returning-a-view-versus-a-copy\n",
      "  data[col] = data[col].str.rstrip(\"m\\B2\")\n",
      "<ipython-input-8-e7dbfa226b9d>:15: SettingWithCopyWarning: \n",
      "A value is trying to be set on a copy of a slice from a DataFrame.\n",
      "Try using .loc[row_indexer,col_indexer] = value instead\n",
      "\n",
      "See the caveats in the documentation: https://pandas.pydata.org/pandas-docs/stable/user_guide/indexing.html#returning-a-view-versus-a-copy\n",
      "  data[col] = data[col].str.rstrip(\"mÂ\")\n",
      "<ipython-input-8-e7dbfa226b9d>:26: SettingWithCopyWarning: \n",
      "A value is trying to be set on a copy of a slice from a DataFrame.\n",
      "Try using .loc[row_indexer,col_indexer] = value instead\n",
      "\n",
      "See the caveats in the documentation: https://pandas.pydata.org/pandas-docs/stable/user_guide/indexing.html#returning-a-view-versus-a-copy\n",
      "  data[col] = serie\n",
      "<ipython-input-8-e7dbfa226b9d>:27: SettingWithCopyWarning: \n",
      "A value is trying to be set on a copy of a slice from a DataFrame.\n",
      "Try using .loc[row_indexer,col_indexer] = value instead\n",
      "\n",
      "See the caveats in the documentation: https://pandas.pydata.org/pandas-docs/stable/user_guide/indexing.html#returning-a-view-versus-a-copy\n",
      "  data[col] = pd.to_numeric(data[col])\n",
      "<ipython-input-8-e7dbfa226b9d>:54: SettingWithCopyWarning: \n",
      "A value is trying to be set on a copy of a slice from a DataFrame.\n",
      "Try using .loc[row_indexer,col_indexer] = value instead\n",
      "\n",
      "See the caveats in the documentation: https://pandas.pydata.org/pandas-docs/stable/user_guide/indexing.html#returning-a-view-versus-a-copy\n",
      "  data[col] = pd.to_datetime(data[col])\n",
      "<ipython-input-8-e7dbfa226b9d>:57: SettingWithCopyWarning: \n",
      "A value is trying to be set on a copy of a slice from a DataFrame.\n",
      "Try using .loc[row_indexer,col_indexer] = value instead\n",
      "\n",
      "See the caveats in the documentation: https://pandas.pydata.org/pandas-docs/stable/user_guide/indexing.html#returning-a-view-versus-a-copy\n",
      "  data[col] = pd.to_numeric(data[col])\n"
     ]
    }
   ],
   "source": [
    "data = data_cleaning(data,\"Dataset.csv\",feat_cat)"
   ]
  },
  {
   "cell_type": "markdown",
   "id": "89cc152b",
   "metadata": {},
   "source": [
    "### Format column name"
   ]
  },
  {
   "cell_type": "code",
   "execution_count": 10,
   "id": "42cdcc0d",
   "metadata": {},
   "outputs": [],
   "source": [
    "def to_snake_case(string):\n",
    "    string = re.sub('\\s+', r'_', string)   \n",
    "    return string.lower()\n",
    "\n",
    "data= data.rename(to_snake_case, axis='columns')"
   ]
  },
  {
   "cell_type": "markdown",
   "id": "def027d9",
   "metadata": {},
   "source": [
    "### Data saving"
   ]
  },
  {
   "cell_type": "code",
   "execution_count": 11,
   "id": "bd20b9e0",
   "metadata": {},
   "outputs": [],
   "source": [
    "save_to = \"../../Data/Dataset.csv\"\n",
    "data.to_csv(save_to,sep=\",\",index=False)"
   ]
  },
  {
   "cell_type": "code",
   "execution_count": 12,
   "id": "93db650c",
   "metadata": {
    "scrolled": false
   },
   "outputs": [
    {
     "data": {
      "text/plain": [
       "{'numerique': ['bathrooms',\n",
       "  'bedrooms',\n",
       "  'erf_size',\n",
       "  'floor_size',\n",
       "  'garages',\n",
       "  'listing_date',\n",
       "  'listing_number',\n",
       "  'pet_friendly',\n",
       "  'price',\n",
       "  'garden',\n",
       "  'pool',\n",
       "  'secure_parking',\n",
       "  'parking',\n",
       "  'no_pets_allowed',\n",
       "  'furnished',\n",
       "  'flatlet',\n",
       "  'fibre_internet',\n",
       "  'furnished_(optional)',\n",
       "  'adsl_internet',\n",
       "  'satellite_internet',\n",
       "  'fixed_wimax_internet'],\n",
       " 'categorique': ['town', 'type_of_property'],\n",
       " 'date': [],\n",
       " 'distance': []}"
      ]
     },
     "execution_count": 12,
     "metadata": {},
     "output_type": "execute_result"
    }
   ],
   "source": [
    "feat_cat = categorisation(data,[\"Listing Date\"])\n",
    "feat_cat"
   ]
  },
  {
   "cell_type": "code",
   "execution_count": null,
   "id": "a1ee868a",
   "metadata": {},
   "outputs": [],
   "source": []
  }
 ],
 "metadata": {
  "interpreter": {
   "hash": "b54b66dfa7cdbe8a69b3bf148d9797a1fcee399928c1f348c50707ec239ca9b1"
  },
  "kernelspec": {
   "display_name": "Python 3",
   "language": "python",
   "name": "python3"
  },
  "language_info": {
   "codemirror_mode": {
    "name": "ipython",
    "version": 3
   },
   "file_extension": ".py",
   "mimetype": "text/x-python",
   "name": "python",
   "nbconvert_exporter": "python",
   "pygments_lexer": "ipython3",
   "version": "3.8.10"
  }
 },
 "nbformat": 4,
 "nbformat_minor": 5
}

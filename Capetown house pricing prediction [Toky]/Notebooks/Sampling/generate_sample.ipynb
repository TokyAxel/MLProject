{
 "cells": [
  {
   "cell_type": "code",
   "execution_count": 13,
   "metadata": {},
   "outputs": [],
   "source": [
    "import pandas as pd\n",
    "from sklearn.model_selection import train_test_split\n",
    "import re"
   ]
  },
  {
   "cell_type": "code",
   "execution_count": 14,
   "metadata": {},
   "outputs": [
    {
     "data": {
      "text/plain": [
       "(7846, 23)"
      ]
     },
     "execution_count": 14,
     "metadata": {},
     "output_type": "execute_result"
    }
   ],
   "source": [
    "data= pd.read_csv(\"../../Data/Dataset.csv\")\n",
    "data.shape"
   ]
  },
  {
   "cell_type": "code",
   "execution_count": 15,
   "metadata": {},
   "outputs": [
    {
     "data": {
      "text/plain": [
       "Apartment / Flat    0.585139\n",
       "House               0.378792\n",
       "Townhouse           0.036069\n",
       "Name: type_of_property, dtype: float64"
      ]
     },
     "execution_count": 15,
     "metadata": {},
     "output_type": "execute_result"
    }
   ],
   "source": [
    "data['type_of_property'].value_counts() / len(data)#, data['province'].value_counts() / len(data))"
   ]
  },
  {
   "cell_type": "markdown",
   "metadata": {},
   "source": [
    "### Split data to train (70%) val (15%) test (15%) stratified by \"type_of_property\" "
   ]
  },
  {
   "cell_type": "code",
   "execution_count": 16,
   "metadata": {},
   "outputs": [],
   "source": [
    "train, test = train_test_split(data, test_size=0.15, random_state=1,stratify=data[\"type_of_property\" ])\n",
    "train, val = train_test_split(train, test_size=0.17647, random_state=1,stratify=train[\"type_of_property\"])"
   ]
  },
  {
   "cell_type": "code",
   "execution_count": 17,
   "metadata": {},
   "outputs": [
    {
     "name": "stderr",
     "output_type": "stream",
     "text": [
      "<ipython-input-17-709944fdd80a>:3: SettingWithCopyWarning: \n",
      "A value is trying to be set on a copy of a slice from a DataFrame.\n",
      "Try using .loc[row_indexer,col_indexer] = value instead\n",
      "\n",
      "See the caveats in the documentation: https://pandas.pydata.org/pandas-docs/stable/user_guide/indexing.html#returning-a-view-versus-a-copy\n",
      "  test[\"split\"] = 2\n"
     ]
    },
    {
     "data": {
      "text/plain": [
       "(7846, 24)"
      ]
     },
     "execution_count": 17,
     "metadata": {},
     "output_type": "execute_result"
    }
   ],
   "source": [
    "train[\"split\"] = 0\n",
    "val[\"split\"] = 1\n",
    "test[\"split\"] = 2\n",
    "\n",
    "\n",
    "data_split = train.append(val,ignore_index=True)\n",
    "data_split = data_split.append(test,ignore_index=True)\n",
    "data_split.shape"
   ]
  },
  {
   "cell_type": "markdown",
   "metadata": {},
   "source": [
    "### data saving"
   ]
  },
  {
   "cell_type": "code",
   "execution_count": 18,
   "metadata": {},
   "outputs": [],
   "source": [
    "#adding to csv\n",
    "data_split.to_csv(\"../../Data/Dataset_splited.csv\",sep=\",\",index=False)"
   ]
  },
  {
   "cell_type": "markdown",
   "metadata": {},
   "source": [
    "### show split"
   ]
  },
  {
   "cell_type": "code",
   "execution_count": 19,
   "metadata": {},
   "outputs": [
    {
     "name": "stdout",
     "output_type": "stream",
     "text": [
      "\n",
      " train\n",
      "shape: (5492, 24)\n",
      "Apartment / Flat    0.585033\n",
      "House               0.378733\n",
      "Townhouse           0.036235\n",
      "Name: type_of_property, dtype: float64\n",
      "\n",
      " val\n",
      "shape: (1177, 24)\n",
      "Apartment / Flat    0.585387\n",
      "House               0.378929\n",
      "Townhouse           0.035684\n",
      "Name: type_of_property, dtype: float64\n",
      "\n",
      " test\n",
      "shape: (1177, 24)\n",
      "Apartment / Flat    0.585387\n",
      "House               0.378929\n",
      "Townhouse           0.035684\n",
      "Name: type_of_property, dtype: float64\n"
     ]
    }
   ],
   "source": [
    "for dt,name in zip([train,val,test],[\"train\",'val',\"test\"]):\n",
    "    print(\"\\n\",name)\n",
    "    print(\"shape:\",dt.shape)\n",
    "    print(dt[\"type_of_property\"].value_counts()/dt.shape[0])"
   ]
  },
  {
   "cell_type": "code",
   "execution_count": 20,
   "metadata": {},
   "outputs": [
    {
     "data": {
      "text/plain": [
       "0    5492\n",
       "1    1177\n",
       "2    1177\n",
       "Name: split, dtype: int64"
      ]
     },
     "execution_count": 20,
     "metadata": {},
     "output_type": "execute_result"
    }
   ],
   "source": [
    "data_split[\"split\"].value_counts()"
   ]
  },
  {
   "cell_type": "code",
   "execution_count": null,
   "metadata": {},
   "outputs": [],
   "source": []
  }
 ],
 "metadata": {
  "interpreter": {
   "hash": "b54b66dfa7cdbe8a69b3bf148d9797a1fcee399928c1f348c50707ec239ca9b1"
  },
  "kernelspec": {
   "display_name": "Python 3",
   "language": "python",
   "name": "python3"
  },
  "language_info": {
   "codemirror_mode": {
    "name": "ipython",
    "version": 3
   },
   "file_extension": ".py",
   "mimetype": "text/x-python",
   "name": "python",
   "nbconvert_exporter": "python",
   "pygments_lexer": "ipython3",
   "version": "3.8.10"
  }
 },
 "nbformat": 4,
 "nbformat_minor": 2
}

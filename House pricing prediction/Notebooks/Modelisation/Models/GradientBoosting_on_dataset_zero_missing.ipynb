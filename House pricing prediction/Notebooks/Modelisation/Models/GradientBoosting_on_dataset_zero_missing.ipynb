{
 "cells": [
  {
   "cell_type": "code",
   "execution_count": 1,
   "id": "74e2c5b9",
   "metadata": {},
   "outputs": [],
   "source": [
    "from sklearn.ensemble import GradientBoostingRegressor\n",
    "from sklearn.ensemble import RandomForestRegressor\n",
    "from sklearn.svm import SVR\n",
    "from sklearn.model_selection import cross_validate\n",
    "from sklearn import linear_model\n",
    "from sklearn.inspection import permutation_importance\n",
    "from sklearn.preprocessing import StandardScaler\n",
    "from sklearn.metrics import mean_squared_error\n",
    "import numpy as np\n",
    "import pandas as pd\n",
    "import seaborn as sns\n",
    "import matplotlib.pyplot as plt"
   ]
  },
  {
   "cell_type": "code",
   "execution_count": 2,
   "id": "ef28b650",
   "metadata": {},
   "outputs": [],
   "source": [
    "data = pd.read_csv(\"../../../Data/Dataset_zero_numeric_missing.csv\",sep=\";\")"
   ]
  },
  {
   "cell_type": "code",
   "execution_count": 3,
   "id": "fb0da6bb",
   "metadata": {},
   "outputs": [
    {
     "data": {
      "text/plain": [
       "(9445, 11)"
      ]
     },
     "execution_count": 3,
     "metadata": {},
     "output_type": "execute_result"
    }
   ],
   "source": [
    "data.shape"
   ]
  },
  {
   "cell_type": "markdown",
   "id": "b21e72f3",
   "metadata": {},
   "source": [
    "### Get features categorie"
   ]
  },
  {
   "cell_type": "code",
   "execution_count": 4,
   "id": "2623ad90",
   "metadata": {},
   "outputs": [],
   "source": [
    "def categorisation(data,date_cols,target=\"price\"):\n",
    "    distance = []\n",
    "    date = []\n",
    "    numerique = []\n",
    "    categorique = []\n",
    "    for col in data.columns:\n",
    "        if data[col].dtypes == np.object:\n",
    "            try:\n",
    "                if str(type(eval(data[col][data[col].first_valid_index()]))) == \"<class 'list'>\":\n",
    "                    distance.append(col)\n",
    "                elif col in date_cols:\n",
    "                    date.append(col)\n",
    "                else:\n",
    "                    categorique.append(col)\n",
    "            except:\n",
    "                if col in date_cols:\n",
    "                    date.append(col)\n",
    "                else:\n",
    "                    categorique.append(col)\n",
    "                \n",
    "            \n",
    "        else :\n",
    "            if col != target:\n",
    "                numerique.append(col)\n",
    "                \n",
    "    return dict({\"numerique\":numerique,\"categorique\":categorique,\"date\":date,\"distance\":distance})\n",
    "\n",
    "feat_cat = categorisation(data,[\"Listing Date\"])"
   ]
  },
  {
   "cell_type": "markdown",
   "id": "7f25da83",
   "metadata": {},
   "source": [
    "### target mean ordering encoding of categorical value"
   ]
  },
  {
   "cell_type": "code",
   "execution_count": 5,
   "id": "577be1ba",
   "metadata": {},
   "outputs": [],
   "source": [
    "def encode(frame, feature):\n",
    "    ordering = pd.DataFrame()\n",
    "    ordering['val'] = frame[feature].unique()\n",
    "    ordering.index = ordering.val\n",
    "    ordering['spmean'] = frame[[feature, 'price']].groupby(feature).mean()['price']\n",
    "    #print(frame[[feature, 'a']].groupby(feature).mean()['a'])\n",
    "    ordering = ordering.sort_values('spmean')\n",
    "    ordering['ordering'] = range(1, ordering.shape[0]+1)\n",
    "    #print(ordering)\n",
    "    ordering = ordering['ordering'].to_dict()\n",
    "    #print(ordering)\n",
    "    \n",
    "    for cat, o in ordering.items():\n",
    "        frame.loc[frame[feature] == cat, feature+'_E'] = o"
   ]
  },
  {
   "cell_type": "code",
   "execution_count": 6,
   "id": "676eca12",
   "metadata": {},
   "outputs": [],
   "source": [
    "#tmp = pd.DataFrame({\"a\":[1,2,5,10],\"b\":[\"1\",\"1\",\"o\",\"o\"]})"
   ]
  },
  {
   "cell_type": "code",
   "execution_count": 7,
   "id": "ea2308dc",
   "metadata": {},
   "outputs": [
    {
     "name": "stdout",
     "output_type": "stream",
     "text": [
      "['name_E', 'province_E', 'city_E', 'address_E', 'type_of_property_E']\n"
     ]
    }
   ],
   "source": [
    "qual_encoded = []\n",
    "for q in feat_cat[\"categorique\"]:  \n",
    "    encode(data, q)\n",
    "    qual_encoded.append(q+'_E')\n",
    "print(qual_encoded)"
   ]
  },
  {
   "cell_type": "markdown",
   "id": "0b6f6111",
   "metadata": {},
   "source": [
    "### Transform distance features to lenght of list"
   ]
  },
  {
   "cell_type": "code",
   "execution_count": 8,
   "id": "f3536a8b",
   "metadata": {},
   "outputs": [],
   "source": [
    "class transfo_distance:\n",
    "    def __init__(self,data,features=None):\n",
    "        self.data = data\n",
    "        self.method = None\n",
    "        ### Get features\n",
    "        self.distance=[]\n",
    "        if features is None:\n",
    "            for col in data.columns:\n",
    "                if data[col].dtypes == np.object:\n",
    "                    try:\n",
    "                        if str(type(eval(data[col][data[col].first_valid_index()]))) == \"<class 'list'>\":\n",
    "                            self.distance.append(col)\n",
    "                    except:\n",
    "                        pass\n",
    "        else:\n",
    "            distance=features\n",
    "        \n",
    "        ###Transformations : \"mean\", \"median\", \"max\", \"min\", \"len\"\n",
    "    def transformation(self,method):\n",
    "        self.method = method\n",
    "        for feat in self.distance:\n",
    "            serie = []\n",
    "            for i in data[feat]:\n",
    "                if str(i) != \"nan\":\n",
    "                    serie.append(self.checker(i))\n",
    "                else :\n",
    "                    serie.append(np.nan)\n",
    "            self.data[feat] = serie\n",
    "            \n",
    "    def checker(self,value):\n",
    "        if self.method==\"mean\":\n",
    "            return (np.array(eval(value))).mean()\n",
    "        elif self.method ==\"median\":\n",
    "            return (np.array(eval(value))).mediane()\n",
    "        elif self.method ==\"min\":\n",
    "            return (np.array(eval(value))).min()\n",
    "        elif self.method ==\"max\":\n",
    "            return (np.array(eval(value))).max()\n",
    "        elif self.method ==\"len\":\n",
    "            return float(len(eval(value)))\n",
    "        else:\n",
    "            raise('choose correct method : \"mean\", \"median\", \"max\", \"min\", \"len\"')\n",
    "    \n",
    "    def get_data(self,method=\"mean\"):\n",
    "        self.transformation(method)\n",
    "        return self.data"
   ]
  },
  {
   "cell_type": "code",
   "execution_count": 9,
   "id": "cbfdc0f1",
   "metadata": {},
   "outputs": [
    {
     "data": {
      "text/plain": [
       "(9445, 16)"
      ]
     },
     "execution_count": 9,
     "metadata": {},
     "output_type": "execute_result"
    }
   ],
   "source": [
    "trans_dist = transfo_distance(data)\n",
    "data = trans_dist.get_data(method=\"len\")\n",
    "data.shape"
   ]
  },
  {
   "cell_type": "markdown",
   "id": "22da1d53",
   "metadata": {},
   "source": [
    "### Check lenght of distances vs price"
   ]
  },
  {
   "cell_type": "code",
   "execution_count": 10,
   "id": "17943e98",
   "metadata": {},
   "outputs": [
    {
     "name": "stderr",
     "output_type": "stream",
     "text": [
      "/home/tokyaxel/.local/lib/python3.8/site-packages/seaborn/axisgrid.py:316: UserWarning: The `size` parameter has been renamed to `height`; please update your code.\n",
      "  warnings.warn(msg, UserWarning)\n"
     ]
    },
    {
     "data": {
      "image/png": "[encoded data removed]",
      "text/plain": [
       "<Figure size 864x432 with 2 Axes>"
      ]
     },
     "metadata": {
      "needs_background": "light"
     },
     "output_type": "display_data"
    }
   ],
   "source": [
    "def pairplot(x, y, **kwargs):\n",
    "    ax = plt.gca()\n",
    "    ts = pd.DataFrame({'time': x, 'val': y})\n",
    "    ts = ts.groupby('time').mean()\n",
    "    ts.plot(ax=ax)\n",
    "    plt.xticks(rotation=90)\n",
    "    \n",
    "feats = feat_cat[\"distance\"]\n",
    "f = pd.melt(data, id_vars=['price'], value_vars=feats)\n",
    "g = sns.FacetGrid(f, col=\"variable\",  col_wrap=2, sharex=False, sharey=False, size=6)\n",
    "g = g.map(pairplot, \"value\", \"price\")"
   ]
  },
  {
   "cell_type": "markdown",
   "id": "f970979d",
   "metadata": {},
   "source": [
    "### Sampling"
   ]
  },
  {
   "cell_type": "code",
   "execution_count": 11,
   "id": "b9304d83",
   "metadata": {},
   "outputs": [],
   "source": [
    "def split_data(data,target,col=\"sampling\",features_to_keep=None):\n",
    "    if features_to_keep is not None :\n",
    "        features_to_keep = features_to_keep + [target]\n",
    "        data = data[features_to_keep]\n",
    "        \n",
    "    unique = data[\"sampling\"].unique()\n",
    "    for i, v in enumerate(unique):\n",
    "        if v == 1 :\n",
    "            data_train = data[data[col]==v]\n",
    "            y_train = data_train[target]\n",
    "            X_train = data_train.drop([target,\"sampling\"],axis=1)\n",
    "            print(\"train shape :\",X_train.shape)\n",
    "        elif v == 2 :\n",
    "            data_val = data[data[col]==v]\n",
    "            y_val = data_val[target]\n",
    "            X_val = data_val.drop([target,\"sampling\"],axis=1)\n",
    "            print(\"val shape :\",X_val.shape)\n",
    "        elif v == 3 :\n",
    "            data_test = data[data[col]==v]\n",
    "            y_test = data_test[target]\n",
    "            X_test = data_test.drop([target,\"sampling\"],axis=1)\n",
    "            print(\"test shape :\",X_test.shape)\n",
    "    \n",
    "            \n",
    "    return X_train, np.log(y_train), X_val, np.log(y_val), X_test, np.log(y_test)"
   ]
  },
  {
   "cell_type": "code",
   "execution_count": 12,
   "id": "d4bfbd54",
   "metadata": {},
   "outputs": [
    {
     "data": {
      "text/plain": [
       "Index(['name', 'price', 'province', 'city', 'address', 'type_of_property',\n",
       "       'bathrooms', 'bedrooms', 'education', 'transport_and_public_services',\n",
       "       'sampling', 'name_E', 'province_E', 'city_E', 'address_E',\n",
       "       'type_of_property_E'],\n",
       "      dtype='object')"
      ]
     },
     "execution_count": 12,
     "metadata": {},
     "output_type": "execute_result"
    }
   ],
   "source": [
    "data.columns"
   ]
  },
  {
   "cell_type": "markdown",
   "id": "a492daa8",
   "metadata": {},
   "source": [
    "### IMPORTANT : drop address_E and name_E  cause high cardinality\n",
    "\n",
    "- drop also name, province, city, address, type_of_property cause not encoded"
   ]
  },
  {
   "cell_type": "code",
   "execution_count": 13,
   "id": "5de6eb20",
   "metadata": {},
   "outputs": [],
   "source": [
    "feats_to_keep =[ 'bathrooms', 'bedrooms', 'education',\n",
    "       'transport_and_public_services', 'province_E','sampling',\n",
    "       'city_E', 'type_of_property_E']"
   ]
  },
  {
   "cell_type": "code",
   "execution_count": 14,
   "id": "5ba3014a",
   "metadata": {},
   "outputs": [
    {
     "name": "stdout",
     "output_type": "stream",
     "text": [
      "train shape : (6572, 7)\n",
      "val shape : (1465, 7)\n",
      "test shape : (1408, 7)\n"
     ]
    }
   ],
   "source": [
    "X_train, y_train, X_val, y_val, X_test, y_test = split_data(data,\"price\",features_to_keep=feats_to_keep)"
   ]
  },
  {
   "cell_type": "markdown",
   "id": "ab7de29c",
   "metadata": {},
   "source": [
    "# Model : Gradient Boosting\n",
    "https://scikit-learn.org/stable/auto_examples/ensemble/plot_gradient_boosting_regression.html"
   ]
  },
  {
   "cell_type": "code",
   "execution_count": 15,
   "id": "ac7b9878",
   "metadata": {},
   "outputs": [],
   "source": [
    "params = {'n_estimators': 1000,\n",
    "          'max_depth': 4,\n",
    "          'min_samples_split': 5,\n",
    "          'learning_rate': 0.05,\n",
    "          'loss': 'ls'}"
   ]
  },
  {
   "cell_type": "code",
   "execution_count": 16,
   "id": "9da68608",
   "metadata": {},
   "outputs": [
    {
     "data": {
      "text/plain": [
       "GradientBoostingRegressor(learning_rate=0.05, max_depth=4, min_samples_split=5,\n",
       "                          n_estimators=1000)"
      ]
     },
     "execution_count": 16,
     "metadata": {},
     "output_type": "execute_result"
    }
   ],
   "source": [
    "reg = GradientBoostingRegressor(**params)\n",
    "reg.fit(X_train, y_train)"
   ]
  },
  {
   "cell_type": "markdown",
   "id": "4c0a1385",
   "metadata": {},
   "source": [
    "### RMSE on validation set"
   ]
  },
  {
   "cell_type": "code",
   "execution_count": 17,
   "id": "19351373",
   "metadata": {},
   "outputs": [
    {
     "name": "stdout",
     "output_type": "stream",
     "text": [
      "The Root mean squared error (RMSE) on val set: 0.3945\n",
      "The Root mean squared error (RMSE) on train set: 0.3312\n"
     ]
    }
   ],
   "source": [
    "rmse = np.sqrt(mean_squared_error(y_val, reg.predict(X_val)))\n",
    "print(\"The Root mean squared error (RMSE) on val set: {:.4f}\".format(rmse))\n",
    "rmse = np.sqrt(mean_squared_error(y_train, reg.predict(X_train)))\n",
    "print(\"The Root mean squared error (RMSE) on train set: {:.4f}\".format(rmse))"
   ]
  },
  {
   "cell_type": "markdown",
   "id": "9b87d9a8",
   "metadata": {},
   "source": [
    "#### feature mportance"
   ]
  },
  {
   "cell_type": "code",
   "execution_count": 18,
   "id": "1ffea5ec",
   "metadata": {},
   "outputs": [],
   "source": [
    "labels = [ 'bathrooms', 'bedrooms', 'education',\n",
    "       'transport_and_public_services', 'province_E',\n",
    "       'city_E', 'type_of_property_E']"
   ]
  },
  {
   "cell_type": "code",
   "execution_count": 19,
   "id": "f9ea0bc0",
   "metadata": {
    "scrolled": false
   },
   "outputs": [
    {
     "data": {
      "image/png": "[encoded data removed]",
      "text/plain": [
       "<Figure size 864x432 with 2 Axes>"
      ]
     },
     "metadata": {
      "needs_background": "light"
     },
     "output_type": "display_data"
    }
   ],
   "source": [
    "feature_importance = reg.feature_importances_\n",
    "sorted_idx = np.argsort(feature_importance)\n",
    "pos = np.arange(sorted_idx.shape[0]) + .5\n",
    "fig = plt.figure(figsize=(12, 6))\n",
    "plt.subplot(1, 2, 1)\n",
    "plt.barh(pos, feature_importance[sorted_idx], align='center')\n",
    "plt.yticks(pos, np.array(labels)[sorted_idx])\n",
    "plt.title('Feature Importance (MDI)')\n",
    "\n",
    "result = permutation_importance(reg, X_val, y_val, n_repeats=10,\n",
    "                                random_state=42, n_jobs=2)\n",
    "sorted_idx = result.importances_mean.argsort()\n",
    "plt.subplot(1, 2, 2)\n",
    "plt.boxplot(result.importances[sorted_idx].T,\n",
    "            vert=False, labels=np.array(labels)[sorted_idx])\n",
    "plt.title(\"Permutation Importance (val set)\")\n",
    "fig.tight_layout()\n",
    "plt.show()"
   ]
  },
  {
   "cell_type": "code",
   "execution_count": 20,
   "id": "53c85106",
   "metadata": {},
   "outputs": [
    {
     "name": "stdout",
     "output_type": "stream",
     "text": [
      "Model : RF\n",
      "The Root mean squared error (RMSE) on val set: 0.4045\n",
      "The Root mean squared error (RMSE) on train set: 0.2022\n",
      "Model : RidgeCV\n",
      "The Root mean squared error (RMSE) on val set: 0.4606\n",
      "The Root mean squared error (RMSE) on train set: 0.4762\n",
      "Model : SVR\n",
      "The Root mean squared error (RMSE) on val set: 0.5112\n",
      "The Root mean squared error (RMSE) on train set: 0.5158\n"
     ]
    }
   ],
   "source": [
    "print(\"Model : RF\")\n",
    "\n",
    "RF = RandomForestRegressor()\n",
    "RF.fit(X_train, y_train)\n",
    "\n",
    "rmse = np.sqrt(mean_squared_error(y_val, RF.predict(X_val)))\n",
    "print(\"The Root mean squared error (RMSE) on val set: {:.4f}\".format(rmse))\n",
    "rmse = np.sqrt(mean_squared_error(y_train, RF.predict(X_train)))\n",
    "print(\"The Root mean squared error (RMSE) on train set: {:.4f}\".format(rmse))\n",
    "\n",
    "print(\"Model : RidgeCV\")\n",
    "\n",
    "regCV = linear_model.RidgeCV(alphas=np.logspace(-6, 6, 13))\n",
    "regCV.fit(X_train, y_train)\n",
    "\n",
    "rmse = np.sqrt(mean_squared_error(y_val, regCV.predict(X_val)))\n",
    "print(\"The Root mean squared error (RMSE) on val set: {:.4f}\".format(rmse))\n",
    "rmse = np.sqrt(mean_squared_error(y_train, regCV.predict(X_train)))\n",
    "print(\"The Root mean squared error (RMSE) on train set: {:.4f}\".format(rmse))\n",
    "\n",
    "print(\"Model : SVR\")\n",
    "\n",
    "regr = SVR(C=1.0,epsilon=0.2)\n",
    "regr.fit(X_train, y_train)\n",
    "\n",
    "rmse = np.sqrt(mean_squared_error(y_val, regr.predict(X_val)))\n",
    "print(\"The Root mean squared error (RMSE) on val set: {:.4f}\".format(rmse))\n",
    "rmse = np.sqrt(mean_squared_error(y_train, regr.predict(X_train)))\n",
    "print(\"The Root mean squared error (RMSE) on train set: {:.4f}\".format(rmse))"
   ]
  },
  {
   "cell_type": "markdown",
   "id": "b7887d90",
   "metadata": {},
   "source": [
    "### Export model"
   ]
  },
  {
   "cell_type": "code",
   "execution_count": 21,
   "id": "de8cf9ff",
   "metadata": {},
   "outputs": [],
   "source": [
    "import pickle\n",
    "\n",
    "# save the model to disk\n",
    "filename = 'GradientBoosting_on_dataset_zero_missing.sav'\n",
    "pickle.dump(reg, open(filename, 'wb'))"
   ]
  },
  {
   "cell_type": "code",
   "execution_count": null,
   "id": "cff0d743",
   "metadata": {},
   "outputs": [],
   "source": []
  }
 ],
 "metadata": {
  "kernelspec": {
   "display_name": "Python 3",
   "language": "python",
   "name": "python3"
  },
  "language_info": {
   "codemirror_mode": {
    "name": "ipython",
    "version": 3
   },
   "file_extension": ".py",
   "mimetype": "text/x-python",
   "name": "python",
   "nbconvert_exporter": "python",
   "pygments_lexer": "ipython3",
   "version": "3.8.10"
  }
 },
 "nbformat": 4,
 "nbformat_minor": 5
}

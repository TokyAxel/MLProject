{
 "cells": [
  {
   "cell_type": "code",
   "execution_count": 40,
   "id": "74e2c5b9",
   "metadata": {},
   "outputs": [],
   "source": [
    "from sklearn.ensemble import GradientBoostingRegressor\n",
    "from sklearn.ensemble import RandomForestRegressor\n",
    "from sklearn.svm import SVR\n",
    "from sklearn.model_selection import cross_validate\n",
    "from sklearn import linear_model\n",
    "from sklearn.inspection import permutation_importance\n",
    "from sklearn.preprocessing import StandardScaler\n",
    "from sklearn.metrics import mean_squared_error\n",
    "import numpy as np\n",
    "import pandas as pd\n",
    "import seaborn as sns\n",
    "import matplotlib.pyplot as plt"
   ]
  },
  {
   "cell_type": "code",
   "execution_count": 41,
   "id": "ef28b650",
   "metadata": {},
   "outputs": [],
   "source": [
    "data = pd.read_csv(\"../../../Data/Dataset_v2.csv\",sep=\";\")"
   ]
  },
  {
   "cell_type": "code",
   "execution_count": 42,
   "id": "fb0da6bb",
   "metadata": {},
   "outputs": [
    {
     "data": {
      "text/plain": [
       "(13666, 24)"
      ]
     },
     "execution_count": 42,
     "metadata": {},
     "output_type": "execute_result"
    }
   ],
   "source": [
    "data.shape"
   ]
  },
  {
   "cell_type": "markdown",
   "id": "b21e72f3",
   "metadata": {},
   "source": [
    "### Get features categorie"
   ]
  },
  {
   "cell_type": "code",
   "execution_count": 43,
   "id": "2623ad90",
   "metadata": {},
   "outputs": [],
   "source": [
    "def categorisation(data,date_cols,target=\"price\"):\n",
    "    distance = []\n",
    "    date = []\n",
    "    numerique = []\n",
    "    categorique = []\n",
    "    for col in data.columns:\n",
    "        if data[col].dtypes == np.object:\n",
    "            try:\n",
    "                if str(type(eval(data[col][data[col].first_valid_index()]))) == \"<class 'list'>\":\n",
    "                    distance.append(col)\n",
    "                elif col in date_cols:\n",
    "                    date.append(col)\n",
    "                else:\n",
    "                    categorique.append(col)\n",
    "            except:\n",
    "                if col in date_cols:\n",
    "                    date.append(col)\n",
    "                else:\n",
    "                    categorique.append(col)\n",
    "                \n",
    "            \n",
    "        else :\n",
    "            if col != target:\n",
    "                numerique.append(col)\n",
    "                \n",
    "    return dict({\"numerique\":numerique,\"categorique\":categorique,\"date\":date,\"distance\":distance})\n",
    "\n",
    "feat_cat = categorisation(data,[\"Listing Date\"])"
   ]
  },
  {
   "cell_type": "markdown",
   "id": "0e9abf20",
   "metadata": {},
   "source": [
    "### Missing value overview"
   ]
  },
  {
   "cell_type": "code",
   "execution_count": 44,
   "id": "cfd2fa9f",
   "metadata": {
    "scrolled": false
   },
   "outputs": [
    {
     "data": {
      "text/plain": [
       "name                                 0\n",
       "price                                0\n",
       "province                             0\n",
       "city                                 0\n",
       "address                              0\n",
       "type_of_property                     0\n",
       "floor_size                        5729\n",
       "bathrooms                         1796\n",
       "pool                             10259\n",
       "security                          7810\n",
       "health                            8318\n",
       "food_and_entertainment            4900\n",
       "shopping                          8599\n",
       "sports_and_leisure                6690\n",
       "levies                            7315\n",
       "rates_and_taxes                   5012\n",
       "pets_allowed                      6570\n",
       "bedrooms                          1497\n",
       "kitchens                          8646\n",
       "education                          356\n",
       "transport_and_public_services     1791\n",
       "garage                            6461\n",
       "gardens                          12149\n",
       "sampling                             0\n",
       "dtype: int64"
      ]
     },
     "execution_count": 44,
     "metadata": {},
     "output_type": "execute_result"
    }
   ],
   "source": [
    "data.isna().sum()"
   ]
  },
  {
   "cell_type": "markdown",
   "id": "fe7d84db",
   "metadata": {},
   "source": [
    "### Not use \"address\" and \"name\"  because of high cardinality"
   ]
  },
  {
   "cell_type": "code",
   "execution_count": 45,
   "id": "71531ea9",
   "metadata": {},
   "outputs": [
    {
     "data": {
      "text/plain": [
       "5325"
      ]
     },
     "execution_count": 45,
     "metadata": {},
     "output_type": "execute_result"
    }
   ],
   "source": [
    "len(data[\"address\"].unique())"
   ]
  },
  {
   "cell_type": "code",
   "execution_count": 46,
   "id": "af7ae3a9",
   "metadata": {
    "scrolled": true
   },
   "outputs": [
    {
     "data": {
      "text/plain": [
       "7187"
      ]
     },
     "execution_count": 46,
     "metadata": {},
     "output_type": "execute_result"
    }
   ],
   "source": [
    "len(data[\"name\"].unique())"
   ]
  },
  {
   "cell_type": "code",
   "execution_count": 47,
   "id": "2c4abc87",
   "metadata": {},
   "outputs": [],
   "source": [
    "data = data.drop([\"address\",\"name\"],axis=1)"
   ]
  },
  {
   "cell_type": "markdown",
   "id": "7f25da83",
   "metadata": {},
   "source": [
    "## 1) Categorical feature engineering"
   ]
  },
  {
   "cell_type": "code",
   "execution_count": 48,
   "id": "cb8f5259",
   "metadata": {},
   "outputs": [
    {
     "data": {
      "text/plain": [
       "['name',\n",
       " 'province',\n",
       " 'city',\n",
       " 'address',\n",
       " 'type_of_property',\n",
       " 'pool',\n",
       " 'security',\n",
       " 'pets_allowed',\n",
       " 'garage']"
      ]
     },
     "execution_count": 48,
     "metadata": {},
     "output_type": "execute_result"
    }
   ],
   "source": [
    "feat_cat[\"categorique\"]"
   ]
  },
  {
   "cell_type": "markdown",
   "id": "6028d4e8",
   "metadata": {},
   "source": [
    "###  \"binarisation\" (Yes = 1, No = 0) of pool, security and garage where \"missing\" == 0 (No)"
   ]
  },
  {
   "cell_type": "code",
   "execution_count": 49,
   "id": "9164c5a4",
   "metadata": {},
   "outputs": [
    {
     "name": "stdout",
     "output_type": "stream",
     "text": [
      "Newly gunited 2020\n",
      "Not Functional\n",
      "Not in working condition - leaking\n",
      "Newly renovated pool - full...\n",
      "Units are on show every Wednesday, Saturday & Sunday from 1:00pm - 5:00pm\n"
     ]
    }
   ],
   "source": [
    "for v in data[\"pool\"].unique():\n",
    "    if str(v)!=\"nan\":\n",
    "        if \"no\" in v or \"No\" in v or \"0\" in v or \"NO\" in v :\n",
    "            print(v)"
   ]
  },
  {
   "cell_type": "code",
   "execution_count": 50,
   "id": "ff878400",
   "metadata": {},
   "outputs": [
    {
     "name": "stdout",
     "output_type": "stream",
     "text": [
      "No\n",
      "Beams not connected \n",
      "No alarms\n",
      "alarm  not activated\n",
      "Electric fencing - double, except 200 metres bordering to neighbor.\n"
     ]
    }
   ],
   "source": [
    "for v in data[\"security\"].unique():\n",
    "    if str(v)!=\"nan\":\n",
    "        if \"no\" in v or \"No\" in v or \"0\" in v or \"NO\" in v :\n",
    "            print(v)"
   ]
  },
  {
   "cell_type": "code",
   "execution_count": 51,
   "id": "495cc2c6",
   "metadata": {},
   "outputs": [],
   "source": [
    "no_garage = []\n",
    "for v in data[\"garage\"].unique():\n",
    "    if str(v)!=\"nan\":\n",
    "        if \"0.0\" in v or \"NO\" in v :\n",
    "            no_garage.append(v)"
   ]
  },
  {
   "cell_type": "code",
   "execution_count": 52,
   "id": "4bf33417",
   "metadata": {
    "scrolled": true
   },
   "outputs": [
    {
     "data": {
      "text/plain": [
       "['0.0 Garage(s), No Garage',\n",
       " '0.0 Garage(s), Parking in front of building',\n",
       " '0.0 Garage(s), Parking',\n",
       " '0.0 Garage(s), Plenty open bay parking for 6 or...']"
      ]
     },
     "execution_count": 52,
     "metadata": {},
     "output_type": "execute_result"
    }
   ],
   "source": [
    "no_garage"
   ]
  },
  {
   "cell_type": "code",
   "execution_count": 53,
   "id": "577be1ba",
   "metadata": {},
   "outputs": [
    {
     "name": "stderr",
     "output_type": "stream",
     "text": [
      "<ipython-input-53-d4092088be62>:10: SettingWithCopyWarning: \n",
      "A value is trying to be set on a copy of a slice from a DataFrame\n",
      "\n",
      "See the caveats in the documentation: https://pandas.pydata.org/pandas-docs/stable/user_guide/indexing.html#returning-a-view-versus-a-copy\n",
      "  data[col][data[col]>1.] = 1.\n",
      "<ipython-input-53-d4092088be62>:20: SettingWithCopyWarning: \n",
      "A value is trying to be set on a copy of a slice from a DataFrame\n",
      "\n",
      "See the caveats in the documentation: https://pandas.pydata.org/pandas-docs/stable/user_guide/indexing.html#returning-a-view-versus-a-copy\n",
      "  data[col][data[col]>1.] = 1.\n",
      "<ipython-input-53-d4092088be62>:27: SettingWithCopyWarning: \n",
      "A value is trying to be set on a copy of a slice from a DataFrame\n",
      "\n",
      "See the caveats in the documentation: https://pandas.pydata.org/pandas-docs/stable/user_guide/indexing.html#returning-a-view-versus-a-copy\n",
      "  data[col][data[col]>1.] = 1.\n"
     ]
    }
   ],
   "source": [
    "for col in feat_cat[\"categorique\"]:\n",
    "    if col == \"pets_allowed\":\n",
    "        data[col] = data[col].replace(np.nan,\"missing\")\n",
    "    elif col == \"pool\":\n",
    "        data[col] = data[col].replace(r\"Not Functional\",np.nan,regex=True)\n",
    "        data[col] = data[col].replace(r\"Not in working condition - leaking\",np.nan,regex=True)\n",
    "        data[col] = data[col].replace(np.nan,\"0\")\n",
    "        data[col] = pd.to_numeric(data[col], errors='coerce')\n",
    "        data[col] = data[col].replace(np.nan,1.)\n",
    "        data[col][data[col]>1.] = 1.\n",
    "        \n",
    "    elif col == 'security':\n",
    "        data[col] = data[col].replace(r\"No\",np.nan,regex=True)\n",
    "        data[col] = data[col].replace(r\"No alarms\",np.nan,regex=True)\n",
    "        data[col] = data[col].replace(r\"alarm  not activated\",np.nan,regex=True)\n",
    "        data[col] = data[col].replace(r\"Beams not connected\",np.nan,regex=True)\n",
    "        data[col] = data[col].replace(np.nan,\"0\")\n",
    "        data[col] = pd.to_numeric(data[col], errors='coerce')\n",
    "        data[col] = data[col].replace(np.nan,1.)\n",
    "        data[col][data[col]>1.] = 1.\n",
    "\n",
    "    elif col == \"garage\":\n",
    "        data[col] = data[col].replace(no_garage,np.nan,regex=True)\n",
    "        data[col] = data[col].replace(np.nan,\"0\")\n",
    "        data[col] = pd.to_numeric(data[col], errors='coerce')\n",
    "        data[col] = data[col].replace(np.nan,1.)\n",
    "        data[col][data[col]>1.] = 1.\n",
    "    else :\n",
    "        pass"
   ]
  },
  {
   "cell_type": "code",
   "execution_count": 54,
   "id": "676eca12",
   "metadata": {},
   "outputs": [
    {
     "data": {
      "text/plain": [
       "array([1., 0.])"
      ]
     },
     "execution_count": 54,
     "metadata": {},
     "output_type": "execute_result"
    }
   ],
   "source": [
    "data[\"pool\"].unique()"
   ]
  },
  {
   "cell_type": "code",
   "execution_count": 55,
   "id": "2d05e60e",
   "metadata": {},
   "outputs": [
    {
     "data": {
      "text/plain": [
       "array([1., 0.])"
      ]
     },
     "execution_count": 55,
     "metadata": {},
     "output_type": "execute_result"
    }
   ],
   "source": [
    "data[\"security\"].unique()"
   ]
  },
  {
   "cell_type": "code",
   "execution_count": 56,
   "id": "4fdc69c7",
   "metadata": {},
   "outputs": [
    {
     "data": {
      "text/plain": [
       "array([0., 1.])"
      ]
     },
     "execution_count": 56,
     "metadata": {},
     "output_type": "execute_result"
    }
   ],
   "source": [
    "data[\"garage\"].unique()"
   ]
  },
  {
   "cell_type": "markdown",
   "id": "d517181e",
   "metadata": {},
   "source": [
    "## 2) Numeric Feature engineering "
   ]
  },
  {
   "cell_type": "markdown",
   "id": "0b6f6111",
   "metadata": {},
   "source": [
    "### Transform distance features to lenght of list"
   ]
  },
  {
   "cell_type": "code",
   "execution_count": 57,
   "id": "f3536a8b",
   "metadata": {},
   "outputs": [],
   "source": [
    "class transfo_distance:\n",
    "    def __init__(self,data,features=None):\n",
    "        self.data = data\n",
    "        self.method = None\n",
    "        ### Get features\n",
    "        self.distance=[]\n",
    "        if features is None:\n",
    "            for col in data.columns:\n",
    "                if data[col].dtypes == np.object:\n",
    "                    try:\n",
    "                        if str(type(eval(data[col][data[col].first_valid_index()]))) == \"<class 'list'>\":\n",
    "                            self.distance.append(col)\n",
    "                    except:\n",
    "                        pass\n",
    "        else:\n",
    "            distance=features\n",
    "        \n",
    "        ###Transformations : \"mean\", \"median\", \"max\", \"min\", \"len\"\n",
    "    def transformation(self,method):\n",
    "        self.method = method\n",
    "        for feat in self.distance:\n",
    "            serie = []\n",
    "            for i in data[feat]:\n",
    "                if str(i) != \"nan\":\n",
    "                    serie.append(self.checker(i))\n",
    "                else :\n",
    "                    serie.append(np.nan)\n",
    "            self.data[feat] = serie\n",
    "            \n",
    "    def checker(self,value):\n",
    "        if self.method==\"mean\":\n",
    "            return (np.array(eval(value))).mean()\n",
    "        elif self.method ==\"median\":\n",
    "            return (np.array(eval(value))).mediane()\n",
    "        elif self.method ==\"min\":\n",
    "            return (np.array(eval(value))).min()\n",
    "        elif self.method ==\"max\":\n",
    "            return (np.array(eval(value))).max()\n",
    "        elif self.method ==\"len\":\n",
    "            return float(len(eval(value)))\n",
    "        else:\n",
    "            raise('choose correct method : \"mean\", \"median\", \"max\", \"min\", \"len\"')\n",
    "    \n",
    "    def get_data(self,method=\"mean\"):\n",
    "        self.transformation(method)\n",
    "        return self.data"
   ]
  },
  {
   "cell_type": "code",
   "execution_count": 58,
   "id": "cbfdc0f1",
   "metadata": {},
   "outputs": [
    {
     "data": {
      "text/plain": [
       "(13666, 22)"
      ]
     },
     "execution_count": 58,
     "metadata": {},
     "output_type": "execute_result"
    }
   ],
   "source": [
    "trans_dist = transfo_distance(data)\n",
    "data = trans_dist.get_data(method=\"len\")\n",
    "data.shape"
   ]
  },
  {
   "cell_type": "markdown",
   "id": "0126099a",
   "metadata": {},
   "source": [
    "#### Ampute missing by 0"
   ]
  },
  {
   "cell_type": "code",
   "execution_count": 59,
   "id": "e13f3d71",
   "metadata": {},
   "outputs": [],
   "source": [
    "data[feat_cat[\"distance\"]] = data[feat_cat[\"distance\"]].fillna(0.)"
   ]
  },
  {
   "cell_type": "markdown",
   "id": "22da1d53",
   "metadata": {},
   "source": [
    "### Check lenght of distances vs price"
   ]
  },
  {
   "cell_type": "code",
   "execution_count": 60,
   "id": "17943e98",
   "metadata": {},
   "outputs": [
    {
     "name": "stderr",
     "output_type": "stream",
     "text": [
      "/home/tokyaxel/.local/lib/python3.8/site-packages/seaborn/axisgrid.py:316: UserWarning: The `size` parameter has been renamed to `height`; please update your code.\n",
      "  warnings.warn(msg, UserWarning)\n"
     ]
    },
    {
     "data": {
      "image/png": "[encoded data removed]",
      "text/plain": [
       "<Figure size 864x1296 with 6 Axes>"
      ]
     },
     "metadata": {
      "needs_background": "light"
     },
     "output_type": "display_data"
    }
   ],
   "source": [
    "def pairplot(x, y, **kwargs):\n",
    "    ax = plt.gca()\n",
    "    ts = pd.DataFrame({'time': x, 'val': y})\n",
    "    ts = ts.groupby('time').mean()\n",
    "    ts.plot(ax=ax)\n",
    "    plt.xticks(rotation=90)\n",
    "    \n",
    "feats = feat_cat[\"distance\"]\n",
    "f = pd.melt(data, id_vars=['price'], value_vars=feats)\n",
    "g = sns.FacetGrid(f, col=\"variable\",  col_wrap=2, sharex=False, sharey=False, size=6)\n",
    "g = g.map(pairplot, \"value\", \"price\")"
   ]
  },
  {
   "cell_type": "markdown",
   "id": "e0c563ca",
   "metadata": {},
   "source": [
    "### Ampute missing by 1 for bedrooms, kitchens, bathrooms (We suppose there are one at least)"
   ]
  },
  {
   "cell_type": "code",
   "execution_count": 61,
   "id": "e21cd408",
   "metadata": {},
   "outputs": [],
   "source": [
    "data[[\"bedrooms\", \"kitchens\", \"bathrooms\"]] = data[[\"bedrooms\", \"kitchens\", \"bathrooms\"]].fillna(1.)"
   ]
  },
  {
   "cell_type": "markdown",
   "id": "20b07415",
   "metadata": {},
   "source": [
    "### Ampute missing by median for floor size, levies, rates_and_taxes"
   ]
  },
  {
   "cell_type": "code",
   "execution_count": 62,
   "id": "6838b98f",
   "metadata": {},
   "outputs": [],
   "source": [
    "data[[\"floor_size\", \"levies\", \"rates_and_taxes\"]] = data[[\"floor_size\", \"levies\", \"rates_and_taxes\"]].fillna(data[[\"floor_size\", \"levies\", \"rates_and_taxes\"]].median())"
   ]
  },
  {
   "cell_type": "markdown",
   "id": "ba925a6c",
   "metadata": {},
   "source": [
    "Drop gardens and city (high cardinality)"
   ]
  },
  {
   "cell_type": "code",
   "execution_count": 63,
   "id": "0152ba1e",
   "metadata": {},
   "outputs": [],
   "source": [
    "data = data.drop([\"gardens\",\"city\"],axis=1)"
   ]
  },
  {
   "cell_type": "code",
   "execution_count": 64,
   "id": "9292aa81",
   "metadata": {},
   "outputs": [
    {
     "data": {
      "text/plain": [
       "{'numerique': ['floor_size',\n",
       "  'bathrooms',\n",
       "  'pool',\n",
       "  'security',\n",
       "  'health',\n",
       "  'food_and_entertainment',\n",
       "  'shopping',\n",
       "  'sports_and_leisure',\n",
       "  'levies',\n",
       "  'rates_and_taxes',\n",
       "  'bedrooms',\n",
       "  'kitchens',\n",
       "  'education',\n",
       "  'transport_and_public_services',\n",
       "  'garage',\n",
       "  'sampling'],\n",
       " 'categorique': ['province', 'type_of_property', 'pets_allowed'],\n",
       " 'date': [],\n",
       " 'distance': []}"
      ]
     },
     "execution_count": 64,
     "metadata": {},
     "output_type": "execute_result"
    }
   ],
   "source": [
    "feat_cat = categorisation(data,[\"Listing Date\"])\n",
    "feat_cat"
   ]
  },
  {
   "cell_type": "markdown",
   "id": "43900d86",
   "metadata": {},
   "source": [
    "### ordinal encoding"
   ]
  },
  {
   "cell_type": "code",
   "execution_count": 65,
   "id": "a9ed898e",
   "metadata": {},
   "outputs": [],
   "source": [
    "def encode(frame, feature):\n",
    "    ordering = pd.DataFrame()\n",
    "    ordering['val'] = frame[feature].unique()\n",
    "    ordering.index = ordering.val\n",
    "    ordering['spmean'] = frame[[feature, 'price']].groupby(feature).mean()['price']\n",
    "    #print(frame[[feature, 'a']].groupby(feature).mean()['a'])\n",
    "    ordering = ordering.sort_values('spmean')\n",
    "    ordering['ordering'] = range(1, ordering.shape[0]+1)\n",
    "    #print(ordering)\n",
    "    ordering = ordering['ordering'].to_dict()\n",
    "    #print(ordering)\n",
    "    \n",
    "    for cat, o in ordering.items():\n",
    "        frame.loc[frame[feature] == cat, feature+'_E'] = o"
   ]
  },
  {
   "cell_type": "code",
   "execution_count": 66,
   "id": "17a76dec",
   "metadata": {},
   "outputs": [
    {
     "name": "stdout",
     "output_type": "stream",
     "text": [
      "['province_E', 'type_of_property_E', 'pets_allowed_E']\n"
     ]
    }
   ],
   "source": [
    "qual_encoded = []\n",
    "for q in feat_cat[\"categorique\"]:  \n",
    "    encode(data, q)\n",
    "    qual_encoded.append(q+'_E')\n",
    "print(qual_encoded)"
   ]
  },
  {
   "cell_type": "code",
   "execution_count": 67,
   "id": "d0c5dff4",
   "metadata": {},
   "outputs": [
    {
     "data": {
      "text/plain": [
       "Index(['price', 'province', 'type_of_property', 'floor_size', 'bathrooms',\n",
       "       'pool', 'security', 'health', 'food_and_entertainment', 'shopping',\n",
       "       'sports_and_leisure', 'levies', 'rates_and_taxes', 'pets_allowed',\n",
       "       'bedrooms', 'kitchens', 'education', 'transport_and_public_services',\n",
       "       'garage', 'sampling', 'province_E', 'type_of_property_E',\n",
       "       'pets_allowed_E'],\n",
       "      dtype='object')"
      ]
     },
     "execution_count": 67,
     "metadata": {},
     "output_type": "execute_result"
    }
   ],
   "source": [
    "data.columns"
   ]
  },
  {
   "cell_type": "code",
   "execution_count": 83,
   "id": "e9f2729b",
   "metadata": {},
   "outputs": [],
   "source": [
    "feats=['floor_size', 'bathrooms',\n",
    "       'pool', 'security', 'health', 'food_and_entertainment', 'shopping',\n",
    "       'sports_and_leisure', 'levies', 'rates_and_taxes',\n",
    "       'bedrooms', 'kitchens', 'education', 'transport_and_public_services',\n",
    "       'garage', 'sampling', 'province_E', 'type_of_property_E',\n",
    "       'pets_allowed_E']"
   ]
  },
  {
   "cell_type": "code",
   "execution_count": 84,
   "id": "e80beeaa",
   "metadata": {},
   "outputs": [
    {
     "data": {
      "text/plain": [
       "(13666, 23)"
      ]
     },
     "execution_count": 84,
     "metadata": {},
     "output_type": "execute_result"
    }
   ],
   "source": [
    "data.shape"
   ]
  },
  {
   "cell_type": "markdown",
   "id": "f970979d",
   "metadata": {},
   "source": [
    "### Sampling"
   ]
  },
  {
   "cell_type": "code",
   "execution_count": 85,
   "id": "b9304d83",
   "metadata": {},
   "outputs": [],
   "source": [
    "def split_data(data,target,col=\"sampling\",features_to_keep=None):\n",
    "    if features_to_keep is not None :\n",
    "        features_to_keep = features_to_keep + [target]\n",
    "        data = data[features_to_keep]\n",
    "        \n",
    "    unique = data[\"sampling\"].unique()\n",
    "    for i, v in enumerate(unique):\n",
    "        if v == 1 :\n",
    "            data_train = data[data[col]==v]\n",
    "            y_train = data_train[target]\n",
    "            X_train = data_train.drop([target,\"sampling\"],axis=1)\n",
    "            print(\"train shape :\",X_train.shape)\n",
    "        elif v == 2 :\n",
    "            data_val = data[data[col]==v]\n",
    "            y_val = data_val[target]\n",
    "            X_val = data_val.drop([target,\"sampling\"],axis=1)\n",
    "            print(\"val shape :\",X_val.shape)\n",
    "        elif v == 3 :\n",
    "            data_test = data[data[col]==v]\n",
    "            y_test = data_test[target]\n",
    "            X_test = data_test.drop([target,\"sampling\"],axis=1)\n",
    "            print(\"test shape :\",X_test.shape)\n",
    "    \n",
    "            \n",
    "    return X_train, np.log(y_train), X_val, np.log(y_val), X_test, np.log(y_test)"
   ]
  },
  {
   "cell_type": "code",
   "execution_count": 86,
   "id": "5ba3014a",
   "metadata": {},
   "outputs": [
    {
     "name": "stdout",
     "output_type": "stream",
     "text": [
      "train shape : (9564, 18)\n",
      "val shape : (2053, 18)\n",
      "test shape : (2049, 18)\n"
     ]
    }
   ],
   "source": [
    "X_, y_, X_val, y_val, X_test, y_test = split_data(data,\"price\",features_to_keep=feats)"
   ]
  },
  {
   "cell_type": "code",
   "execution_count": 87,
   "id": "f2bd3124",
   "metadata": {},
   "outputs": [],
   "source": [
    "X_train = X_val.append(X_)\n",
    "y_train = y_val.append(y_)"
   ]
  },
  {
   "cell_type": "markdown",
   "id": "ab7de29c",
   "metadata": {},
   "source": [
    "# Model : Gradient Boosting\n",
    "https://scikit-learn.org/stable/auto_examples/ensemble/plot_gradient_boosting_regression.html"
   ]
  },
  {
   "cell_type": "code",
   "execution_count": 88,
   "id": "ac7b9878",
   "metadata": {},
   "outputs": [],
   "source": [
    "params = {'n_estimators': 500,\n",
    "          'max_depth': 4,\n",
    "          'min_samples_split': 5,\n",
    "          'learning_rate': 0.01,\n",
    "          'loss': 'ls'}"
   ]
  },
  {
   "cell_type": "code",
   "execution_count": 89,
   "id": "9da68608",
   "metadata": {},
   "outputs": [
    {
     "data": {
      "text/plain": [
       "GradientBoostingRegressor()"
      ]
     },
     "execution_count": 89,
     "metadata": {},
     "output_type": "execute_result"
    }
   ],
   "source": [
    "reg = GradientBoostingRegressor()\n",
    "reg.fit(X_train, y_train)"
   ]
  },
  {
   "cell_type": "markdown",
   "id": "4c0a1385",
   "metadata": {},
   "source": [
    "### RMSE on validation set"
   ]
  },
  {
   "cell_type": "code",
   "execution_count": 90,
   "id": "19351373",
   "metadata": {
    "scrolled": true
   },
   "outputs": [
    {
     "name": "stdout",
     "output_type": "stream",
     "text": [
      "The Root mean squared error (RMSE) on val set: 0.4091\n",
      "The Root mean squared error (RMSE) on train set: 0.3964\n"
     ]
    }
   ],
   "source": [
    "rmse = np.sqrt(mean_squared_error(y_test, reg.predict(X_test)))\n",
    "print(\"The Root mean squared error (RMSE) on val set: {:.4f}\".format(rmse))\n",
    "rmse = np.sqrt(mean_squared_error(y_train, reg.predict(X_train)))\n",
    "print(\"The Root mean squared error (RMSE) on train set: {:.4f}\".format(rmse))"
   ]
  },
  {
   "cell_type": "markdown",
   "id": "9b87d9a8",
   "metadata": {},
   "source": [
    "#### feature mportance"
   ]
  },
  {
   "cell_type": "code",
   "execution_count": 91,
   "id": "f9ea0bc0",
   "metadata": {
    "scrolled": false
   },
   "outputs": [
    {
     "data": {
      "image/png": "[encoded data removed]",
      "text/plain": [
       "<Figure size 864x432 with 2 Axes>"
      ]
     },
     "metadata": {
      "needs_background": "light"
     },
     "output_type": "display_data"
    }
   ],
   "source": [
    "feature_importance = reg.feature_importances_\n",
    "sorted_idx = np.argsort(feature_importance)\n",
    "pos = np.arange(sorted_idx.shape[0]) + .5\n",
    "fig = plt.figure(figsize=(12, 6))\n",
    "plt.subplot(1, 2, 1)\n",
    "plt.barh(pos, feature_importance[sorted_idx], align='center')\n",
    "plt.yticks(pos, np.array(X_train.columns)[sorted_idx])\n",
    "plt.title('Feature Importance (MDI)')\n",
    "\n",
    "result = permutation_importance(reg, X_val, y_val, n_repeats=10,\n",
    "                                random_state=42, n_jobs=2)\n",
    "sorted_idx = result.importances_mean.argsort()\n",
    "plt.subplot(1, 2, 2)\n",
    "plt.boxplot(result.importances[sorted_idx].T,\n",
    "            vert=False, labels=np.array(X_train.columns)[sorted_idx])\n",
    "plt.title(\"Permutation Importance (val set)\")\n",
    "fig.tight_layout()\n",
    "plt.show()"
   ]
  },
  {
   "cell_type": "code",
   "execution_count": 92,
   "id": "3aa73177",
   "metadata": {},
   "outputs": [
    {
     "name": "stdout",
     "output_type": "stream",
     "text": [
      "Model : RF\n",
      "The Root mean squared error (RMSE) on val set: 0.4082\n",
      "The Root mean squared error (RMSE) on train set: 0.1632\n",
      "Model : RidgeCV\n",
      "The Root mean squared error (RMSE) on val set: 0.4765\n",
      "The Root mean squared error (RMSE) on train set: 0.4828\n",
      "Model : SVR\n",
      "The Root mean squared error (RMSE) on val set: 0.5716\n",
      "The Root mean squared error (RMSE) on train set: 0.5628\n"
     ]
    }
   ],
   "source": [
    "print(\"Model : RF\")\n",
    "\n",
    "RF = RandomForestRegressor()\n",
    "RF.fit(X_train, y_train)\n",
    "\n",
    "rmse = np.sqrt(mean_squared_error(y_test, RF.predict(X_test)))\n",
    "print(\"The Root mean squared error (RMSE) on val set: {:.4f}\".format(rmse))\n",
    "rmse = np.sqrt(mean_squared_error(y_train, RF.predict(X_train)))\n",
    "print(\"The Root mean squared error (RMSE) on train set: {:.4f}\".format(rmse))\n",
    "\n",
    "print(\"Model : RidgeCV\")\n",
    "\n",
    "regCV = linear_model.RidgeCV(alphas=np.logspace(-6, 6, 13))\n",
    "regCV.fit(X_train, y_train)\n",
    "\n",
    "rmse = np.sqrt(mean_squared_error(y_test, regCV.predict(X_test)))\n",
    "print(\"The Root mean squared error (RMSE) on val set: {:.4f}\".format(rmse))\n",
    "rmse = np.sqrt(mean_squared_error(y_train, regCV.predict(X_train)))\n",
    "print(\"The Root mean squared error (RMSE) on train set: {:.4f}\".format(rmse))\n",
    "\n",
    "print(\"Model : SVR\")\n",
    "\n",
    "regr = SVR(C=1.0,epsilon=0.2)\n",
    "regr.fit(X_train, y_train)\n",
    "\n",
    "rmse = np.sqrt(mean_squared_error(y_test, regr.predict(X_test)))\n",
    "print(\"The Root mean squared error (RMSE) on val set: {:.4f}\".format(rmse))\n",
    "rmse = np.sqrt(mean_squared_error(y_train, regr.predict(X_train)))\n",
    "print(\"The Root mean squared error (RMSE) on train set: {:.4f}\".format(rmse))"
   ]
  },
  {
   "cell_type": "code",
   "execution_count": null,
   "id": "9b54de88",
   "metadata": {},
   "outputs": [],
   "source": []
  }
 ],
 "metadata": {
  "kernelspec": {
   "display_name": "Python 3",
   "language": "python",
   "name": "python3"
  },
  "language_info": {
   "codemirror_mode": {
    "name": "ipython",
    "version": 3
   },
   "file_extension": ".py",
   "mimetype": "text/x-python",
   "name": "python",
   "nbconvert_exporter": "python",
   "pygments_lexer": "ipython3",
   "version": "3.8.10"
  }
 },
 "nbformat": 4,
 "nbformat_minor": 5
}

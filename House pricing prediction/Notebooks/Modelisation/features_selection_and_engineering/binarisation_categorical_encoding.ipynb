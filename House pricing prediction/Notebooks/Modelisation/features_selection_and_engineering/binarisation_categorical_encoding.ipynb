{
 "cells": [
  {
   "cell_type": "markdown",
   "source": [
    "### 3) Encodage :\n",
    "\n",
    "- Pets Allowes en variable bool;\n",
    "- Pool en variable bool;\n",
    "- Garage en variable bool;\n",
    "- Nan des variables catégoriques -> \"missing\"\n"
   ],
   "metadata": {}
  },
  {
   "cell_type": "code",
   "execution_count": null,
   "source": [
    "data[\"Pets Allowed\"].value_counts()\r\n",
    "\r\n",
    "for pool in data[\"Pool\"].value_counts().index:\r\n",
    "    print(pool)\r\n",
    "\r\n",
    "for col in data.columns:\r\n",
    "    if col == \"Pets Allowed\":\r\n",
    "        data[col] = data[col].replace(np.nan,\"missing\")\r\n",
    "    elif col == \"Pool\":\r\n",
    "        data[col] = data[col].replace(r\".*\",\"y\",regex=True)\r\n",
    "        data[col] = data[col].replace(r\"yy\",\"Yes\",regex=True)\r\n",
    "        data[col] = data[col].replace(np.nan,\"missing\")\r\n",
    "    elif col == \"Garage\":\r\n",
    "        data[col] = data[col].replace(r\".*\",\"y\",regex=True)\r\n",
    "        data[col] = data[col].replace(r\"yy\",\"Yes\",regex=True)\r\n",
    "        data[col] = data[col].replace(np.nan,\"missing\")\r\n",
    "    else :\r\n",
    "        try :\r\n",
    "            data[col] = pd.to_numeric(data[col])\r\n",
    "        except:\r\n",
    "            if col not in feat_cat[\"distance\"]:\r\n",
    "                data[col] = data[col].replace(np.nan,\"missing\")\r\n",
    "\r\n",
    "data[\"Pets Allowed\"].value_counts()\r\n",
    "\r\n",
    "data[\"Pool\"].value_counts()"
   ],
   "outputs": [],
   "metadata": {}
  }
 ],
 "metadata": {
  "kernelspec": {
   "display_name": "Python 3",
   "language": "python",
   "name": "python3"
  },
  "language_info": {
   "codemirror_mode": {
    "name": "ipython",
    "version": 3
   },
   "file_extension": ".py",
   "mimetype": "text/x-python",
   "name": "python",
   "nbconvert_exporter": "python",
   "pygments_lexer": "ipython3",
   "version": "3.8.10"
  }
 },
 "nbformat": 4,
 "nbformat_minor": 5
}
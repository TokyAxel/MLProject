{
 "cells": [
  {
   "cell_type": "code",
   "execution_count": 1,
   "id": "74e2c5b9",
   "metadata": {},
   "outputs": [],
   "source": [
    "from sklearn.ensemble import GradientBoostingRegressor\n",
    "from sklearn.ensemble import RandomForestRegressor\n",
    "from sklearn.svm import SVR\n",
    "from sklearn.model_selection import cross_validate\n",
    "from sklearn import linear_model\n",
    "from sklearn.inspection import permutation_importance\n",
    "from sklearn.preprocessing import StandardScaler\n",
    "from sklearn.metrics import mean_squared_error\n",
    "from sklearn.model_selection import GridSearchCV\n",
    "import numpy as np\n",
    "import pandas as pd\n",
    "import seaborn as sns\n",
    "import matplotlib.pyplot as plt"
   ]
  },
  {
   "cell_type": "code",
   "execution_count": 2,
   "id": "ef28b650",
   "metadata": {},
   "outputs": [],
   "source": [
    "data = pd.read_csv(\"../../../Data/Dataset_zero_numeric_missing_v2.csv\",sep=\";\")"
   ]
  },
  {
   "cell_type": "code",
   "execution_count": 3,
   "id": "fb0da6bb",
   "metadata": {
    "scrolled": true
   },
   "outputs": [
    {
     "data": {
      "text/plain": [
       "(11087, 15)"
      ]
     },
     "execution_count": 3,
     "metadata": {},
     "output_type": "execute_result"
    }
   ],
   "source": [
    "data.shape"
   ]
  },
  {
   "cell_type": "markdown",
   "id": "aa0ff31c",
   "metadata": {},
   "source": [
    "#### drop address and name  because high cardinality"
   ]
  },
  {
   "cell_type": "code",
   "execution_count": 4,
   "id": "1e594854",
   "metadata": {},
   "outputs": [],
   "source": [
    "data = data.drop([\"address\",\"name\"],axis=1)"
   ]
  },
  {
   "cell_type": "markdown",
   "id": "b21e72f3",
   "metadata": {},
   "source": [
    "### Get features categorie"
   ]
  },
  {
   "cell_type": "code",
   "execution_count": 5,
   "id": "2623ad90",
   "metadata": {},
   "outputs": [],
   "source": [
    "def categorisation(data,date_cols,target=\"price\"):\n",
    "    distance = []\n",
    "    date = []\n",
    "    numerique = []\n",
    "    categorique = []\n",
    "    for col in data.columns:\n",
    "        if data[col].dtypes == np.object:\n",
    "            try:\n",
    "                if str(type(eval(data[col][data[col].first_valid_index()]))) == \"<class 'list'>\":\n",
    "                    distance.append(col)\n",
    "                elif col in date_cols:\n",
    "                    date.append(col)\n",
    "                else:\n",
    "                    categorique.append(col)\n",
    "            except:\n",
    "                if col in date_cols:\n",
    "                    date.append(col)\n",
    "                else:\n",
    "                    categorique.append(col)\n",
    "                \n",
    "            \n",
    "        else :\n",
    "            if col != target:\n",
    "                numerique.append(col)\n",
    "                \n",
    "    return dict({\"numerique\":numerique,\"categorique\":categorique,\"date\":date,\"distance\":distance})\n",
    "\n",
    "feat_cat = categorisation(data,[\"Listing Date\"])"
   ]
  },
  {
   "cell_type": "markdown",
   "id": "7f25da83",
   "metadata": {},
   "source": [
    "### target mean ordering encoding of categorical value"
   ]
  },
  {
   "cell_type": "code",
   "execution_count": 6,
   "id": "577be1ba",
   "metadata": {},
   "outputs": [],
   "source": [
    "def encode(frame, feature):\n",
    "    ordering = pd.DataFrame()\n",
    "    ordering['val'] = frame[feature].unique()\n",
    "    ordering.index = ordering.val\n",
    "    ordering['spmean'] = frame[[feature, 'price']].groupby(feature).mean()['price']\n",
    "    #print(frame[[feature, 'a']].groupby(feature).mean()['a'])\n",
    "    ordering = ordering.sort_values('spmean')\n",
    "    ordering['ordering'] = range(1, ordering.shape[0]+1)\n",
    "    #print(ordering)\n",
    "    ordering = ordering['ordering'].to_dict()\n",
    "    #print(ordering)\n",
    "    \n",
    "    for cat, o in ordering.items():\n",
    "        frame.loc[frame[feature] == cat, feature+'_E'] = o"
   ]
  },
  {
   "cell_type": "code",
   "execution_count": 7,
   "id": "676eca12",
   "metadata": {},
   "outputs": [],
   "source": [
    "#tmp = pd.DataFrame({\"a\":[1,2,5,10],\"b\":[\"1\",\"1\",\"o\",\"o\"]})"
   ]
  },
  {
   "cell_type": "code",
   "execution_count": 8,
   "id": "ea2308dc",
   "metadata": {},
   "outputs": [
    {
     "name": "stdout",
     "output_type": "stream",
     "text": [
      "['province_E', 'city_E', 'type_of_property_E']\n"
     ]
    }
   ],
   "source": [
    "qual_encoded = []\n",
    "for q in feat_cat[\"categorique\"]:  \n",
    "    encode(data, q)\n",
    "    qual_encoded.append(q+'_E')\n",
    "print(qual_encoded)"
   ]
  },
  {
   "cell_type": "markdown",
   "id": "0b6f6111",
   "metadata": {},
   "source": [
    "### Transform distance features"
   ]
  },
  {
   "cell_type": "code",
   "execution_count": 9,
   "id": "f3536a8b",
   "metadata": {},
   "outputs": [],
   "source": [
    "class transfo_distance:\n",
    "    def __init__(self,data,features=None):\n",
    "        self.data = data.copy()\n",
    "        self.method = None\n",
    "        ### Get features\n",
    "        self.distance=[]\n",
    "        if features is None:\n",
    "            for col in data.columns:\n",
    "                if data[col].dtypes == np.object:\n",
    "                    try:\n",
    "                        if str(type(eval(data[col][data[col].first_valid_index()]))) == \"<class 'list'>\":\n",
    "                            self.distance.append(col)\n",
    "                    except:\n",
    "                        pass\n",
    "        else:\n",
    "            distance=features\n",
    "        \n",
    "        ###Transformations : \"mean\", \"median\", \"max\", \"min\", \"len\"\n",
    "    def transformation(self,method):\n",
    "        self.method = method\n",
    "        for feat in self.distance:\n",
    "            serie = []\n",
    "            for i in self.data[feat]:\n",
    "                if str(i) != \"nan\":\n",
    "                    serie.append(self.checker(i))\n",
    "                else :\n",
    "                    serie.append(np.nan)\n",
    "            self.data[feat] = serie\n",
    "            \n",
    "    def checker(self,value):\n",
    "        if self.method==\"mean\":\n",
    "            return (np.array(eval(value))).mean()\n",
    "        elif self.method ==\"median\":\n",
    "            return (np.array(eval(value))).mediane()\n",
    "        elif self.method ==\"min\":\n",
    "            return (np.array(eval(value))).min()\n",
    "        elif self.method ==\"max\":\n",
    "            return (np.array(eval(value))).max()\n",
    "        elif self.method ==\"len\":\n",
    "            return float(len(eval(value)))\n",
    "        else:\n",
    "            raise('choose correct method : \"mean\", \"median\", \"max\", \"min\", \"len\"')\n",
    "    \n",
    "    def get_data(self,method=\"mean\"):\n",
    "        self.transformation(method)\n",
    "        return self.data\n",
    "    \n",
    "trans_dist = transfo_distance(data)\n",
    "data_len = trans_dist.get_data(method=\"len\")\n",
    "\n",
    "rename_len = [i+\"_len\" for i in feat_cat[\"distance\"]]\n",
    "\n",
    "data[rename_len] = data_len[feat_cat[\"distance\"]]\n",
    "\n",
    "trans_dist = transfo_distance(data)\n",
    "data_len = trans_dist.get_data(method=\"mean\")\n",
    "\n",
    "rename_mean = [i+\"_mean\" for i in feat_cat[\"distance\"]]\n",
    "\n",
    "data[rename_mean] = data_len[feat_cat[\"distance\"]]\n",
    "\n",
    "trans_dist = transfo_distance(data)\n",
    "data_len = trans_dist.get_data(method=\"min\")\n",
    "\n",
    "rename_min = [i+\"_min\" for i in feat_cat[\"distance\"]]\n",
    "\n",
    "data[rename_min] = data_len[feat_cat[\"distance\"]]"
   ]
  },
  {
   "cell_type": "code",
   "execution_count": 10,
   "id": "35f08930",
   "metadata": {},
   "outputs": [
    {
     "data": {
      "text/plain": [
       "(11087, 25)"
      ]
     },
     "execution_count": 10,
     "metadata": {},
     "output_type": "execute_result"
    }
   ],
   "source": [
    "data.shape"
   ]
  },
  {
   "cell_type": "code",
   "execution_count": 11,
   "id": "ae1d235c",
   "metadata": {},
   "outputs": [],
   "source": [
    "data[rename_len] = data[rename_len].fillna(0.)\n",
    "data[rename_mean] = data[rename_mean].fillna(data[rename_mean].median())\n",
    "data[rename_min] = data[rename_min].fillna(data[rename_min].mean())"
   ]
  },
  {
   "cell_type": "code",
   "execution_count": 12,
   "id": "ea72793c",
   "metadata": {},
   "outputs": [],
   "source": [
    "data = data.drop([\"education\",'food_and_entertainment',\"transport_and_public_services\"],axis=1)"
   ]
  },
  {
   "cell_type": "markdown",
   "id": "22da1d53",
   "metadata": {},
   "source": [
    "### Check lenght of distances vs price"
   ]
  },
  {
   "cell_type": "code",
   "execution_count": 13,
   "id": "17943e98",
   "metadata": {},
   "outputs": [
    {
     "name": "stderr",
     "output_type": "stream",
     "text": [
      "/home/tokyaxel/.local/lib/python3.8/site-packages/seaborn/axisgrid.py:316: UserWarning: The `size` parameter has been renamed to `height`; please update your code.\n",
      "  warnings.warn(msg, UserWarning)\n"
     ]
    },
    {
     "data": {
      "image/png": "[encoded data removed]",
      "text/plain": [
       "<Figure size 864x864 with 3 Axes>"
      ]
     },
     "metadata": {
      "needs_background": "light"
     },
     "output_type": "display_data"
    }
   ],
   "source": [
    "def pairplot(x, y, **kwargs):\n",
    "    ax = plt.gca()\n",
    "    ts = pd.DataFrame({'time': x, 'val': y})\n",
    "    ts = ts.groupby('time').mean()\n",
    "    ts.plot(ax=ax)\n",
    "    plt.xticks(rotation=90)\n",
    "    \n",
    "feats = rename_len\n",
    "f = pd.melt(data, id_vars=['price'], value_vars=feats)\n",
    "g = sns.FacetGrid(f, col=\"variable\",  col_wrap=2, sharex=False, sharey=False, size=6)\n",
    "g = g.map(pairplot, \"value\", \"price\")"
   ]
  },
  {
   "cell_type": "code",
   "execution_count": 14,
   "id": "3cc42936",
   "metadata": {},
   "outputs": [],
   "source": [
    "data[[\"floor_size\", \"rates_and_taxes\"]] = data[[\"floor_size\", \"rates_and_taxes\"]].fillna(data[[\"floor_size\", \"rates_and_taxes\"]].median())"
   ]
  },
  {
   "cell_type": "markdown",
   "id": "f970979d",
   "metadata": {},
   "source": [
    "### Sampling"
   ]
  },
  {
   "cell_type": "code",
   "execution_count": 15,
   "id": "b9304d83",
   "metadata": {},
   "outputs": [],
   "source": [
    "def split_data(data,target,col=\"sampling\",features_to_keep=None):\n",
    "    if features_to_keep is not None :\n",
    "        features_to_keep = features_to_keep\n",
    "        data = data[features_to_keep]\n",
    "        \n",
    "    unique = data[\"sampling\"].unique()\n",
    "    for i, v in enumerate(unique):\n",
    "        if v == 1 :\n",
    "            data_train = data[data[col]==v]\n",
    "            y_train = data_train[target]\n",
    "            X_train = data_train.drop([target,\"sampling\"],axis=1)\n",
    "            print(\"train shape :\",X_train.shape)\n",
    "        elif v == 2 :\n",
    "            data_val = data[data[col]==v]\n",
    "            y_val = data_val[target]\n",
    "            X_val = data_val.drop([target,\"sampling\"],axis=1)\n",
    "            print(\"val shape :\",X_val.shape)\n",
    "        elif v == 3 :\n",
    "            data_test = data[data[col]==v]\n",
    "            y_test = data_test[target]\n",
    "            X_test = data_test.drop([target,\"sampling\"],axis=1)\n",
    "            print(\"test shape :\",X_test.shape)\n",
    "    \n",
    "            \n",
    "    return X_train, np.log(y_train), X_val, np.log(y_val), X_test, np.log(y_test)"
   ]
  },
  {
   "cell_type": "code",
   "execution_count": 16,
   "id": "d4bfbd54",
   "metadata": {},
   "outputs": [
    {
     "data": {
      "text/plain": [
       "Index(['Unnamed: 0', 'price', 'province', 'city', 'type_of_property',\n",
       "       'floor_size', 'bathrooms', 'rates_and_taxes', 'bedrooms', 'sampling',\n",
       "       'province_E', 'city_E', 'type_of_property_E',\n",
       "       'food_and_entertainment_len', 'education_len',\n",
       "       'transport_and_public_services_len', 'food_and_entertainment_mean',\n",
       "       'education_mean', 'transport_and_public_services_mean',\n",
       "       'food_and_entertainment_min', 'education_min',\n",
       "       'transport_and_public_services_min'],\n",
       "      dtype='object')"
      ]
     },
     "execution_count": 16,
     "metadata": {},
     "output_type": "execute_result"
    }
   ],
   "source": [
    "data.columns"
   ]
  },
  {
   "cell_type": "code",
   "execution_count": 17,
   "id": "5de6eb20",
   "metadata": {},
   "outputs": [],
   "source": [
    "feats_to_keep =['price','floor_size', 'bathrooms', 'rates_and_taxes', 'bedrooms', 'sampling',\n",
    "       'province_E', 'city_E', 'type_of_property_E',\n",
    "       'food_and_entertainment_len', 'education_len',\n",
    "       'transport_and_public_services_len', 'food_and_entertainment_mean',\n",
    "       'education_mean', 'transport_and_public_services_mean',\n",
    "       'food_and_entertainment_min', 'education_min',\n",
    "       'transport_and_public_services_min']"
   ]
  },
  {
   "cell_type": "code",
   "execution_count": 18,
   "id": "5ba3014a",
   "metadata": {},
   "outputs": [
    {
     "name": "stdout",
     "output_type": "stream",
     "text": [
      "train shape : (7739, 16)\n",
      "val shape : (1709, 16)\n",
      "test shape : (1639, 16)\n"
     ]
    }
   ],
   "source": [
    "X_train, y_train, X_val, y_val, X_test, y_test = split_data(data,\"price\",features_to_keep=feats_to_keep)"
   ]
  },
  {
   "cell_type": "markdown",
   "id": "ab7de29c",
   "metadata": {},
   "source": [
    "# Model : Gradient Boosting\n",
    "https://scikit-learn.org/stable/auto_examples/ensemble/plot_gradient_boosting_regression.html"
   ]
  },
  {
   "cell_type": "code",
   "execution_count": 19,
   "id": "ac7b9878",
   "metadata": {},
   "outputs": [],
   "source": [
    "params = {'n_estimators': 1000,\n",
    "          'max_depth': 4,\n",
    "          'min_samples_split': 5,\n",
    "          'learning_rate': 0.05,\n",
    "          'loss': 'ls'}"
   ]
  },
  {
   "cell_type": "code",
   "execution_count": 20,
   "id": "9da68608",
   "metadata": {},
   "outputs": [
    {
     "data": {
      "text/plain": [
       "GradientBoostingRegressor(learning_rate=0.05, max_depth=4, min_samples_split=5,\n",
       "                          n_estimators=1000)"
      ]
     },
     "execution_count": 20,
     "metadata": {},
     "output_type": "execute_result"
    }
   ],
   "source": [
    "reg = GradientBoostingRegressor(**params)\n",
    "reg.fit(X_train, y_train)"
   ]
  },
  {
   "cell_type": "markdown",
   "id": "4c0a1385",
   "metadata": {},
   "source": [
    "### RMSE on validation set"
   ]
  },
  {
   "cell_type": "code",
   "execution_count": 21,
   "id": "19351373",
   "metadata": {},
   "outputs": [
    {
     "name": "stdout",
     "output_type": "stream",
     "text": [
      "The Root mean squared error (RMSE) onval set: 0.3493\n",
      "The Root mean squared error (RMSE) on train set: 0.2458\n"
     ]
    }
   ],
   "source": [
    "rmse = np.sqrt(mean_squared_error(y_val, reg.predict(X_val)))\n",
    "print(\"The Root mean squared error (RMSE) onval set: {:.4f}\".format(rmse))\n",
    "rmse = np.sqrt(mean_squared_error(y_train, reg.predict(X_train)))\n",
    "print(\"The Root mean squared error (RMSE) on train set: {:.4f}\".format(rmse))"
   ]
  },
  {
   "cell_type": "markdown",
   "id": "9b87d9a8",
   "metadata": {},
   "source": [
    "#### feature mportance"
   ]
  },
  {
   "cell_type": "code",
   "execution_count": 24,
   "id": "1ffea5ec",
   "metadata": {},
   "outputs": [],
   "source": [
    "labels = X_train.columns"
   ]
  },
  {
   "cell_type": "code",
   "execution_count": 25,
   "id": "f9ea0bc0",
   "metadata": {},
   "outputs": [
    {
     "data": {
      "image/png": "[encoded data removed]",
      "text/plain": [
       "<Figure size 864x432 with 2 Axes>"
      ]
     },
     "metadata": {
      "needs_background": "light"
     },
     "output_type": "display_data"
    }
   ],
   "source": [
    "feature_importance = reg.feature_importances_\n",
    "sorted_idx = np.argsort(feature_importance)\n",
    "pos = np.arange(sorted_idx.shape[0]) + .5\n",
    "fig = plt.figure(figsize=(12, 6))\n",
    "plt.subplot(1, 2, 1)\n",
    "plt.barh(pos, feature_importance[sorted_idx], align='center')\n",
    "plt.yticks(pos, np.array(labels)[sorted_idx])\n",
    "plt.title('Feature Importance (MDI)')\n",
    "\n",
    "result = permutation_importance(reg, X_val, y_val, n_repeats=10,\n",
    "                                random_state=42, n_jobs=2)\n",
    "sorted_idx = result.importances_mean.argsort()\n",
    "plt.subplot(1, 2, 2)\n",
    "plt.boxplot(result.importances[sorted_idx].T,\n",
    "            vert=False, labels=np.array(labels)[sorted_idx])\n",
    "plt.title(\"Permutation Importance (val set)\")\n",
    "fig.tight_layout()\n",
    "plt.show()"
   ]
  },
  {
   "cell_type": "markdown",
   "id": "e2e166f1",
   "metadata": {},
   "source": [
    "### Comparison"
   ]
  },
  {
   "cell_type": "code",
   "execution_count": 26,
   "id": "541ef4eb",
   "metadata": {},
   "outputs": [
    {
     "name": "stdout",
     "output_type": "stream",
     "text": [
      "Model : RF\n",
      "The Root mean squared error (RMSE) on val set: 0.3609\n",
      "The Root mean squared error (RMSE) on train set: 0.1438\n",
      "Model : RidgeCV\n",
      "The Root mean squared error (RMSE) on val set: 0.4391\n",
      "The Root mean squared error (RMSE) on train set: 0.4434\n",
      "Model : SVR\n",
      "The Root mean squared error (RMSE) on val set: 0.4853\n",
      "The Root mean squared error (RMSE) on train set: 0.5023\n"
     ]
    }
   ],
   "source": [
    "print(\"Model : RF\")\n",
    "\n",
    "RF = RandomForestRegressor()\n",
    "RF.fit(X_train, y_train)\n",
    "\n",
    "rmse = np.sqrt(mean_squared_error(y_val, RF.predict(X_val)))\n",
    "print(\"The Root mean squared error (RMSE) on val set: {:.4f}\".format(rmse))\n",
    "rmse = np.sqrt(mean_squared_error(y_train, RF.predict(X_train)))\n",
    "print(\"The Root mean squared error (RMSE) on train set: {:.4f}\".format(rmse))\n",
    "\n",
    "print(\"Model : RidgeCV\")\n",
    "\n",
    "regCV = linear_model.RidgeCV(alphas=np.logspace(-6, 6, 13))\n",
    "regCV.fit(X_train, y_train)\n",
    "\n",
    "rmse = np.sqrt(mean_squared_error(y_val, regCV.predict(X_val)))\n",
    "print(\"The Root mean squared error (RMSE) on val set: {:.4f}\".format(rmse))\n",
    "rmse = np.sqrt(mean_squared_error(y_train, regCV.predict(X_train)))\n",
    "print(\"The Root mean squared error (RMSE) on train set: {:.4f}\".format(rmse))\n",
    "\n",
    "print(\"Model : SVR\")\n",
    "\n",
    "regr = SVR(C=1.0,epsilon=0.2)\n",
    "regr.fit(X_train, y_train)\n",
    "\n",
    "rmse = np.sqrt(mean_squared_error(y_val, regr.predict(X_val)))\n",
    "print(\"The Root mean squared error (RMSE) on val set: {:.4f}\".format(rmse))\n",
    "rmse = np.sqrt(mean_squared_error(y_train, regr.predict(X_train)))\n",
    "print(\"The Root mean squared error (RMSE) on train set: {:.4f}\".format(rmse))"
   ]
  },
  {
   "cell_type": "markdown",
   "id": "c7766359",
   "metadata": {},
   "source": [
    "### Cross validation"
   ]
  },
  {
   "cell_type": "code",
   "execution_count": 27,
   "id": "38d0cfac",
   "metadata": {},
   "outputs": [],
   "source": [
    "X_ = X_val.append(X_train)\n",
    "y_ = y_val.append(y_train)"
   ]
  },
  {
   "cell_type": "code",
   "execution_count": 29,
   "id": "a2ff783f",
   "metadata": {},
   "outputs": [
    {
     "name": "stdout",
     "output_type": "stream",
     "text": [
      "{'fit_time': array([18.6268239 , 18.62809896, 18.66279984, 19.24507475, 19.90038157]), 'score_time': array([0.02618599, 0.02685809, 0.0264852 , 0.02695203, 0.02803707]), 'test_score': array([-0.35146865, -0.35601263, -0.34847054, -0.3423366 , -0.35208448]), 'train_score': array([-0.24171886, -0.23999142, -0.24080754, -0.24480396, -0.24421527])}\n"
     ]
    }
   ],
   "source": [
    "scores = cross_validate(reg, X_, y_, scoring='neg_root_mean_squared_error',cv=5, return_train_score=True)\n",
    "print(scores)"
   ]
  },
  {
   "cell_type": "markdown",
   "id": "48b10912",
   "metadata": {},
   "source": [
    "### Grid search"
   ]
  },
  {
   "cell_type": "code",
   "execution_count": null,
   "id": "21dd4418",
   "metadata": {},
   "outputs": [],
   "source": [
    "p_test3 = {'learning_rate':[0.005,0.01,0.05,0.1], 'n_estimators':[250,500,750,1000],\n",
    "          'max_depth':[2,4,6],'min_samples_split': [2,5,7,10]}\n",
    "\n",
    "tuning = GridSearchCV(estimator =GradientBoostingRegressor(loss='ls'),param_grid = p_test3, scoring='neg_root_mean_squared_error',n_jobs=4, cv=5)\n",
    "tuning.fit(X_,y_)\n",
    "tuning.cv_results_, tuning.best_params_, tuning.best_score_"
   ]
  },
  {
   "cell_type": "markdown",
   "id": "b4f2a445",
   "metadata": {},
   "source": [
    "### Evaluate on Test"
   ]
  },
  {
   "cell_type": "code",
   "execution_count": null,
   "id": "3de91310",
   "metadata": {},
   "outputs": [],
   "source": [
    "params = {'n_estimators': 1000,\n",
    "          'max_depth': 4,\n",
    "          'min_samples_split': 5,\n",
    "          'learning_rate': 0.05,\n",
    "          'loss': 'ls'}"
   ]
  },
  {
   "cell_type": "code",
   "execution_count": null,
   "id": "939aeae3",
   "metadata": {},
   "outputs": [],
   "source": [
    "reg = GradientBoostingRegressor(**params)\n",
    "reg.fit(X_, y_)"
   ]
  },
  {
   "cell_type": "markdown",
   "id": "89d8f812",
   "metadata": {},
   "source": [
    "### RMSE on TEST"
   ]
  },
  {
   "cell_type": "code",
   "execution_count": null,
   "id": "bf77eb25",
   "metadata": {},
   "outputs": [],
   "source": [
    "rmse = np.sqrt(mean_squared_error(y_test, reg.predict(X_test)))\n",
    "print(\"The Root mean squared error (RMSE) on TEST set: {:.4f}\".format(rmse))\n",
    "rmse = np.sqrt(mean_squared_error(y_train, reg.predict(X_train)))\n",
    "print(\"The Root mean squared error (RMSE) on train set: {:.4f}\".format(rmse))"
   ]
  },
  {
   "cell_type": "markdown",
   "id": "15a9ed44",
   "metadata": {},
   "source": [
    "### Export model"
   ]
  },
  {
   "cell_type": "code",
   "execution_count": null,
   "id": "a100afb5",
   "metadata": {},
   "outputs": [],
   "source": [
    "import pickle\n",
    "\n",
    "# save the model to disk\n",
    "filename = 'GradientBoosting_on_dataset_zero_missing_v1.sav'\n",
    "pickle.dump(reg, open(filename, 'wb'))"
   ]
  },
  {
   "cell_type": "code",
   "execution_count": null,
   "id": "739d6ac7",
   "metadata": {},
   "outputs": [],
   "source": []
  }
 ],
 "metadata": {
  "kernelspec": {
   "display_name": "Python 3",
   "language": "python",
   "name": "python3"
  },
  "language_info": {
   "codemirror_mode": {
    "name": "ipython",
    "version": 3
   },
   "file_extension": ".py",
   "mimetype": "text/x-python",
   "name": "python",
   "nbconvert_exporter": "python",
   "pygments_lexer": "ipython3",
   "version": "3.8.10"
  }
 },
 "nbformat": 4,
 "nbformat_minor": 5
}

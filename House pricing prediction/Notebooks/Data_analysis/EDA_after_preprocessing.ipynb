{
 "cells": [
  {
   "cell_type": "code",
   "execution_count": 7,
   "id": "2be2b4bb-8c87-4ae3-a65e-01a7701fa30b",
   "metadata": {},
   "outputs": [],
   "source": [
    "from pandas_profiling import ProfileReport\n",
    "import pandas as pd"
   ]
  },
  {
   "cell_type": "code",
   "execution_count": 8,
   "id": "7cb46349-b810-44eb-8f89-f29a19e6a540",
   "metadata": {},
   "outputs": [],
   "source": [
    "data = pd.read_csv(\"../../Data/Dataset_v1.csv\",sep=\";\")"
   ]
  },
  {
   "cell_type": "code",
   "execution_count": 9,
   "id": "25c3991d-b815-4bdd-b61c-a2d2b3d06c46",
   "metadata": {},
   "outputs": [
    {
     "data": {
      "text/plain": [
       "(13666, 23)"
      ]
     },
     "execution_count": 9,
     "metadata": {},
     "output_type": "execute_result"
    }
   ],
   "source": [
    "data.shape"
   ]
  },
  {
   "cell_type": "markdown",
   "id": "6b2df154-b7cb-4c2d-8fc9-adf38528fb22",
   "metadata": {},
   "source": [
    "## Exploratory Data Analysis (EDA) using Pandas profiling \n",
    "- reference : https://pandas-profiling.github.io/pandas-profiling/docs/master/rtd/"
   ]
  },
  {
   "cell_type": "code",
   "execution_count": 10,
   "id": "2dc9edff-2022-4fbe-a49b-f75ef652e631",
   "metadata": {},
   "outputs": [],
   "source": [
    "profile = ProfileReport(\n",
    "    data,\n",
    "    title=\"Pandas Profiling Report of Dataset.csv\",\n",
    "    explorative=True,\n",
    "    plot={\"dpi\": 300, \"image_format\": \"png\"},\n",
    "    correlations={\"cramers\": {\"calculate\": False}},\n",
    ")\n"
   ]
  },
  {
   "cell_type": "markdown",
   "id": "686467a4-f94a-46ea-8f72-b74079867a2b",
   "metadata": {},
   "source": [
    "### Pip install IProgress, ipywidgets and widgetsnbextension then run the cell below"
   ]
  },
  {
   "cell_type": "code",
   "execution_count": 11,
   "id": "892035ba-d49f-4ff5-8bf1-7a8c9785729c",
   "metadata": {},
   "outputs": [
    {
     "name": "stdout",
     "output_type": "stream",
     "text": [
      "Enabling notebook extension jupyter-js-widgets/extension...\r\n",
      "      - Validating: \u001b[32mOK\u001b[0m\r\n"
     ]
    }
   ],
   "source": [
    "!jupyter nbextension enable --py widgetsnbextension"
   ]
  },
  {
   "cell_type": "markdown",
   "id": "a88c0638-dd5c-48c1-9cd0-cde44fe4afc8",
   "metadata": {},
   "source": [
    "### Save report as HTML --> see EDA_report.html"
   ]
  },
  {
   "cell_type": "code",
   "execution_count": 12,
   "id": "12d515b9-7372-4224-b6bc-696f6d2292eb",
   "metadata": {},
   "outputs": [
    {
     "data": {
      "application/vnd.jupyter.widget-view+json": {
       "model_id": "b3340895174d4ea081f619fb2a62ee8e",
       "version_major": 2,
       "version_minor": 0
      },
      "text/plain": [
       "Summarize dataset:   0%|          | 0/35 [00:00<?, ?it/s]"
      ]
     },
     "metadata": {},
     "output_type": "display_data"
    },
    {
     "data": {
      "application/vnd.jupyter.widget-view+json": {
       "model_id": "a73d405515034e8f82d9d5b8f3c477e3",
       "version_major": 2,
       "version_minor": 0
      },
      "text/plain": [
       "Generate report structure:   0%|          | 0/1 [00:00<?, ?it/s]"
      ]
     },
     "metadata": {},
     "output_type": "display_data"
    },
    {
     "data": {
      "application/vnd.jupyter.widget-view+json": {
       "model_id": "c689f6ae39b64ae8a07e2ae8c5813305",
       "version_major": 2,
       "version_minor": 0
      },
      "text/plain": [
       "Render HTML:   0%|          | 0/1 [00:00<?, ?it/s]"
      ]
     },
     "metadata": {},
     "output_type": "display_data"
    },
    {
     "data": {
      "application/vnd.jupyter.widget-view+json": {
       "model_id": "6938f8246852411ab52e5403fa8ba3d4",
       "version_major": 2,
       "version_minor": 0
      },
      "text/plain": [
       "Export report to file:   0%|          | 0/1 [00:00<?, ?it/s]"
      ]
     },
     "metadata": {},
     "output_type": "display_data"
    }
   ],
   "source": [
    "profile.to_file(\"EDA_report_after_preprocessing.html\")"
   ]
  },
  {
   "cell_type": "code",
   "execution_count": null,
   "id": "54ff0828-8a93-4e94-9e71-862e00ce53fc",
   "metadata": {},
   "outputs": [],
   "source": []
  }
 ],
 "metadata": {
  "kernelspec": {
   "display_name": "Python 3",
   "language": "python",
   "name": "python3"
  },
  "language_info": {
   "codemirror_mode": {
    "name": "ipython",
    "version": 3
   },
   "file_extension": ".py",
   "mimetype": "text/x-python",
   "name": "python",
   "nbconvert_exporter": "python",
   "pygments_lexer": "ipython3",
   "version": "3.8.10"
  }
 },
 "nbformat": 4,
 "nbformat_minor": 5
}

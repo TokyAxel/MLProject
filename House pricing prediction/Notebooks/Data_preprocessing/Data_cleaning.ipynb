{
 "cells": [
  {
   "cell_type": "code",
   "execution_count": 2,
   "id": "6afdafab",
   "metadata": {},
   "outputs": [],
   "source": [
    "import pandas as pd\n",
    "import numpy as np"
   ]
  },
  {
   "cell_type": "code",
   "execution_count": 3,
   "id": "bc6f47b0",
   "metadata": {},
   "outputs": [],
   "source": [
    "def data_cleaning(paths, name):\n",
    "    ### COLLECT DATA RAW\n",
    "    dataraw = []\n",
    "    for path in paths:\n",
    "        with open(path) as f:\n",
    "            lines = f.readlines()\n",
    "        dataraw = dataraw + lines\n",
    "        f.close()\n",
    "        \n",
    "    print(\"len of datas:\",len(dataraw))\n",
    "        \n",
    "    ### CONVERT To DataFrame\n",
    "    all_feats = []\n",
    "    all_dicts = []\n",
    "    for l in dataraw:\n",
    "        dict_ = eval(l[1:-2])\n",
    "        all_dicts.append(dict_)\n",
    "        for k in dict_.keys():\n",
    "            if k not in all_feats:\n",
    "                all_feats.append(k)\n",
    "    \n",
    "    data = pd.DataFrame(all_dicts,columns=all_feats)\n",
    "    \n",
    "    ### DATA Cleaning\n",
    "    for col in list(data.columns):\n",
    "        if \"price\" in col or \"Price\" in col or \"Rates and Taxes\" in col or \"Levies\" in col:\n",
    "            if col == \"price\":\n",
    "                print(\"Drop POA values\")\n",
    "                data = data[data[col]!=\"POA\"]\n",
    "            data[col] = data[col].str.lstrip(\"R \")\n",
    "            data[col] = data[col].replace(r\" \",\"\",regex=True)\n",
    "            data[col] = pd.to_numeric(data[col])\n",
    "        \n",
    "        elif \"Size\" in col or \"size\" in col :\n",
    "            data[col] = data[col].str.rstrip(\" m�\")\n",
    "            data[col] = data[col].str.rstrip(\" m\\B2\")\n",
    "            data[col] = data[col].replace(r\" \",\"\",regex=True)\n",
    "            data[col] = data[col].replace(r\"ha\",\"\",regex=True)\n",
    "            data[col] = data[col].replace(r\"acres\",\"\",regex=True)\n",
    "            data[col] = data[col].replace(r\"m²\",\"\",regex=True)\n",
    "            data[col] = pd.to_numeric(data[col])\n",
    "\n",
    "        elif \"Coverage\" in col :\n",
    "            data[col] = data[col].str.rstrip(\" %\")\n",
    "            data[col] = data[col].replace(r\" \",\"\",regex=True)\n",
    "            data[col] = pd.to_numeric(data[col])\n",
    "\n",
    "        elif \"Height Restriction\" in col:\n",
    "            data[col] = data[col].str.rstrip(\" m�\")\n",
    "            data[col] = data[col].str.rstrip(\" m\\B2\")\n",
    "            data[col] = data[col].replace(r\" \",\"\",regex=True)\n",
    "            data[col] = data[col].replace(r\"m²\",\"\",regex=True)\n",
    "            data[col] = pd.to_numeric(data[col])\n",
    "\n",
    "        elif \"Date\" in col or \"date\" in col:\n",
    "            data[col] = pd.to_datetime(data[col])\n",
    "\n",
    "        ### Format list values\n",
    "        elif data[col].dtypes == np.object:\n",
    "            if str(type(data[col][data[col].first_valid_index()])) == \"<class 'list'>\":\n",
    "                series=[]\n",
    "                for value in data[col]:\n",
    "                    if str(value) != \"nan\":\n",
    "                        value = [i.replace('km','') for i in value]\n",
    "                        value = [float(i) for i in value]\n",
    "                    series.append(value)\n",
    "                data[col] = series\n",
    "    \n",
    "    #data = data.drop_duplicates()\n",
    "    \n",
    "    #data[\"index\"] = data.index\n",
    "    print(\"data dimensions:\",data.shape)\n",
    "    save_to = \"../../Data/Originals/\"+name\n",
    "    data.to_csv(save_to,sep=\";\",index=False)"
   ]
  },
  {
   "cell_type": "code",
   "execution_count": 4,
   "id": "c7e697c8-3c9b-40ec-bf96-7d2c1b6014d8",
   "metadata": {},
   "outputs": [
    {
     "name": "stdout",
     "output_type": "stream",
     "text": [
      "len of datas: 11367\n",
      "Drop POA values\n",
      "data dimensions: (11296, 311)\n"
     ]
    }
   ],
   "source": [
    "paths = [\"../data_collect/data_property_v0.csv\",\"../data_collect/Multi collect/data_property.csv\",\n",
    "         \"../data_collect/Multi collect/v2/data_property_v2.csv\",\"../data_collect/Multi collect/v3/data_property_v3.csv\",\n",
    "         \"../data_collect/Multi collect/v4/data_property_v4.csv\",\"../data_collect/Multi collect/v5/data_property_v2.csv\",\n",
    "         \"../data_collect/Multi collect/v6/data_property_v6.csv\",\"../data_collect/Multi collect/v7/data_property_v2.csv\"\n",
    "        ]\n",
    "\n",
    "data_cleaning(paths,\"Dataset.csv\")"
   ]
  },
  {
   "cell_type": "code",
   "execution_count": null,
   "id": "7b8bec90-2597-4f1d-9846-dff3310dbc8c",
   "metadata": {},
   "outputs": [],
   "source": []
  }
 ],
 "metadata": {
  "kernelspec": {
   "display_name": "Python 3",
   "language": "python",
   "name": "python3"
  },
  "language_info": {
   "codemirror_mode": {
    "name": "ipython",
    "version": 3
   },
   "file_extension": ".py",
   "mimetype": "text/x-python",
   "name": "python",
   "nbconvert_exporter": "python",
   "pygments_lexer": "ipython3",
   "version": "3.8.10"
  }
 },
 "nbformat": 4,
 "nbformat_minor": 5
}

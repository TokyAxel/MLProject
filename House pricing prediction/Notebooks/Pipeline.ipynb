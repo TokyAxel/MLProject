{
 "cells": [
  {
   "cell_type": "markdown",
   "source": [
    "## Pipeline"
   ],
   "metadata": {}
  },
  {
   "cell_type": "markdown",
   "source": [
    "### 1) Data Collection :\n",
    "- Webscrap on property24.com (with multiple scrapper) ->\n",
    "[data_collect](./data_collect/)\n",
    "\n",
    "### 2) Data raw Cleaning :\n",
    "- Formatting and cleaning data -> [Data Cleaning](./Data_preprocessing/Data_cleaning.ipynb)\n",
    "\n",
    "### 3) First EDA : \n",
    "- EDA -> [EDA_by_pandas_profiling](./Data_analysis/EDA_by_pandas_profiling.ipynb)\n",
    "\n",
    "### 4) Preprocessing :\n",
    "- Categorisation features, selection features by missing value, handling outliers and simple features encoding \n",
    "-> [Preprocessing_(missing_value,outliers,encoding)](./Data_preprocessing/Preprocessing_(missing_value,outliers,encoding).ipynb)\n",
    "\n",
    "### 5) EDA after preprocess:\n",
    "- EDA -> [EDA_after_preprocessing](./Data_analysis/EDA_after_preprocessing.ipynb)\n"
   ],
   "metadata": {}
  },
  {
   "cell_type": "code",
   "execution_count": null,
   "source": [],
   "outputs": [],
   "metadata": {}
  }
 ],
 "metadata": {
  "kernelspec": {
   "display_name": "Python 3",
   "language": "python",
   "name": "python3"
  },
  "language_info": {
   "codemirror_mode": {
    "name": "ipython",
    "version": 3
   },
   "file_extension": ".py",
   "mimetype": "text/x-python",
   "name": "python",
   "nbconvert_exporter": "python",
   "pygments_lexer": "ipython3",
   "version": "3.8.10"
  }
 },
 "nbformat": 4,
 "nbformat_minor": 5
}
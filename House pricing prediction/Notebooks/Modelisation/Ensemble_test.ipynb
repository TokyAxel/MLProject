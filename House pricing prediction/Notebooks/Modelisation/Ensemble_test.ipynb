{
 "cells": [
  {
   "cell_type": "code",
   "execution_count": 1,
   "id": "7677ec7c-6ace-4921-a400-114858faeb56",
   "metadata": {},
   "outputs": [],
   "source": [
    "#from sklearn.svm import SVR\n",
    "from sklearn.ensemble import GradientBoostingRegressor\n",
    "from sklearn.pipeline import make_pipeline\n",
    "from sklearn.preprocessing import StandardScaler\n",
    "from sklearn.metrics import mean_squared_error, mean_squared_log_error\n",
    "from sklearn.model_selection import train_test_split\n",
    "import math\n",
    "import numpy as np\n",
    "import pandas as pd"
   ]
  },
  {
   "cell_type": "code",
   "execution_count": 2,
   "id": "6c3d033b-6dec-4034-9230-ae8951774c3f",
   "metadata": {},
   "outputs": [],
   "source": [
    "data = pd.read_csv(\"../../Data/Dataset_v1.csv\",sep=\";\")"
   ]
  },
  {
   "cell_type": "code",
   "execution_count": 3,
   "id": "b3874429-631c-40e8-81a1-096ee297ffe3",
   "metadata": {},
   "outputs": [],
   "source": [
    "data = data[['price',\n",
    "  'Bathrooms',\n",
    "  'Levies',\n",
    "  'Rates and Taxes',\n",
    "  'Bedrooms',\n",
    "  'Kitchens',\n",
    "  'Gardens',\n",
    "  'province',\n",
    "  'city',\n",
    "  'Type of Property',\n",
    "  'Pool',\n",
    "  'Pets Allowed',\n",
    "  'Garage']]"
   ]
  },
  {
   "cell_type": "code",
   "execution_count": 4,
   "id": "df4ec96f-3678-49fb-a806-6bb42fe7b09d",
   "metadata": {},
   "outputs": [],
   "source": [
    "data = data.fillna(data.mean())"
   ]
  },
  {
   "cell_type": "code",
   "execution_count": 5,
   "id": "1ae6f822-3802-42d7-9c38-8191c3f09d21",
   "metadata": {},
   "outputs": [],
   "source": [
    "data = pd.get_dummies(data)"
   ]
  },
  {
   "cell_type": "code",
   "execution_count": 6,
   "id": "353a904c-eafe-4d78-b0c2-b736379f7404",
   "metadata": {},
   "outputs": [
    {
     "data": {
      "text/plain": [
       "(13666, 841)"
      ]
     },
     "execution_count": 6,
     "metadata": {},
     "output_type": "execute_result"
    }
   ],
   "source": [
    "data.shape"
   ]
  },
  {
   "cell_type": "code",
   "execution_count": 7,
   "id": "0b340387-4473-4d22-9e20-7b33ce171636",
   "metadata": {},
   "outputs": [],
   "source": [
    "y = data[\"price\"]\n",
    "X = data.drop(['price'],axis=1)"
   ]
  },
  {
   "cell_type": "code",
   "execution_count": 8,
   "id": "76eb2b92-b48e-4f87-b20f-23c92fc61fd5",
   "metadata": {},
   "outputs": [],
   "source": [
    "X_train, X_test, y_train, y_test = train_test_split(X, y, test_size=0.33, random_state=42)"
   ]
  },
  {
   "cell_type": "code",
   "execution_count": 9,
   "id": "baead92a-6e3f-46fa-aec9-c23207550b03",
   "metadata": {},
   "outputs": [
    {
     "data": {
      "text/plain": [
       "GradientBoostingRegressor()"
      ]
     },
     "execution_count": 9,
     "metadata": {},
     "output_type": "execute_result"
    }
   ],
   "source": [
    "#regr = make_pipeline(StandardScaler(), SVR(C=1.0, epsilon=0.2))\n",
    "#regr = SVR(C=1.0,kernel='sigmoid', epsilon=0.2)\n",
    "regr = GradientBoostingRegressor()\n",
    "regr.fit(X_train, y_train)\n"
   ]
  },
  {
   "cell_type": "code",
   "execution_count": 10,
   "id": "63fae50b-1904-47cc-9108-ecaa48eb9eed",
   "metadata": {},
   "outputs": [],
   "source": [
    "y_pred = regr.predict(X_test)"
   ]
  },
  {
   "cell_type": "code",
   "execution_count": 11,
   "id": "3c61cfa4-d790-4360-a517-a4f9dc115a61",
   "metadata": {},
   "outputs": [
    {
     "data": {
      "text/plain": [
       "2358523.1629387746"
      ]
     },
     "execution_count": 11,
     "metadata": {},
     "output_type": "execute_result"
    }
   ],
   "source": [
    "np.sqrt(mean_squared_error(y_test, y_pred))"
   ]
  },
  {
   "cell_type": "code",
   "execution_count": 12,
   "id": "bbba27c8-c81c-46fc-9220-c3598f04f269",
   "metadata": {},
   "outputs": [
    {
     "data": {
      "text/plain": [
       "6479     3650000\n",
       "5146     1720000\n",
       "7207      695000\n",
       "11597    6850000\n",
       "4162      590000\n",
       "7410     3950000\n",
       "9948     5999000\n",
       "3169     1870000\n",
       "7172     4800000\n",
       "11871    7850000\n",
       "Name: price, dtype: int64"
      ]
     },
     "execution_count": 12,
     "metadata": {},
     "output_type": "execute_result"
    }
   ],
   "source": [
    "y_test[0:10]"
   ]
  },
  {
   "cell_type": "code",
   "execution_count": 13,
   "id": "bb793c0c-87d8-452e-8e52-8566be36772d",
   "metadata": {},
   "outputs": [
    {
     "data": {
      "text/plain": [
       "array([ 3470485.07426204,   786678.8259514 ,   890558.72516008,\n",
       "        3454521.6768136 ,   865929.225103  ,  4953576.29989836,\n",
       "        6199141.65152673,  1862955.81454353,  3175263.12739512,\n",
       "       17627072.82297659])"
      ]
     },
     "execution_count": 13,
     "metadata": {},
     "output_type": "execute_result"
    }
   ],
   "source": [
    "y_pred[0:10]"
   ]
  },
  {
   "cell_type": "code",
   "execution_count": null,
   "id": "df64adc0-8b0c-41b5-a45a-90d05ea75abc",
   "metadata": {},
   "outputs": [],
   "source": []
  }
 ],
 "metadata": {
  "kernelspec": {
   "display_name": "Python 3",
   "language": "python",
   "name": "python3"
  },
  "language_info": {
   "codemirror_mode": {
    "name": "ipython",
    "version": 3
   },
   "file_extension": ".py",
   "mimetype": "text/x-python",
   "name": "python",
   "nbconvert_exporter": "python",
   "pygments_lexer": "ipython3",
   "version": "3.8.10"
  }
 },
 "nbformat": 4,
 "nbformat_minor": 5
}

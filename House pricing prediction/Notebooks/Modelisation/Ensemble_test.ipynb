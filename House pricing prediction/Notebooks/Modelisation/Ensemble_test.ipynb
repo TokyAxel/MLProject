{
 "cells": [
  {
   "cell_type": "code",
   "execution_count": null,
   "source": [
    "#from sklearn.svm import SVR\r\n",
    "from sklearn.ensemble import GradientBoostingRegressor\r\n",
    "from sklearn.pipeline import make_pipeline\r\n",
    "from sklearn.preprocessing import StandardScaler\r\n",
    "from sklearn.metrics import mean_squared_error, mean_squared_log_error\r\n",
    "from sklearn.model_selection import train_test_split\r\n",
    "import math\r\n",
    "import numpy as np\r\n",
    "import pandas as pd"
   ],
   "outputs": [],
   "metadata": {}
  },
  {
   "cell_type": "code",
   "execution_count": null,
   "source": [
    "data = pd.read_csv(\"../../Data/Dataset_v1.csv\",sep=\";\")"
   ],
   "outputs": [],
   "metadata": {}
  },
  {
   "cell_type": "code",
   "execution_count": null,
   "source": [
    "data = data[['price',\r\n",
    "  'Bathrooms',\r\n",
    "  'Levies',\r\n",
    "  'Rates and Taxes',\r\n",
    "  'Bedrooms',\r\n",
    "  'Kitchens',\r\n",
    "  'Gardens',\r\n",
    "  'province',\r\n",
    "  'city',\r\n",
    "  'Type of Property',\r\n",
    "  'Pool',\r\n",
    "  'Pets Allowed',\r\n",
    "  'Garage']]"
   ],
   "outputs": [],
   "metadata": {}
  },
  {
   "cell_type": "code",
   "execution_count": null,
   "source": [
    "data = data.fillna(data.mean())"
   ],
   "outputs": [],
   "metadata": {}
  },
  {
   "cell_type": "code",
   "execution_count": null,
   "source": [
    "data = pd.get_dummies(data)"
   ],
   "outputs": [],
   "metadata": {}
  },
  {
   "cell_type": "code",
   "execution_count": null,
   "source": [
    "data.shape"
   ],
   "outputs": [],
   "metadata": {}
  },
  {
   "cell_type": "code",
   "execution_count": null,
   "source": [
    "y = data[\"price\"]\r\n",
    "X = data.drop(['price'],axis=1)"
   ],
   "outputs": [],
   "metadata": {}
  },
  {
   "cell_type": "code",
   "execution_count": null,
   "source": [
    "X_train, X_test, y_train, y_test = train_test_split(X, y, test_size=0.33, random_state=42)"
   ],
   "outputs": [],
   "metadata": {}
  },
  {
   "cell_type": "code",
   "execution_count": null,
   "source": [
    "#regr = make_pipeline(StandardScaler(), SVR(C=1.0, epsilon=0.2))\r\n",
    "#regr = SVR(C=1.0,kernel='sigmoid', epsilon=0.2)\r\n",
    "regr = GradientBoostingRegressor()\r\n",
    "regr.fit(X_train, y_train)\r\n"
   ],
   "outputs": [],
   "metadata": {}
  },
  {
   "cell_type": "code",
   "execution_count": null,
   "source": [
    "y_pred = regr.predict(X_test)"
   ],
   "outputs": [],
   "metadata": {}
  },
  {
   "cell_type": "code",
   "execution_count": null,
   "source": [
    "np.sqrt(mean_squared_error(y_test, y_pred))"
   ],
   "outputs": [],
   "metadata": {}
  },
  {
   "cell_type": "code",
   "execution_count": null,
   "source": [
    "y_test[0:10]"
   ],
   "outputs": [],
   "metadata": {}
  },
  {
   "cell_type": "code",
   "execution_count": null,
   "source": [
    "y_pred[0:10]"
   ],
   "outputs": [],
   "metadata": {}
  },
  {
   "cell_type": "code",
   "execution_count": null,
   "source": [],
   "outputs": [],
   "metadata": {}
  }
 ],
 "metadata": {
  "kernelspec": {
   "name": "python3",
   "display_name": "Python 3.9.1 64-bit ('deepai': conda)"
  },
  "language_info": {
   "name": "python",
   "version": "3.9.1",
   "mimetype": "text/x-python",
   "codemirror_mode": {
    "name": "ipython",
    "version": 3
   },
   "pygments_lexer": "ipython3",
   "nbconvert_exporter": "python",
   "file_extension": ".py"
  },
  "interpreter": {
   "hash": "b54b66dfa7cdbe8a69b3bf148d9797a1fcee399928c1f348c50707ec239ca9b1"
  }
 },
 "nbformat": 4,
 "nbformat_minor": 5
}
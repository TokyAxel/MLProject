{
 "cells": [
  {
   "cell_type": "markdown",
   "id": "635cbafa",
   "metadata": {},
   "source": [
    "### Split csv"
   ]
  },
  {
   "cell_type": "code",
   "execution_count": 54,
   "id": "eb2adcaa",
   "metadata": {},
   "outputs": [],
   "source": [
    "import pandas as pd"
   ]
  },
  {
   "cell_type": "code",
   "execution_count": 55,
   "id": "c84b6319",
   "metadata": {},
   "outputs": [],
   "source": [
    "data = pd.DataFrame({\"id\":[1,2,3,4,5],\"url\":[\"zdjfjslfj\",\"scqdqd\",\"mpmlplpm\",\"aaawkka\",\"trytytyt\"]})"
   ]
  },
  {
   "cell_type": "markdown",
   "id": "1cbfb20b",
   "metadata": {},
   "source": [
    "### From dataframe"
   ]
  },
  {
   "cell_type": "code",
   "execution_count": 56,
   "id": "52b46976",
   "metadata": {},
   "outputs": [],
   "source": [
    "### Split in 2\n",
    "index_ = int(len(data)/2)\n",
    "\n",
    "### get an interval\n",
    "index_0 = 1"
   ]
  },
  {
   "cell_type": "code",
   "execution_count": 57,
   "id": "e504459f",
   "metadata": {},
   "outputs": [],
   "source": [
    "data_1 = data.iloc[:index_,:]"
   ]
  },
  {
   "cell_type": "code",
   "execution_count": 58,
   "id": "efaee93e",
   "metadata": {
    "scrolled": true
   },
   "outputs": [
    {
     "data": {
      "text/html": [
       "<div>\n",
       "<style scoped>\n",
       "    .dataframe tbody tr th:only-of-type {\n",
       "        vertical-align: middle;\n",
       "    }\n",
       "\n",
       "    .dataframe tbody tr th {\n",
       "        vertical-align: top;\n",
       "    }\n",
       "\n",
       "    .dataframe thead th {\n",
       "        text-align: right;\n",
       "    }\n",
       "</style>\n",
       "<table border=\"1\" class=\"dataframe\">\n",
       "  <thead>\n",
       "    <tr style=\"text-align: right;\">\n",
       "      <th></th>\n",
       "      <th>id</th>\n",
       "      <th>url</th>\n",
       "    </tr>\n",
       "  </thead>\n",
       "  <tbody>\n",
       "    <tr>\n",
       "      <th>0</th>\n",
       "      <td>1</td>\n",
       "      <td>zdjfjslfj</td>\n",
       "    </tr>\n",
       "    <tr>\n",
       "      <th>1</th>\n",
       "      <td>2</td>\n",
       "      <td>scqdqd</td>\n",
       "    </tr>\n",
       "  </tbody>\n",
       "</table>\n",
       "</div>"
      ],
      "text/plain": [
       "   id        url\n",
       "0   1  zdjfjslfj\n",
       "1   2     scqdqd"
      ]
     },
     "execution_count": 58,
     "metadata": {},
     "output_type": "execute_result"
    }
   ],
   "source": [
    "data_1"
   ]
  },
  {
   "cell_type": "code",
   "execution_count": 59,
   "id": "2c149331",
   "metadata": {},
   "outputs": [],
   "source": [
    "data_2 = data.iloc[index_0:index_+1,:]"
   ]
  },
  {
   "cell_type": "code",
   "execution_count": 60,
   "id": "7faf8a60",
   "metadata": {},
   "outputs": [
    {
     "data": {
      "text/html": [
       "<div>\n",
       "<style scoped>\n",
       "    .dataframe tbody tr th:only-of-type {\n",
       "        vertical-align: middle;\n",
       "    }\n",
       "\n",
       "    .dataframe tbody tr th {\n",
       "        vertical-align: top;\n",
       "    }\n",
       "\n",
       "    .dataframe thead th {\n",
       "        text-align: right;\n",
       "    }\n",
       "</style>\n",
       "<table border=\"1\" class=\"dataframe\">\n",
       "  <thead>\n",
       "    <tr style=\"text-align: right;\">\n",
       "      <th></th>\n",
       "      <th>id</th>\n",
       "      <th>url</th>\n",
       "    </tr>\n",
       "  </thead>\n",
       "  <tbody>\n",
       "    <tr>\n",
       "      <th>1</th>\n",
       "      <td>2</td>\n",
       "      <td>scqdqd</td>\n",
       "    </tr>\n",
       "    <tr>\n",
       "      <th>2</th>\n",
       "      <td>3</td>\n",
       "      <td>mpmlplpm</td>\n",
       "    </tr>\n",
       "  </tbody>\n",
       "</table>\n",
       "</div>"
      ],
      "text/plain": [
       "   id       url\n",
       "1   2    scqdqd\n",
       "2   3  mpmlplpm"
      ]
     },
     "execution_count": 60,
     "metadata": {},
     "output_type": "execute_result"
    }
   ],
   "source": [
    "data_2"
   ]
  },
  {
   "cell_type": "markdown",
   "id": "1a216847",
   "metadata": {},
   "source": [
    "### From csv"
   ]
  },
  {
   "cell_type": "code",
   "execution_count": 61,
   "id": "d0bdb62a",
   "metadata": {},
   "outputs": [],
   "source": [
    "data.to_csv(\"tmp.csv\",index=False)"
   ]
  },
  {
   "cell_type": "code",
   "execution_count": 62,
   "id": "3133d5db",
   "metadata": {},
   "outputs": [],
   "source": [
    "### row 0 to index_\n",
    "data_1 = pd.read_csv(\"tmp.csv\",nrows=index_)"
   ]
  },
  {
   "cell_type": "code",
   "execution_count": 63,
   "id": "19fddd80",
   "metadata": {},
   "outputs": [
    {
     "data": {
      "text/html": [
       "<div>\n",
       "<style scoped>\n",
       "    .dataframe tbody tr th:only-of-type {\n",
       "        vertical-align: middle;\n",
       "    }\n",
       "\n",
       "    .dataframe tbody tr th {\n",
       "        vertical-align: top;\n",
       "    }\n",
       "\n",
       "    .dataframe thead th {\n",
       "        text-align: right;\n",
       "    }\n",
       "</style>\n",
       "<table border=\"1\" class=\"dataframe\">\n",
       "  <thead>\n",
       "    <tr style=\"text-align: right;\">\n",
       "      <th></th>\n",
       "      <th>id</th>\n",
       "      <th>url</th>\n",
       "    </tr>\n",
       "  </thead>\n",
       "  <tbody>\n",
       "    <tr>\n",
       "      <th>0</th>\n",
       "      <td>1</td>\n",
       "      <td>zdjfjslfj</td>\n",
       "    </tr>\n",
       "    <tr>\n",
       "      <th>1</th>\n",
       "      <td>2</td>\n",
       "      <td>scqdqd</td>\n",
       "    </tr>\n",
       "  </tbody>\n",
       "</table>\n",
       "</div>"
      ],
      "text/plain": [
       "   id        url\n",
       "0   1  zdjfjslfj\n",
       "1   2     scqdqd"
      ]
     },
     "execution_count": 63,
     "metadata": {},
     "output_type": "execute_result"
    }
   ],
   "source": [
    "data_1"
   ]
  },
  {
   "cell_type": "code",
   "execution_count": 70,
   "id": "9ad8b524",
   "metadata": {},
   "outputs": [],
   "source": [
    "### skipped rows index_0+1 to index_+2\n",
    "data_2 = pd.read_csv(\"tmp.csv\",skiprows=[i for i in range(index_0+1,index_+2)])"
   ]
  },
  {
   "cell_type": "code",
   "execution_count": 71,
   "id": "907f37f8",
   "metadata": {},
   "outputs": [
    {
     "data": {
      "text/html": [
       "<div>\n",
       "<style scoped>\n",
       "    .dataframe tbody tr th:only-of-type {\n",
       "        vertical-align: middle;\n",
       "    }\n",
       "\n",
       "    .dataframe tbody tr th {\n",
       "        vertical-align: top;\n",
       "    }\n",
       "\n",
       "    .dataframe thead th {\n",
       "        text-align: right;\n",
       "    }\n",
       "</style>\n",
       "<table border=\"1\" class=\"dataframe\">\n",
       "  <thead>\n",
       "    <tr style=\"text-align: right;\">\n",
       "      <th></th>\n",
       "      <th>id</th>\n",
       "      <th>url</th>\n",
       "    </tr>\n",
       "  </thead>\n",
       "  <tbody>\n",
       "    <tr>\n",
       "      <th>0</th>\n",
       "      <td>1</td>\n",
       "      <td>zdjfjslfj</td>\n",
       "    </tr>\n",
       "    <tr>\n",
       "      <th>1</th>\n",
       "      <td>4</td>\n",
       "      <td>aaawkka</td>\n",
       "    </tr>\n",
       "    <tr>\n",
       "      <th>2</th>\n",
       "      <td>5</td>\n",
       "      <td>trytytyt</td>\n",
       "    </tr>\n",
       "  </tbody>\n",
       "</table>\n",
       "</div>"
      ],
      "text/plain": [
       "   id        url\n",
       "0   1  zdjfjslfj\n",
       "1   4    aaawkka\n",
       "2   5   trytytyt"
      ]
     },
     "execution_count": 71,
     "metadata": {},
     "output_type": "execute_result"
    }
   ],
   "source": [
    "data_2"
   ]
  },
  {
   "cell_type": "code",
   "execution_count": null,
   "id": "c3707bc8",
   "metadata": {},
   "outputs": [],
   "source": []
  }
 ],
 "metadata": {
  "kernelspec": {
   "display_name": "Python 3",
   "language": "python",
   "name": "python3"
  },
  "language_info": {
   "codemirror_mode": {
    "name": "ipython",
    "version": 3
   },
   "file_extension": ".py",
   "mimetype": "text/x-python",
   "name": "python",
   "nbconvert_exporter": "python",
   "pygments_lexer": "ipython3",
   "version": "3.8.10"
  }
 },
 "nbformat": 4,
 "nbformat_minor": 5
}

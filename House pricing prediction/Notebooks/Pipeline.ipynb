{
 "cells": [
  {
   "cell_type": "markdown",
   "source": [
    "## Pipeline"
   ],
   "metadata": {}
  },
  {
   "cell_type": "markdown",
   "source": [
    "### 1) Data Collection :\r\n",
    "- Webscrap on property24.com (with multiple scrapper) ->\r\n",
    "[data_collect](./data_collect/)\r\n",
    "\r\n",
    "### 2) Data raw Cleaning :\r\n",
    "- Formatting and cleaning data -> [Data Cleaning](./Data_preprocessing/Data_cleaning.ipynb)\r\n",
    "\r\n",
    "### 3) First EDA : \r\n",
    "- EDA -> [EDA_by_pandas_profiling](./Data_analysis/EDA_by_pandas_profiling.ipynb)\r\n",
    "\r\n",
    "### 4) Preprocessing :\r\n",
    "- Categorisation features, selection features by missing value, handling outliers and simple features encoding \r\n",
    "-> [Preprocessing_(missing_value,outliers,encoding)](./Data_preprocessing/Preprocessing_(missing_value,outliers,encoding).ipynb)\r\n",
    "\r\n",
    "### 5) EDA after preprocess:\r\n",
    "- EDA -> [EDA_after_preprocessing](./Data_analysis/EDA_after_preprocessing.ipynb)\r\n",
    "\r\n",
    "### 5) Generate sample (Train, Validation, Test):\r\n",
    "- Sampling -> [Sampling](./Sampling/generate_sample.ipynb)\r\n",
    "\r\n"
   ],
   "metadata": {}
  },
  {
   "cell_type": "code",
   "execution_count": null,
   "source": [],
   "outputs": [],
   "metadata": {}
  }
 ],
 "metadata": {
  "kernelspec": {
   "display_name": "Python 3",
   "language": "python",
   "name": "python3"
  },
  "language_info": {
   "codemirror_mode": {
    "name": "ipython",
    "version": 3
   },
   "file_extension": ".py",
   "mimetype": "text/x-python",
   "name": "python",
   "nbconvert_exporter": "python",
   "pygments_lexer": "ipython3",
   "version": "3.8.10"
  }
 },
 "nbformat": 4,
 "nbformat_minor": 5
}
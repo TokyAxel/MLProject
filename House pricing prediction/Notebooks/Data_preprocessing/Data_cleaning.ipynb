{
 "cells": [
  {
   "cell_type": "code",
   "execution_count": 9,
   "source": [
    "import pandas as pd\r\n",
    "import numpy as np"
   ],
   "outputs": [],
   "metadata": {}
  },
  {
   "cell_type": "code",
   "execution_count": 43,
   "source": [
    "def data_cleaning(paths, name):\r\n",
    "    ### COLLECT DATA RAW\r\n",
    "    dataraw = []\r\n",
    "    for path in paths:\r\n",
    "        with open(path) as f:\r\n",
    "            lines = f.readlines()\r\n",
    "        dataraw = dataraw + lines\r\n",
    "        f.close()\r\n",
    "        \r\n",
    "    print(\"len of datas:\",len(dataraw))\r\n",
    "        \r\n",
    "    ### CONVERT To DataFrame\r\n",
    "    all_feats = []\r\n",
    "    all_dicts = []\r\n",
    "    for l in dataraw:\r\n",
    "        dict_ = eval(l[1:-2])\r\n",
    "        try:\r\n",
    "            dict_['Price per m²'] = dict_.pop('Price per mÂ²')\r\n",
    "        except:\r\n",
    "            pass\r\n",
    "        all_dicts.append(dict_)\r\n",
    "        for k in dict_.keys():\r\n",
    "            # if 'Price per' in k:\r\n",
    "            #     k='Price per m²'\r\n",
    "            if k not in all_feats:\r\n",
    "                all_feats.append(k)\r\n",
    "    \r\n",
    "    \r\n",
    "    data = pd.DataFrame(all_dicts,columns=all_feats)\r\n",
    "    \r\n",
    "    ### DATA Cleaning\r\n",
    "    for col in list(data.columns):\r\n",
    "        if \"price\" in col or \"Price\" in col or \"Rates and Taxes\" in col or \"Levies\" in col:\r\n",
    "            if col == \"price\":\r\n",
    "                print(\"Drop POA values\")\r\n",
    "                data = data[data[col]!=\"POA\"]\r\n",
    "            data[col] = data[col].str.lstrip(\"R \")\r\n",
    "            data[col] = data[col].replace(r\" \",\"\",regex=True)\r\n",
    "            data[col] = pd.to_numeric(data[col])\r\n",
    "        \r\n",
    "        elif \"Size\" in col or \"size\" in col :\r\n",
    "            data[col] = data[col].str.rstrip(\" m²\")\r\n",
    "            data[col] = data[col].str.rstrip(\" m�\")\r\n",
    "            data[col] = data[col].str.rstrip(\" m\\B2\")\r\n",
    "            data[col] = data[col].str.rstrip(\" mÂ\")\r\n",
    "            data[col] = data[col].replace(r\" \",\"\",regex=True)\r\n",
    "            data[col] = data[col].replace(r\"ha\",\"\",regex=True)\r\n",
    "            data[col] = data[col].replace(r\"acres\",\"\",regex=True)\r\n",
    "            data[col] = data[col].replace(r\"m²\",\"\",regex=True)\r\n",
    "            data[col] = pd.to_numeric(data[col])\r\n",
    "\r\n",
    "        elif \"Coverage\" in col :\r\n",
    "            data[col] = data[col].str.rstrip(\" %\")\r\n",
    "            data[col] = data[col].replace(r\" \",\"\",regex=True)\r\n",
    "            data[col] = pd.to_numeric(data[col])\r\n",
    "\r\n",
    "        elif \"Height Restriction\" in col:\r\n",
    "            data[col] = data[col].str.rstrip(\" m²\")\r\n",
    "            data[col] = data[col].str.rstrip(\" m�\")\r\n",
    "            data[col] = data[col].str.rstrip(\" m\\B2\")\r\n",
    "            data[col] = data[col].str.rstrip(\" mÂ\")\r\n",
    "            data[col] = data[col].replace(r\" \",\"\",regex=True)\r\n",
    "            data[col] = data[col].replace(r\"m²\",\"\",regex=True)\r\n",
    "            data[col] = pd.to_numeric(data[col])\r\n",
    "\r\n",
    "        elif \"Date\" in col or \"date\" in col:\r\n",
    "            data[col] = pd.to_datetime(data[col])\r\n",
    "\r\n",
    "        ### Format list values\r\n",
    "        elif data[col].dtypes == np.object:\r\n",
    "            if str(type(data[col][data[col].first_valid_index()])) == \"<class 'list'>\":\r\n",
    "                series=[]\r\n",
    "                for value in data[col]:\r\n",
    "                    if str(value) != \"nan\":\r\n",
    "                        value = [i.replace('km','') for i in value]\r\n",
    "                        value = [float(i) for i in value]\r\n",
    "                    series.append(value)\r\n",
    "                data[col] = series\r\n",
    "    \r\n",
    "    #data = data.drop_duplicates()\r\n",
    "    \r\n",
    "    #data[\"index\"] = data.index\r\n",
    "    print(\"data dimensions:\",data.shape)\r\n",
    "    save_to = \"../../Data/Originals/\"+name\r\n",
    "    data.to_csv(save_to,sep=\";\",index=False)"
   ],
   "outputs": [],
   "metadata": {}
  },
  {
   "cell_type": "code",
   "execution_count": 44,
   "source": [
    "paths = [\"../data_collect/data_property_v0.csv\",\"../data_collect/Multi collect/data_property.csv\",\r\n",
    "         \"../data_collect/Multi collect/v2/data_property_v2.csv\",\"../data_collect/Multi collect/v3/data_property_v3.csv\",\r\n",
    "         \"../data_collect/Multi collect/v4/data_property_v4.csv\",\"../data_collect/Multi collect/v5/data_property_v2.csv\",\r\n",
    "         \"../data_collect/Multi collect/v6/data_property_v6.csv\",\"../data_collect/Multi collect/v7/data_property_v2.csv\"\r\n",
    "        ]\r\n",
    "\r\n",
    "data_cleaning(paths,\"Dataset_update.csv\")"
   ],
   "outputs": [
    {
     "output_type": "stream",
     "name": "stdout",
     "text": [
      "len of datas: 14111\n",
      "{'name': '1 Bedroom Apartment / Flat for Sale in Umhlanga Rocks', 'price': 'R 1 630 000', 'province': 'kwazulu-natal', 'city': 'umhlanga', 'address': '38 Umhlanga Ridge Boulevard, Umhlanga Rocks', 'Listing Number': '108813997', 'Type of Property': 'Apartment / Flat', 'Street Address': '38 Umhlanga Ridge Boulevard, Umhlanga Rocks', 'Listing Date': '07 May 2021', 'Floor Size': '68 mÂ²', 'Bedroom': 'Bedroom with sliding doors, built-in cupboards and screeded floors', 'Bathrooms': '1.5', 'Bathroom 1': 'Bathroom 2 with basin, shower and toilet', 'Bathroom 2': 'Bathroom 1 with toilet', 'Kitchen': 'Open plan kitchen with screeded floors, extractor fan and oven and hob', 'Reception Rooms': '1', 'Other': '2', 'Other 1': 'Open plan living room', 'Other 2': 'Laundry', 'Parking': '1', 'Garden': 'Garden', 'Pool': 'Swimming pool', 'Security': '24 hour manned security', 'Special Featuress': '3', 'Special Features 1': 'Complex with gym', 'Special Features 2': 'Walls with timber cladding', 'Special Features 3': 'Exterior features including braai', 'Health': ['0.15km'], 'Food and Entertainment': ['0.46km', '0.49km', '0.49km', '0.50km', '0.50km', '0.51km', '0.51km', '0.51km', '0.51km', '0.53km', '0.57km', '0.60km', '0.64km', '0.65km', '0.66km', '0.68km', '0.69km', '0.71km', '0.72km', '0.72km', '0.73km', '0.74km', '0.75km'], 'Shopping': ['0.49km', '0.50km', '0.59km', '0.60km', '0.61km'], 'Sports and Leisure': ['0.49km'], 'Price per m²': 'R 23 971'}\n",
      "{'name': '2 Bedroom Apartment / Flat for Sale in Uvongo Beach', 'price': 'R 660 000', 'province': 'kwazulu-natal', 'city': 'margate', 'address': '345 Queen Street, Uvongo Beach', 'Listing Number': '109794747', 'Type of Property': 'Apartment / Flat', 'Street Address': '345 Queen Street, Uvongo Beach', 'Listing Date': '26 March 2021', 'Erf Size': '5 143 mÂ²', 'Floor Size': '60 mÂ²', 'Levies': 'R 720', 'No Transfer Duty': 'Yes', 'Rates and Taxes': 'R 960', 'Pets Allowed': 'Yes', 'Bedrooms': '2', 'Bathrooms': '2', 'Kitchens': '1', 'Lounges': '1', 'Garden': 'Yes', 'Education': ['0.54km', '2.62km', '2.68km', '2.68km', '4.20km', '4.71km', '5.09km', '5.66km', '5.88km', '6.19km', '6.40km', '6.64km', '7.19km', '7.25km', '7.26km', '7.27km', '7.30km', '7.67km', '8.02km', '8.23km', '8.48km', '8.70km', '8.83km', '9.15km', '9.30km', '9.92km', '9.92km'], 'Sports and Leisure': ['2.35km'], 'Transport and Public Services': ['2.50km', '5.45km'], 'Price per m²': 'R 11 000'}\n"
     ]
    },
    {
     "output_type": "error",
     "ename": "KeyError",
     "evalue": "'Price per mÂ²'",
     "traceback": [
      "\u001b[1;31m---------------------------------------------------------------------------\u001b[0m",
      "\u001b[1;31mKeyError\u001b[0m                                  Traceback (most recent call last)",
      "\u001b[1;32m~\\AppData\\Local\\Temp/ipykernel_4620/2030100422.py\u001b[0m in \u001b[0;36m<module>\u001b[1;34m\u001b[0m\n\u001b[0;32m      5\u001b[0m         ]\n\u001b[0;32m      6\u001b[0m \u001b[1;33m\u001b[0m\u001b[0m\n\u001b[1;32m----> 7\u001b[1;33m \u001b[0mdata_cleaning\u001b[0m\u001b[1;33m(\u001b[0m\u001b[0mpaths\u001b[0m\u001b[1;33m,\u001b[0m\u001b[1;34m\"Dataset_update.csv\"\u001b[0m\u001b[1;33m)\u001b[0m\u001b[1;33m\u001b[0m\u001b[1;33m\u001b[0m\u001b[0m\n\u001b[0m",
      "\u001b[1;32m~\\AppData\\Local\\Temp/ipykernel_4620/91961285.py\u001b[0m in \u001b[0;36mdata_cleaning\u001b[1;34m(paths, name)\u001b[0m\n\u001b[0;32m     15\u001b[0m     \u001b[1;32mfor\u001b[0m \u001b[0ml\u001b[0m \u001b[1;32min\u001b[0m \u001b[0mdataraw\u001b[0m\u001b[1;33m:\u001b[0m\u001b[1;33m\u001b[0m\u001b[1;33m\u001b[0m\u001b[0m\n\u001b[0;32m     16\u001b[0m         \u001b[0mdict_\u001b[0m \u001b[1;33m=\u001b[0m \u001b[0meval\u001b[0m\u001b[1;33m(\u001b[0m\u001b[0ml\u001b[0m\u001b[1;33m[\u001b[0m\u001b[1;36m1\u001b[0m\u001b[1;33m:\u001b[0m\u001b[1;33m-\u001b[0m\u001b[1;36m2\u001b[0m\u001b[1;33m]\u001b[0m\u001b[1;33m)\u001b[0m\u001b[1;33m\u001b[0m\u001b[1;33m\u001b[0m\u001b[0m\n\u001b[1;32m---> 17\u001b[1;33m         \u001b[0mdict_\u001b[0m\u001b[1;33m[\u001b[0m\u001b[1;34m'Price per m²'\u001b[0m\u001b[1;33m]\u001b[0m \u001b[1;33m=\u001b[0m \u001b[0mdict_\u001b[0m\u001b[1;33m.\u001b[0m\u001b[0mpop\u001b[0m\u001b[1;33m(\u001b[0m\u001b[1;34m'Price per mÂ²'\u001b[0m\u001b[1;33m)\u001b[0m\u001b[1;33m\u001b[0m\u001b[1;33m\u001b[0m\u001b[0m\n\u001b[0m\u001b[0;32m     18\u001b[0m         \u001b[0mprint\u001b[0m\u001b[1;33m(\u001b[0m\u001b[0mdict_\u001b[0m\u001b[1;33m)\u001b[0m\u001b[1;33m\u001b[0m\u001b[1;33m\u001b[0m\u001b[0m\n\u001b[0;32m     19\u001b[0m         \u001b[0mall_dicts\u001b[0m\u001b[1;33m.\u001b[0m\u001b[0mappend\u001b[0m\u001b[1;33m(\u001b[0m\u001b[0mdict_\u001b[0m\u001b[1;33m)\u001b[0m\u001b[1;33m\u001b[0m\u001b[1;33m\u001b[0m\u001b[0m\n",
      "\u001b[1;31mKeyError\u001b[0m: 'Price per mÂ²'"
     ]
    }
   ],
   "metadata": {}
  },
  {
   "cell_type": "code",
   "execution_count": null,
   "source": [],
   "outputs": [],
   "metadata": {}
  }
 ],
 "metadata": {
  "kernelspec": {
   "name": "python3",
   "display_name": "Python 3.9.1 64-bit ('deepai': conda)"
  },
  "language_info": {
   "name": "python",
   "version": "3.9.6",
   "mimetype": "text/x-python",
   "codemirror_mode": {
    "name": "ipython",
    "version": 3
   },
   "pygments_lexer": "ipython3",
   "nbconvert_exporter": "python",
   "file_extension": ".py"
  },
  "interpreter": {
   "hash": "b54b66dfa7cdbe8a69b3bf148d9797a1fcee399928c1f348c50707ec239ca9b1"
  }
 },
 "nbformat": 4,
 "nbformat_minor": 5
}
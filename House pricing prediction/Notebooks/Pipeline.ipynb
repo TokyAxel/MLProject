{
 "cells": [
  {
   "cell_type": "markdown",
   "id": "1ce47c5f-b2fe-4689-a96c-707d8bab8e76",
   "metadata": {},
   "source": [
    "## Pipeline"
   ]
  },
  {
   "cell_type": "markdown",
   "id": "350d456d-5be6-46c3-b2bd-403ed7e02674",
   "metadata": {},
   "source": [
    "### 1) Data Collection :\n",
    "- Webscrap on property24.com (with multiple scrapper) ->\n",
    "[data_collect](./data_collect/)\n",
    "- Formatting and cleaning data -> [Data Cleaning](./Data preprocessing/Data cleaning (Final).ipynb)"
   ]
  },
  {
   "cell_type": "code",
   "execution_count": null,
   "id": "5852018c-d0a2-4486-894c-a268c0d3d139",
   "metadata": {},
   "outputs": [],
   "source": []
  }
 ],
 "metadata": {
  "kernelspec": {
   "display_name": "Python 3",
   "language": "python",
   "name": "python3"
  },
  "language_info": {
   "codemirror_mode": {
    "name": "ipython",
    "version": 3
   },
   "file_extension": ".py",
   "mimetype": "text/x-python",
   "name": "python",
   "nbconvert_exporter": "python",
   "pygments_lexer": "ipython3",
   "version": "3.8.10"
  }
 },
 "nbformat": 4,
 "nbformat_minor": 5
}

{
 "cells": [
  {
   "cell_type": "code",
   "execution_count": 1,
   "id": "815026fd",
   "metadata": {},
   "outputs": [],
   "source": [
    "import pandas as pd\n",
    "import numpy as np"
   ]
  },
  {
   "cell_type": "code",
   "execution_count": 2,
   "id": "608795af",
   "metadata": {},
   "outputs": [],
   "source": [
    "data = pd.read_csv(\"../../../Data/Dataset_v2.csv\",sep=\";\")"
   ]
  },
  {
   "cell_type": "code",
   "execution_count": 3,
   "id": "a7785a46",
   "metadata": {},
   "outputs": [
    {
     "data": {
      "text/plain": [
       "(13666, 24)"
      ]
     },
     "execution_count": 3,
     "metadata": {},
     "output_type": "execute_result"
    }
   ],
   "source": [
    "data.shape"
   ]
  },
  {
   "cell_type": "markdown",
   "id": "4a377e28",
   "metadata": {},
   "source": [
    "### Drop All Column with more 15% missing"
   ]
  },
  {
   "cell_type": "code",
   "execution_count": 4,
   "id": "cfe14035",
   "metadata": {},
   "outputs": [
    {
     "data": {
      "text/plain": [
       "['pool',\n",
       " 'security',\n",
       " 'health',\n",
       " 'shopping',\n",
       " 'sports_and_leisure',\n",
       " 'levies',\n",
       " 'pets_allowed',\n",
       " 'kitchens',\n",
       " 'garage',\n",
       " 'gardens']"
      ]
     },
     "execution_count": 4,
     "metadata": {},
     "output_type": "execute_result"
    }
   ],
   "source": [
    "cols =[]\n",
    "for idx in (data.isna().sum()/data.shape[0]).index:\n",
    "    if (data.isna().sum()/data.shape[0])[idx] > 0.15:\n",
    "        if idx not in ['food_and_entertainment','floor_size','rates_and_taxes']:\n",
    "            cols.append(idx) \n",
    "cols"
   ]
  },
  {
   "cell_type": "code",
   "execution_count": 5,
   "id": "b9a69800",
   "metadata": {},
   "outputs": [],
   "source": [
    "data = data.drop(cols, axis=1)"
   ]
  },
  {
   "cell_type": "code",
   "execution_count": 6,
   "id": "42dcd5e6",
   "metadata": {},
   "outputs": [
    {
     "data": {
      "text/plain": [
       "name                                0\n",
       "price                               0\n",
       "province                            0\n",
       "city                                0\n",
       "address                             0\n",
       "type_of_property                    0\n",
       "floor_size                       5729\n",
       "bathrooms                        1796\n",
       "food_and_entertainment           4900\n",
       "rates_and_taxes                  5012\n",
       "bedrooms                         1497\n",
       "education                         356\n",
       "transport_and_public_services    1791\n",
       "sampling                            0\n",
       "dtype: int64"
      ]
     },
     "execution_count": 6,
     "metadata": {},
     "output_type": "execute_result"
    }
   ],
   "source": [
    "data.isna().sum()"
   ]
  },
  {
   "cell_type": "code",
   "execution_count": 7,
   "id": "1d864583",
   "metadata": {},
   "outputs": [],
   "source": [
    "data = data[data[\"bathrooms\"]>=0.]\n",
    "data = data[data[\"bedrooms\"]>=0.]"
   ]
  },
  {
   "cell_type": "code",
   "execution_count": 8,
   "id": "1fdd8d07",
   "metadata": {},
   "outputs": [
    {
     "data": {
      "text/plain": [
       "(11087, 14)"
      ]
     },
     "execution_count": 8,
     "metadata": {},
     "output_type": "execute_result"
    }
   ],
   "source": [
    "data.shape"
   ]
  },
  {
   "cell_type": "code",
   "execution_count": 9,
   "id": "46a8fd9b",
   "metadata": {},
   "outputs": [
    {
     "data": {
      "text/plain": [
       "Index(['name', 'price', 'province', 'city', 'address', 'type_of_property',\n",
       "       'floor_size', 'bathrooms', 'food_and_entertainment', 'rates_and_taxes',\n",
       "       'bedrooms', 'education', 'transport_and_public_services', 'sampling'],\n",
       "      dtype='object')"
      ]
     },
     "execution_count": 9,
     "metadata": {},
     "output_type": "execute_result"
    }
   ],
   "source": [
    "data.columns"
   ]
  },
  {
   "cell_type": "markdown",
   "id": "58d63b9b",
   "metadata": {},
   "source": [
    "### Need resampling here"
   ]
  },
  {
   "cell_type": "code",
   "execution_count": 10,
   "id": "febef613",
   "metadata": {},
   "outputs": [],
   "source": [
    "def split_data(data,target,col=\"sampling\"):\n",
    "    unique = data[\"sampling\"].unique()\n",
    "    for i, v in enumerate(unique):\n",
    "        if v == 1 :\n",
    "            data_train = data[data[col]==v]\n",
    "            y_train = data_train[target]\n",
    "            X_train = data_train.drop([target],axis=1)\n",
    "            print(\"train shape :\",X_train.shape)\n",
    "        elif v == 2 :\n",
    "            data_val = data[data[col]==v]\n",
    "            y_val = data_val[target]\n",
    "            X_val = data_val.drop([target],axis=1)\n",
    "            print(\"val shape :\",X_val.shape)\n",
    "        elif v == 3 :\n",
    "            data_test = data[data[col]==v]\n",
    "            y_test = data_test[target]\n",
    "            X_test = data_test.drop([target],axis=1)\n",
    "            print(\"test shape :\",X_test.shape)\n",
    "            \n",
    "            \n",
    "    return X_train, y_train, X_val, y_train, X_test, y_test"
   ]
  },
  {
   "cell_type": "code",
   "execution_count": 11,
   "id": "8881ae74",
   "metadata": {},
   "outputs": [
    {
     "name": "stdout",
     "output_type": "stream",
     "text": [
      "train shape : (7739, 13)\n",
      "val shape : (1709, 13)\n",
      "test shape : (1639, 13)\n"
     ]
    }
   ],
   "source": [
    "X_train, y_train, X_val, y_train, X_test, y_test = split_data(data,\"price\")"
   ]
  },
  {
   "cell_type": "code",
   "execution_count": 12,
   "id": "90289e48",
   "metadata": {},
   "outputs": [],
   "source": [
    "data.to_csv(\"../../../Data/Dataset_zero_numeric_missing_v2.csv\",sep=\";\",)"
   ]
  },
  {
   "cell_type": "code",
   "execution_count": null,
   "id": "cf11063f",
   "metadata": {},
   "outputs": [],
   "source": []
  },
  {
   "cell_type": "code",
   "execution_count": null,
   "id": "b9463d54",
   "metadata": {},
   "outputs": [],
   "source": []
  }
 ],
 "metadata": {
  "kernelspec": {
   "display_name": "Python 3",
   "language": "python",
   "name": "python3"
  },
  "language_info": {
   "codemirror_mode": {
    "name": "ipython",
    "version": 3
   },
   "file_extension": ".py",
   "mimetype": "text/x-python",
   "name": "python",
   "nbconvert_exporter": "python",
   "pygments_lexer": "ipython3",
   "version": "3.8.10"
  }
 },
 "nbformat": 4,
 "nbformat_minor": 5
}

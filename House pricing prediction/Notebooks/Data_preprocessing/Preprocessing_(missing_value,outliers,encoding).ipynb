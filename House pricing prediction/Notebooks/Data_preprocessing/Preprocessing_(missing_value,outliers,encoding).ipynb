{
 "cells": [
  {
   "cell_type": "code",
   "execution_count": 87,
   "id": "abab656b-8f20-4ef7-a3ff-ada2fd1aca22",
   "metadata": {},
   "outputs": [],
   "source": [
    "import pandas as pd\n",
    "import numpy as np\n",
    "from scipy import stats"
   ]
  },
  {
   "cell_type": "code",
   "execution_count": 88,
   "id": "d106361f-74e0-4e84-9ac1-36d09793df45",
   "metadata": {},
   "outputs": [],
   "source": [
    "data = pd.read_csv(\"../../Data/Dataset_v0.csv\",sep=\";\")"
   ]
  },
  {
   "cell_type": "markdown",
   "id": "79411a5c-0b03-422a-ab38-97ee70c92a43",
   "metadata": {},
   "source": [
    "###  Catégoriser les types de variables :\n",
    " - Categorique ;\n",
    " - Numérique ;\n",
    " - Distance ;\n",
    " - Date"
   ]
  },
  {
   "cell_type": "code",
   "execution_count": 89,
   "id": "8543f83e-6f0e-432d-94b0-57f01ef756a3",
   "metadata": {},
   "outputs": [],
   "source": [
    "def categorisation(data,date_cols):\n",
    "    distance = []\n",
    "    date = []\n",
    "    numerique = []\n",
    "    categorique = []\n",
    "    for col in data.columns:\n",
    "        if data[col].dtypes == np.object:\n",
    "            try:\n",
    "                if str(type(eval(data[col][data[col].first_valid_index()]))) == \"<class 'list'>\":\n",
    "                    distance.append(col)\n",
    "                elif col in date_cols:\n",
    "                    date.append(col)\n",
    "                else:\n",
    "                    categorique.append(col)\n",
    "            except:\n",
    "                if col in date_cols:\n",
    "                    date.append(col)\n",
    "                else:\n",
    "                    categorique.append(col)\n",
    "                \n",
    "            \n",
    "        else :\n",
    "            numerique.append(col)\n",
    "                \n",
    "    return dict({\"numerique\":numerique,\"categorique\":categorique,\"date\":date,\"distance\":distance})"
   ]
  },
  {
   "cell_type": "code",
   "execution_count": 90,
   "id": "c3d487ba-f14c-4edb-9bf1-2ca7c75008f1",
   "metadata": {},
   "outputs": [
    {
     "data": {
      "text/plain": [
       "{'numerique': ['price',\n",
       "  'Listing Number',\n",
       "  'Floor Size',\n",
       "  'Price per m²',\n",
       "  'Bathrooms',\n",
       "  'Reception Rooms',\n",
       "  'Erf Size',\n",
       "  'Levies',\n",
       "  'Rates and Taxes',\n",
       "  'Bedrooms',\n",
       "  'Kitchens',\n",
       "  'Lounges',\n",
       "  'Dining Rooms',\n",
       "  'Gardens',\n",
       "  'Coverage',\n",
       "  'Office',\n",
       "  'Domestic Rooms'],\n",
       " 'categorique': ['name',\n",
       "  'province',\n",
       "  'city',\n",
       "  'address',\n",
       "  'Type of Property',\n",
       "  'Street Address',\n",
       "  'Bedroom',\n",
       "  'Bathroom 1',\n",
       "  'Bathroom 2',\n",
       "  'Kitchen',\n",
       "  'Other',\n",
       "  'Parking',\n",
       "  'Garden',\n",
       "  'Pool',\n",
       "  'Security',\n",
       "  'No Transfer Duty',\n",
       "  'Pets Allowed',\n",
       "  'Lifestyle',\n",
       "  'Bedroom 1',\n",
       "  'Bedroom 2',\n",
       "  'Bedroom 3',\n",
       "  'Bedroom 4',\n",
       "  'Bathroom 3',\n",
       "  'Dining Room',\n",
       "  'Garage',\n",
       "  'Lounge',\n",
       "  'Bathroom',\n",
       "  'Special Features',\n",
       "  'Nearby Public Transport',\n",
       "  'Description',\n",
       "  'Family/TV Room',\n",
       "  'Garage 1',\n",
       "  'Garage 2',\n",
       "  'Temperature Control',\n",
       "  'Style',\n",
       "  'Facing',\n",
       "  'Roof',\n",
       "  'Wall',\n",
       "  'Window',\n",
       "  'Entrance Hall',\n",
       "  'Rooms',\n",
       "  'Special Feature',\n",
       "  'Outbuilding',\n",
       "  'Flatlet',\n",
       "  'Standalone Building',\n",
       "  'Internet Access',\n",
       "  'Wheelchair Accessible',\n",
       "  'Parking 1',\n",
       "  'Parking 2'],\n",
       " 'date': ['Listing Date'],\n",
       " 'distance': ['Health',\n",
       "  'Food and Entertainment',\n",
       "  'Shopping',\n",
       "  'Sports and Leisure',\n",
       "  'Education',\n",
       "  'Transport and Public Services']}"
      ]
     },
     "execution_count": 90,
     "metadata": {},
     "output_type": "execute_result"
    }
   ],
   "source": [
    "feat_cat = categorisation(data,[\"Listing Date\"])\n",
    "feat_cat"
   ]
  },
  {
   "cell_type": "markdown",
   "id": "26b09306-d8ef-44bb-9206-0f7d79a8a7e8",
   "metadata": {},
   "source": [
    "## 1) Traitement des valeurs manquantes"
   ]
  },
  {
   "cell_type": "markdown",
   "id": "262a33f7-9930-4fdf-a849-221758d4fa8f",
   "metadata": {},
   "source": [
    "### traitement par colonne"
   ]
  },
  {
   "cell_type": "code",
   "execution_count": 91,
   "id": "a7b6873f-f491-4936-93f5-4649b411782e",
   "metadata": {},
   "outputs": [
    {
     "data": {
      "text/html": [
       "<div>\n",
       "<style scoped>\n",
       "    .dataframe tbody tr th:only-of-type {\n",
       "        vertical-align: middle;\n",
       "    }\n",
       "\n",
       "    .dataframe tbody tr th {\n",
       "        vertical-align: top;\n",
       "    }\n",
       "\n",
       "    .dataframe thead th {\n",
       "        text-align: right;\n",
       "    }\n",
       "</style>\n",
       "<table border=\"1\" class=\"dataframe\">\n",
       "  <thead>\n",
       "    <tr style=\"text-align: right;\">\n",
       "      <th></th>\n",
       "      <th>name</th>\n",
       "      <th>price</th>\n",
       "      <th>province</th>\n",
       "      <th>city</th>\n",
       "      <th>address</th>\n",
       "      <th>Listing Number</th>\n",
       "      <th>Type of Property</th>\n",
       "      <th>Street Address</th>\n",
       "      <th>Listing Date</th>\n",
       "      <th>Floor Size</th>\n",
       "      <th>...</th>\n",
       "      <th>Special Feature</th>\n",
       "      <th>Outbuilding</th>\n",
       "      <th>Flatlet</th>\n",
       "      <th>Standalone Building</th>\n",
       "      <th>Office</th>\n",
       "      <th>Domestic Rooms</th>\n",
       "      <th>Internet Access</th>\n",
       "      <th>Wheelchair Accessible</th>\n",
       "      <th>Parking 1</th>\n",
       "      <th>Parking 2</th>\n",
       "    </tr>\n",
       "  </thead>\n",
       "  <tbody>\n",
       "    <tr>\n",
       "      <th>valeurs manquantes</th>\n",
       "      <td>0.0</td>\n",
       "      <td>0.0</td>\n",
       "      <td>0.0</td>\n",
       "      <td>0.0</td>\n",
       "      <td>0.0</td>\n",
       "      <td>0.0</td>\n",
       "      <td>0.0</td>\n",
       "      <td>7859.000000</td>\n",
       "      <td>0.0</td>\n",
       "      <td>4748.000000</td>\n",
       "      <td>...</td>\n",
       "      <td>10158.000000</td>\n",
       "      <td>10546.000000</td>\n",
       "      <td>10498.000000</td>\n",
       "      <td>10181.000000</td>\n",
       "      <td>10596.000000</td>\n",
       "      <td>10353.000000</td>\n",
       "      <td>10378.000000</td>\n",
       "      <td>10618.000000</td>\n",
       "      <td>10682.000000</td>\n",
       "      <td>10682.000000</td>\n",
       "    </tr>\n",
       "    <tr>\n",
       "      <th>% valeurs manquantes</th>\n",
       "      <td>0.0</td>\n",
       "      <td>0.0</td>\n",
       "      <td>0.0</td>\n",
       "      <td>0.0</td>\n",
       "      <td>0.0</td>\n",
       "      <td>0.0</td>\n",
       "      <td>0.0</td>\n",
       "      <td>0.695733</td>\n",
       "      <td>0.0</td>\n",
       "      <td>0.420326</td>\n",
       "      <td>...</td>\n",
       "      <td>0.899256</td>\n",
       "      <td>0.933605</td>\n",
       "      <td>0.929356</td>\n",
       "      <td>0.901292</td>\n",
       "      <td>0.938031</td>\n",
       "      <td>0.916519</td>\n",
       "      <td>0.918732</td>\n",
       "      <td>0.939979</td>\n",
       "      <td>0.945644</td>\n",
       "      <td>0.945644</td>\n",
       "    </tr>\n",
       "  </tbody>\n",
       "</table>\n",
       "<p>2 rows × 73 columns</p>\n",
       "</div>"
      ],
      "text/plain": [
       "                      name  price  province  city  address  Listing Number  \\\n",
       "valeurs manquantes     0.0    0.0       0.0   0.0      0.0             0.0   \n",
       "% valeurs manquantes   0.0    0.0       0.0   0.0      0.0             0.0   \n",
       "\n",
       "                      Type of Property  Street Address  Listing Date  \\\n",
       "valeurs manquantes                 0.0     7859.000000           0.0   \n",
       "% valeurs manquantes               0.0        0.695733           0.0   \n",
       "\n",
       "                       Floor Size  ...  Special Feature   Outbuilding  \\\n",
       "valeurs manquantes    4748.000000  ...     10158.000000  10546.000000   \n",
       "% valeurs manquantes     0.420326  ...         0.899256      0.933605   \n",
       "\n",
       "                           Flatlet  Standalone Building        Office  \\\n",
       "valeurs manquantes    10498.000000         10181.000000  10596.000000   \n",
       "% valeurs manquantes      0.929356             0.901292      0.938031   \n",
       "\n",
       "                      Domestic Rooms  Internet Access  Wheelchair Accessible  \\\n",
       "valeurs manquantes      10353.000000     10378.000000           10618.000000   \n",
       "% valeurs manquantes        0.916519         0.918732               0.939979   \n",
       "\n",
       "                         Parking 1     Parking 2  \n",
       "valeurs manquantes    10682.000000  10682.000000  \n",
       "% valeurs manquantes      0.945644      0.945644  \n",
       "\n",
       "[2 rows x 73 columns]"
      ]
     },
     "execution_count": 91,
     "metadata": {},
     "output_type": "execute_result"
    }
   ],
   "source": [
    "missing = pd.DataFrame([data.isna().sum().values,(data.isna().sum()/data.shape[0]).values],index = [\"valeurs manquantes\",\"% valeurs manquantes\"] , columns=data.columns)\n",
    "missing"
   ]
  },
  {
   "cell_type": "code",
   "execution_count": 92,
   "id": "12f5d1fb-a0a6-4a86-834a-8a10e5abb6c2",
   "metadata": {},
   "outputs": [
    {
     "data": {
      "text/html": [
       "<div>\n",
       "<style scoped>\n",
       "    .dataframe tbody tr th:only-of-type {\n",
       "        vertical-align: middle;\n",
       "    }\n",
       "\n",
       "    .dataframe tbody tr th {\n",
       "        vertical-align: top;\n",
       "    }\n",
       "\n",
       "    .dataframe thead th {\n",
       "        text-align: right;\n",
       "    }\n",
       "</style>\n",
       "<table border=\"1\" class=\"dataframe\">\n",
       "  <thead>\n",
       "    <tr style=\"text-align: right;\">\n",
       "      <th></th>\n",
       "      <th>valeurs manquantes</th>\n",
       "      <th>% valeurs manquantes</th>\n",
       "    </tr>\n",
       "  </thead>\n",
       "  <tbody>\n",
       "    <tr>\n",
       "      <th>count</th>\n",
       "      <td>73.000000</td>\n",
       "      <td>73.000000</td>\n",
       "    </tr>\n",
       "    <tr>\n",
       "      <th>mean</th>\n",
       "      <td>7397.150685</td>\n",
       "      <td>0.654847</td>\n",
       "    </tr>\n",
       "    <tr>\n",
       "      <th>std</th>\n",
       "      <td>3634.772695</td>\n",
       "      <td>0.321775</td>\n",
       "    </tr>\n",
       "    <tr>\n",
       "      <th>min</th>\n",
       "      <td>0.000000</td>\n",
       "      <td>0.000000</td>\n",
       "    </tr>\n",
       "    <tr>\n",
       "      <th>25%</th>\n",
       "      <td>5418.000000</td>\n",
       "      <td>0.479639</td>\n",
       "    </tr>\n",
       "    <tr>\n",
       "      <th>50%</th>\n",
       "      <td>8813.000000</td>\n",
       "      <td>0.780188</td>\n",
       "    </tr>\n",
       "    <tr>\n",
       "      <th>75%</th>\n",
       "      <td>10274.000000</td>\n",
       "      <td>0.909525</td>\n",
       "    </tr>\n",
       "    <tr>\n",
       "      <th>max</th>\n",
       "      <td>10682.000000</td>\n",
       "      <td>0.945644</td>\n",
       "    </tr>\n",
       "  </tbody>\n",
       "</table>\n",
       "</div>"
      ],
      "text/plain": [
       "       valeurs manquantes  % valeurs manquantes\n",
       "count           73.000000             73.000000\n",
       "mean          7397.150685              0.654847\n",
       "std           3634.772695              0.321775\n",
       "min              0.000000              0.000000\n",
       "25%           5418.000000              0.479639\n",
       "50%           8813.000000              0.780188\n",
       "75%          10274.000000              0.909525\n",
       "max          10682.000000              0.945644"
      ]
     },
     "execution_count": 92,
     "metadata": {},
     "output_type": "execute_result"
    }
   ],
   "source": [
    "missing.T.describe()"
   ]
  },
  {
   "cell_type": "markdown",
   "id": "473a009c-b9b5-4d47-a2cb-a894ef399691",
   "metadata": {},
   "source": [
    "#### On va supprimer certaines variables par seuil de valeurs manquantes mais sauver quelques variables pertinents au niveau métier :\n"
   ]
  },
  {
   "cell_type": "code",
   "execution_count": 93,
   "id": "ac99a73b-356c-4fd6-ae7e-28086a924023",
   "metadata": {},
   "outputs": [],
   "source": [
    "def drop_columns(data,keep,drop,seuil):    \n",
    "    missing = pd.DataFrame([data.isna().sum().values,(data.isna().sum()/data.shape[0]).values],index = [\"valeurs manquantes\",\"% valeurs manquantes\"] , columns=data.columns)\n",
    "    missing_freq = missing.T[missing.T[\"% valeurs manquantes\"]>=seuil]\n",
    "    print(len(missing_freq[\"% valeurs manquantes\"]))\n",
    "    (len(missing_freq[\"% valeurs manquantes\"])/data.shape[1])*100\n",
    "\n",
    "    for i in missing_freq.T.columns:\n",
    "        ## variable à sauver\n",
    "        if i not in keep:\n",
    "            drop.append(i)\n",
    "            \n",
    "    return data.drop(drop,axis=1)"
   ]
  },
  {
   "cell_type": "code",
   "execution_count": 94,
   "id": "1cfe65a1-a8b4-4452-b550-895fcae9a459",
   "metadata": {},
   "outputs": [],
   "source": [
    "must_keep = feat_cat[\"distance\"]+['price','Bathrooms','Levies','Rates and Taxes','Bedrooms','Kitchens','Garage',\"Gardens\",'Pool','Pets Allowed']\n",
    "must_drop = ['Listing Number','Price per m²']+feat_cat[\"date\"]"
   ]
  },
  {
   "cell_type": "code",
   "execution_count": 95,
   "id": "b641dd69-25f2-4795-a786-dbf084b2ad52",
   "metadata": {},
   "outputs": [
    {
     "name": "stdout",
     "output_type": "stream",
     "text": [
      "59\n"
     ]
    }
   ],
   "source": [
    "data = drop_columns(data,must_keep,must_drop,0.40)"
   ]
  },
  {
   "cell_type": "code",
   "execution_count": 96,
   "id": "2f60889d-cd4f-4e15-be5c-92e5d66ca256",
   "metadata": {},
   "outputs": [
    {
     "data": {
      "text/plain": [
       "(11296, 21)"
      ]
     },
     "execution_count": 96,
     "metadata": {},
     "output_type": "execute_result"
    }
   ],
   "source": [
    "data.shape"
   ]
  },
  {
   "cell_type": "markdown",
   "id": "810c375a-68fd-4169-9725-ad9742359925",
   "metadata": {},
   "source": [
    "### 2) Traitement des valeurs aberrantes"
   ]
  },
  {
   "attachments": {
    "8dcc53cc-d7bc-4032-8717-c349291cbdec.png": {
     "image/png": "[encoded data removed]"
    }
   },
   "cell_type": "markdown",
   "id": "2f6e4bf0-b0ce-45af-ae47-285714331948",
   "metadata": {},
   "source": [
    "### Détection par z-score (mbola tsy mety)\n",
    "\n",
    "https://towardsdatascience.com/z-score-for-anomaly-detection-d98b0006f510\n",
    "\n",
    "![image.png](attachment:8dcc53cc-d7bc-4032-8717-c349291cbdec.png)\n"
   ]
  },
  {
   "cell_type": "code",
   "execution_count": 97,
   "id": "b9c2d40e-9764-45ec-a236-17e532cd68ed",
   "metadata": {},
   "outputs": [],
   "source": [
    "def z_score(data,columns,seuil):\n",
    "    z_scores = stats.zscore(data[columns])\n",
    "    print(z_scores)\n",
    "    abs_z_scores = np.abs(z_scores)\n",
    "    filtered_entries = (abs_z_scores < seuil).all(axis=1)\n",
    "    data = data[filtered_entries]\n",
    "    return data"
   ]
  },
  {
   "cell_type": "markdown",
   "id": "18e113bb-d235-48cd-996d-8ef1a3379300",
   "metadata": {},
   "source": [
    "### par IQR \n",
    "\n",
    "$$ IQR = Q3 - Q1 $$\n",
    "$$ interval = [Q1 - seuil * IQR, Q3 + seuil * IQR]$$"
   ]
  },
  {
   "cell_type": "code",
   "execution_count": 98,
   "id": "f924c973-037b-462d-a392-75e82b541598",
   "metadata": {},
   "outputs": [],
   "source": [
    "def IQR(df,cols,quantiles=[0.25,0.75],seuil=1.5):\n",
    "    Q1 = df[cols].quantile(quantiles[0])\n",
    "    Q3 = df[cols].quantile(quantiles[1])\n",
    "    IQR = Q3 - Q1\n",
    "\n",
    "    return df[~((df[cols] < (Q1 - seuil * IQR)) |(df[cols] > (Q3 + seuil * IQR))).any(axis=1)]"
   ]
  },
  {
   "cell_type": "markdown",
   "id": "8c94b6b7-98cf-4258-aee7-aa669663504e",
   "metadata": {},
   "source": [
    "Variables sur les prix (+ Listing Number) à ne pas vérifier : \n",
    "- 'price'"
   ]
  },
  {
   "cell_type": "code",
   "execution_count": 99,
   "id": "87d43521-6367-4261-8da2-8b3efec115a9",
   "metadata": {},
   "outputs": [
    {
     "data": {
      "text/plain": [
       "(11296, 21)"
      ]
     },
     "execution_count": 99,
     "metadata": {},
     "output_type": "execute_result"
    }
   ],
   "source": [
    "data.shape"
   ]
  },
  {
   "cell_type": "code",
   "execution_count": 100,
   "id": "046dfa44-2ed4-46ec-aab2-f51def3fc659",
   "metadata": {},
   "outputs": [
    {
     "data": {
      "text/plain": [
       "{'numerique': ['price',\n",
       "  'Bathrooms',\n",
       "  'Levies',\n",
       "  'Rates and Taxes',\n",
       "  'Bedrooms',\n",
       "  'Kitchens',\n",
       "  'Gardens'],\n",
       " 'categorique': ['name',\n",
       "  'province',\n",
       "  'city',\n",
       "  'address',\n",
       "  'Type of Property',\n",
       "  'Pool',\n",
       "  'Pets Allowed',\n",
       "  'Garage'],\n",
       " 'date': [],\n",
       " 'distance': ['Health',\n",
       "  'Food and Entertainment',\n",
       "  'Shopping',\n",
       "  'Sports and Leisure',\n",
       "  'Education',\n",
       "  'Transport and Public Services']}"
      ]
     },
     "execution_count": 100,
     "metadata": {},
     "output_type": "execute_result"
    }
   ],
   "source": [
    "feat_cat = categorisation(data,[\"\"])\n",
    "feat_cat"
   ]
  },
  {
   "cell_type": "code",
   "execution_count": 101,
   "id": "5c586869-09f6-4c2d-a16b-fab5467ce28d",
   "metadata": {},
   "outputs": [
    {
     "data": {
      "text/plain": [
       "(10019, 21)"
      ]
     },
     "execution_count": 101,
     "metadata": {},
     "output_type": "execute_result"
    }
   ],
   "source": [
    "to_check = [ 'Bathrooms',\n",
    "  'Levies',\n",
    "  'Rates and Taxes',\n",
    "  'Bedrooms',\n",
    "  'Kitchens',\n",
    "  'Gardens']\n",
    "\n",
    "#data = z_score(data,to_check,1.)\n",
    "data = IQR(data,to_check)\n",
    "data.shape"
   ]
  },
  {
   "cell_type": "markdown",
   "id": "c31a1ac4-b996-41cd-88cc-249ff5158652",
   "metadata": {},
   "source": [
    "### 3) Encodage :\n",
    "\n",
    "- Pets Allowes en variable bool;\n",
    "- Pool en variable bool;\n",
    "- Garage en variable bool;\n",
    "- Nan des variables catégoriques -> \"missing\""
   ]
  },
  {
   "cell_type": "code",
   "execution_count": 102,
   "id": "b7c69532-b52b-4207-8cbd-5758ea7c08cc",
   "metadata": {},
   "outputs": [
    {
     "data": {
      "text/plain": [
       "Yes    3252\n",
       "No     1845\n",
       "Name: Pets Allowed, dtype: int64"
      ]
     },
     "execution_count": 102,
     "metadata": {},
     "output_type": "execute_result"
    }
   ],
   "source": [
    "data[\"Pets Allowed\"].value_counts()"
   ]
  },
  {
   "cell_type": "code",
   "execution_count": 103,
   "id": "ea8d6a2e-b3fa-4360-b5b5-f319e297c8c2",
   "metadata": {},
   "outputs": [
    {
     "name": "stdout",
     "output_type": "stream",
     "text": [
      "Yes\n",
      "1\n",
      "Communal Pool\n",
      "Pool\n",
      "Fenced, Communal Pool\n",
      "Communal pool\n",
      "Swimming pool\n",
      "Chlorinator\n",
      "Chlorine pool\n",
      "Auto Cleaning Equipment\n",
      "Splash Pool\n",
      "Communal\n",
      "Chlorine / swimming pool(s)\n",
      "Chlorine\n",
      "Safety Net\n",
      "Communal swimming pool\n",
      "Swimming\n",
      "Fibreglass in Ground\n",
      "Heated\n",
      "Gunite in Ground\n",
      "Own chlorine / swimming pool(s)\n",
      "Fenced\n",
      "Communal chlorine / swimming pool(s)\n",
      "Own pool\n",
      "Fibreglass in Ground, Auto Cleaning Equipment\n",
      "Fibreglass in Ground, Safety Net, Auto Cleaning Equipment\n",
      "Communal, Swimming\n",
      "Auto Cleaning Equipment, Communal Pool\n",
      "Auto Cleaning Equipment, Chlorinator\n",
      "Splash pool\n",
      "Auto Cleaning Equipment, Chlorinator, Communal Pool\n",
      "Fenced, Auto Cleaning Equipment, Chlorinator, Communal Pool\n",
      "Portapool\n",
      "Own\n",
      "Communal chlorine / swimming pool(s) with cleaner\n",
      "Gunite in Ground, Communal Pool\n",
      "Own swimming pool\n",
      "Communal chlorine pool\n",
      "Heated, Auto Cleaning Equipment\n",
      "Gunite in Ground, Auto Cleaning Equipment\n",
      "Communal Swimming Pool\n",
      "Fibreglass in Ground, Auto Cleaning Equipment, Communal Pool\n",
      "Heated, Communal Pool\n",
      "Fenced, Auto Cleaning Equipment\n",
      "Fibreglass in Ground, Safety Net\n",
      "Gunite in Ground, Fenced, Auto Cleaning Equipment\n",
      "Chlorine / swimming pool(s) with fence\n",
      "Marbelite\n",
      "Fibreglass in Ground, Communal Pool\n",
      "SPARKLING POOL\n",
      "Safety Net, Chlorinator\n",
      "Fenced, Auto Cleaning Equipment, Chlorinator\n",
      "Fibreglass in Ground, Auto Cleaning Equipment, Chlorinator\n",
      "Fenced, Chlorinator, Communal Pool\n",
      "Chlorine, Own, Swimming\n",
      "Auto Cleaning Equipment, Chlorinator, Splash Pool\n",
      "Fenced, Chlorinator\n",
      "Jacuzzi\n",
      "Solar heated\n",
      "Own, Swimming\n",
      "Communal Pool - Pool\n",
      "Swimming pool with cleaner\n",
      "Solar Heating System \n",
      "POOL IS CLEAN AND LARGE - BORE-HOLE WATER \n",
      "water feature pool\n",
      "Heated pool\n",
      "Heated, Rock Pool\n",
      "Undercover, large\n",
      "SPARKLING POOL NEXT TO LAPA AND BRAAI\n",
      "Stunning blue pool in lovely garden surroundings\n",
      "Communal \n",
      "Own chlorine pool\n",
      "Communal solar heated pool\n",
      "Needs attention\n",
      "Fibreglass in Ground, Heated, Safety Net\n",
      "With braai area\n",
      "Gunite in Ground, Fenced, Communal Pool\n",
      "Home has got a spa bath on the stoep.\n",
      "OUT OF ORDER\n",
      "Communal, Fence, Swimming\n",
      "Plus a baby pool\n",
      "Sparkling pool\n",
      "Stunning rectangular shaped pool. Perfect for the hot summer days!\n",
      "Pool in complex\n",
      "Dysfunctional swimming pool\n",
      "Communal chlorine pool with cleaner\n",
      "small in a garden setting \n",
      "Communal Pool, Splash Pool\n",
      "Fibreglass in Ground, Fenced, Chlorinator, Communal Pool\n",
      "Fibreglass in Ground, Fenced\n",
      "Lapa\n",
      "Communal salt pool with fence\n",
      "Newly gunited 2020\n",
      "Fibreglass in Ground, Splash Pool\n",
      "Units are on show every Wednesday, Saturday & Sunday from 1:00pm - 5:00pm\n",
      "Communal solar heated swimming pool with cover and fence\n",
      "in house\n",
      "Chlorine, Cleaner, Cover\n",
      "Chlorinator, Splash Pool\n",
      "Braai area\n",
      "Chlorine / splash pool(s)\n",
      "Sparkling pool in pretty garden with sun beds, fenced for safety.\n",
      "Fibreglass in Ground, Heated, Auto Cleaning Equipment\n",
      "Cover.\n",
      "Salt / swimming pool(s)\n",
      "Fenced, Safety Net\n",
      "Communal pool in the complex\n",
      "In the complex\n",
      "Out of Order.\n",
      "Chlorine, Own\n",
      "3 x 7.5m\n",
      "Communal swimming pool with fence\n",
      "Fenced, Auto Cleaning Equipment, Communal Pool, Splash Pool\n",
      "Clorinated Swimming Pool\n",
      "Salt, Swimming\n",
      "covered\n",
      "Communal swimming pool and braai areas\n",
      "WITH NET\n",
      "Sparkling blue pool, Solar heated pool\n",
      "Safety Net, Auto Cleaning Equipment, Rock Pool\n",
      "Sparkling\n",
      "Swimming Pool\n",
      "with braai facilities and lawns\n",
      "Large\n",
      "Chlorine pool with fence\n",
      "Fibreglass in Ground, Fenced, Auto Cleaning Equipment, Communal Pool\n",
      "Pool with eco pool\n",
      "Chlorine / splash / swimming pool(s) with cleaner and fence\n",
      "Small splash pool, with solar heating\n",
      "Gunite in Ground, Safety Net\n",
      "Pool cover, Heat pump\n",
      "Fibreglass in Ground, Safety Net, Auto Cleaning Equipment, Splash Pool\n",
      "Rock Pool\n",
      "Auto Cleaning Equipment, Splash Pool\n",
      "Chlorine, Communal\n",
      "Pump\n",
      "Fibreglass in Ground, Auto Cleaning Equipment, Splash Pool\n",
      "Communal chlorine / splash pool(s) with fence\n",
      "Solar Heated Swimming Pool\n",
      "Own chlorine / swimming pool(s) with cleaner\n",
      "Portapool, Fenced, Chlorinator\n",
      "Clubhouse and cricket nets are located at the swimming pool\n",
      "Extra optional\n",
      "Chlorine, Communal, Swimming\n",
      "Huge pool \n",
      "COMMUNAL\n",
      "Not Functional\n",
      "Sparkling pool complimenting the entertainment area.  Has cleaning equipment and a pool net\n",
      "Not in working condition - leaking\n",
      "Small Lapa close to pool\n",
      "Covered Solar heated pool\n",
      "Heated, Rock Pool, Splash Pool\n",
      "Chlorine / swimming pool(s) with cleaner\n",
      "Fenced, Communal Pool, Splash Pool\n",
      "With a wooden deck\n",
      "Fibreglass in Ground, Fenced, Communal Pool\n",
      "Auto Cleaning Equipment, Rock Pool\n",
      "Chlorine, Swimming\n",
      "Change Room, Communal, Fence, Swimming\n",
      "Solar heated chlorine / swimming pool(s)\n",
      "Pool with braai area and stoep\n",
      "Covered Pool\n",
      "Fenced, Auto Cleaning Equipment, Communal Pool\n",
      "SPARKLING POOL WITH COVER\n",
      "Salt Chlorinator\n",
      "Pool with cleaner\n",
      "Chlorine pool with cleaner\n",
      "Swimming pool with change room\n",
      "Complex\n",
      "Large gunite pool\n",
      "Marbelite, Communal\n",
      "Chlorine / salt / swimming pool(s)\n",
      "Gunite in Ground, Fenced, Auto Cleaning Equipment, Chlorinator, Communal Pool\n",
      "Fenced, Safety Net, Auto Cleaning Equipment, Communal Pool\n",
      "Salt pool with cleaner and cover\n",
      "Communal, Solar Heated\n",
      "cracked\n",
      "Gunite in Ground, Heated, Auto Cleaning Equipment\n",
      "On rooftop.\n",
      "lapa/bar/patio\n",
      "Marbalite \n"
     ]
    }
   ],
   "source": [
    "for pool in data[\"Pool\"].value_counts().index:\n",
    "    print(pool)"
   ]
  },
  {
   "cell_type": "code",
   "execution_count": 104,
   "id": "df367c01-0057-43a2-b084-626d9555a18f",
   "metadata": {},
   "outputs": [],
   "source": [
    "for col in data.columns:\n",
    "    if col == \"Pets Allowed\":\n",
    "        data[col] = data[col].replace(np.nan,\"missing\")\n",
    "    elif col == \"Pool\":\n",
    "        data[col] = data[col].replace(r\".*\",\"y\",regex=True)\n",
    "        data[col] = data[col].replace(r\"yy\",\"Yes\",regex=True)\n",
    "        data[col] = data[col].replace(np.nan,\"missing\")\n",
    "    elif col == \"Garage\":\n",
    "        data[col] = data[col].replace(r\".*\",\"y\",regex=True)\n",
    "        data[col] = data[col].replace(r\"yy\",\"Yes\",regex=True)\n",
    "        data[col] = data[col].replace(np.nan,\"missing\")\n",
    "    else :\n",
    "        data[col] = data[col].replace(np.nan,\"missing\")"
   ]
  },
  {
   "cell_type": "code",
   "execution_count": 105,
   "id": "2cb9807c-4d52-4b8f-8c7f-4871ce1d260a",
   "metadata": {},
   "outputs": [
    {
     "data": {
      "text/plain": [
       "missing    4922\n",
       "Yes        3252\n",
       "No         1845\n",
       "Name: Pets Allowed, dtype: int64"
      ]
     },
     "execution_count": 105,
     "metadata": {},
     "output_type": "execute_result"
    }
   ],
   "source": [
    "data[\"Pets Allowed\"].value_counts()"
   ]
  },
  {
   "cell_type": "code",
   "execution_count": 106,
   "id": "d91a2cd9-b907-485c-b329-2f901931febe",
   "metadata": {},
   "outputs": [
    {
     "data": {
      "text/plain": [
       "missing    7765\n",
       "Yes        2254\n",
       "Name: Pool, dtype: int64"
      ]
     },
     "execution_count": 106,
     "metadata": {},
     "output_type": "execute_result"
    }
   ],
   "source": [
    "data[\"Pool\"].value_counts()"
   ]
  },
  {
   "cell_type": "code",
   "execution_count": 107,
   "id": "6951c649-1091-4ed3-97b4-51f85393a943",
   "metadata": {},
   "outputs": [],
   "source": [
    "data.to_csv(\"../../Data/Dataset_v1.csv\",sep=\";\",index=False)"
   ]
  },
  {
   "cell_type": "code",
   "execution_count": null,
   "id": "e7275d0a-4197-438c-8fc5-16d30c7b297f",
   "metadata": {},
   "outputs": [],
   "source": []
  }
 ],
 "metadata": {
  "kernelspec": {
   "display_name": "Python 3",
   "language": "python",
   "name": "python3"
  },
  "language_info": {
   "codemirror_mode": {
    "name": "ipython",
    "version": 3
   },
   "file_extension": ".py",
   "mimetype": "text/x-python",
   "name": "python",
   "nbconvert_exporter": "python",
   "pygments_lexer": "ipython3",
   "version": "3.8.10"
  }
 },
 "nbformat": 4,
 "nbformat_minor": 5
}

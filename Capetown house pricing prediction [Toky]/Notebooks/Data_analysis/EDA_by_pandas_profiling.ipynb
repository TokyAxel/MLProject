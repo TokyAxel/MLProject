{
 "cells": [
  {
   "cell_type": "code",
   "execution_count": 1,
   "id": "0739ddc3",
   "metadata": {},
   "outputs": [],
   "source": [
    "from pandas_profiling import ProfileReport\n",
    "import pandas as pd"
   ]
  },
  {
   "cell_type": "code",
   "execution_count": 2,
   "id": "b34761a0",
   "metadata": {},
   "outputs": [],
   "source": [
    "data = pd.read_csv(\"../../Data/Dataset.csv\")"
   ]
  },
  {
   "cell_type": "code",
   "execution_count": 3,
   "id": "c6a52873",
   "metadata": {},
   "outputs": [
    {
     "data": {
      "text/plain": [
       "(7846, 23)"
      ]
     },
     "execution_count": 3,
     "metadata": {},
     "output_type": "execute_result"
    }
   ],
   "source": [
    "data.shape"
   ]
  },
  {
   "cell_type": "markdown",
   "id": "da5ab09d",
   "metadata": {},
   "source": [
    "### Description des valeurs manquantes"
   ]
  },
  {
   "cell_type": "code",
   "execution_count": 4,
   "id": "928d2b6c",
   "metadata": {},
   "outputs": [],
   "source": [
    "pd.set_option(\"max_columns\",None)"
   ]
  },
  {
   "cell_type": "code",
   "execution_count": 5,
   "id": "90144bb1",
   "metadata": {},
   "outputs": [
    {
     "data": {
      "text/html": [
       "<div>\n",
       "<style scoped>\n",
       "    .dataframe tbody tr th:only-of-type {\n",
       "        vertical-align: middle;\n",
       "    }\n",
       "\n",
       "    .dataframe tbody tr th {\n",
       "        vertical-align: top;\n",
       "    }\n",
       "\n",
       "    .dataframe thead th {\n",
       "        text-align: right;\n",
       "    }\n",
       "</style>\n",
       "<table border=\"1\" class=\"dataframe\">\n",
       "  <thead>\n",
       "    <tr style=\"text-align: right;\">\n",
       "      <th></th>\n",
       "      <th>bathrooms</th>\n",
       "      <th>bedrooms</th>\n",
       "      <th>erf_size</th>\n",
       "      <th>floor_size</th>\n",
       "      <th>garages</th>\n",
       "      <th>listing_date</th>\n",
       "      <th>listing_number</th>\n",
       "      <th>pet_friendly</th>\n",
       "      <th>price</th>\n",
       "      <th>town</th>\n",
       "      <th>type_of_property</th>\n",
       "      <th>garden</th>\n",
       "      <th>pool</th>\n",
       "      <th>secure_parking</th>\n",
       "      <th>parking</th>\n",
       "      <th>no_pets_allowed</th>\n",
       "      <th>furnished</th>\n",
       "      <th>flatlet</th>\n",
       "      <th>fibre_internet</th>\n",
       "      <th>furnished_(optional)</th>\n",
       "      <th>adsl_internet</th>\n",
       "      <th>satellite_internet</th>\n",
       "      <th>fixed_wimax_internet</th>\n",
       "    </tr>\n",
       "  </thead>\n",
       "  <tbody>\n",
       "    <tr>\n",
       "      <th>valeurs manquantes</th>\n",
       "      <td>85.000000</td>\n",
       "      <td>236.000000</td>\n",
       "      <td>4251.000000</td>\n",
       "      <td>2005.000000</td>\n",
       "      <td>4143.00000</td>\n",
       "      <td>0.0</td>\n",
       "      <td>0.0</td>\n",
       "      <td>5826.000000</td>\n",
       "      <td>0.0</td>\n",
       "      <td>0.0</td>\n",
       "      <td>0.0</td>\n",
       "      <td>5825.000000</td>\n",
       "      <td>5132.000000</td>\n",
       "      <td>7182.000000</td>\n",
       "      <td>4436.000000</td>\n",
       "      <td>6530.000000</td>\n",
       "      <td>7547.000000</td>\n",
       "      <td>7437.000000</td>\n",
       "      <td>7055.000000</td>\n",
       "      <td>7824.000000</td>\n",
       "      <td>7806.000000</td>\n",
       "      <td>7834.000000</td>\n",
       "      <td>7845.000000</td>\n",
       "    </tr>\n",
       "    <tr>\n",
       "      <th>% valeurs manquantes</th>\n",
       "      <td>0.010834</td>\n",
       "      <td>0.030079</td>\n",
       "      <td>0.541805</td>\n",
       "      <td>0.255544</td>\n",
       "      <td>0.52804</td>\n",
       "      <td>0.0</td>\n",
       "      <td>0.0</td>\n",
       "      <td>0.742544</td>\n",
       "      <td>0.0</td>\n",
       "      <td>0.0</td>\n",
       "      <td>0.0</td>\n",
       "      <td>0.742417</td>\n",
       "      <td>0.654091</td>\n",
       "      <td>0.915371</td>\n",
       "      <td>0.565384</td>\n",
       "      <td>0.832271</td>\n",
       "      <td>0.961891</td>\n",
       "      <td>0.947872</td>\n",
       "      <td>0.899184</td>\n",
       "      <td>0.997196</td>\n",
       "      <td>0.994902</td>\n",
       "      <td>0.998471</td>\n",
       "      <td>0.999873</td>\n",
       "    </tr>\n",
       "  </tbody>\n",
       "</table>\n",
       "</div>"
      ],
      "text/plain": [
       "                      bathrooms    bedrooms     erf_size   floor_size  \\\n",
       "valeurs manquantes    85.000000  236.000000  4251.000000  2005.000000   \n",
       "% valeurs manquantes   0.010834    0.030079     0.541805     0.255544   \n",
       "\n",
       "                         garages  listing_date  listing_number  pet_friendly  \\\n",
       "valeurs manquantes    4143.00000           0.0             0.0   5826.000000   \n",
       "% valeurs manquantes     0.52804           0.0             0.0      0.742544   \n",
       "\n",
       "                      price  town  type_of_property       garden         pool  \\\n",
       "valeurs manquantes      0.0   0.0               0.0  5825.000000  5132.000000   \n",
       "% valeurs manquantes    0.0   0.0               0.0     0.742417     0.654091   \n",
       "\n",
       "                      secure_parking      parking  no_pets_allowed  \\\n",
       "valeurs manquantes       7182.000000  4436.000000      6530.000000   \n",
       "% valeurs manquantes        0.915371     0.565384         0.832271   \n",
       "\n",
       "                        furnished      flatlet  fibre_internet  \\\n",
       "valeurs manquantes    7547.000000  7437.000000     7055.000000   \n",
       "% valeurs manquantes     0.961891     0.947872        0.899184   \n",
       "\n",
       "                      furnished_(optional)  adsl_internet  satellite_internet  \\\n",
       "valeurs manquantes             7824.000000    7806.000000         7834.000000   \n",
       "% valeurs manquantes              0.997196       0.994902            0.998471   \n",
       "\n",
       "                      fixed_wimax_internet  \n",
       "valeurs manquantes             7845.000000  \n",
       "% valeurs manquantes              0.999873  "
      ]
     },
     "execution_count": 5,
     "metadata": {},
     "output_type": "execute_result"
    }
   ],
   "source": [
    "missing = pd.DataFrame([data.isna().sum().values,(data.isna().sum()/data.shape[0]).values],index = [\"valeurs manquantes\",\"% valeurs manquantes\"] , columns=data.columns)\n",
    "missing"
   ]
  },
  {
   "cell_type": "code",
   "execution_count": 6,
   "id": "1682d10a",
   "metadata": {},
   "outputs": [
    {
     "data": {
      "text/html": [
       "<div>\n",
       "<style scoped>\n",
       "    .dataframe tbody tr th:only-of-type {\n",
       "        vertical-align: middle;\n",
       "    }\n",
       "\n",
       "    .dataframe tbody tr th {\n",
       "        vertical-align: top;\n",
       "    }\n",
       "\n",
       "    .dataframe thead th {\n",
       "        text-align: right;\n",
       "    }\n",
       "</style>\n",
       "<table border=\"1\" class=\"dataframe\">\n",
       "  <thead>\n",
       "    <tr style=\"text-align: right;\">\n",
       "      <th></th>\n",
       "      <th>valeurs manquantes</th>\n",
       "      <th>% valeurs manquantes</th>\n",
       "    </tr>\n",
       "  </thead>\n",
       "  <tbody>\n",
       "    <tr>\n",
       "      <th>count</th>\n",
       "      <td>23.000000</td>\n",
       "      <td>23.000000</td>\n",
       "    </tr>\n",
       "    <tr>\n",
       "      <th>mean</th>\n",
       "      <td>4304.304348</td>\n",
       "      <td>0.548599</td>\n",
       "    </tr>\n",
       "    <tr>\n",
       "      <th>std</th>\n",
       "      <td>3222.156328</td>\n",
       "      <td>0.410675</td>\n",
       "    </tr>\n",
       "    <tr>\n",
       "      <th>min</th>\n",
       "      <td>0.000000</td>\n",
       "      <td>0.000000</td>\n",
       "    </tr>\n",
       "    <tr>\n",
       "      <th>25%</th>\n",
       "      <td>160.500000</td>\n",
       "      <td>0.020456</td>\n",
       "    </tr>\n",
       "    <tr>\n",
       "      <th>50%</th>\n",
       "      <td>5132.000000</td>\n",
       "      <td>0.654091</td>\n",
       "    </tr>\n",
       "    <tr>\n",
       "      <th>75%</th>\n",
       "      <td>7309.500000</td>\n",
       "      <td>0.931621</td>\n",
       "    </tr>\n",
       "    <tr>\n",
       "      <th>max</th>\n",
       "      <td>7845.000000</td>\n",
       "      <td>0.999873</td>\n",
       "    </tr>\n",
       "  </tbody>\n",
       "</table>\n",
       "</div>"
      ],
      "text/plain": [
       "       valeurs manquantes  % valeurs manquantes\n",
       "count           23.000000             23.000000\n",
       "mean          4304.304348              0.548599\n",
       "std           3222.156328              0.410675\n",
       "min              0.000000              0.000000\n",
       "25%            160.500000              0.020456\n",
       "50%           5132.000000              0.654091\n",
       "75%           7309.500000              0.931621\n",
       "max           7845.000000              0.999873"
      ]
     },
     "execution_count": 6,
     "metadata": {},
     "output_type": "execute_result"
    }
   ],
   "source": [
    "missing.T.describe()"
   ]
  },
  {
   "cell_type": "code",
   "execution_count": 7,
   "id": "403ad277",
   "metadata": {},
   "outputs": [
    {
     "name": "stdout",
     "output_type": "stream",
     "text": [
      "\n",
      "Nombre de colonnes 100% remplies \n",
      "5\n",
      "21.73913043478261 %\n",
      "\n",
      "Nombre des colonnes avec au moins 25% de valeurs manquantes\n",
      "16\n",
      "69.56521739130434 % des 287\n",
      "\n",
      "Nombre des colonnes avec au moins 50% de valeurs manquantes\n",
      "15\n",
      "65.21739130434783 %\n",
      "\n",
      "Nombre des colonnes avec au moins 75% de valeurs manquantes\n",
      "9\n",
      "39.130434782608695 %\n"
     ]
    }
   ],
   "source": [
    "missing0 = missing.T[missing.T[\"% valeurs manquantes\"]==0]\n",
    "print(\"\\nNombre de colonnes 100% remplies \")\n",
    "print(len(missing0[\"% valeurs manquantes\"]))\n",
    "print((len(missing0[\"% valeurs manquantes\"])/data.shape[1])*100,\"%\")\n",
    "\n",
    "missing25 = missing.T[missing.T[\"% valeurs manquantes\"]>=0.25]\n",
    "print(\"\\nNombre des colonnes avec au moins 25% de valeurs manquantes\")\n",
    "print(len(missing25[\"% valeurs manquantes\"]))\n",
    "print((len(missing25[\"% valeurs manquantes\"])/data.shape[1])*100,\"% des 287\")\n",
    "\n",
    "missing50 = missing.T[missing.T[\"% valeurs manquantes\"]>=0.5]\n",
    "print(\"\\nNombre des colonnes avec au moins 50% de valeurs manquantes\")\n",
    "print(len(missing50[\"% valeurs manquantes\"]))\n",
    "print((len(missing50[\"% valeurs manquantes\"])/data.shape[1])*100,\"%\")\n",
    "\n",
    "missing75 = missing.T[missing.T[\"% valeurs manquantes\"]>=0.75]\n",
    "print(\"\\nNombre des colonnes avec au moins 75% de valeurs manquantes\")\n",
    "print(len(missing75[\"% valeurs manquantes\"]))\n",
    "print((len(missing75[\"% valeurs manquantes\"])/data.shape[1])*100,\"%\")\n"
   ]
  },
  {
   "cell_type": "markdown",
   "id": "3cbd21b1",
   "metadata": {},
   "source": [
    "## Exploratory Data Analysis (EDA) using Pandas profiling \n",
    "- reference : https://pandas-profiling.github.io/pandas-profiling/docs/master/rtd/"
   ]
  },
  {
   "cell_type": "code",
   "execution_count": 8,
   "id": "d2055f2d",
   "metadata": {},
   "outputs": [],
   "source": [
    "profile = ProfileReport(\n",
    "    data,\n",
    "    title=\"Pandas Profiling Report of Dataset.csv\",\n",
    "    explorative=True,\n",
    "    plot={\"dpi\": 250, \"image_format\": \"png\"},\n",
    "    correlations={\"cramers\": {\"calculate\": False}},\n",
    ")\n"
   ]
  },
  {
   "cell_type": "markdown",
   "id": "5818f11d",
   "metadata": {},
   "source": [
    "### Pip install IProgress, ipywidgets and widgetsnbextension then run the cell below"
   ]
  },
  {
   "cell_type": "code",
   "execution_count": 9,
   "id": "e5306cd0",
   "metadata": {},
   "outputs": [
    {
     "name": "stdout",
     "output_type": "stream",
     "text": [
      "Enabling notebook extension jupyter-js-widgets/extension...\r\n",
      "      - Validating: \u001b[32mOK\u001b[0m\r\n"
     ]
    }
   ],
   "source": [
    "!jupyter nbextension enable --py widgetsnbextension"
   ]
  },
  {
   "cell_type": "markdown",
   "id": "d8d523b8",
   "metadata": {},
   "source": [
    "### Save report as HTML --> see EDA_report.html"
   ]
  },
  {
   "cell_type": "code",
   "execution_count": 10,
   "id": "bdd90bce",
   "metadata": {},
   "outputs": [
    {
     "data": {
      "application/vnd.jupyter.widget-view+json": {
       "model_id": "b023d6fd8dd24902b10124ae6a715d6e",
       "version_major": 2,
       "version_minor": 0
      },
      "text/plain": [
       "Summarize dataset:   0%|          | 0/35 [00:00<?, ?it/s]"
      ]
     },
     "metadata": {},
     "output_type": "display_data"
    },
    {
     "data": {
      "application/vnd.jupyter.widget-view+json": {
       "model_id": "c9675f0160334d6f9a327c34c528fb63",
       "version_major": 2,
       "version_minor": 0
      },
      "text/plain": [
       "Generate report structure:   0%|          | 0/1 [00:00<?, ?it/s]"
      ]
     },
     "metadata": {},
     "output_type": "display_data"
    },
    {
     "data": {
      "application/vnd.jupyter.widget-view+json": {
       "model_id": "93895f819234405fa7e8fc89fdb93a63",
       "version_major": 2,
       "version_minor": 0
      },
      "text/plain": [
       "Render HTML:   0%|          | 0/1 [00:00<?, ?it/s]"
      ]
     },
     "metadata": {},
     "output_type": "display_data"
    },
    {
     "data": {
      "application/vnd.jupyter.widget-view+json": {
       "model_id": "3ac78ea1a0f54b0393fafdf9eb6e8bc9",
       "version_major": 2,
       "version_minor": 0
      },
      "text/plain": [
       "Export report to file:   0%|          | 0/1 [00:00<?, ?it/s]"
      ]
     },
     "metadata": {},
     "output_type": "display_data"
    }
   ],
   "source": [
    "profile.to_file(\"EDA_report.html\")"
   ]
  },
  {
   "cell_type": "code",
   "execution_count": null,
   "id": "e43d552c",
   "metadata": {},
   "outputs": [],
   "source": []
  }
 ],
 "metadata": {
  "interpreter": {
   "hash": "b54b66dfa7cdbe8a69b3bf148d9797a1fcee399928c1f348c50707ec239ca9b1"
  },
  "kernelspec": {
   "display_name": "Python 3",
   "language": "python",
   "name": "python3"
  },
  "language_info": {
   "codemirror_mode": {
    "name": "ipython",
    "version": 3
   },
   "file_extension": ".py",
   "mimetype": "text/x-python",
   "name": "python",
   "nbconvert_exporter": "python",
   "pygments_lexer": "ipython3",
   "version": "3.8.10"
  }
 },
 "nbformat": 4,
 "nbformat_minor": 5
}

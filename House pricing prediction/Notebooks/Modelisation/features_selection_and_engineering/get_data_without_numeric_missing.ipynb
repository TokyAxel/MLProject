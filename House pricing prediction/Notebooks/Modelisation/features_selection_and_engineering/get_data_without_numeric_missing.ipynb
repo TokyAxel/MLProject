{
 "cells": [
  {
   "cell_type": "code",
   "execution_count": 1,
   "id": "5ef0fe51-3dbe-48b9-9c47-d7e3136d54bf",
   "metadata": {},
   "outputs": [],
   "source": [
    "import pandas as pd\n",
    "import numpy as np"
   ]
  },
  {
   "cell_type": "code",
   "execution_count": 2,
   "id": "a615b65e-c453-4d33-bb93-1e0b14519f70",
   "metadata": {},
   "outputs": [],
   "source": [
    "data = pd.read_csv(\"../../../Data/Dataset_v2.csv\",sep=\";\")"
   ]
  },
  {
   "cell_type": "code",
   "execution_count": 3,
   "id": "267d0994-89f4-414a-8309-86e591d780c8",
   "metadata": {},
   "outputs": [
    {
     "data": {
      "text/plain": [
       "(13666, 24)"
      ]
     },
     "execution_count": 3,
     "metadata": {},
     "output_type": "execute_result"
    }
   ],
   "source": [
    "data.shape"
   ]
  },
  {
   "cell_type": "markdown",
   "id": "95529217-83b5-4c8c-8cda-6ebb5fa02452",
   "metadata": {},
   "source": [
    "### Drop All Column with more 15% missing"
   ]
  },
  {
   "cell_type": "code",
   "execution_count": 4,
   "id": "724cf398-e1d4-4843-96d2-df8979036a58",
   "metadata": {},
   "outputs": [
    {
     "data": {
      "text/plain": [
       "['floor_size',\n",
       " 'pool',\n",
       " 'security',\n",
       " 'health',\n",
       " 'food_and_entertainment',\n",
       " 'shopping',\n",
       " 'sports_and_leisure',\n",
       " 'levies',\n",
       " 'rates_and_taxes',\n",
       " 'pets_allowed',\n",
       " 'kitchens',\n",
       " 'garage',\n",
       " 'gardens']"
      ]
     },
     "execution_count": 4,
     "metadata": {},
     "output_type": "execute_result"
    }
   ],
   "source": [
    "cols =[]\n",
    "for idx in (data.isna().sum()/data.shape[0]).index:\n",
    "    if (data.isna().sum()/data.shape[0])[idx] > 0.15:\n",
    "        cols.append(idx) \n",
    "cols"
   ]
  },
  {
   "cell_type": "code",
   "execution_count": 5,
   "id": "b0897b94-632e-4623-969c-aa925c86205b",
   "metadata": {},
   "outputs": [],
   "source": [
    "data = data.drop(cols, axis=1)"
   ]
  },
  {
   "cell_type": "code",
   "execution_count": 6,
   "id": "ddfa5cb2-aa53-407f-8614-6f48a0ca970c",
   "metadata": {},
   "outputs": [],
   "source": [
    "data = data.dropna(axis=0)"
   ]
  },
  {
   "cell_type": "code",
   "execution_count": 7,
   "id": "f09602fc-ce63-4d6e-a7a6-afcebc5b27e5",
   "metadata": {},
   "outputs": [
    {
     "data": {
      "text/plain": [
       "(9445, 11)"
      ]
     },
     "execution_count": 7,
     "metadata": {},
     "output_type": "execute_result"
    }
   ],
   "source": [
    "data.shape"
   ]
  },
  {
   "cell_type": "code",
   "execution_count": 8,
   "id": "a84779f3-8317-4e34-a731-64262e2fffee",
   "metadata": {},
   "outputs": [
    {
     "data": {
      "text/plain": [
       "Index(['name', 'price', 'province', 'city', 'address', 'type_of_property',\n",
       "       'bathrooms', 'bedrooms', 'education', 'transport_and_public_services',\n",
       "       'sampling'],\n",
       "      dtype='object')"
      ]
     },
     "execution_count": 8,
     "metadata": {},
     "output_type": "execute_result"
    }
   ],
   "source": [
    "data.columns"
   ]
  },
  {
   "cell_type": "markdown",
   "id": "0676ea9c-e984-4197-a2c6-e61d9632adda",
   "metadata": {},
   "source": [
    "### Need resampling here"
   ]
  },
  {
   "cell_type": "code",
   "execution_count": 9,
   "id": "48a85b0f-6d11-4c84-89fc-d3a2c7b92c40",
   "metadata": {},
   "outputs": [],
   "source": [
    "def split_data(data,target,col=\"sampling\"):\n",
    "    unique = data[\"sampling\"].unique()\n",
    "    for i, v in enumerate(unique):\n",
    "        if v == 1 :\n",
    "            data_train = data[data[col]==v]\n",
    "            y_train = data_train[target]\n",
    "            X_train = data_train.drop([target],axis=1)\n",
    "            print(\"train shape :\",X_train.shape)\n",
    "        elif v == 2 :\n",
    "            data_val = data[data[col]==v]\n",
    "            y_val = data_val[target]\n",
    "            X_val = data_val.drop([target],axis=1)\n",
    "            print(\"val shape :\",X_val.shape)\n",
    "        elif v == 3 :\n",
    "            data_test = data[data[col]==v]\n",
    "            y_test = data_test[target]\n",
    "            X_test = data_test.drop([target],axis=1)\n",
    "            print(\"test shape :\",X_test.shape)\n",
    "            \n",
    "            \n",
    "    return X_train, y_train, X_val, y_train, X_test, y_test"
   ]
  },
  {
   "cell_type": "code",
   "execution_count": 10,
   "id": "5d936cdf-0121-4910-9c27-ea9988a7be7a",
   "metadata": {},
   "outputs": [
    {
     "name": "stdout",
     "output_type": "stream",
     "text": [
      "train shape : (6572, 10)\n",
      "val shape : (1465, 10)\n",
      "test shape : (1408, 10)\n"
     ]
    }
   ],
   "source": [
    "X_train, y_train, X_val, y_train, X_test, y_test = split_data(data,\"price\")"
   ]
  },
  {
   "cell_type": "code",
   "execution_count": 11,
   "id": "e464a988-9458-4916-a08e-8c312dafc7b0",
   "metadata": {},
   "outputs": [],
   "source": [
    "data.to_csv(\"../../../Data/Dataset_zero_numeric_missing.csv\",sep=\";\",)"
   ]
  },
  {
   "cell_type": "code",
   "execution_count": null,
   "id": "c7857856-ca5f-4166-89b6-811766935212",
   "metadata": {},
   "outputs": [],
   "source": []
  }
 ],
 "metadata": {
  "kernelspec": {
   "display_name": "Python 3",
   "language": "python",
   "name": "python3"
  },
  "language_info": {
   "codemirror_mode": {
    "name": "ipython",
    "version": 3
   },
   "file_extension": ".py",
   "mimetype": "text/x-python",
   "name": "python",
   "nbconvert_exporter": "python",
   "pygments_lexer": "ipython3",
   "version": "3.8.10"
  }
 },
 "nbformat": 4,
 "nbformat_minor": 5
}

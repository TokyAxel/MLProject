{
 "cells": [
  {
   "cell_type": "markdown",
   "source": [
    "# XGBoost"
   ],
   "metadata": {}
  },
  {
   "cell_type": "code",
   "execution_count": 1,
   "source": [
    "import xgboost as xgb\r\n",
    "from sklearn.metrics import mean_squared_error\r\n",
    "from sklearn.metrics import r2_score\r\n",
    "import numpy as np\r\n",
    "import pandas as pd\r\n",
    "import seaborn as sns\r\n",
    "import matplotlib.pyplot as plt"
   ],
   "outputs": [],
   "metadata": {}
  },
  {
   "cell_type": "code",
   "execution_count": 2,
   "source": [
    "data = pd.read_csv(\"../../../Data/Dataset_zero_numeric_missing.csv\",sep=\";\")"
   ],
   "outputs": [],
   "metadata": {}
  },
  {
   "cell_type": "code",
   "execution_count": 3,
   "source": [
    "def categorisation(data,target=\"price\"):\r\n",
    "    distance = []\r\n",
    "    numerique = []\r\n",
    "    categorique = []\r\n",
    "    for col in data.columns:\r\n",
    "        if data[col].dtypes == np.object:\r\n",
    "            try:\r\n",
    "                if str(type(eval(data[col][data[col].first_valid_index()]))) == \"<class 'list'>\":\r\n",
    "                    distance.append(col)\r\n",
    "                else:\r\n",
    "                    categorique.append(col)\r\n",
    "            except:\r\n",
    "                categorique.append(col)\r\n",
    "                \r\n",
    "            \r\n",
    "        else :\r\n",
    "            if col != target:\r\n",
    "                numerique.append(col)\r\n",
    "                \r\n",
    "    return dict({\"numerique\":numerique,\"categorique\":categorique,\"distance\":distance})\r\n",
    "\r\n",
    "feat_cat = categorisation(data)\r\n",
    "\r\n",
    "feat_cat"
   ],
   "outputs": [
    {
     "output_type": "stream",
     "name": "stderr",
     "text": [
      "C:\\Users\\USER\\AppData\\Local\\Temp/ipykernel_1616/3923361036.py:6: DeprecationWarning: `np.object` is a deprecated alias for the builtin `object`. To silence this warning, use `object` by itself. Doing this will not modify any behavior and is safe. \n",
      "Deprecated in NumPy 1.20; for more details and guidance: https://numpy.org/devdocs/release/1.20.0-notes.html#deprecations\n",
      "  if data[col].dtypes == np.object:\n"
     ]
    },
    {
     "output_type": "execute_result",
     "data": {
      "text/plain": [
       "{'numerique': ['bathrooms', 'bedrooms', 'sampling'],\n",
       " 'categorique': ['name', 'province', 'city', 'address', 'type_of_property'],\n",
       " 'distance': ['education', 'transport_and_public_services']}"
      ]
     },
     "metadata": {},
     "execution_count": 3
    }
   ],
   "metadata": {}
  },
  {
   "cell_type": "code",
   "execution_count": 4,
   "source": [
    "data= data.drop(['name','address','city'],axis=1)\r\n",
    "data.columns"
   ],
   "outputs": [
    {
     "output_type": "execute_result",
     "data": {
      "text/plain": [
       "Index(['price', 'province', 'type_of_property', 'bathrooms', 'bedrooms',\n",
       "       'education', 'transport_and_public_services', 'sampling'],\n",
       "      dtype='object')"
      ]
     },
     "metadata": {},
     "execution_count": 4
    }
   ],
   "metadata": {}
  },
  {
   "cell_type": "code",
   "execution_count": 5,
   "source": [
    "class transfo_distance:\r\n",
    "    def __init__(self,data,features=None):\r\n",
    "        self.data = data\r\n",
    "        self.method = None\r\n",
    "        ### Get features\r\n",
    "        self.distance=[]\r\n",
    "        if features is None:\r\n",
    "            for col in data.columns:\r\n",
    "                if data[col].dtypes == np.object:\r\n",
    "                    try:\r\n",
    "                        if str(type(eval(data[col][data[col].first_valid_index()]))) == \"<class 'list'>\":\r\n",
    "                            self.distance.append(col)\r\n",
    "                    except:\r\n",
    "                        pass\r\n",
    "        else:\r\n",
    "            distance=features\r\n",
    "        \r\n",
    "        ###Transformations : \"mean\", \"median\", \"max\", \"min\", \"len\"\r\n",
    "    def transformation(self,method):\r\n",
    "        self.method = method\r\n",
    "        for feat in self.distance:\r\n",
    "            serie = []\r\n",
    "            for i in data[feat]:\r\n",
    "                if str(i) != \"nan\":\r\n",
    "                    serie.append(self.checker(i))\r\n",
    "                else :\r\n",
    "                    serie.append(np.nan)\r\n",
    "            self.data[feat] = serie\r\n",
    "            \r\n",
    "    def checker(self,value):\r\n",
    "        if self.method==\"mean\":\r\n",
    "            return (np.array(eval(value))).mean()\r\n",
    "        elif self.method ==\"median\":\r\n",
    "            return (np.array(eval(value))).mediane()\r\n",
    "        elif self.method ==\"min\":\r\n",
    "            return (np.array(eval(value))).min()\r\n",
    "        elif self.method ==\"max\":\r\n",
    "            return (np.array(eval(value))).max()\r\n",
    "        elif self.method ==\"len\":\r\n",
    "            return float(len(eval(value)))\r\n",
    "        else:\r\n",
    "            raise('choose correct method : \"mean\", \"median\", \"max\", \"min\", \"len\"')\r\n",
    "    \r\n",
    "    def get_data(self,method=\"mean\"):\r\n",
    "        self.transformation(method)\r\n",
    "        return self.data"
   ],
   "outputs": [],
   "metadata": {}
  },
  {
   "cell_type": "code",
   "execution_count": 6,
   "source": [
    "trans_dist = transfo_distance(data)\r\n",
    "data = trans_dist.get_data(method=\"len\")\r\n",
    "data.shape"
   ],
   "outputs": [
    {
     "output_type": "stream",
     "name": "stderr",
     "text": [
      "C:\\Users\\USER\\AppData\\Local\\Temp/ipykernel_1616/2201901570.py:9: DeprecationWarning: `np.object` is a deprecated alias for the builtin `object`. To silence this warning, use `object` by itself. Doing this will not modify any behavior and is safe. \n",
      "Deprecated in NumPy 1.20; for more details and guidance: https://numpy.org/devdocs/release/1.20.0-notes.html#deprecations\n",
      "  if data[col].dtypes == np.object:\n"
     ]
    },
    {
     "output_type": "execute_result",
     "data": {
      "text/plain": [
       "(9445, 8)"
      ]
     },
     "metadata": {},
     "execution_count": 6
    }
   ],
   "metadata": {}
  },
  {
   "cell_type": "code",
   "execution_count": 7,
   "source": [
    "data= data[~(data['type_of_property'] == 'Vacant Land / Plot')]\r\n",
    "data.shape"
   ],
   "outputs": [
    {
     "output_type": "execute_result",
     "data": {
      "text/plain": [
       "(9444, 8)"
      ]
     },
     "metadata": {},
     "execution_count": 7
    }
   ],
   "metadata": {}
  },
  {
   "cell_type": "code",
   "execution_count": null,
   "source": [
    "data= pd.get_dummies(data)\r\n",
    "\r\n",
    "data.columns"
   ],
   "outputs": [],
   "metadata": {}
  },
  {
   "cell_type": "code",
   "execution_count": 8,
   "source": [
    "def label_encoding(data,labels):\r\n",
    "    for label in labels:\r\n",
    "        values= data[label].unique()\r\n",
    "        for value in values:\r\n",
    "            code= len(data[data[label]==value])\r\n",
    "            data.loc[data[label]==value,label]=int(code)\r\n",
    "        data[label]=pd.to_numeric(data[label])\r\n",
    "    return data\r\n",
    "\r\n",
    "feat_cat = categorisation(data)\r\n",
    "categoric_f = feat_cat['categorique']\r\n",
    "\r\n",
    "data= label_encoding(data,feat_cat['categorique'])\r\n",
    "\r\n",
    "data.head()"
   ],
   "outputs": [
    {
     "output_type": "stream",
     "name": "stderr",
     "text": [
      "C:\\Users\\USER\\AppData\\Local\\Temp/ipykernel_1616/3923361036.py:6: DeprecationWarning: `np.object` is a deprecated alias for the builtin `object`. To silence this warning, use `object` by itself. Doing this will not modify any behavior and is safe. \n",
      "Deprecated in NumPy 1.20; for more details and guidance: https://numpy.org/devdocs/release/1.20.0-notes.html#deprecations\n",
      "  if data[col].dtypes == np.object:\n",
      "C:\\Users\\USER\\Anaconda3\\envs\\deepai\\lib\\site-packages\\pandas\\core\\indexing.py:1817: SettingWithCopyWarning: \n",
      "A value is trying to be set on a copy of a slice from a DataFrame.\n",
      "Try using .loc[row_indexer,col_indexer] = value instead\n",
      "\n",
      "See the caveats in the documentation: https://pandas.pydata.org/pandas-docs/stable/user_guide/indexing.html#returning-a-view-versus-a-copy\n",
      "  self._setitem_single_column(loc, value, pi)\n",
      "C:\\Users\\USER\\AppData\\Local\\Temp/ipykernel_1616/3053025806.py:7: SettingWithCopyWarning: \n",
      "A value is trying to be set on a copy of a slice from a DataFrame.\n",
      "Try using .loc[row_indexer,col_indexer] = value instead\n",
      "\n",
      "See the caveats in the documentation: https://pandas.pydata.org/pandas-docs/stable/user_guide/indexing.html#returning-a-view-versus-a-copy\n",
      "  data[label]=pd.to_numeric(data[label])\n"
     ]
    },
    {
     "output_type": "execute_result",
     "data": {
      "text/plain": [
       "     price  province  type_of_property  bathrooms  bedrooms  education  \\\n",
       "0   660000      1214              2580        2.0       2.0       27.0   \n",
       "1  2650000       410              5428        4.5       4.0        2.0   \n",
       "2  3300000      4524              5428        2.5       3.0        4.0   \n",
       "3   950000      4524              1436        1.0       2.0       19.0   \n",
       "4  1795000      1214              5428        2.0       3.0       27.0   \n",
       "\n",
       "   transport_and_public_services  sampling  \n",
       "0                            2.0         1  \n",
       "1                            2.0         1  \n",
       "2                           14.0         1  \n",
       "3                            4.0         1  \n",
       "4                            2.0         1  "
      ],
      "text/html": [
       "<div>\n",
       "<style scoped>\n",
       "    .dataframe tbody tr th:only-of-type {\n",
       "        vertical-align: middle;\n",
       "    }\n",
       "\n",
       "    .dataframe tbody tr th {\n",
       "        vertical-align: top;\n",
       "    }\n",
       "\n",
       "    .dataframe thead th {\n",
       "        text-align: right;\n",
       "    }\n",
       "</style>\n",
       "<table border=\"1\" class=\"dataframe\">\n",
       "  <thead>\n",
       "    <tr style=\"text-align: right;\">\n",
       "      <th></th>\n",
       "      <th>price</th>\n",
       "      <th>province</th>\n",
       "      <th>type_of_property</th>\n",
       "      <th>bathrooms</th>\n",
       "      <th>bedrooms</th>\n",
       "      <th>education</th>\n",
       "      <th>transport_and_public_services</th>\n",
       "      <th>sampling</th>\n",
       "    </tr>\n",
       "  </thead>\n",
       "  <tbody>\n",
       "    <tr>\n",
       "      <th>0</th>\n",
       "      <td>660000</td>\n",
       "      <td>1214</td>\n",
       "      <td>2580</td>\n",
       "      <td>2.0</td>\n",
       "      <td>2.0</td>\n",
       "      <td>27.0</td>\n",
       "      <td>2.0</td>\n",
       "      <td>1</td>\n",
       "    </tr>\n",
       "    <tr>\n",
       "      <th>1</th>\n",
       "      <td>2650000</td>\n",
       "      <td>410</td>\n",
       "      <td>5428</td>\n",
       "      <td>4.5</td>\n",
       "      <td>4.0</td>\n",
       "      <td>2.0</td>\n",
       "      <td>2.0</td>\n",
       "      <td>1</td>\n",
       "    </tr>\n",
       "    <tr>\n",
       "      <th>2</th>\n",
       "      <td>3300000</td>\n",
       "      <td>4524</td>\n",
       "      <td>5428</td>\n",
       "      <td>2.5</td>\n",
       "      <td>3.0</td>\n",
       "      <td>4.0</td>\n",
       "      <td>14.0</td>\n",
       "      <td>1</td>\n",
       "    </tr>\n",
       "    <tr>\n",
       "      <th>3</th>\n",
       "      <td>950000</td>\n",
       "      <td>4524</td>\n",
       "      <td>1436</td>\n",
       "      <td>1.0</td>\n",
       "      <td>2.0</td>\n",
       "      <td>19.0</td>\n",
       "      <td>4.0</td>\n",
       "      <td>1</td>\n",
       "    </tr>\n",
       "    <tr>\n",
       "      <th>4</th>\n",
       "      <td>1795000</td>\n",
       "      <td>1214</td>\n",
       "      <td>5428</td>\n",
       "      <td>2.0</td>\n",
       "      <td>3.0</td>\n",
       "      <td>27.0</td>\n",
       "      <td>2.0</td>\n",
       "      <td>1</td>\n",
       "    </tr>\n",
       "  </tbody>\n",
       "</table>\n",
       "</div>"
      ]
     },
     "metadata": {},
     "execution_count": 8
    }
   ],
   "metadata": {}
  },
  {
   "cell_type": "code",
   "execution_count": 9,
   "source": [
    "feats= categorisation(data)\r\n",
    "feats\r\n"
   ],
   "outputs": [
    {
     "output_type": "stream",
     "name": "stderr",
     "text": [
      "C:\\Users\\USER\\AppData\\Local\\Temp/ipykernel_1616/3923361036.py:6: DeprecationWarning: `np.object` is a deprecated alias for the builtin `object`. To silence this warning, use `object` by itself. Doing this will not modify any behavior and is safe. \n",
      "Deprecated in NumPy 1.20; for more details and guidance: https://numpy.org/devdocs/release/1.20.0-notes.html#deprecations\n",
      "  if data[col].dtypes == np.object:\n"
     ]
    },
    {
     "output_type": "execute_result",
     "data": {
      "text/plain": [
       "{'numerique': ['province',\n",
       "  'type_of_property',\n",
       "  'bathrooms',\n",
       "  'bedrooms',\n",
       "  'education',\n",
       "  'transport_and_public_services',\n",
       "  'sampling'],\n",
       " 'categorique': [],\n",
       " 'distance': []}"
      ]
     },
     "metadata": {},
     "execution_count": 9
    }
   ],
   "metadata": {}
  },
  {
   "cell_type": "code",
   "execution_count": null,
   "source": [
    "def encode(frame, feature):\r\n",
    "    ordering = pd.DataFrame()\r\n",
    "    ordering['val'] = frame[feature].unique()\r\n",
    "    ordering.index = ordering.val\r\n",
    "    ordering['spmean'] = frame[[feature, 'price']].groupby(feature).mean()['price']\r\n",
    "    #print(frame[[feature, 'a']].groupby(feature).mean()['a'])\r\n",
    "    ordering = ordering.sort_values('spmean')\r\n",
    "    ordering['ordering'] = range(1, ordering.shape[0]+1)\r\n",
    "    #print(ordering)\r\n",
    "    ordering = ordering['ordering'].to_dict()\r\n",
    "    #print(ordering)\r\n",
    "    \r\n",
    "    for cat, o in ordering.items():\r\n",
    "        frame.loc[frame[feature] == cat, feature+'_E'] = o"
   ],
   "outputs": [],
   "metadata": {}
  },
  {
   "cell_type": "code",
   "execution_count": null,
   "source": [
    "qual_encoded = []\r\n",
    "feat_cat = categorisation(data)\r\n",
    "for q in feat_cat[\"categorique\"]:  \r\n",
    "    encode(data, q)\r\n",
    "    qual_encoded.append(q+'_E')\r\n",
    "print(qual_encoded)"
   ],
   "outputs": [],
   "metadata": {}
  },
  {
   "cell_type": "code",
   "execution_count": 10,
   "source": [
    "def split_data(data,target,col=\"sampling\",features_to_keep=None):\r\n",
    "    if features_to_keep is not None :\r\n",
    "        features_to_keep = features_to_keep + [target]\r\n",
    "        data = data[features_to_keep]\r\n",
    "        \r\n",
    "    unique = data[\"sampling\"].unique()\r\n",
    "    for i, v in enumerate(unique):\r\n",
    "        if v == 1 :\r\n",
    "            data_train = data[data[col]==v]\r\n",
    "            y_train = data_train[target]\r\n",
    "            X_train = data_train.drop([target,\"sampling\"],axis=1)\r\n",
    "            print(\"train shape :\",X_train.shape)\r\n",
    "        elif v == 2 :\r\n",
    "            data_val = data[data[col]==v]\r\n",
    "            y_val = data_val[target]\r\n",
    "            X_val = data_val.drop([target,\"sampling\"],axis=1)\r\n",
    "            print(\"val shape :\",X_val.shape)\r\n",
    "        elif v == 3 :\r\n",
    "            data_test = data[data[col]==v]\r\n",
    "            y_test = data_test[target]\r\n",
    "            X_test = data_test.drop([target,\"sampling\"],axis=1)\r\n",
    "            print(\"test shape :\",X_test.shape)\r\n",
    "    \r\n",
    "            \r\n",
    "    return X_train, np.log(y_train), X_val, np.log(y_val), X_test, np.log(y_test)"
   ],
   "outputs": [],
   "metadata": {}
  },
  {
   "cell_type": "code",
   "execution_count": 12,
   "source": [
    "feats_to_keep =[ 'bathrooms', 'bedrooms', 'education',\r\n",
    "       'transport_and_public_services', 'province_E','sampling',\r\n",
    "       'city_E', 'type_of_property_E']\r\n",
    "# X_train, y_train, X_val, y_val, X_test, y_test = split_data(data,\"price\",features_to_keep=feats_to_keep)\r\n",
    "X_train, y_train, X_val, y_val, X_test, y_test = split_data(data,\"price\")\r\n",
    "data.shape"
   ],
   "outputs": [
    {
     "output_type": "stream",
     "name": "stdout",
     "text": [
      "train shape : (6571, 6)\n",
      "val shape : (1465, 6)\n",
      "test shape : (1408, 6)\n"
     ]
    },
    {
     "output_type": "execute_result",
     "data": {
      "text/plain": [
       "(9444, 8)"
      ]
     },
     "metadata": {},
     "execution_count": 12
    }
   ],
   "metadata": {}
  },
  {
   "cell_type": "code",
   "execution_count": 13,
   "source": [
    "xgb_model = xgb.XGBRegressor(n_jobs=2)\r\n",
    "xgb_model.fit(X_train,y_train)"
   ],
   "outputs": [
    {
     "output_type": "execute_result",
     "data": {
      "text/plain": [
       "XGBRegressor(base_score=0.5, booster='gbtree', colsample_bylevel=1,\n",
       "             colsample_bynode=1, colsample_bytree=1, gamma=0, gpu_id=-1,\n",
       "             importance_type='gain', interaction_constraints='',\n",
       "             learning_rate=0.300000012, max_delta_step=0, max_depth=6,\n",
       "             min_child_weight=1, missing=nan, monotone_constraints='()',\n",
       "             n_estimators=100, n_jobs=2, num_parallel_tree=1, random_state=0,\n",
       "             reg_alpha=0, reg_lambda=1, scale_pos_weight=1, subsample=1,\n",
       "             tree_method='exact', validate_parameters=1, verbosity=None)"
      ]
     },
     "metadata": {},
     "execution_count": 13
    }
   ],
   "metadata": {}
  },
  {
   "cell_type": "code",
   "execution_count": 14,
   "source": [
    "y_prediction =  xgb_model.predict(X_val)\r\n",
    "y_prediction"
   ],
   "outputs": [
    {
     "output_type": "stream",
     "name": "stderr",
     "text": [
      "C:\\Users\\USER\\Anaconda3\\envs\\deepai\\lib\\site-packages\\xgboost\\data.py:112: UserWarning: Use subset (sliced data) of np.ndarray is not recommended because it will generate extra copies and increase memory consumption\n",
      "  warnings.warn(\n"
     ]
    },
    {
     "output_type": "execute_result",
     "data": {
      "text/plain": [
       "array([12.946901, 15.000272, 14.603574, ..., 14.068572, 15.087968,\n",
       "       14.258717], dtype=float32)"
      ]
     },
     "metadata": {},
     "execution_count": 14
    }
   ],
   "metadata": {}
  },
  {
   "cell_type": "code",
   "execution_count": 15,
   "source": [
    "rmse = np.sqrt(mean_squared_error(y_val, y_prediction))\r\n",
    "print(\"The mean squared error (MSE) on test set: {:.4f}\".format(rmse))\r\n",
    "\r\n",
    "score=r2_score(y_val,y_prediction)\r\n",
    "print('r2 socre is ',score)"
   ],
   "outputs": [
    {
     "output_type": "stream",
     "name": "stdout",
     "text": [
      "The mean squared error (MSE) on test set: 0.4311\n",
      "r2 socre is  0.7070538364406872\n"
     ]
    }
   ],
   "metadata": {}
  },
  {
   "cell_type": "code",
   "execution_count": null,
   "source": [],
   "outputs": [],
   "metadata": {}
  }
 ],
 "metadata": {
  "orig_nbformat": 4,
  "language_info": {
   "name": "python",
   "version": "3.9.6",
   "mimetype": "text/x-python",
   "codemirror_mode": {
    "name": "ipython",
    "version": 3
   },
   "pygments_lexer": "ipython3",
   "nbconvert_exporter": "python",
   "file_extension": ".py"
  },
  "kernelspec": {
   "name": "python3",
   "display_name": "Python 3.9.1 64-bit ('deepai': conda)"
  },
  "interpreter": {
   "hash": "b54b66dfa7cdbe8a69b3bf148d9797a1fcee399928c1f348c50707ec239ca9b1"
  }
 },
 "nbformat": 4,
 "nbformat_minor": 2
}
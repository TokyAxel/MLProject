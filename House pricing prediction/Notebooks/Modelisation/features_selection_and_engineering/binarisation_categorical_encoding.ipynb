{
 "cells": [
  {
   "cell_type": "markdown",
   "id": "9a8df83b",
   "metadata": {},
   "source": [
    "### 3) Encodage :\n",
    "\n",
    "- Pets Allowes en variable bool;\n",
    "- Pool en variable bool;\n",
    "- Garage en variable bool;\n",
    "- Nan des variables catégoriques -> \"missing\"\n"
   ]
  },
  {
   "cell_type": "code",
   "execution_count": null,
   "id": "8998dbe6",
   "metadata": {},
   "outputs": [],
   "source": [
    "data[\"Pets Allowed\"].value_counts()\n",
    "\n",
    "for pool in data[\"Pool\"].value_counts().index:\n",
    "    print(pool)\n",
    "\n",
    "for col in data.columns:\n",
    "    if col == \"Pets Allowed\":\n",
    "        data[col] = data[col].replace(np.nan,\"missing\")\n",
    "    elif col == \"Pool\":\n",
    "        data[col] = data[col].replace(r\".*\",\"y\",regex=True)\n",
    "        data[col] = data[col].replace(r\"yy\",\"Yes\",regex=True)\n",
    "        data[col] = data[col].replace(np.nan,\"missing\")\n",
    "    elif col == \"Garage\":\n",
    "        data[col] = data[col].replace(r\".*\",\"y\",regex=True)\n",
    "        data[col] = data[col].replace(r\"yy\",\"Yes\",regex=True)\n",
    "        data[col] = data[col].replace(np.nan,\"missing\")\n",
    "    else :\n",
    "        try :\n",
    "            data[col] = pd.to_numeric(data[col])\n",
    "        except:\n",
    "            if col not in feat_cat[\"distance\"]:\n",
    "                data[col] = data[col].replace(np.nan,\"missing\")\n",
    "\n",
    "data[\"Pets Allowed\"].value_counts()\n",
    "\n",
    "data[\"Pool\"].value_counts()"
   ]
  }
 ],
 "metadata": {
  "kernelspec": {
   "display_name": "Python 3",
   "language": "python",
   "name": "python3"
  },
  "language_info": {
   "codemirror_mode": {
    "name": "ipython",
    "version": 3
   },
   "file_extension": ".py",
   "mimetype": "text/x-python",
   "name": "python",
   "nbconvert_exporter": "python",
   "pygments_lexer": "ipython3",
   "version": "3.8.10"
  }
 },
 "nbformat": 4,
 "nbformat_minor": 5
}

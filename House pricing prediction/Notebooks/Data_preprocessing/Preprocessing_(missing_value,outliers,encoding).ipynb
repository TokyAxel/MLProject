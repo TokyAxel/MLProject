{
 "cells": [
  {
   "cell_type": "code",
   "execution_count": 1,
   "source": [
    "import pandas as pd\r\n",
    "import numpy as np\r\n",
    "from scipy import stats"
   ],
   "outputs": [],
   "metadata": {}
  },
  {
   "cell_type": "code",
   "execution_count": 10,
   "source": [
    "data = pd.read_csv(\"../../Data/Dataset_v0.csv\",sep=\";\")"
   ],
   "outputs": [],
   "metadata": {}
  },
  {
   "cell_type": "markdown",
   "source": [
    "###  Catégoriser les types de variables :\n",
    " - Categorique ;\n",
    " - Numérique ;\n",
    " - Distance ;\n",
    " - Date"
   ],
   "metadata": {}
  },
  {
   "cell_type": "code",
   "execution_count": 11,
   "source": [
    "def categorisation(data,date_cols):\r\n",
    "    distance = []\r\n",
    "    date = []\r\n",
    "    numerique = []\r\n",
    "    categorique = []\r\n",
    "    for col in data.columns:\r\n",
    "        if data[col].dtypes == np.object:\r\n",
    "            try:\r\n",
    "                if str(type(eval(data[col][data[col].first_valid_index()]))) == \"<class 'list'>\":\r\n",
    "                    distance.append(col)\r\n",
    "                elif col in date_cols:\r\n",
    "                    date.append(col)\r\n",
    "                else:\r\n",
    "                    categorique.append(col)\r\n",
    "            except:\r\n",
    "                if col in date_cols:\r\n",
    "                    date.append(col)\r\n",
    "                else:\r\n",
    "                    categorique.append(col)\r\n",
    "                \r\n",
    "            \r\n",
    "        else :\r\n",
    "            numerique.append(col)\r\n",
    "                \r\n",
    "    return dict({\"numerique\":numerique,\"categorique\":categorique,\"date\":date,\"distance\":distance})"
   ],
   "outputs": [],
   "metadata": {}
  },
  {
   "cell_type": "code",
   "execution_count": 12,
   "source": [
    "feat_cat = categorisation(data,[\"Listing Date\"])\r\n",
    "feat_cat"
   ],
   "outputs": [
    {
     "output_type": "stream",
     "name": "stderr",
     "text": [
      "C:\\Users\\USER\\AppData\\Local\\Temp/ipykernel_13688/292522503.py:7: DeprecationWarning: `np.object` is a deprecated alias for the builtin `object`. To silence this warning, use `object` by itself. Doing this will not modify any behavior and is safe. \n",
      "Deprecated in NumPy 1.20; for more details and guidance: https://numpy.org/devdocs/release/1.20.0-notes.html#deprecations\n",
      "  if data[col].dtypes == np.object:\n"
     ]
    },
    {
     "output_type": "execute_result",
     "data": {
      "text/plain": [
       "{'numerique': ['price',\n",
       "  'Listing Number',\n",
       "  'Floor Size',\n",
       "  'Bathrooms',\n",
       "  'Reception Rooms',\n",
       "  'Price per m²',\n",
       "  'Erf Size',\n",
       "  'Levies',\n",
       "  'Rates and Taxes',\n",
       "  'Bedrooms',\n",
       "  'Kitchens',\n",
       "  'Lounges',\n",
       "  'Dining Rooms',\n",
       "  'Gardens',\n",
       "  'Coverage',\n",
       "  'Office',\n",
       "  'Domestic Rooms'],\n",
       " 'categorique': ['name',\n",
       "  'province',\n",
       "  'city',\n",
       "  'address',\n",
       "  'Type of Property',\n",
       "  'Street Address',\n",
       "  'Bedroom',\n",
       "  'Bathroom 1',\n",
       "  'Bathroom 2',\n",
       "  'Kitchen',\n",
       "  'Other',\n",
       "  'Parking',\n",
       "  'Garden',\n",
       "  'Pool',\n",
       "  'Security',\n",
       "  'No Transfer Duty',\n",
       "  'Pets Allowed',\n",
       "  'Lifestyle',\n",
       "  'Bedroom 1',\n",
       "  'Bedroom 2',\n",
       "  'Bedroom 3',\n",
       "  'Bedroom 4',\n",
       "  'Bathroom 3',\n",
       "  'Dining Room',\n",
       "  'Garage',\n",
       "  'Lounge',\n",
       "  'Bathroom',\n",
       "  'Special Features',\n",
       "  'Nearby Public Transport',\n",
       "  'Description',\n",
       "  'Family/TV Room',\n",
       "  'Garage 1',\n",
       "  'Garage 2',\n",
       "  'Temperature Control',\n",
       "  'Style',\n",
       "  'Facing',\n",
       "  'Roof',\n",
       "  'Wall',\n",
       "  'Window',\n",
       "  'Entrance Hall',\n",
       "  'Rooms',\n",
       "  'Special Feature',\n",
       "  'Outbuilding',\n",
       "  'Flatlet',\n",
       "  'Standalone Building',\n",
       "  'Internet Access',\n",
       "  'Wheelchair Accessible',\n",
       "  'Parking 1',\n",
       "  'Parking 2'],\n",
       " 'date': ['Listing Date'],\n",
       " 'distance': ['Health',\n",
       "  'Food and Entertainment',\n",
       "  'Shopping',\n",
       "  'Sports and Leisure',\n",
       "  'Education',\n",
       "  'Transport and Public Services']}"
      ]
     },
     "metadata": {},
     "execution_count": 12
    }
   ],
   "metadata": {}
  },
  {
   "cell_type": "markdown",
   "source": [
    "## 1) Traitement des valeurs manquantes"
   ],
   "metadata": {}
  },
  {
   "cell_type": "markdown",
   "source": [
    "### traitement par colonne"
   ],
   "metadata": {}
  },
  {
   "cell_type": "code",
   "execution_count": 13,
   "source": [
    "missing = pd.DataFrame([data.isna().sum().values,(data.isna().sum()/data.shape[0]).values],index = [\"valeurs manquantes\",\"% valeurs manquantes\"] , columns=data.columns)\r\n",
    "missing"
   ],
   "outputs": [
    {
     "output_type": "execute_result",
     "data": {
      "text/plain": [
       "                      name  price  province  city  address  Listing Number  \\\n",
       "valeurs manquantes     0.0    0.0       0.0   0.0      0.0             0.0   \n",
       "% valeurs manquantes   0.0    0.0       0.0   0.0      0.0             0.0   \n",
       "\n",
       "                      Type of Property  Street Address  Listing Date  \\\n",
       "valeurs manquantes                 0.0      9814.00000           0.0   \n",
       "% valeurs manquantes               0.0         0.70005           0.0   \n",
       "\n",
       "                       Floor Size  ...  Special Feature   Outbuilding  \\\n",
       "valeurs manquantes    5897.000000  ...     12581.000000  13074.000000   \n",
       "% valeurs manquantes     0.420643  ...         0.897425      0.932591   \n",
       "\n",
       "                           Flatlet  Standalone Building        Office  \\\n",
       "valeurs manquantes    13021.000000         12646.000000  13136.000000   \n",
       "% valeurs manquantes      0.928811             0.902061      0.937014   \n",
       "\n",
       "                      Domestic Rooms  Internet Access  Wheelchair Accessible  \\\n",
       "valeurs manquantes      12836.000000     12916.000000           13198.000000   \n",
       "% valeurs manquantes        0.915615         0.921321               0.941437   \n",
       "\n",
       "                         Parking 1     Parking 2  \n",
       "valeurs manquantes    13251.000000  13251.000000  \n",
       "% valeurs manquantes      0.945217      0.945217  \n",
       "\n",
       "[2 rows x 73 columns]"
      ],
      "text/html": [
       "<div>\n",
       "<style scoped>\n",
       "    .dataframe tbody tr th:only-of-type {\n",
       "        vertical-align: middle;\n",
       "    }\n",
       "\n",
       "    .dataframe tbody tr th {\n",
       "        vertical-align: top;\n",
       "    }\n",
       "\n",
       "    .dataframe thead th {\n",
       "        text-align: right;\n",
       "    }\n",
       "</style>\n",
       "<table border=\"1\" class=\"dataframe\">\n",
       "  <thead>\n",
       "    <tr style=\"text-align: right;\">\n",
       "      <th></th>\n",
       "      <th>name</th>\n",
       "      <th>price</th>\n",
       "      <th>province</th>\n",
       "      <th>city</th>\n",
       "      <th>address</th>\n",
       "      <th>Listing Number</th>\n",
       "      <th>Type of Property</th>\n",
       "      <th>Street Address</th>\n",
       "      <th>Listing Date</th>\n",
       "      <th>Floor Size</th>\n",
       "      <th>...</th>\n",
       "      <th>Special Feature</th>\n",
       "      <th>Outbuilding</th>\n",
       "      <th>Flatlet</th>\n",
       "      <th>Standalone Building</th>\n",
       "      <th>Office</th>\n",
       "      <th>Domestic Rooms</th>\n",
       "      <th>Internet Access</th>\n",
       "      <th>Wheelchair Accessible</th>\n",
       "      <th>Parking 1</th>\n",
       "      <th>Parking 2</th>\n",
       "    </tr>\n",
       "  </thead>\n",
       "  <tbody>\n",
       "    <tr>\n",
       "      <th>valeurs manquantes</th>\n",
       "      <td>0.0</td>\n",
       "      <td>0.0</td>\n",
       "      <td>0.0</td>\n",
       "      <td>0.0</td>\n",
       "      <td>0.0</td>\n",
       "      <td>0.0</td>\n",
       "      <td>0.0</td>\n",
       "      <td>9814.00000</td>\n",
       "      <td>0.0</td>\n",
       "      <td>5897.000000</td>\n",
       "      <td>...</td>\n",
       "      <td>12581.000000</td>\n",
       "      <td>13074.000000</td>\n",
       "      <td>13021.000000</td>\n",
       "      <td>12646.000000</td>\n",
       "      <td>13136.000000</td>\n",
       "      <td>12836.000000</td>\n",
       "      <td>12916.000000</td>\n",
       "      <td>13198.000000</td>\n",
       "      <td>13251.000000</td>\n",
       "      <td>13251.000000</td>\n",
       "    </tr>\n",
       "    <tr>\n",
       "      <th>% valeurs manquantes</th>\n",
       "      <td>0.0</td>\n",
       "      <td>0.0</td>\n",
       "      <td>0.0</td>\n",
       "      <td>0.0</td>\n",
       "      <td>0.0</td>\n",
       "      <td>0.0</td>\n",
       "      <td>0.0</td>\n",
       "      <td>0.70005</td>\n",
       "      <td>0.0</td>\n",
       "      <td>0.420643</td>\n",
       "      <td>...</td>\n",
       "      <td>0.897425</td>\n",
       "      <td>0.932591</td>\n",
       "      <td>0.928811</td>\n",
       "      <td>0.902061</td>\n",
       "      <td>0.937014</td>\n",
       "      <td>0.915615</td>\n",
       "      <td>0.921321</td>\n",
       "      <td>0.941437</td>\n",
       "      <td>0.945217</td>\n",
       "      <td>0.945217</td>\n",
       "    </tr>\n",
       "  </tbody>\n",
       "</table>\n",
       "<p>2 rows × 73 columns</p>\n",
       "</div>"
      ]
     },
     "metadata": {},
     "execution_count": 13
    }
   ],
   "metadata": {}
  },
  {
   "cell_type": "code",
   "execution_count": 14,
   "source": [
    "missing.T.describe()"
   ],
   "outputs": [
    {
     "output_type": "execute_result",
     "data": {
      "text/plain": [
       "       valeurs manquantes  % valeurs manquantes\n",
       "count           73.000000             73.000000\n",
       "mean          9179.424658              0.654785\n",
       "std           4509.739208              0.321688\n",
       "min              0.000000              0.000000\n",
       "25%           6741.000000              0.480847\n",
       "50%          10945.000000              0.780726\n",
       "75%          12746.000000              0.909195\n",
       "max          13251.000000              0.945217"
      ],
      "text/html": [
       "<div>\n",
       "<style scoped>\n",
       "    .dataframe tbody tr th:only-of-type {\n",
       "        vertical-align: middle;\n",
       "    }\n",
       "\n",
       "    .dataframe tbody tr th {\n",
       "        vertical-align: top;\n",
       "    }\n",
       "\n",
       "    .dataframe thead th {\n",
       "        text-align: right;\n",
       "    }\n",
       "</style>\n",
       "<table border=\"1\" class=\"dataframe\">\n",
       "  <thead>\n",
       "    <tr style=\"text-align: right;\">\n",
       "      <th></th>\n",
       "      <th>valeurs manquantes</th>\n",
       "      <th>% valeurs manquantes</th>\n",
       "    </tr>\n",
       "  </thead>\n",
       "  <tbody>\n",
       "    <tr>\n",
       "      <th>count</th>\n",
       "      <td>73.000000</td>\n",
       "      <td>73.000000</td>\n",
       "    </tr>\n",
       "    <tr>\n",
       "      <th>mean</th>\n",
       "      <td>9179.424658</td>\n",
       "      <td>0.654785</td>\n",
       "    </tr>\n",
       "    <tr>\n",
       "      <th>std</th>\n",
       "      <td>4509.739208</td>\n",
       "      <td>0.321688</td>\n",
       "    </tr>\n",
       "    <tr>\n",
       "      <th>min</th>\n",
       "      <td>0.000000</td>\n",
       "      <td>0.000000</td>\n",
       "    </tr>\n",
       "    <tr>\n",
       "      <th>25%</th>\n",
       "      <td>6741.000000</td>\n",
       "      <td>0.480847</td>\n",
       "    </tr>\n",
       "    <tr>\n",
       "      <th>50%</th>\n",
       "      <td>10945.000000</td>\n",
       "      <td>0.780726</td>\n",
       "    </tr>\n",
       "    <tr>\n",
       "      <th>75%</th>\n",
       "      <td>12746.000000</td>\n",
       "      <td>0.909195</td>\n",
       "    </tr>\n",
       "    <tr>\n",
       "      <th>max</th>\n",
       "      <td>13251.000000</td>\n",
       "      <td>0.945217</td>\n",
       "    </tr>\n",
       "  </tbody>\n",
       "</table>\n",
       "</div>"
      ]
     },
     "metadata": {},
     "execution_count": 14
    }
   ],
   "metadata": {}
  },
  {
   "cell_type": "markdown",
   "source": [
    "#### On va supprimer certaines variables par seuil de valeurs manquantes mais sauver quelques variables pertinents au niveau métier :\n"
   ],
   "metadata": {}
  },
  {
   "cell_type": "code",
   "execution_count": 15,
   "source": [
    "def drop_columns(data,keep,drop,seuil):    \r\n",
    "    missing = pd.DataFrame([data.isna().sum().values,(data.isna().sum()/data.shape[0]).values],index = [\"valeurs manquantes\",\"% valeurs manquantes\"] , columns=data.columns)\r\n",
    "    missing_freq = missing.T[missing.T[\"% valeurs manquantes\"]>=seuil]\r\n",
    "    print(len(missing_freq[\"% valeurs manquantes\"]))\r\n",
    "    (len(missing_freq[\"% valeurs manquantes\"])/data.shape[1])*100\r\n",
    "\r\n",
    "    for i in missing_freq.T.columns:\r\n",
    "        ## variable à sauver\r\n",
    "        if i not in keep:\r\n",
    "            drop.append(i)\r\n",
    "            \r\n",
    "    return data.drop(drop,axis=1)"
   ],
   "outputs": [],
   "metadata": {}
  },
  {
   "cell_type": "code",
   "execution_count": 16,
   "source": [
    "must_keep = feat_cat[\"distance\"]+['price','Bathrooms','Levies','Rates and Taxes','Bedrooms','Kitchens','Garage',\"Gardens\",'Pool','Pets Allowed']\r\n",
    "must_drop = ['Listing Number','Price per m²']+feat_cat[\"date\"]"
   ],
   "outputs": [],
   "metadata": {}
  },
  {
   "cell_type": "code",
   "execution_count": 17,
   "source": [
    "data = drop_columns(data,must_keep,must_drop,0.40)"
   ],
   "outputs": [
    {
     "output_type": "stream",
     "name": "stdout",
     "text": [
      "59\n"
     ]
    }
   ],
   "metadata": {}
  },
  {
   "cell_type": "code",
   "execution_count": 18,
   "source": [
    "data.shape"
   ],
   "outputs": [
    {
     "output_type": "execute_result",
     "data": {
      "text/plain": [
       "(14019, 21)"
      ]
     },
     "metadata": {},
     "execution_count": 18
    }
   ],
   "metadata": {}
  },
  {
   "cell_type": "markdown",
   "source": [
    "### 2) Traitement des valeurs aberrantes"
   ],
   "metadata": {}
  },
  {
   "cell_type": "markdown",
   "source": [
    "### Détection par z-score (mbola tsy mety)\n",
    "\n",
    "https://towardsdatascience.com/z-score-for-anomaly-detection-d98b0006f510\n",
    "\n",
    "![image.png](attachment:8dcc53cc-d7bc-4032-8717-c349291cbdec.png)\n"
   ],
   "metadata": {},
   "attachments": {
    "8dcc53cc-d7bc-4032-8717-c349291cbdec.png": {
     "image/png": "[encoded data removed]"
    }
   }
  },
  {
   "cell_type": "code",
   "execution_count": 19,
   "source": [
    "def z_score(data,columns,seuil):\r\n",
    "    z_scores = stats.zscore(data[columns])\r\n",
    "    print(z_scores)\r\n",
    "    abs_z_scores = np.abs(z_scores)\r\n",
    "    filtered_entries = (abs_z_scores < seuil).all(axis=1)\r\n",
    "    data = data[filtered_entries]\r\n",
    "    return data"
   ],
   "outputs": [],
   "metadata": {}
  },
  {
   "cell_type": "markdown",
   "source": [
    "### par IQR \n",
    "\n",
    "$$ IQR = Q3 - Q1 $$\n",
    "$$ interval = [Q1 - seuil * IQR, Q3 + seuil * IQR]$$"
   ],
   "metadata": {}
  },
  {
   "cell_type": "code",
   "execution_count": 20,
   "source": [
    "def IQR(df,cols,quantiles=[0.25,0.75],seuil=1.5):\r\n",
    "    Q1 = df[cols].quantile(quantiles[0])\r\n",
    "    Q3 = df[cols].quantile(quantiles[1])\r\n",
    "    IQR = Q3 - Q1\r\n",
    "\r\n",
    "    return df[~((df[cols] < (Q1 - seuil * IQR)) |(df[cols] > (Q3 + seuil * IQR))).any(axis=1)]"
   ],
   "outputs": [],
   "metadata": {}
  },
  {
   "cell_type": "markdown",
   "source": [
    "Variables sur les prix (+ Listing Number) à ne pas vérifier : \n",
    "- 'price'"
   ],
   "metadata": {}
  },
  {
   "cell_type": "code",
   "execution_count": 21,
   "source": [
    "data.shape"
   ],
   "outputs": [
    {
     "output_type": "execute_result",
     "data": {
      "text/plain": [
       "(14019, 21)"
      ]
     },
     "metadata": {},
     "execution_count": 21
    }
   ],
   "metadata": {}
  },
  {
   "cell_type": "code",
   "execution_count": 22,
   "source": [
    "feat_cat = categorisation(data,[\"\"])\r\n",
    "feat_cat"
   ],
   "outputs": [
    {
     "output_type": "stream",
     "name": "stderr",
     "text": [
      "C:\\Users\\USER\\AppData\\Local\\Temp/ipykernel_13688/292522503.py:7: DeprecationWarning: `np.object` is a deprecated alias for the builtin `object`. To silence this warning, use `object` by itself. Doing this will not modify any behavior and is safe. \n",
      "Deprecated in NumPy 1.20; for more details and guidance: https://numpy.org/devdocs/release/1.20.0-notes.html#deprecations\n",
      "  if data[col].dtypes == np.object:\n"
     ]
    },
    {
     "output_type": "execute_result",
     "data": {
      "text/plain": [
       "{'numerique': ['price',\n",
       "  'Bathrooms',\n",
       "  'Levies',\n",
       "  'Rates and Taxes',\n",
       "  'Bedrooms',\n",
       "  'Kitchens',\n",
       "  'Gardens'],\n",
       " 'categorique': ['name',\n",
       "  'province',\n",
       "  'city',\n",
       "  'address',\n",
       "  'Type of Property',\n",
       "  'Pool',\n",
       "  'Pets Allowed',\n",
       "  'Garage'],\n",
       " 'date': [],\n",
       " 'distance': ['Health',\n",
       "  'Food and Entertainment',\n",
       "  'Shopping',\n",
       "  'Sports and Leisure',\n",
       "  'Education',\n",
       "  'Transport and Public Services']}"
      ]
     },
     "metadata": {},
     "execution_count": 22
    }
   ],
   "metadata": {}
  },
  {
   "cell_type": "code",
   "execution_count": 23,
   "source": [
    "to_check = [ 'Bathrooms',\r\n",
    "  'Levies',\r\n",
    "  'Rates and Taxes',\r\n",
    "  'Bedrooms',\r\n",
    "  'Kitchens',\r\n",
    "  'Gardens']\r\n",
    "\r\n",
    "#data = z_score(data,to_check,1.)\r\n",
    "data = IQR(data,to_check)\r\n",
    "data.shape"
   ],
   "outputs": [
    {
     "output_type": "execute_result",
     "data": {
      "text/plain": [
       "(12423, 21)"
      ]
     },
     "metadata": {},
     "execution_count": 23
    }
   ],
   "metadata": {}
  },
  {
   "cell_type": "markdown",
   "source": [
    "### 3) Encodage :\n",
    "\n",
    "- Pets Allowes en variable bool;\n",
    "- Pool en variable bool;\n",
    "- Garage en variable bool;\n",
    "- Nan des variables catégoriques -> \"missing\""
   ],
   "metadata": {}
  },
  {
   "cell_type": "code",
   "execution_count": 24,
   "source": [
    "data[\"Pets Allowed\"].value_counts()"
   ],
   "outputs": [
    {
     "output_type": "execute_result",
     "data": {
      "text/plain": [
       "Yes    4030\n",
       "No     2298\n",
       "Name: Pets Allowed, dtype: int64"
      ]
     },
     "metadata": {},
     "execution_count": 24
    }
   ],
   "metadata": {}
  },
  {
   "cell_type": "code",
   "execution_count": 25,
   "source": [
    "for pool in data[\"Pool\"].value_counts().index:\r\n",
    "    print(pool)"
   ],
   "outputs": [
    {
     "output_type": "stream",
     "name": "stdout",
     "text": [
      "Yes\n",
      "1\n",
      "Communal Pool\n",
      "Pool\n",
      "Fenced, Communal Pool\n",
      "Communal pool\n",
      "Swimming pool\n",
      "Chlorine pool\n",
      "Chlorinator\n",
      "Splash Pool\n",
      "Auto Cleaning Equipment\n",
      "Communal\n",
      "Heated\n",
      "Chlorine / swimming pool(s)\n",
      "Communal swimming pool\n",
      "Chlorine\n",
      "Swimming\n",
      "Fibreglass in Ground\n",
      "Safety Net\n",
      "Fenced\n",
      "Own chlorine / swimming pool(s)\n",
      "Fibreglass in Ground, Auto Cleaning Equipment\n",
      "Gunite in Ground\n",
      "Auto Cleaning Equipment, Chlorinator, Communal Pool\n",
      "Auto Cleaning Equipment, Communal Pool\n",
      "Auto Cleaning Equipment, Chlorinator\n",
      "Own pool\n",
      "Splash pool\n",
      "Communal chlorine / swimming pool(s)\n",
      "Communal chlorine pool\n",
      "Fibreglass in Ground, Safety Net, Auto Cleaning Equipment\n",
      "Communal, Swimming\n",
      "Gunite in Ground, Communal Pool\n",
      "Gunite in Ground, Auto Cleaning Equipment\n",
      "Fenced, Auto Cleaning Equipment\n",
      "Fenced, Auto Cleaning Equipment, Chlorinator, Communal Pool\n",
      "Own swimming pool\n",
      "Fibreglass in Ground, Safety Net\n",
      "Own, Swimming\n",
      "Heated pool\n",
      "Communal chlorine / swimming pool(s) with cleaner\n",
      "Heated, Communal Pool\n",
      "Heated, Auto Cleaning Equipment\n",
      "Fenced, Chlorinator\n",
      "Portapool\n",
      "Salt pool\n",
      "Own\n",
      "Fibreglass in Ground, Fenced\n",
      "Swimming pool with cleaner\n",
      "Jacuzzi\n",
      "Chlorine, Own, Swimming\n",
      "Fibreglass in Ground, Auto Cleaning Equipment, Chlorinator\n",
      "Communal Swimming Pool\n",
      "Fenced, Safety Net\n",
      "Auto Cleaning Equipment, Chlorinator, Splash Pool\n",
      "Gunite in Ground, Chlorinator\n",
      "Gunite in Ground, Fenced, Communal Pool\n",
      "Sparkling pool\n",
      "Fenced, Chlorinator, Communal Pool\n",
      "Chlorine / swimming pool(s) with fence\n",
      "Safety Net, Chlorinator\n",
      "Marbelite\n",
      "Chlorine pool with fence\n",
      "Fibreglass in Ground, Splash Pool\n",
      "Fibreglass in Ground, Auto Cleaning Equipment, Communal Pool\n",
      "Own chlorine pool\n",
      "Fenced, Auto Cleaning Equipment, Communal Pool\n",
      "Fibreglass in Ground, Communal Pool\n",
      "Needs attention\n",
      "Gunite in Ground, Fenced, Auto Cleaning Equipment\n",
      "SPARKLING POOL\n",
      "Fenced, Auto Cleaning Equipment, Chlorinator\n",
      "Pool in complex\n",
      "Solar heated\n",
      "Chlorinator, Splash Pool\n",
      "Communal, Fence, Swimming\n",
      "In Estate\n",
      "Pool canvas cover\n",
      "Three enclosed communal pools\n",
      "Fibreglass in Ground, Fenced, Auto Cleaning Equipment, Communal Pool\n",
      "Gunite in Ground, Heated, Auto Cleaning Equipment\n",
      "Pool with eco pool\n",
      "Gunite in Ground, Safety Net, Auto Cleaning Equipment\n",
      "Chlorine / swimming pool(s) with change room\n",
      "Fibreglass in Ground, Fenced, Communal Pool\n",
      "Dysfunctional swimming pool\n",
      "On rooftop.\n",
      "Pool with braai area and stoep\n",
      "Change Room, Communal, Fence, Swimming\n",
      "Heated, Safety Net\n",
      "Auto Cleaning Equipment, Splash Pool\n",
      "Swimming pool with fence\n",
      "Gunite in Ground, Safety Net\n",
      "Big\n",
      "3 x 7.5m\n",
      "Marbelite, Communal\n",
      "Communal swimming pool and braai areas\n",
      "Pool with cleaner\n",
      "Communal, Solar Heated\n",
      "Communal Pool - Pool\n",
      "Change Room, Communal, Swimming\n",
      "with braai facilities.\n",
      "Chlorine, Swimming\n",
      "Heated, Rock Pool\n",
      "Safety Net, Auto Cleaning Equipment\n",
      "Pump\n",
      "SPARKLING POOL NEXT TO LAPA AND BRAAI\n",
      "Clorinated Swimming Pool\n",
      "Fibreglass in Ground, Heated, Auto Cleaning Equipment\n",
      "Fenced, Auto Cleaning Equipment, Communal Pool, Splash Pool\n",
      "Complex\n",
      "POOL IS CLEAN AND LARGE - BORE-HOLE WATER \n",
      "OUT OF ORDER\n",
      "Chlorine / salt / swimming pool(s)\n",
      "In the complex\n",
      "Communal Pool, Splash Pool\n",
      "Sparkling pool and clubhouse\n",
      "Fenced, Safety Net, Auto Cleaning Equipment, Communal Pool\n",
      "Salt / swimming pool(s)\n",
      "Chlorine, Communal, Swimming\n",
      "Communal salt pool with fence\n",
      "Fibreglass in Ground, Fenced, Chlorinator, Communal Pool\n",
      "Plus a baby pool\n",
      "Sparkling blue pool, Solar heated pool\n",
      "Heated, Rock Pool, Splash Pool\n",
      "Fenced, Communal Pool, Splash Pool\n",
      "Large gunite pool\n",
      "Gunite in Ground, Fenced, Auto Cleaning Equipment, Chlorinator, Communal Pool\n",
      "Chlorine pool with cleaner\n",
      "Chlorine / swimming pool(s) with cleaner\n",
      "Cover.\n",
      "with braai facilities and lawns\n",
      "Solar Heated Swimming Pool\n",
      "WITH NET\n",
      "Sparkling pool complimenting the entertainment area.  Has cleaning equipment and a pool net\n",
      "Communal chlorine / swimming pool(s) with cleaner and fence\n",
      "Own chlorine / swimming pool(s) with cleaner\n",
      "Salt / swimming pool(s) with cleaner\n",
      "Safety Net, Communal Pool\n",
      "Covered Solar heated pool\n",
      "Chlorine, Own\n",
      "Newly gunited 2020\n",
      "Auto Cleaning Equipment, Rock Pool\n",
      "SPARKLING POOL WITH COVER\n",
      "Covered Pool\n",
      "Lapa\n",
      "Stunning blue pool in lovely garden surroundings\n",
      "Communal chlorine pool with cleaner\n",
      "Salt, Swimming\n",
      "With a wooden deck\n",
      "Not Functional\n",
      "covered\n",
      "Small Lapa close to pool\n",
      "Portapool, Fenced, Chlorinator\n",
      "lapa/bar/patio\n",
      "Stunning rectangular shaped pool. Perfect for the hot summer days!\n",
      "Rock Pool\n",
      "in house\n",
      "Pool cover, Heat pump\n",
      "Huge pool \n",
      "Home has got a spa bath on the stoep.\n",
      "cracked\n",
      "Safety Net, Auto Cleaning Equipment, Rock Pool\n",
      "Communal solar heated pool\n",
      "small in a garden setting \n",
      "COMMUNAL\n",
      "water feature pool\n",
      "Chlorine, Communal\n",
      "Fibreglass in Ground, Auto Cleaning Equipment, Splash Pool\n",
      "Chlorine / splash pool(s)\n",
      "With braai area\n",
      "Extra optional\n",
      "Communal chlorine / splash pool(s) with fence\n",
      "Communal pool in the complex\n",
      "Swimming pool with change room\n",
      "Out of Order.\n",
      "Fibreglass in Ground, Heated, Safety Net\n",
      "Solar heated chlorine / swimming pool(s)\n",
      "Communal \n",
      "Large\n",
      "Chlorine / splash / swimming pool(s) with cleaner and fence\n",
      "Swimming Pool\n",
      "Sparkling pool in pretty garden with sun beds, fenced for safety.\n",
      "Fibreglass in Ground, Safety Net, Auto Cleaning Equipment, Splash Pool\n",
      "Salt pool with cleaner and cover\n",
      "Small splash pool, with solar heating\n",
      "Braai area\n",
      "Communal pool with rim flow pool\n",
      "Larger than a splash pool but smaller than a standard pool\n",
      "there are two swimming pools\n",
      "Marbalite \n",
      "Clubhouse and cricket nets are located at the swimming pool\n",
      "Chlorine, Cleaner\n",
      "Gunite in Ground, Safety Net, Splash Pool\n",
      "Large Entertainment Area\n",
      "Fiberglass in ground\n",
      "Change Room, Chlorine, Communal\n",
      "Chlorine, Cleaner, Own, Swimming\n",
      "Chlorinator, Communal Pool\n",
      "communal\n",
      "Undercover, large\n",
      "Solar Heating System \n",
      "Sparkling\n",
      "Communal solar heated swimming pool with cover and fence\n",
      "Salt Chlorinator\n",
      "Chlorine, Cleaner, Cover\n",
      "Not in working condition - leaking\n",
      "Communal swimming pool with fence\n",
      "Units are on show every Wednesday, Saturday & Sunday from 1:00pm - 5:00pm\n"
     ]
    }
   ],
   "metadata": {}
  },
  {
   "cell_type": "code",
   "execution_count": 26,
   "source": [
    "for col in data.columns:\r\n",
    "    if col == \"Pets Allowed\":\r\n",
    "        data[col] = data[col].replace(np.nan,\"missing\")\r\n",
    "    elif col == \"Pool\":\r\n",
    "        data[col] = data[col].replace(r\".*\",\"y\",regex=True)\r\n",
    "        data[col] = data[col].replace(r\"yy\",\"Yes\",regex=True)\r\n",
    "        data[col] = data[col].replace(np.nan,\"missing\")\r\n",
    "    elif col == \"Garage\":\r\n",
    "        data[col] = data[col].replace(r\".*\",\"y\",regex=True)\r\n",
    "        data[col] = data[col].replace(r\"yy\",\"Yes\",regex=True)\r\n",
    "        data[col] = data[col].replace(np.nan,\"missing\")\r\n",
    "    else :\r\n",
    "        try :\r\n",
    "            data[col] = pd.to_numeric(data[col])\r\n",
    "        except:\r\n",
    "            if col not in feat_cat[\"distance\"]:\r\n",
    "                data[col] = data[col].replace(np.nan,\"missing\")"
   ],
   "outputs": [],
   "metadata": {}
  },
  {
   "cell_type": "code",
   "execution_count": 27,
   "source": [
    "data[\"Pets Allowed\"].value_counts()"
   ],
   "outputs": [
    {
     "output_type": "execute_result",
     "data": {
      "text/plain": [
       "missing    6095\n",
       "Yes        4030\n",
       "No         2298\n",
       "Name: Pets Allowed, dtype: int64"
      ]
     },
     "metadata": {},
     "execution_count": 27
    }
   ],
   "metadata": {}
  },
  {
   "cell_type": "code",
   "execution_count": 28,
   "source": [
    "data[\"Pool\"].value_counts()"
   ],
   "outputs": [
    {
     "output_type": "execute_result",
     "data": {
      "text/plain": [
       "missing    9614\n",
       "Yes        2809\n",
       "Name: Pool, dtype: int64"
      ]
     },
     "metadata": {},
     "execution_count": 28
    }
   ],
   "metadata": {}
  },
  {
   "cell_type": "code",
   "execution_count": 29,
   "source": [
    "data.to_csv(\"../../Data/Dataset_v1.csv\",sep=\";\",index=False)"
   ],
   "outputs": [],
   "metadata": {}
  },
  {
   "cell_type": "code",
   "execution_count": null,
   "source": [],
   "outputs": [],
   "metadata": {}
  }
 ],
 "metadata": {
  "kernelspec": {
   "name": "python3",
   "display_name": "Python 3.9.1 64-bit ('deepai': conda)"
  },
  "language_info": {
   "name": "python",
   "version": "3.9.6",
   "mimetype": "text/x-python",
   "codemirror_mode": {
    "name": "ipython",
    "version": 3
   },
   "pygments_lexer": "ipython3",
   "nbconvert_exporter": "python",
   "file_extension": ".py"
  },
  "interpreter": {
   "hash": "b54b66dfa7cdbe8a69b3bf148d9797a1fcee399928c1f348c50707ec239ca9b1"
  }
 },
 "nbformat": 4,
 "nbformat_minor": 5
}